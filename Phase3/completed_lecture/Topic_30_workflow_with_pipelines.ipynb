{
 "cells": [
  {
   "cell_type": "markdown",
   "metadata": {},
   "source": [
    "# Classification Workflow with Pipelines"
   ]
  },
  {
   "cell_type": "markdown",
   "metadata": {},
   "source": [
    "Let's add pipelines into our workflow!"
   ]
  },
  {
   "cell_type": "code",
   "execution_count": 1,
   "metadata": {},
   "outputs": [],
   "source": [
    "import pandas as pd\n",
    "import numpy as np\n",
    "from matplotlib import pyplot as plt\n",
    "import seaborn as sns\n",
    "\n",
    "from sklearn.model_selection import train_test_split, GridSearchCV, cross_val_score\n",
    "from sklearn.pipeline import Pipeline\n",
    "from sklearn.preprocessing import StandardScaler, OneHotEncoder, FunctionTransformer\n",
    "from sklearn.impute import SimpleImputer\n",
    "from sklearn.compose import ColumnTransformer\n",
    "from sklearn.linear_model import LogisticRegression\n",
    "from sklearn.ensemble import RandomForestClassifier, GradientBoostingClassifier\n",
    "from sklearn.metrics import plot_confusion_matrix, recall_score,\\\n",
    "    accuracy_score, precision_score, f1_score\n",
    "\n",
    "from imblearn.over_sampling import SMOTE\n",
    "from imblearn.pipeline import Pipeline as ImPipeline"
   ]
  },
  {
   "cell_type": "code",
   "execution_count": 2,
   "metadata": {},
   "outputs": [
    {
     "data": {
      "text/html": [
       "<div>\n",
       "<style scoped>\n",
       "    .dataframe tbody tr th:only-of-type {\n",
       "        vertical-align: middle;\n",
       "    }\n",
       "\n",
       "    .dataframe tbody tr th {\n",
       "        vertical-align: top;\n",
       "    }\n",
       "\n",
       "    .dataframe thead th {\n",
       "        text-align: right;\n",
       "    }\n",
       "</style>\n",
       "<table border=\"1\" class=\"dataframe\">\n",
       "  <thead>\n",
       "    <tr style=\"text-align: right;\">\n",
       "      <th></th>\n",
       "      <th>PassengerId</th>\n",
       "      <th>Survived</th>\n",
       "      <th>Pclass</th>\n",
       "      <th>Name</th>\n",
       "      <th>Sex</th>\n",
       "      <th>Age</th>\n",
       "      <th>SibSp</th>\n",
       "      <th>Parch</th>\n",
       "      <th>Ticket</th>\n",
       "      <th>Fare</th>\n",
       "      <th>Cabin</th>\n",
       "      <th>Embarked</th>\n",
       "    </tr>\n",
       "  </thead>\n",
       "  <tbody>\n",
       "    <tr>\n",
       "      <th>0</th>\n",
       "      <td>1</td>\n",
       "      <td>0</td>\n",
       "      <td>3</td>\n",
       "      <td>Braund, Mr. Owen Harris</td>\n",
       "      <td>male</td>\n",
       "      <td>22.0</td>\n",
       "      <td>1</td>\n",
       "      <td>0</td>\n",
       "      <td>A/5 21171</td>\n",
       "      <td>7.2500</td>\n",
       "      <td>NaN</td>\n",
       "      <td>S</td>\n",
       "    </tr>\n",
       "    <tr>\n",
       "      <th>1</th>\n",
       "      <td>2</td>\n",
       "      <td>1</td>\n",
       "      <td>1</td>\n",
       "      <td>Cumings, Mrs. John Bradley (Florence Briggs Th...</td>\n",
       "      <td>female</td>\n",
       "      <td>38.0</td>\n",
       "      <td>1</td>\n",
       "      <td>0</td>\n",
       "      <td>PC 17599</td>\n",
       "      <td>71.2833</td>\n",
       "      <td>C85</td>\n",
       "      <td>C</td>\n",
       "    </tr>\n",
       "    <tr>\n",
       "      <th>2</th>\n",
       "      <td>3</td>\n",
       "      <td>1</td>\n",
       "      <td>3</td>\n",
       "      <td>Heikkinen, Miss. Laina</td>\n",
       "      <td>female</td>\n",
       "      <td>26.0</td>\n",
       "      <td>0</td>\n",
       "      <td>0</td>\n",
       "      <td>STON/O2. 3101282</td>\n",
       "      <td>7.9250</td>\n",
       "      <td>NaN</td>\n",
       "      <td>S</td>\n",
       "    </tr>\n",
       "    <tr>\n",
       "      <th>3</th>\n",
       "      <td>4</td>\n",
       "      <td>1</td>\n",
       "      <td>1</td>\n",
       "      <td>Futrelle, Mrs. Jacques Heath (Lily May Peel)</td>\n",
       "      <td>female</td>\n",
       "      <td>35.0</td>\n",
       "      <td>1</td>\n",
       "      <td>0</td>\n",
       "      <td>113803</td>\n",
       "      <td>53.1000</td>\n",
       "      <td>C123</td>\n",
       "      <td>S</td>\n",
       "    </tr>\n",
       "    <tr>\n",
       "      <th>4</th>\n",
       "      <td>5</td>\n",
       "      <td>0</td>\n",
       "      <td>3</td>\n",
       "      <td>Allen, Mr. William Henry</td>\n",
       "      <td>male</td>\n",
       "      <td>35.0</td>\n",
       "      <td>0</td>\n",
       "      <td>0</td>\n",
       "      <td>373450</td>\n",
       "      <td>8.0500</td>\n",
       "      <td>NaN</td>\n",
       "      <td>S</td>\n",
       "    </tr>\n",
       "  </tbody>\n",
       "</table>\n",
       "</div>"
      ],
      "text/plain": [
       "   PassengerId  Survived  Pclass  \\\n",
       "0            1         0       3   \n",
       "1            2         1       1   \n",
       "2            3         1       3   \n",
       "3            4         1       1   \n",
       "4            5         0       3   \n",
       "\n",
       "                                                Name     Sex   Age  SibSp  \\\n",
       "0                            Braund, Mr. Owen Harris    male  22.0      1   \n",
       "1  Cumings, Mrs. John Bradley (Florence Briggs Th...  female  38.0      1   \n",
       "2                             Heikkinen, Miss. Laina  female  26.0      0   \n",
       "3       Futrelle, Mrs. Jacques Heath (Lily May Peel)  female  35.0      1   \n",
       "4                           Allen, Mr. William Henry    male  35.0      0   \n",
       "\n",
       "   Parch            Ticket     Fare Cabin Embarked  \n",
       "0      0         A/5 21171   7.2500   NaN        S  \n",
       "1      0          PC 17599  71.2833   C85        C  \n",
       "2      0  STON/O2. 3101282   7.9250   NaN        S  \n",
       "3      0            113803  53.1000  C123        S  \n",
       "4      0            373450   8.0500   NaN        S  "
      ]
     },
     "execution_count": 2,
     "metadata": {},
     "output_type": "execute_result"
    }
   ],
   "source": [
    "titanic = pd.read_csv('data/titanic.csv')\n",
    "titanic.head()"
   ]
  },
  {
   "cell_type": "code",
   "execution_count": 3,
   "metadata": {},
   "outputs": [],
   "source": [
    "X = titanic.drop(['PassengerId', 'Name', 'Survived'], axis=1)\n",
    "y = titanic['Survived']\n",
    "\n",
    "X_train, X_test, y_train, y_test = train_test_split(X, y, random_state=42)"
   ]
  },
  {
   "cell_type": "code",
   "execution_count": 4,
   "metadata": {},
   "outputs": [],
   "source": [
    "# Explore the data"
   ]
  },
  {
   "cell_type": "code",
   "execution_count": 5,
   "metadata": {},
   "outputs": [
    {
     "name": "stdout",
     "output_type": "stream",
     "text": [
      "<class 'pandas.core.frame.DataFrame'>\n",
      "RangeIndex: 891 entries, 0 to 890\n",
      "Data columns (total 9 columns):\n",
      " #   Column    Non-Null Count  Dtype  \n",
      "---  ------    --------------  -----  \n",
      " 0   Pclass    891 non-null    int64  \n",
      " 1   Sex       891 non-null    object \n",
      " 2   Age       714 non-null    float64\n",
      " 3   SibSp     891 non-null    int64  \n",
      " 4   Parch     891 non-null    int64  \n",
      " 5   Ticket    891 non-null    object \n",
      " 6   Fare      891 non-null    float64\n",
      " 7   Cabin     204 non-null    object \n",
      " 8   Embarked  889 non-null    object \n",
      "dtypes: float64(2), int64(3), object(4)\n",
      "memory usage: 62.8+ KB\n"
     ]
    }
   ],
   "source": [
    "X.info()"
   ]
  },
  {
   "cell_type": "code",
   "execution_count": 6,
   "metadata": {
    "scrolled": true
   },
   "outputs": [
    {
     "data": {
      "text/html": [
       "<div>\n",
       "<style scoped>\n",
       "    .dataframe tbody tr th:only-of-type {\n",
       "        vertical-align: middle;\n",
       "    }\n",
       "\n",
       "    .dataframe tbody tr th {\n",
       "        vertical-align: top;\n",
       "    }\n",
       "\n",
       "    .dataframe thead th {\n",
       "        text-align: right;\n",
       "    }\n",
       "</style>\n",
       "<table border=\"1\" class=\"dataframe\">\n",
       "  <thead>\n",
       "    <tr style=\"text-align: right;\">\n",
       "      <th></th>\n",
       "      <th>Pclass</th>\n",
       "      <th>Age</th>\n",
       "      <th>SibSp</th>\n",
       "      <th>Parch</th>\n",
       "      <th>Fare</th>\n",
       "    </tr>\n",
       "  </thead>\n",
       "  <tbody>\n",
       "    <tr>\n",
       "      <th>count</th>\n",
       "      <td>891.000000</td>\n",
       "      <td>714.000000</td>\n",
       "      <td>891.000000</td>\n",
       "      <td>891.000000</td>\n",
       "      <td>891.000000</td>\n",
       "    </tr>\n",
       "    <tr>\n",
       "      <th>mean</th>\n",
       "      <td>2.308642</td>\n",
       "      <td>29.699118</td>\n",
       "      <td>0.523008</td>\n",
       "      <td>0.381594</td>\n",
       "      <td>32.204208</td>\n",
       "    </tr>\n",
       "    <tr>\n",
       "      <th>std</th>\n",
       "      <td>0.836071</td>\n",
       "      <td>14.526497</td>\n",
       "      <td>1.102743</td>\n",
       "      <td>0.806057</td>\n",
       "      <td>49.693429</td>\n",
       "    </tr>\n",
       "    <tr>\n",
       "      <th>min</th>\n",
       "      <td>1.000000</td>\n",
       "      <td>0.420000</td>\n",
       "      <td>0.000000</td>\n",
       "      <td>0.000000</td>\n",
       "      <td>0.000000</td>\n",
       "    </tr>\n",
       "    <tr>\n",
       "      <th>25%</th>\n",
       "      <td>2.000000</td>\n",
       "      <td>20.125000</td>\n",
       "      <td>0.000000</td>\n",
       "      <td>0.000000</td>\n",
       "      <td>7.910400</td>\n",
       "    </tr>\n",
       "    <tr>\n",
       "      <th>50%</th>\n",
       "      <td>3.000000</td>\n",
       "      <td>28.000000</td>\n",
       "      <td>0.000000</td>\n",
       "      <td>0.000000</td>\n",
       "      <td>14.454200</td>\n",
       "    </tr>\n",
       "    <tr>\n",
       "      <th>75%</th>\n",
       "      <td>3.000000</td>\n",
       "      <td>38.000000</td>\n",
       "      <td>1.000000</td>\n",
       "      <td>0.000000</td>\n",
       "      <td>31.000000</td>\n",
       "    </tr>\n",
       "    <tr>\n",
       "      <th>max</th>\n",
       "      <td>3.000000</td>\n",
       "      <td>80.000000</td>\n",
       "      <td>8.000000</td>\n",
       "      <td>6.000000</td>\n",
       "      <td>512.329200</td>\n",
       "    </tr>\n",
       "  </tbody>\n",
       "</table>\n",
       "</div>"
      ],
      "text/plain": [
       "           Pclass         Age       SibSp       Parch        Fare\n",
       "count  891.000000  714.000000  891.000000  891.000000  891.000000\n",
       "mean     2.308642   29.699118    0.523008    0.381594   32.204208\n",
       "std      0.836071   14.526497    1.102743    0.806057   49.693429\n",
       "min      1.000000    0.420000    0.000000    0.000000    0.000000\n",
       "25%      2.000000   20.125000    0.000000    0.000000    7.910400\n",
       "50%      3.000000   28.000000    0.000000    0.000000   14.454200\n",
       "75%      3.000000   38.000000    1.000000    0.000000   31.000000\n",
       "max      3.000000   80.000000    8.000000    6.000000  512.329200"
      ]
     },
     "execution_count": 6,
     "metadata": {},
     "output_type": "execute_result"
    }
   ],
   "source": [
    "X.describe()"
   ]
  },
  {
   "cell_type": "code",
   "execution_count": 7,
   "metadata": {},
   "outputs": [
    {
     "data": {
      "text/html": [
       "<div>\n",
       "<style scoped>\n",
       "    .dataframe tbody tr th:only-of-type {\n",
       "        vertical-align: middle;\n",
       "    }\n",
       "\n",
       "    .dataframe tbody tr th {\n",
       "        vertical-align: top;\n",
       "    }\n",
       "\n",
       "    .dataframe thead th {\n",
       "        text-align: right;\n",
       "    }\n",
       "</style>\n",
       "<table border=\"1\" class=\"dataframe\">\n",
       "  <thead>\n",
       "    <tr style=\"text-align: right;\">\n",
       "      <th></th>\n",
       "      <th>Sex</th>\n",
       "      <th>Ticket</th>\n",
       "      <th>Cabin</th>\n",
       "      <th>Embarked</th>\n",
       "    </tr>\n",
       "  </thead>\n",
       "  <tbody>\n",
       "    <tr>\n",
       "      <th>count</th>\n",
       "      <td>891</td>\n",
       "      <td>891</td>\n",
       "      <td>204</td>\n",
       "      <td>889</td>\n",
       "    </tr>\n",
       "    <tr>\n",
       "      <th>unique</th>\n",
       "      <td>2</td>\n",
       "      <td>681</td>\n",
       "      <td>147</td>\n",
       "      <td>3</td>\n",
       "    </tr>\n",
       "    <tr>\n",
       "      <th>top</th>\n",
       "      <td>male</td>\n",
       "      <td>347082</td>\n",
       "      <td>B96 B98</td>\n",
       "      <td>S</td>\n",
       "    </tr>\n",
       "    <tr>\n",
       "      <th>freq</th>\n",
       "      <td>577</td>\n",
       "      <td>7</td>\n",
       "      <td>4</td>\n",
       "      <td>644</td>\n",
       "    </tr>\n",
       "  </tbody>\n",
       "</table>\n",
       "</div>"
      ],
      "text/plain": [
       "         Sex  Ticket    Cabin Embarked\n",
       "count    891     891      204      889\n",
       "unique     2     681      147        3\n",
       "top     male  347082  B96 B98        S\n",
       "freq     577       7        4      644"
      ]
     },
     "execution_count": 7,
     "metadata": {},
     "output_type": "execute_result"
    }
   ],
   "source": [
    "X.describe(include='O')"
   ]
  },
  {
   "cell_type": "code",
   "execution_count": 8,
   "metadata": {},
   "outputs": [
    {
     "data": {
      "text/plain": [
       "PassengerId      0\n",
       "Survived         0\n",
       "Pclass           0\n",
       "Name             0\n",
       "Sex              0\n",
       "Age            177\n",
       "SibSp            0\n",
       "Parch            0\n",
       "Ticket           0\n",
       "Fare             0\n",
       "Cabin          687\n",
       "Embarked         2\n",
       "dtype: int64"
      ]
     },
     "execution_count": 8,
     "metadata": {},
     "output_type": "execute_result"
    }
   ],
   "source": [
    "titanic.isna().sum()"
   ]
  },
  {
   "cell_type": "code",
   "execution_count": 9,
   "metadata": {},
   "outputs": [
    {
     "data": {
      "text/plain": [
       "<AxesSubplot:xlabel='Age', ylabel='Count'>"
      ]
     },
     "execution_count": 9,
     "metadata": {},
     "output_type": "execute_result"
    },
    {
     "data": {
      "image/png": "[encoded data removed]",
      "text/plain": [
       "<Figure size 432x288 with 1 Axes>"
      ]
     },
     "metadata": {
      "needs_background": "light"
     },
     "output_type": "display_data"
    }
   ],
   "source": [
    "sns.histplot(X['Age'])"
   ]
  },
  {
   "cell_type": "code",
   "execution_count": 10,
   "metadata": {
    "scrolled": true
   },
   "outputs": [
    {
     "data": {
      "text/plain": [
       "<AxesSubplot:xlabel='Fare', ylabel='Count'>"
      ]
     },
     "execution_count": 10,
     "metadata": {},
     "output_type": "execute_result"
    },
    {
     "data": {
      "image/png": "[encoded data removed]",
      "text/plain": [
       "<Figure size 432x288 with 1 Axes>"
      ]
     },
     "metadata": {
      "needs_background": "light"
     },
     "output_type": "display_data"
    }
   ],
   "source": [
    "sns.histplot(X['Fare'])"
   ]
  },
  {
   "cell_type": "code",
   "execution_count": 11,
   "metadata": {},
   "outputs": [
    {
     "data": {
      "text/plain": [
       "S    644\n",
       "C    168\n",
       "Q     77\n",
       "Name: Embarked, dtype: int64"
      ]
     },
     "execution_count": 11,
     "metadata": {},
     "output_type": "execute_result"
    }
   ],
   "source": [
    "X['Embarked'].value_counts()"
   ]
  },
  {
   "cell_type": "markdown",
   "metadata": {},
   "source": [
    "## Using `Pipeline` and `FunctionTransformer`"
   ]
  },
  {
   "cell_type": "markdown",
   "metadata": {},
   "source": [
    "Let's try a very simple pipeline first."
   ]
  },
  {
   "cell_type": "code",
   "execution_count": 12,
   "metadata": {},
   "outputs": [],
   "source": [
    "def grab_numeric(df):\n",
    "    return df.select_dtypes(include=['float', 'int'])\n"
   ]
  },
  {
   "cell_type": "code",
   "execution_count": 13,
   "metadata": {},
   "outputs": [],
   "source": [
    "# The FunctionTransformer will turn my function\n",
    "# into a transformer.\n",
    "\n",
    "GrabNumeric = FunctionTransformer(grab_numeric)"
   ]
  },
  {
   "cell_type": "code",
   "execution_count": 14,
   "metadata": {},
   "outputs": [],
   "source": [
    "pipe = Pipeline(steps=[('num', GrabNumeric),\n",
    "                       ('ss', StandardScaler())])"
   ]
  },
  {
   "cell_type": "code",
   "execution_count": 15,
   "metadata": {},
   "outputs": [
    {
     "data": {
      "text/plain": [
       "Pipeline(steps=[('num',\n",
       "                 FunctionTransformer(func=<function grab_numeric at 0x7f92685cec10>)),\n",
       "                ('ss', StandardScaler())])"
      ]
     },
     "execution_count": 15,
     "metadata": {},
     "output_type": "execute_result"
    }
   ],
   "source": [
    "pipe.fit(X_train)"
   ]
  },
  {
   "cell_type": "code",
   "execution_count": 16,
   "metadata": {
    "scrolled": true
   },
   "outputs": [
    {
     "data": {
      "text/plain": [
       "array([[-1.62051704,         nan, -0.46765956, -0.46887833, -0.0325683 ],\n",
       "       [ 0.80934914, -0.30465857, -0.46765956, -0.46887833, -0.48733085],\n",
       "       [-0.40558395, -0.3735649 , -0.46765956,  2.04687047, -0.34285405],\n",
       "       ...,\n",
       "       [ 0.80934914,  0.79784282,  1.22097065, -0.46887833, -0.35045024],\n",
       "       [-1.62051704, -1.06262827,  0.37665554,  2.04687047,  1.7030926 ],\n",
       "       [-1.62051704, -0.58028391, -0.46765956,  0.78899607,  0.8747751 ]])"
      ]
     },
     "execution_count": 16,
     "metadata": {},
     "output_type": "execute_result"
    }
   ],
   "source": [
    "pipe.transform(X_train)"
   ]
  },
  {
   "cell_type": "markdown",
   "metadata": {},
   "source": [
    "That looks like it worked!"
   ]
  },
  {
   "cell_type": "markdown",
   "metadata": {},
   "source": [
    "## Using `Pipeline` and `ColumnTransformer`"
   ]
  },
  {
   "cell_type": "markdown",
   "metadata": {},
   "source": [
    "When we use the `ColumnTransformer` we'll want to choose the relevant column numbers, so let's remind ourselves which columns are where:"
   ]
  },
  {
   "cell_type": "code",
   "execution_count": 17,
   "metadata": {},
   "outputs": [
    {
     "data": {
      "text/html": [
       "<div>\n",
       "<style scoped>\n",
       "    .dataframe tbody tr th:only-of-type {\n",
       "        vertical-align: middle;\n",
       "    }\n",
       "\n",
       "    .dataframe tbody tr th {\n",
       "        vertical-align: top;\n",
       "    }\n",
       "\n",
       "    .dataframe thead th {\n",
       "        text-align: right;\n",
       "    }\n",
       "</style>\n",
       "<table border=\"1\" class=\"dataframe\">\n",
       "  <thead>\n",
       "    <tr style=\"text-align: right;\">\n",
       "      <th></th>\n",
       "      <th>Pclass</th>\n",
       "      <th>Sex</th>\n",
       "      <th>Age</th>\n",
       "      <th>SibSp</th>\n",
       "      <th>Parch</th>\n",
       "      <th>Ticket</th>\n",
       "      <th>Fare</th>\n",
       "      <th>Cabin</th>\n",
       "      <th>Embarked</th>\n",
       "    </tr>\n",
       "  </thead>\n",
       "  <tbody>\n",
       "    <tr>\n",
       "      <th>0</th>\n",
       "      <td>3</td>\n",
       "      <td>male</td>\n",
       "      <td>22.0</td>\n",
       "      <td>1</td>\n",
       "      <td>0</td>\n",
       "      <td>A/5 21171</td>\n",
       "      <td>7.2500</td>\n",
       "      <td>NaN</td>\n",
       "      <td>S</td>\n",
       "    </tr>\n",
       "    <tr>\n",
       "      <th>1</th>\n",
       "      <td>1</td>\n",
       "      <td>female</td>\n",
       "      <td>38.0</td>\n",
       "      <td>1</td>\n",
       "      <td>0</td>\n",
       "      <td>PC 17599</td>\n",
       "      <td>71.2833</td>\n",
       "      <td>C85</td>\n",
       "      <td>C</td>\n",
       "    </tr>\n",
       "    <tr>\n",
       "      <th>2</th>\n",
       "      <td>3</td>\n",
       "      <td>female</td>\n",
       "      <td>26.0</td>\n",
       "      <td>0</td>\n",
       "      <td>0</td>\n",
       "      <td>STON/O2. 3101282</td>\n",
       "      <td>7.9250</td>\n",
       "      <td>NaN</td>\n",
       "      <td>S</td>\n",
       "    </tr>\n",
       "    <tr>\n",
       "      <th>3</th>\n",
       "      <td>1</td>\n",
       "      <td>female</td>\n",
       "      <td>35.0</td>\n",
       "      <td>1</td>\n",
       "      <td>0</td>\n",
       "      <td>113803</td>\n",
       "      <td>53.1000</td>\n",
       "      <td>C123</td>\n",
       "      <td>S</td>\n",
       "    </tr>\n",
       "    <tr>\n",
       "      <th>4</th>\n",
       "      <td>3</td>\n",
       "      <td>male</td>\n",
       "      <td>35.0</td>\n",
       "      <td>0</td>\n",
       "      <td>0</td>\n",
       "      <td>373450</td>\n",
       "      <td>8.0500</td>\n",
       "      <td>NaN</td>\n",
       "      <td>S</td>\n",
       "    </tr>\n",
       "  </tbody>\n",
       "</table>\n",
       "</div>"
      ],
      "text/plain": [
       "   Pclass     Sex   Age  SibSp  Parch            Ticket     Fare Cabin  \\\n",
       "0       3    male  22.0      1      0         A/5 21171   7.2500   NaN   \n",
       "1       1  female  38.0      1      0          PC 17599  71.2833   C85   \n",
       "2       3  female  26.0      0      0  STON/O2. 3101282   7.9250   NaN   \n",
       "3       1  female  35.0      1      0            113803  53.1000  C123   \n",
       "4       3    male  35.0      0      0            373450   8.0500   NaN   \n",
       "\n",
       "  Embarked  \n",
       "0        S  \n",
       "1        C  \n",
       "2        S  \n",
       "3        S  \n",
       "4        S  "
      ]
     },
     "execution_count": 17,
     "metadata": {},
     "output_type": "execute_result"
    }
   ],
   "source": [
    "X.head()"
   ]
  },
  {
   "cell_type": "code",
   "execution_count": 18,
   "metadata": {},
   "outputs": [],
   "source": [
    "# We'll throw these mini-pipelines into our ColumnTransformer.\n",
    "\n",
    "subpipe_num = Pipeline(steps=[('num_impute', SimpleImputer()),\n",
    "                           ('ss', StandardScaler())])\n",
    "subpipe_cat = Pipeline(steps=[('cat_impute', SimpleImputer(strategy='most_frequent')),\n",
    "                             ('ohe', OneHotEncoder(sparse=False, handle_unknown='ignore'))])"
   ]
  },
  {
   "cell_type": "code",
   "execution_count": 19,
   "metadata": {},
   "outputs": [],
   "source": [
    "# The \"remainder='passthrough'\" bit tells the compiler to leave\n",
    "# the other df columns unchanged.\n",
    "#cat_cols = \n",
    "#num_cols =  \n",
    "\n",
    "CT = ColumnTransformer(transformers=[('subpipe_num', subpipe_num, [2, 3, 4, 6]),\n",
    "                                         ('subpipe_cat', subpipe_cat, [0, 1, 5, 7, 8])],\n",
    "                           remainder='passthrough')"
   ]
  },
  {
   "cell_type": "code",
   "execution_count": 20,
   "metadata": {},
   "outputs": [],
   "source": [
    "# The `ColumnTransformer` will take care of our preprocessing,\n",
    "# so now we can add our model at the end of the pipeline.\n",
    "\n",
    "logreg_model_pipe = Pipeline(steps=[('ct', CT),\n",
    "                            ('logreg', LogisticRegression(random_state=42))])"
   ]
  },
  {
   "cell_type": "code",
   "execution_count": 21,
   "metadata": {},
   "outputs": [
    {
     "data": {
      "text/plain": [
       "Pipeline(steps=[('ct',\n",
       "                 ColumnTransformer(remainder='passthrough',\n",
       "                                   transformers=[('subpipe_num',\n",
       "                                                  Pipeline(steps=[('num_impute',\n",
       "                                                                   SimpleImputer()),\n",
       "                                                                  ('ss',\n",
       "                                                                   StandardScaler())]),\n",
       "                                                  [2, 3, 4, 6]),\n",
       "                                                 ('subpipe_cat',\n",
       "                                                  Pipeline(steps=[('cat_impute',\n",
       "                                                                   SimpleImputer(strategy='most_frequent')),\n",
       "                                                                  ('ohe',\n",
       "                                                                   OneHotEncoder(handle_unknown='ignore',\n",
       "                                                                                 sparse=False))]),\n",
       "                                                  [0, 1, 5, 7, 8])])),\n",
       "                ('logreg', LogisticRegression(random_state=42))])"
      ]
     },
     "execution_count": 21,
     "metadata": {},
     "output_type": "execute_result"
    }
   ],
   "source": [
    "logreg_model_pipe.fit(X_train, y_train)"
   ]
  },
  {
   "cell_type": "code",
   "execution_count": 22,
   "metadata": {},
   "outputs": [
    {
     "data": {
      "text/plain": [
       "0.8922155688622755"
      ]
     },
     "execution_count": 22,
     "metadata": {},
     "output_type": "execute_result"
    }
   ],
   "source": [
    "logreg_model_pipe.score(X_train, y_train)"
   ]
  },
  {
   "cell_type": "markdown",
   "metadata": {},
   "source": [
    "## Bringing in Our Modeling Class from before"
   ]
  },
  {
   "cell_type": "code",
   "execution_count": 23,
   "metadata": {},
   "outputs": [],
   "source": [
    "class ModelWithCV():\n",
    "    '''Structure to save the model and more easily see its crossvalidation'''\n",
    "    \n",
    "    def __init__(self, model, model_name, X, y, cv_now=True):\n",
    "        self.model = model\n",
    "        self.name = model_name\n",
    "        self.X = X\n",
    "        self.y = y\n",
    "        # For CV results\n",
    "        self.cv_results = None\n",
    "        self.cv_mean = None\n",
    "        self.cv_median = None\n",
    "        self.cv_std = None\n",
    "        #\n",
    "        if cv_now:\n",
    "            self.cross_validate()\n",
    "        \n",
    "    def cross_validate(self, X=None, y=None, kfolds=10):\n",
    "        '''\n",
    "        Perform cross-validation and return results.\n",
    "        \n",
    "        Args: \n",
    "          X:\n",
    "            Optional; Training data to perform CV on. Otherwise use X from object\n",
    "          y:\n",
    "            Optional; Training data to perform CV on. Otherwise use y from object\n",
    "          kfolds:\n",
    "            Optional; Number of folds for CV (default is 10)  \n",
    "        '''\n",
    "        \n",
    "        cv_X = X if X else self.X\n",
    "        cv_y = y if y else self.y\n",
    "\n",
    "        self.cv_results = cross_val_score(self.model, cv_X, cv_y, cv=kfolds)\n",
    "        self.cv_mean = np.mean(self.cv_results)\n",
    "        self.cv_median = np.median(self.cv_results)\n",
    "        self.cv_std = np.std(self.cv_results)\n",
    "\n",
    "        \n",
    "    def print_cv_summary(self):\n",
    "        cv_summary = (\n",
    "        f'''CV Results for `{self.name}` model:\n",
    "            {self.cv_mean:.5f} ± {self.cv_std:.5f} accuracy\n",
    "        ''')\n",
    "        print(cv_summary)\n",
    "\n",
    "        \n",
    "    def plot_cv(self, ax):\n",
    "        '''\n",
    "        Plot the cross-validation values using the array of results and given \n",
    "        Axis for plotting.\n",
    "        '''\n",
    "        ax.set_title(f'CV Results for `{self.name}` Model')\n",
    "        # Thinner violinplot with higher bw\n",
    "        sns.violinplot(y=self.cv_results, ax=ax, bw=.4)\n",
    "        sns.swarmplot(\n",
    "                y=self.cv_results,\n",
    "                color='orange',\n",
    "                size=10,\n",
    "                alpha= 0.8,\n",
    "                ax=ax\n",
    "        )\n",
    "\n",
    "        return ax"
   ]
  },
  {
   "cell_type": "code",
   "execution_count": 24,
   "metadata": {},
   "outputs": [],
   "source": [
    "log_pipe = ModelWithCV(logreg_model_pipe, model_name='log_pipe', X=X_train, y=y_train)"
   ]
  },
  {
   "cell_type": "code",
   "execution_count": 25,
   "metadata": {},
   "outputs": [
    {
     "data": {
      "image/png": "[encoded data removed]",
      "text/plain": [
       "<Figure size 432x288 with 1 Axes>"
      ]
     },
     "metadata": {
      "needs_background": "light"
     },
     "output_type": "display_data"
    }
   ],
   "source": [
    "fig, ax = plt.subplots()\n",
    "\n",
    "log_pipe.plot_cv(ax=ax);"
   ]
  },
  {
   "cell_type": "code",
   "execution_count": 26,
   "metadata": {},
   "outputs": [
    {
     "name": "stdout",
     "output_type": "stream",
     "text": [
      "CV Results for `log_pipe` model:\n",
      "            0.82049 ± 0.06651 accuracy\n",
      "        \n"
     ]
    }
   ],
   "source": [
    "log_pipe.print_cv_summary()"
   ]
  },
  {
   "cell_type": "markdown",
   "metadata": {},
   "source": [
    "## Trying Other Models at the End of the Pipeline"
   ]
  },
  {
   "cell_type": "markdown",
   "metadata": {},
   "source": [
    "Can I have multiple models in a single pipeline? Yes. We'll forgo this here, but for more on this see [here](https://stackoverflow.com/questions/48507651/multiple-classification-models-in-a-scikit-pipeline-python)."
   ]
  },
  {
   "cell_type": "markdown",
   "metadata": {},
   "source": [
    "### Random Forest"
   ]
  },
  {
   "cell_type": "code",
   "execution_count": 27,
   "metadata": {},
   "outputs": [],
   "source": [
    "rfc = RandomForestClassifier(random_state=42)\n",
    "\n",
    "rfc_model_pipe = Pipeline([('ct', CT), ('rfc', rfc)])"
   ]
  },
  {
   "cell_type": "code",
   "execution_count": 28,
   "metadata": {},
   "outputs": [
    {
     "data": {
      "text/plain": [
       "Pipeline(steps=[('ct',\n",
       "                 ColumnTransformer(remainder='passthrough',\n",
       "                                   transformers=[('subpipe_num',\n",
       "                                                  Pipeline(steps=[('num_impute',\n",
       "                                                                   SimpleImputer()),\n",
       "                                                                  ('ss',\n",
       "                                                                   StandardScaler())]),\n",
       "                                                  [2, 3, 4, 6]),\n",
       "                                                 ('subpipe_cat',\n",
       "                                                  Pipeline(steps=[('cat_impute',\n",
       "                                                                   SimpleImputer(strategy='most_frequent')),\n",
       "                                                                  ('ohe',\n",
       "                                                                   OneHotEncoder(handle_unknown='ignore',\n",
       "                                                                                 sparse=False))]),\n",
       "                                                  [0, 1, 5, 7, 8])])),\n",
       "                ('rfc', RandomForestClassifier(random_state=42))])"
      ]
     },
     "execution_count": 28,
     "metadata": {},
     "output_type": "execute_result"
    }
   ],
   "source": [
    "rfc_model_pipe.fit(X_train, y_train)"
   ]
  },
  {
   "cell_type": "code",
   "execution_count": 29,
   "metadata": {},
   "outputs": [
    {
     "data": {
      "text/plain": [
       "0.9985029940119761"
      ]
     },
     "execution_count": 29,
     "metadata": {},
     "output_type": "execute_result"
    }
   ],
   "source": [
    "rfc_model_pipe.score(X_train, y_train)"
   ]
  },
  {
   "cell_type": "code",
   "execution_count": 30,
   "metadata": {},
   "outputs": [],
   "source": [
    "forest_pipe = ModelWithCV(model=rfc_model_pipe,\n",
    "                          model_name='forest_pipe',\n",
    "                          X=X_train,\n",
    "                          y=y_train)"
   ]
  },
  {
   "cell_type": "code",
   "execution_count": 31,
   "metadata": {
    "scrolled": true
   },
   "outputs": [
    {
     "data": {
      "image/png": "[encoded data removed]",
      "text/plain": [
       "<Figure size 432x288 with 1 Axes>"
      ]
     },
     "metadata": {
      "needs_background": "light"
     },
     "output_type": "display_data"
    }
   ],
   "source": [
    "fig, ax = plt.subplots()\n",
    "\n",
    "forest_pipe.plot_cv(ax=ax);"
   ]
  },
  {
   "cell_type": "code",
   "execution_count": 44,
   "metadata": {},
   "outputs": [],
   "source": [
    "# Grid Searching with n_jobs\n",
    "grid = {'ct__subpipe_num__num_impute__strategy': ['mean', 'median', 'mode'],\n",
    "        'rfc__max_depth': [3, 5, 7], \n",
    "        'rfc__n_estimators': [50, 100],\n",
    "        'rfc__min_samples_leaf': [1, 3, 5]}\n",
    "\n",
    "gs_rfc = GridSearchCV(rfc_model_pipe, param_grid=grid, cv=5, verbose=3)"
   ]
  },
  {
   "cell_type": "code",
   "execution_count": 45,
   "metadata": {},
   "outputs": [
    {
     "name": "stdout",
     "output_type": "stream",
     "text": [
      "Fitting 5 folds for each of 54 candidates, totalling 270 fits\n",
      "[CV] ct__subpipe_num__num_impute__strategy=mean, rfc__max_depth=3, rfc__min_samples_leaf=1, rfc__n_estimators=50 \n",
      "[CV]  ct__subpipe_num__num_impute__strategy=mean, rfc__max_depth=3, rfc__min_samples_leaf=1, rfc__n_estimators=50, score=0.739, total=   0.1s\n",
      "[CV] ct__subpipe_num__num_impute__strategy=mean, rfc__max_depth=3, rfc__min_samples_leaf=1, rfc__n_estimators=50 \n",
      "[CV]  ct__subpipe_num__num_impute__strategy=mean, rfc__max_depth=3, rfc__min_samples_leaf=1, rfc__n_estimators=50, score=0.716, total=   0.1s\n",
      "[CV] ct__subpipe_num__num_impute__strategy=mean, rfc__max_depth=3, rfc__min_samples_leaf=1, rfc__n_estimators=50 \n"
     ]
    },
    {
     "name": "stderr",
     "output_type": "stream",
     "text": [
      "[Parallel(n_jobs=1)]: Using backend SequentialBackend with 1 concurrent workers.\n",
      "[Parallel(n_jobs=1)]: Done   1 out of   1 | elapsed:    0.1s remaining:    0.0s\n",
      "[Parallel(n_jobs=1)]: Done   2 out of   2 | elapsed:    0.2s remaining:    0.0s\n"
     ]
    },
    {
     "name": "stdout",
     "output_type": "stream",
     "text": [
      "[CV]  ct__subpipe_num__num_impute__strategy=mean, rfc__max_depth=3, rfc__min_samples_leaf=1, rfc__n_estimators=50, score=0.657, total=   0.1s\n",
      "[CV] ct__subpipe_num__num_impute__strategy=mean, rfc__max_depth=3, rfc__min_samples_leaf=1, rfc__n_estimators=50 \n",
      "[CV]  ct__subpipe_num__num_impute__strategy=mean, rfc__max_depth=3, rfc__min_samples_leaf=1, rfc__n_estimators=50, score=0.729, total=   0.1s\n",
      "[CV] ct__subpipe_num__num_impute__strategy=mean, rfc__max_depth=3, rfc__min_samples_leaf=1, rfc__n_estimators=50 \n",
      "[CV]  ct__subpipe_num__num_impute__strategy=mean, rfc__max_depth=3, rfc__min_samples_leaf=1, rfc__n_estimators=50, score=0.797, total=   0.1s\n",
      "[CV] ct__subpipe_num__num_impute__strategy=mean, rfc__max_depth=3, rfc__min_samples_leaf=1, rfc__n_estimators=100 \n",
      "[CV]  ct__subpipe_num__num_impute__strategy=mean, rfc__max_depth=3, rfc__min_samples_leaf=1, rfc__n_estimators=100, score=0.701, total=   0.1s\n",
      "[CV] ct__subpipe_num__num_impute__strategy=mean, rfc__max_depth=3, rfc__min_samples_leaf=1, rfc__n_estimators=100 \n",
      "[CV]  ct__subpipe_num__num_impute__strategy=mean, rfc__max_depth=3, rfc__min_samples_leaf=1, rfc__n_estimators=100, score=0.754, total=   0.1s\n",
      "[CV] ct__subpipe_num__num_impute__strategy=mean, rfc__max_depth=3, rfc__min_samples_leaf=1, rfc__n_estimators=100 \n",
      "[CV]  ct__subpipe_num__num_impute__strategy=mean, rfc__max_depth=3, rfc__min_samples_leaf=1, rfc__n_estimators=100, score=0.664, total=   0.1s\n",
      "[CV] ct__subpipe_num__num_impute__strategy=mean, rfc__max_depth=3, rfc__min_samples_leaf=1, rfc__n_estimators=100 \n",
      "[CV]  ct__subpipe_num__num_impute__strategy=mean, rfc__max_depth=3, rfc__min_samples_leaf=1, rfc__n_estimators=100, score=0.714, total=   0.1s\n",
      "[CV] ct__subpipe_num__num_impute__strategy=mean, rfc__max_depth=3, rfc__min_samples_leaf=1, rfc__n_estimators=100 \n",
      "[CV]  ct__subpipe_num__num_impute__strategy=mean, rfc__max_depth=3, rfc__min_samples_leaf=1, rfc__n_estimators=100, score=0.759, total=   0.1s\n",
      "[CV] ct__subpipe_num__num_impute__strategy=mean, rfc__max_depth=3, rfc__min_samples_leaf=3, rfc__n_estimators=50 \n",
      "[CV]  ct__subpipe_num__num_impute__strategy=mean, rfc__max_depth=3, rfc__min_samples_leaf=3, rfc__n_estimators=50, score=0.619, total=   0.1s\n",
      "[CV] ct__subpipe_num__num_impute__strategy=mean, rfc__max_depth=3, rfc__min_samples_leaf=3, rfc__n_estimators=50 \n",
      "[CV]  ct__subpipe_num__num_impute__strategy=mean, rfc__max_depth=3, rfc__min_samples_leaf=3, rfc__n_estimators=50, score=0.657, total=   0.1s\n",
      "[CV] ct__subpipe_num__num_impute__strategy=mean, rfc__max_depth=3, rfc__min_samples_leaf=3, rfc__n_estimators=50 \n",
      "[CV]  ct__subpipe_num__num_impute__strategy=mean, rfc__max_depth=3, rfc__min_samples_leaf=3, rfc__n_estimators=50, score=0.634, total=   0.1s\n",
      "[CV] ct__subpipe_num__num_impute__strategy=mean, rfc__max_depth=3, rfc__min_samples_leaf=3, rfc__n_estimators=50 \n",
      "[CV]  ct__subpipe_num__num_impute__strategy=mean, rfc__max_depth=3, rfc__min_samples_leaf=3, rfc__n_estimators=50, score=0.624, total=   0.1s\n",
      "[CV] ct__subpipe_num__num_impute__strategy=mean, rfc__max_depth=3, rfc__min_samples_leaf=3, rfc__n_estimators=50 \n",
      "[CV]  ct__subpipe_num__num_impute__strategy=mean, rfc__max_depth=3, rfc__min_samples_leaf=3, rfc__n_estimators=50, score=0.722, total=   0.1s\n",
      "[CV] ct__subpipe_num__num_impute__strategy=mean, rfc__max_depth=3, rfc__min_samples_leaf=3, rfc__n_estimators=100 \n",
      "[CV]  ct__subpipe_num__num_impute__strategy=mean, rfc__max_depth=3, rfc__min_samples_leaf=3, rfc__n_estimators=100, score=0.634, total=   0.1s\n",
      "[CV] ct__subpipe_num__num_impute__strategy=mean, rfc__max_depth=3, rfc__min_samples_leaf=3, rfc__n_estimators=100 \n",
      "[CV]  ct__subpipe_num__num_impute__strategy=mean, rfc__max_depth=3, rfc__min_samples_leaf=3, rfc__n_estimators=100, score=0.649, total=   0.1s\n",
      "[CV] ct__subpipe_num__num_impute__strategy=mean, rfc__max_depth=3, rfc__min_samples_leaf=3, rfc__n_estimators=100 \n",
      "[CV]  ct__subpipe_num__num_impute__strategy=mean, rfc__max_depth=3, rfc__min_samples_leaf=3, rfc__n_estimators=100, score=0.627, total=   0.1s\n",
      "[CV] ct__subpipe_num__num_impute__strategy=mean, rfc__max_depth=3, rfc__min_samples_leaf=3, rfc__n_estimators=100 \n",
      "[CV]  ct__subpipe_num__num_impute__strategy=mean, rfc__max_depth=3, rfc__min_samples_leaf=3, rfc__n_estimators=100, score=0.624, total=   0.1s\n",
      "[CV] ct__subpipe_num__num_impute__strategy=mean, rfc__max_depth=3, rfc__min_samples_leaf=3, rfc__n_estimators=100 \n",
      "[CV]  ct__subpipe_num__num_impute__strategy=mean, rfc__max_depth=3, rfc__min_samples_leaf=3, rfc__n_estimators=100, score=0.714, total=   0.1s\n",
      "[CV] ct__subpipe_num__num_impute__strategy=mean, rfc__max_depth=3, rfc__min_samples_leaf=5, rfc__n_estimators=50 \n",
      "[CV]  ct__subpipe_num__num_impute__strategy=mean, rfc__max_depth=3, rfc__min_samples_leaf=5, rfc__n_estimators=50, score=0.619, total=   0.1s\n",
      "[CV] ct__subpipe_num__num_impute__strategy=mean, rfc__max_depth=3, rfc__min_samples_leaf=5, rfc__n_estimators=50 \n",
      "[CV]  ct__subpipe_num__num_impute__strategy=mean, rfc__max_depth=3, rfc__min_samples_leaf=5, rfc__n_estimators=50, score=0.619, total=   0.1s\n",
      "[CV] ct__subpipe_num__num_impute__strategy=mean, rfc__max_depth=3, rfc__min_samples_leaf=5, rfc__n_estimators=50 \n",
      "[CV]  ct__subpipe_num__num_impute__strategy=mean, rfc__max_depth=3, rfc__min_samples_leaf=5, rfc__n_estimators=50, score=0.619, total=   0.1s\n",
      "[CV] ct__subpipe_num__num_impute__strategy=mean, rfc__max_depth=3, rfc__min_samples_leaf=5, rfc__n_estimators=50 \n",
      "[CV]  ct__subpipe_num__num_impute__strategy=mean, rfc__max_depth=3, rfc__min_samples_leaf=5, rfc__n_estimators=50, score=0.624, total=   0.1s\n",
      "[CV] ct__subpipe_num__num_impute__strategy=mean, rfc__max_depth=3, rfc__min_samples_leaf=5, rfc__n_estimators=50 \n",
      "[CV]  ct__subpipe_num__num_impute__strategy=mean, rfc__max_depth=3, rfc__min_samples_leaf=5, rfc__n_estimators=50, score=0.632, total=   0.1s\n",
      "[CV] ct__subpipe_num__num_impute__strategy=mean, rfc__max_depth=3, rfc__min_samples_leaf=5, rfc__n_estimators=100 \n",
      "[CV]  ct__subpipe_num__num_impute__strategy=mean, rfc__max_depth=3, rfc__min_samples_leaf=5, rfc__n_estimators=100, score=0.619, total=   0.1s\n",
      "[CV] ct__subpipe_num__num_impute__strategy=mean, rfc__max_depth=3, rfc__min_samples_leaf=5, rfc__n_estimators=100 \n",
      "[CV]  ct__subpipe_num__num_impute__strategy=mean, rfc__max_depth=3, rfc__min_samples_leaf=5, rfc__n_estimators=100, score=0.642, total=   0.1s\n",
      "[CV] ct__subpipe_num__num_impute__strategy=mean, rfc__max_depth=3, rfc__min_samples_leaf=5, rfc__n_estimators=100 \n",
      "[CV]  ct__subpipe_num__num_impute__strategy=mean, rfc__max_depth=3, rfc__min_samples_leaf=5, rfc__n_estimators=100, score=0.619, total=   0.1s\n",
      "[CV] ct__subpipe_num__num_impute__strategy=mean, rfc__max_depth=3, rfc__min_samples_leaf=5, rfc__n_estimators=100 \n",
      "[CV]  ct__subpipe_num__num_impute__strategy=mean, rfc__max_depth=3, rfc__min_samples_leaf=5, rfc__n_estimators=100, score=0.624, total=   0.1s\n",
      "[CV] ct__subpipe_num__num_impute__strategy=mean, rfc__max_depth=3, rfc__min_samples_leaf=5, rfc__n_estimators=100 \n",
      "[CV]  ct__subpipe_num__num_impute__strategy=mean, rfc__max_depth=3, rfc__min_samples_leaf=5, rfc__n_estimators=100, score=0.624, total=   0.1s\n",
      "[CV] ct__subpipe_num__num_impute__strategy=mean, rfc__max_depth=5, rfc__min_samples_leaf=1, rfc__n_estimators=50 \n",
      "[CV]  ct__subpipe_num__num_impute__strategy=mean, rfc__max_depth=5, rfc__min_samples_leaf=1, rfc__n_estimators=50, score=0.761, total=   0.1s\n",
      "[CV] ct__subpipe_num__num_impute__strategy=mean, rfc__max_depth=5, rfc__min_samples_leaf=1, rfc__n_estimators=50 \n",
      "[CV]  ct__subpipe_num__num_impute__strategy=mean, rfc__max_depth=5, rfc__min_samples_leaf=1, rfc__n_estimators=50, score=0.806, total=   0.1s\n",
      "[CV] ct__subpipe_num__num_impute__strategy=mean, rfc__max_depth=5, rfc__min_samples_leaf=1, rfc__n_estimators=50 \n",
      "[CV]  ct__subpipe_num__num_impute__strategy=mean, rfc__max_depth=5, rfc__min_samples_leaf=1, rfc__n_estimators=50, score=0.784, total=   0.1s\n",
      "[CV] ct__subpipe_num__num_impute__strategy=mean, rfc__max_depth=5, rfc__min_samples_leaf=1, rfc__n_estimators=50 \n",
      "[CV]  ct__subpipe_num__num_impute__strategy=mean, rfc__max_depth=5, rfc__min_samples_leaf=1, rfc__n_estimators=50, score=0.767, total=   0.1s\n",
      "[CV] ct__subpipe_num__num_impute__strategy=mean, rfc__max_depth=5, rfc__min_samples_leaf=1, rfc__n_estimators=50 \n",
      "[CV]  ct__subpipe_num__num_impute__strategy=mean, rfc__max_depth=5, rfc__min_samples_leaf=1, rfc__n_estimators=50, score=0.797, total=   0.1s\n",
      "[CV] ct__subpipe_num__num_impute__strategy=mean, rfc__max_depth=5, rfc__min_samples_leaf=1, rfc__n_estimators=100 \n",
      "[CV]  ct__subpipe_num__num_impute__strategy=mean, rfc__max_depth=5, rfc__min_samples_leaf=1, rfc__n_estimators=100, score=0.776, total=   0.1s\n",
      "[CV] ct__subpipe_num__num_impute__strategy=mean, rfc__max_depth=5, rfc__min_samples_leaf=1, rfc__n_estimators=100 \n"
     ]
    },
    {
     "name": "stdout",
     "output_type": "stream",
     "text": [
      "[CV]  ct__subpipe_num__num_impute__strategy=mean, rfc__max_depth=5, rfc__min_samples_leaf=1, rfc__n_estimators=100, score=0.828, total=   0.1s\n",
      "[CV] ct__subpipe_num__num_impute__strategy=mean, rfc__max_depth=5, rfc__min_samples_leaf=1, rfc__n_estimators=100 \n",
      "[CV]  ct__subpipe_num__num_impute__strategy=mean, rfc__max_depth=5, rfc__min_samples_leaf=1, rfc__n_estimators=100, score=0.754, total=   0.1s\n",
      "[CV] ct__subpipe_num__num_impute__strategy=mean, rfc__max_depth=5, rfc__min_samples_leaf=1, rfc__n_estimators=100 \n",
      "[CV]  ct__subpipe_num__num_impute__strategy=mean, rfc__max_depth=5, rfc__min_samples_leaf=1, rfc__n_estimators=100, score=0.752, total=   0.1s\n",
      "[CV] ct__subpipe_num__num_impute__strategy=mean, rfc__max_depth=5, rfc__min_samples_leaf=1, rfc__n_estimators=100 \n",
      "[CV]  ct__subpipe_num__num_impute__strategy=mean, rfc__max_depth=5, rfc__min_samples_leaf=1, rfc__n_estimators=100, score=0.797, total=   0.1s\n",
      "[CV] ct__subpipe_num__num_impute__strategy=mean, rfc__max_depth=5, rfc__min_samples_leaf=3, rfc__n_estimators=50 \n",
      "[CV]  ct__subpipe_num__num_impute__strategy=mean, rfc__max_depth=5, rfc__min_samples_leaf=3, rfc__n_estimators=50, score=0.619, total=   0.1s\n",
      "[CV] ct__subpipe_num__num_impute__strategy=mean, rfc__max_depth=5, rfc__min_samples_leaf=3, rfc__n_estimators=50 \n",
      "[CV]  ct__subpipe_num__num_impute__strategy=mean, rfc__max_depth=5, rfc__min_samples_leaf=3, rfc__n_estimators=50, score=0.657, total=   0.1s\n",
      "[CV] ct__subpipe_num__num_impute__strategy=mean, rfc__max_depth=5, rfc__min_samples_leaf=3, rfc__n_estimators=50 \n",
      "[CV]  ct__subpipe_num__num_impute__strategy=mean, rfc__max_depth=5, rfc__min_samples_leaf=3, rfc__n_estimators=50, score=0.627, total=   0.1s\n",
      "[CV] ct__subpipe_num__num_impute__strategy=mean, rfc__max_depth=5, rfc__min_samples_leaf=3, rfc__n_estimators=50 \n",
      "[CV]  ct__subpipe_num__num_impute__strategy=mean, rfc__max_depth=5, rfc__min_samples_leaf=3, rfc__n_estimators=50, score=0.624, total=   0.1s\n",
      "[CV] ct__subpipe_num__num_impute__strategy=mean, rfc__max_depth=5, rfc__min_samples_leaf=3, rfc__n_estimators=50 \n",
      "[CV]  ct__subpipe_num__num_impute__strategy=mean, rfc__max_depth=5, rfc__min_samples_leaf=3, rfc__n_estimators=50, score=0.722, total=   0.1s\n",
      "[CV] ct__subpipe_num__num_impute__strategy=mean, rfc__max_depth=5, rfc__min_samples_leaf=3, rfc__n_estimators=100 \n",
      "[CV]  ct__subpipe_num__num_impute__strategy=mean, rfc__max_depth=5, rfc__min_samples_leaf=3, rfc__n_estimators=100, score=0.642, total=   0.1s\n",
      "[CV] ct__subpipe_num__num_impute__strategy=mean, rfc__max_depth=5, rfc__min_samples_leaf=3, rfc__n_estimators=100 \n",
      "[CV]  ct__subpipe_num__num_impute__strategy=mean, rfc__max_depth=5, rfc__min_samples_leaf=3, rfc__n_estimators=100, score=0.649, total=   0.1s\n",
      "[CV] ct__subpipe_num__num_impute__strategy=mean, rfc__max_depth=5, rfc__min_samples_leaf=3, rfc__n_estimators=100 \n",
      "[CV]  ct__subpipe_num__num_impute__strategy=mean, rfc__max_depth=5, rfc__min_samples_leaf=3, rfc__n_estimators=100, score=0.627, total=   0.1s\n",
      "[CV] ct__subpipe_num__num_impute__strategy=mean, rfc__max_depth=5, rfc__min_samples_leaf=3, rfc__n_estimators=100 \n",
      "[CV]  ct__subpipe_num__num_impute__strategy=mean, rfc__max_depth=5, rfc__min_samples_leaf=3, rfc__n_estimators=100, score=0.624, total=   0.1s\n",
      "[CV] ct__subpipe_num__num_impute__strategy=mean, rfc__max_depth=5, rfc__min_samples_leaf=3, rfc__n_estimators=100 \n",
      "[CV]  ct__subpipe_num__num_impute__strategy=mean, rfc__max_depth=5, rfc__min_samples_leaf=3, rfc__n_estimators=100, score=0.722, total=   0.1s\n",
      "[CV] ct__subpipe_num__num_impute__strategy=mean, rfc__max_depth=5, rfc__min_samples_leaf=5, rfc__n_estimators=50 \n",
      "[CV]  ct__subpipe_num__num_impute__strategy=mean, rfc__max_depth=5, rfc__min_samples_leaf=5, rfc__n_estimators=50, score=0.619, total=   0.1s\n",
      "[CV] ct__subpipe_num__num_impute__strategy=mean, rfc__max_depth=5, rfc__min_samples_leaf=5, rfc__n_estimators=50 \n",
      "[CV]  ct__subpipe_num__num_impute__strategy=mean, rfc__max_depth=5, rfc__min_samples_leaf=5, rfc__n_estimators=50, score=0.619, total=   0.1s\n",
      "[CV] ct__subpipe_num__num_impute__strategy=mean, rfc__max_depth=5, rfc__min_samples_leaf=5, rfc__n_estimators=50 \n",
      "[CV]  ct__subpipe_num__num_impute__strategy=mean, rfc__max_depth=5, rfc__min_samples_leaf=5, rfc__n_estimators=50, score=0.627, total=   0.1s\n",
      "[CV] ct__subpipe_num__num_impute__strategy=mean, rfc__max_depth=5, rfc__min_samples_leaf=5, rfc__n_estimators=50 \n",
      "[CV]  ct__subpipe_num__num_impute__strategy=mean, rfc__max_depth=5, rfc__min_samples_leaf=5, rfc__n_estimators=50, score=0.624, total=   0.1s\n",
      "[CV] ct__subpipe_num__num_impute__strategy=mean, rfc__max_depth=5, rfc__min_samples_leaf=5, rfc__n_estimators=50 \n",
      "[CV]  ct__subpipe_num__num_impute__strategy=mean, rfc__max_depth=5, rfc__min_samples_leaf=5, rfc__n_estimators=50, score=0.632, total=   0.1s\n",
      "[CV] ct__subpipe_num__num_impute__strategy=mean, rfc__max_depth=5, rfc__min_samples_leaf=5, rfc__n_estimators=100 \n",
      "[CV]  ct__subpipe_num__num_impute__strategy=mean, rfc__max_depth=5, rfc__min_samples_leaf=5, rfc__n_estimators=100, score=0.619, total=   0.1s\n",
      "[CV] ct__subpipe_num__num_impute__strategy=mean, rfc__max_depth=5, rfc__min_samples_leaf=5, rfc__n_estimators=100 \n",
      "[CV]  ct__subpipe_num__num_impute__strategy=mean, rfc__max_depth=5, rfc__min_samples_leaf=5, rfc__n_estimators=100, score=0.649, total=   0.1s\n",
      "[CV] ct__subpipe_num__num_impute__strategy=mean, rfc__max_depth=5, rfc__min_samples_leaf=5, rfc__n_estimators=100 \n",
      "[CV]  ct__subpipe_num__num_impute__strategy=mean, rfc__max_depth=5, rfc__min_samples_leaf=5, rfc__n_estimators=100, score=0.619, total=   0.1s\n",
      "[CV] ct__subpipe_num__num_impute__strategy=mean, rfc__max_depth=5, rfc__min_samples_leaf=5, rfc__n_estimators=100 \n",
      "[CV]  ct__subpipe_num__num_impute__strategy=mean, rfc__max_depth=5, rfc__min_samples_leaf=5, rfc__n_estimators=100, score=0.624, total=   0.1s\n",
      "[CV] ct__subpipe_num__num_impute__strategy=mean, rfc__max_depth=5, rfc__min_samples_leaf=5, rfc__n_estimators=100 \n",
      "[CV]  ct__subpipe_num__num_impute__strategy=mean, rfc__max_depth=5, rfc__min_samples_leaf=5, rfc__n_estimators=100, score=0.624, total=   0.1s\n",
      "[CV] ct__subpipe_num__num_impute__strategy=mean, rfc__max_depth=7, rfc__min_samples_leaf=1, rfc__n_estimators=50 \n",
      "[CV]  ct__subpipe_num__num_impute__strategy=mean, rfc__max_depth=7, rfc__min_samples_leaf=1, rfc__n_estimators=50, score=0.791, total=   0.1s\n",
      "[CV] ct__subpipe_num__num_impute__strategy=mean, rfc__max_depth=7, rfc__min_samples_leaf=1, rfc__n_estimators=50 \n",
      "[CV]  ct__subpipe_num__num_impute__strategy=mean, rfc__max_depth=7, rfc__min_samples_leaf=1, rfc__n_estimators=50, score=0.851, total=   0.1s\n",
      "[CV] ct__subpipe_num__num_impute__strategy=mean, rfc__max_depth=7, rfc__min_samples_leaf=1, rfc__n_estimators=50 \n",
      "[CV]  ct__subpipe_num__num_impute__strategy=mean, rfc__max_depth=7, rfc__min_samples_leaf=1, rfc__n_estimators=50, score=0.806, total=   0.1s\n",
      "[CV] ct__subpipe_num__num_impute__strategy=mean, rfc__max_depth=7, rfc__min_samples_leaf=1, rfc__n_estimators=50 \n",
      "[CV]  ct__subpipe_num__num_impute__strategy=mean, rfc__max_depth=7, rfc__min_samples_leaf=1, rfc__n_estimators=50, score=0.759, total=   0.1s\n",
      "[CV] ct__subpipe_num__num_impute__strategy=mean, rfc__max_depth=7, rfc__min_samples_leaf=1, rfc__n_estimators=50 \n",
      "[CV]  ct__subpipe_num__num_impute__strategy=mean, rfc__max_depth=7, rfc__min_samples_leaf=1, rfc__n_estimators=50, score=0.797, total=   0.1s\n",
      "[CV] ct__subpipe_num__num_impute__strategy=mean, rfc__max_depth=7, rfc__min_samples_leaf=1, rfc__n_estimators=100 \n",
      "[CV]  ct__subpipe_num__num_impute__strategy=mean, rfc__max_depth=7, rfc__min_samples_leaf=1, rfc__n_estimators=100, score=0.784, total=   0.1s\n",
      "[CV] ct__subpipe_num__num_impute__strategy=mean, rfc__max_depth=7, rfc__min_samples_leaf=1, rfc__n_estimators=100 \n",
      "[CV]  ct__subpipe_num__num_impute__strategy=mean, rfc__max_depth=7, rfc__min_samples_leaf=1, rfc__n_estimators=100, score=0.843, total=   0.1s\n",
      "[CV] ct__subpipe_num__num_impute__strategy=mean, rfc__max_depth=7, rfc__min_samples_leaf=1, rfc__n_estimators=100 \n",
      "[CV]  ct__subpipe_num__num_impute__strategy=mean, rfc__max_depth=7, rfc__min_samples_leaf=1, rfc__n_estimators=100, score=0.813, total=   0.1s\n",
      "[CV] ct__subpipe_num__num_impute__strategy=mean, rfc__max_depth=7, rfc__min_samples_leaf=1, rfc__n_estimators=100 \n"
     ]
    },
    {
     "name": "stdout",
     "output_type": "stream",
     "text": [
      "[CV]  ct__subpipe_num__num_impute__strategy=mean, rfc__max_depth=7, rfc__min_samples_leaf=1, rfc__n_estimators=100, score=0.752, total=   0.1s\n",
      "[CV] ct__subpipe_num__num_impute__strategy=mean, rfc__max_depth=7, rfc__min_samples_leaf=1, rfc__n_estimators=100 \n",
      "[CV]  ct__subpipe_num__num_impute__strategy=mean, rfc__max_depth=7, rfc__min_samples_leaf=1, rfc__n_estimators=100, score=0.805, total=   0.1s\n",
      "[CV] ct__subpipe_num__num_impute__strategy=mean, rfc__max_depth=7, rfc__min_samples_leaf=3, rfc__n_estimators=50 \n",
      "[CV]  ct__subpipe_num__num_impute__strategy=mean, rfc__max_depth=7, rfc__min_samples_leaf=3, rfc__n_estimators=50, score=0.619, total=   0.1s\n",
      "[CV] ct__subpipe_num__num_impute__strategy=mean, rfc__max_depth=7, rfc__min_samples_leaf=3, rfc__n_estimators=50 \n",
      "[CV]  ct__subpipe_num__num_impute__strategy=mean, rfc__max_depth=7, rfc__min_samples_leaf=3, rfc__n_estimators=50, score=0.657, total=   0.0s\n",
      "[CV] ct__subpipe_num__num_impute__strategy=mean, rfc__max_depth=7, rfc__min_samples_leaf=3, rfc__n_estimators=50 \n",
      "[CV]  ct__subpipe_num__num_impute__strategy=mean, rfc__max_depth=7, rfc__min_samples_leaf=3, rfc__n_estimators=50, score=0.634, total=   0.1s\n",
      "[CV] ct__subpipe_num__num_impute__strategy=mean, rfc__max_depth=7, rfc__min_samples_leaf=3, rfc__n_estimators=50 \n",
      "[CV]  ct__subpipe_num__num_impute__strategy=mean, rfc__max_depth=7, rfc__min_samples_leaf=3, rfc__n_estimators=50, score=0.624, total=   0.1s\n",
      "[CV] ct__subpipe_num__num_impute__strategy=mean, rfc__max_depth=7, rfc__min_samples_leaf=3, rfc__n_estimators=50 \n",
      "[CV]  ct__subpipe_num__num_impute__strategy=mean, rfc__max_depth=7, rfc__min_samples_leaf=3, rfc__n_estimators=50, score=0.729, total=   0.1s\n",
      "[CV] ct__subpipe_num__num_impute__strategy=mean, rfc__max_depth=7, rfc__min_samples_leaf=3, rfc__n_estimators=100 \n",
      "[CV]  ct__subpipe_num__num_impute__strategy=mean, rfc__max_depth=7, rfc__min_samples_leaf=3, rfc__n_estimators=100, score=0.642, total=   0.1s\n",
      "[CV] ct__subpipe_num__num_impute__strategy=mean, rfc__max_depth=7, rfc__min_samples_leaf=3, rfc__n_estimators=100 \n",
      "[CV]  ct__subpipe_num__num_impute__strategy=mean, rfc__max_depth=7, rfc__min_samples_leaf=3, rfc__n_estimators=100, score=0.649, total=   0.1s\n",
      "[CV] ct__subpipe_num__num_impute__strategy=mean, rfc__max_depth=7, rfc__min_samples_leaf=3, rfc__n_estimators=100 \n",
      "[CV]  ct__subpipe_num__num_impute__strategy=mean, rfc__max_depth=7, rfc__min_samples_leaf=3, rfc__n_estimators=100, score=0.634, total=   0.1s\n",
      "[CV] ct__subpipe_num__num_impute__strategy=mean, rfc__max_depth=7, rfc__min_samples_leaf=3, rfc__n_estimators=100 \n",
      "[CV]  ct__subpipe_num__num_impute__strategy=mean, rfc__max_depth=7, rfc__min_samples_leaf=3, rfc__n_estimators=100, score=0.624, total=   0.1s\n",
      "[CV] ct__subpipe_num__num_impute__strategy=mean, rfc__max_depth=7, rfc__min_samples_leaf=3, rfc__n_estimators=100 \n",
      "[CV]  ct__subpipe_num__num_impute__strategy=mean, rfc__max_depth=7, rfc__min_samples_leaf=3, rfc__n_estimators=100, score=0.722, total=   0.1s\n",
      "[CV] ct__subpipe_num__num_impute__strategy=mean, rfc__max_depth=7, rfc__min_samples_leaf=5, rfc__n_estimators=50 \n",
      "[CV]  ct__subpipe_num__num_impute__strategy=mean, rfc__max_depth=7, rfc__min_samples_leaf=5, rfc__n_estimators=50, score=0.619, total=   0.0s\n",
      "[CV] ct__subpipe_num__num_impute__strategy=mean, rfc__max_depth=7, rfc__min_samples_leaf=5, rfc__n_estimators=50 \n",
      "[CV]  ct__subpipe_num__num_impute__strategy=mean, rfc__max_depth=7, rfc__min_samples_leaf=5, rfc__n_estimators=50, score=0.619, total=   0.1s\n",
      "[CV] ct__subpipe_num__num_impute__strategy=mean, rfc__max_depth=7, rfc__min_samples_leaf=5, rfc__n_estimators=50 \n",
      "[CV]  ct__subpipe_num__num_impute__strategy=mean, rfc__max_depth=7, rfc__min_samples_leaf=5, rfc__n_estimators=50, score=0.627, total=   0.0s\n",
      "[CV] ct__subpipe_num__num_impute__strategy=mean, rfc__max_depth=7, rfc__min_samples_leaf=5, rfc__n_estimators=50 \n",
      "[CV]  ct__subpipe_num__num_impute__strategy=mean, rfc__max_depth=7, rfc__min_samples_leaf=5, rfc__n_estimators=50, score=0.624, total=   0.0s\n",
      "[CV] ct__subpipe_num__num_impute__strategy=mean, rfc__max_depth=7, rfc__min_samples_leaf=5, rfc__n_estimators=50 \n",
      "[CV]  ct__subpipe_num__num_impute__strategy=mean, rfc__max_depth=7, rfc__min_samples_leaf=5, rfc__n_estimators=50, score=0.632, total=   0.1s\n",
      "[CV] ct__subpipe_num__num_impute__strategy=mean, rfc__max_depth=7, rfc__min_samples_leaf=5, rfc__n_estimators=100 \n",
      "[CV]  ct__subpipe_num__num_impute__strategy=mean, rfc__max_depth=7, rfc__min_samples_leaf=5, rfc__n_estimators=100, score=0.619, total=   0.1s\n",
      "[CV] ct__subpipe_num__num_impute__strategy=mean, rfc__max_depth=7, rfc__min_samples_leaf=5, rfc__n_estimators=100 \n",
      "[CV]  ct__subpipe_num__num_impute__strategy=mean, rfc__max_depth=7, rfc__min_samples_leaf=5, rfc__n_estimators=100, score=0.649, total=   0.1s\n",
      "[CV] ct__subpipe_num__num_impute__strategy=mean, rfc__max_depth=7, rfc__min_samples_leaf=5, rfc__n_estimators=100 \n",
      "[CV]  ct__subpipe_num__num_impute__strategy=mean, rfc__max_depth=7, rfc__min_samples_leaf=5, rfc__n_estimators=100, score=0.619, total=   0.1s\n",
      "[CV] ct__subpipe_num__num_impute__strategy=mean, rfc__max_depth=7, rfc__min_samples_leaf=5, rfc__n_estimators=100 \n",
      "[CV]  ct__subpipe_num__num_impute__strategy=mean, rfc__max_depth=7, rfc__min_samples_leaf=5, rfc__n_estimators=100, score=0.624, total=   0.1s\n",
      "[CV] ct__subpipe_num__num_impute__strategy=mean, rfc__max_depth=7, rfc__min_samples_leaf=5, rfc__n_estimators=100 \n",
      "[CV]  ct__subpipe_num__num_impute__strategy=mean, rfc__max_depth=7, rfc__min_samples_leaf=5, rfc__n_estimators=100, score=0.624, total=   0.1s\n",
      "[CV] ct__subpipe_num__num_impute__strategy=median, rfc__max_depth=3, rfc__min_samples_leaf=1, rfc__n_estimators=50 \n",
      "[CV]  ct__subpipe_num__num_impute__strategy=median, rfc__max_depth=3, rfc__min_samples_leaf=1, rfc__n_estimators=50, score=0.739, total=   0.1s\n",
      "[CV] ct__subpipe_num__num_impute__strategy=median, rfc__max_depth=3, rfc__min_samples_leaf=1, rfc__n_estimators=50 \n",
      "[CV]  ct__subpipe_num__num_impute__strategy=median, rfc__max_depth=3, rfc__min_samples_leaf=1, rfc__n_estimators=50, score=0.716, total=   0.1s\n",
      "[CV] ct__subpipe_num__num_impute__strategy=median, rfc__max_depth=3, rfc__min_samples_leaf=1, rfc__n_estimators=50 \n",
      "[CV]  ct__subpipe_num__num_impute__strategy=median, rfc__max_depth=3, rfc__min_samples_leaf=1, rfc__n_estimators=50, score=0.657, total=   0.1s\n",
      "[CV] ct__subpipe_num__num_impute__strategy=median, rfc__max_depth=3, rfc__min_samples_leaf=1, rfc__n_estimators=50 \n",
      "[CV]  ct__subpipe_num__num_impute__strategy=median, rfc__max_depth=3, rfc__min_samples_leaf=1, rfc__n_estimators=50, score=0.729, total=   0.1s\n",
      "[CV] ct__subpipe_num__num_impute__strategy=median, rfc__max_depth=3, rfc__min_samples_leaf=1, rfc__n_estimators=50 \n",
      "[CV]  ct__subpipe_num__num_impute__strategy=median, rfc__max_depth=3, rfc__min_samples_leaf=1, rfc__n_estimators=50, score=0.797, total=   0.1s\n",
      "[CV] ct__subpipe_num__num_impute__strategy=median, rfc__max_depth=3, rfc__min_samples_leaf=1, rfc__n_estimators=100 \n",
      "[CV]  ct__subpipe_num__num_impute__strategy=median, rfc__max_depth=3, rfc__min_samples_leaf=1, rfc__n_estimators=100, score=0.701, total=   0.1s\n",
      "[CV] ct__subpipe_num__num_impute__strategy=median, rfc__max_depth=3, rfc__min_samples_leaf=1, rfc__n_estimators=100 \n",
      "[CV]  ct__subpipe_num__num_impute__strategy=median, rfc__max_depth=3, rfc__min_samples_leaf=1, rfc__n_estimators=100, score=0.746, total=   0.1s\n",
      "[CV] ct__subpipe_num__num_impute__strategy=median, rfc__max_depth=3, rfc__min_samples_leaf=1, rfc__n_estimators=100 \n",
      "[CV]  ct__subpipe_num__num_impute__strategy=median, rfc__max_depth=3, rfc__min_samples_leaf=1, rfc__n_estimators=100, score=0.664, total=   0.1s\n",
      "[CV] ct__subpipe_num__num_impute__strategy=median, rfc__max_depth=3, rfc__min_samples_leaf=1, rfc__n_estimators=100 \n",
      "[CV]  ct__subpipe_num__num_impute__strategy=median, rfc__max_depth=3, rfc__min_samples_leaf=1, rfc__n_estimators=100, score=0.714, total=   0.1s\n",
      "[CV] ct__subpipe_num__num_impute__strategy=median, rfc__max_depth=3, rfc__min_samples_leaf=1, rfc__n_estimators=100 \n",
      "[CV]  ct__subpipe_num__num_impute__strategy=median, rfc__max_depth=3, rfc__min_samples_leaf=1, rfc__n_estimators=100, score=0.759, total=   0.1s\n",
      "[CV] ct__subpipe_num__num_impute__strategy=median, rfc__max_depth=3, rfc__min_samples_leaf=3, rfc__n_estimators=50 \n"
     ]
    },
    {
     "name": "stdout",
     "output_type": "stream",
     "text": [
      "[CV]  ct__subpipe_num__num_impute__strategy=median, rfc__max_depth=3, rfc__min_samples_leaf=3, rfc__n_estimators=50, score=0.619, total=   0.0s\n",
      "[CV] ct__subpipe_num__num_impute__strategy=median, rfc__max_depth=3, rfc__min_samples_leaf=3, rfc__n_estimators=50 \n",
      "[CV]  ct__subpipe_num__num_impute__strategy=median, rfc__max_depth=3, rfc__min_samples_leaf=3, rfc__n_estimators=50, score=0.657, total=   0.0s\n",
      "[CV] ct__subpipe_num__num_impute__strategy=median, rfc__max_depth=3, rfc__min_samples_leaf=3, rfc__n_estimators=50 \n",
      "[CV]  ct__subpipe_num__num_impute__strategy=median, rfc__max_depth=3, rfc__min_samples_leaf=3, rfc__n_estimators=50, score=0.634, total=   0.0s\n",
      "[CV] ct__subpipe_num__num_impute__strategy=median, rfc__max_depth=3, rfc__min_samples_leaf=3, rfc__n_estimators=50 \n",
      "[CV]  ct__subpipe_num__num_impute__strategy=median, rfc__max_depth=3, rfc__min_samples_leaf=3, rfc__n_estimators=50, score=0.624, total=   0.1s\n",
      "[CV] ct__subpipe_num__num_impute__strategy=median, rfc__max_depth=3, rfc__min_samples_leaf=3, rfc__n_estimators=50 \n",
      "[CV]  ct__subpipe_num__num_impute__strategy=median, rfc__max_depth=3, rfc__min_samples_leaf=3, rfc__n_estimators=50, score=0.722, total=   0.0s\n",
      "[CV] ct__subpipe_num__num_impute__strategy=median, rfc__max_depth=3, rfc__min_samples_leaf=3, rfc__n_estimators=100 \n",
      "[CV]  ct__subpipe_num__num_impute__strategy=median, rfc__max_depth=3, rfc__min_samples_leaf=3, rfc__n_estimators=100, score=0.634, total=   0.1s\n",
      "[CV] ct__subpipe_num__num_impute__strategy=median, rfc__max_depth=3, rfc__min_samples_leaf=3, rfc__n_estimators=100 \n",
      "[CV]  ct__subpipe_num__num_impute__strategy=median, rfc__max_depth=3, rfc__min_samples_leaf=3, rfc__n_estimators=100, score=0.649, total=   0.1s\n",
      "[CV] ct__subpipe_num__num_impute__strategy=median, rfc__max_depth=3, rfc__min_samples_leaf=3, rfc__n_estimators=100 \n",
      "[CV]  ct__subpipe_num__num_impute__strategy=median, rfc__max_depth=3, rfc__min_samples_leaf=3, rfc__n_estimators=100, score=0.619, total=   0.1s\n",
      "[CV] ct__subpipe_num__num_impute__strategy=median, rfc__max_depth=3, rfc__min_samples_leaf=3, rfc__n_estimators=100 \n",
      "[CV]  ct__subpipe_num__num_impute__strategy=median, rfc__max_depth=3, rfc__min_samples_leaf=3, rfc__n_estimators=100, score=0.624, total=   0.1s\n",
      "[CV] ct__subpipe_num__num_impute__strategy=median, rfc__max_depth=3, rfc__min_samples_leaf=3, rfc__n_estimators=100 \n",
      "[CV]  ct__subpipe_num__num_impute__strategy=median, rfc__max_depth=3, rfc__min_samples_leaf=3, rfc__n_estimators=100, score=0.714, total=   0.1s\n",
      "[CV] ct__subpipe_num__num_impute__strategy=median, rfc__max_depth=3, rfc__min_samples_leaf=5, rfc__n_estimators=50 \n",
      "[CV]  ct__subpipe_num__num_impute__strategy=median, rfc__max_depth=3, rfc__min_samples_leaf=5, rfc__n_estimators=50, score=0.619, total=   0.1s\n",
      "[CV] ct__subpipe_num__num_impute__strategy=median, rfc__max_depth=3, rfc__min_samples_leaf=5, rfc__n_estimators=50 \n",
      "[CV]  ct__subpipe_num__num_impute__strategy=median, rfc__max_depth=3, rfc__min_samples_leaf=5, rfc__n_estimators=50, score=0.619, total=   0.1s\n",
      "[CV] ct__subpipe_num__num_impute__strategy=median, rfc__max_depth=3, rfc__min_samples_leaf=5, rfc__n_estimators=50 \n",
      "[CV]  ct__subpipe_num__num_impute__strategy=median, rfc__max_depth=3, rfc__min_samples_leaf=5, rfc__n_estimators=50, score=0.619, total=   0.0s\n",
      "[CV] ct__subpipe_num__num_impute__strategy=median, rfc__max_depth=3, rfc__min_samples_leaf=5, rfc__n_estimators=50 \n",
      "[CV]  ct__subpipe_num__num_impute__strategy=median, rfc__max_depth=3, rfc__min_samples_leaf=5, rfc__n_estimators=50, score=0.624, total=   0.0s\n",
      "[CV] ct__subpipe_num__num_impute__strategy=median, rfc__max_depth=3, rfc__min_samples_leaf=5, rfc__n_estimators=50 \n",
      "[CV]  ct__subpipe_num__num_impute__strategy=median, rfc__max_depth=3, rfc__min_samples_leaf=5, rfc__n_estimators=50, score=0.632, total=   0.1s\n",
      "[CV] ct__subpipe_num__num_impute__strategy=median, rfc__max_depth=3, rfc__min_samples_leaf=5, rfc__n_estimators=100 \n",
      "[CV]  ct__subpipe_num__num_impute__strategy=median, rfc__max_depth=3, rfc__min_samples_leaf=5, rfc__n_estimators=100, score=0.619, total=   0.1s\n",
      "[CV] ct__subpipe_num__num_impute__strategy=median, rfc__max_depth=3, rfc__min_samples_leaf=5, rfc__n_estimators=100 \n",
      "[CV]  ct__subpipe_num__num_impute__strategy=median, rfc__max_depth=3, rfc__min_samples_leaf=5, rfc__n_estimators=100, score=0.619, total=   0.1s\n",
      "[CV] ct__subpipe_num__num_impute__strategy=median, rfc__max_depth=3, rfc__min_samples_leaf=5, rfc__n_estimators=100 \n",
      "[CV]  ct__subpipe_num__num_impute__strategy=median, rfc__max_depth=3, rfc__min_samples_leaf=5, rfc__n_estimators=100, score=0.619, total=   0.1s\n",
      "[CV] ct__subpipe_num__num_impute__strategy=median, rfc__max_depth=3, rfc__min_samples_leaf=5, rfc__n_estimators=100 \n",
      "[CV]  ct__subpipe_num__num_impute__strategy=median, rfc__max_depth=3, rfc__min_samples_leaf=5, rfc__n_estimators=100, score=0.624, total=   0.1s\n",
      "[CV] ct__subpipe_num__num_impute__strategy=median, rfc__max_depth=3, rfc__min_samples_leaf=5, rfc__n_estimators=100 \n",
      "[CV]  ct__subpipe_num__num_impute__strategy=median, rfc__max_depth=3, rfc__min_samples_leaf=5, rfc__n_estimators=100, score=0.624, total=   0.1s\n",
      "[CV] ct__subpipe_num__num_impute__strategy=median, rfc__max_depth=5, rfc__min_samples_leaf=1, rfc__n_estimators=50 \n",
      "[CV]  ct__subpipe_num__num_impute__strategy=median, rfc__max_depth=5, rfc__min_samples_leaf=1, rfc__n_estimators=50, score=0.761, total=   0.1s\n",
      "[CV] ct__subpipe_num__num_impute__strategy=median, rfc__max_depth=5, rfc__min_samples_leaf=1, rfc__n_estimators=50 \n",
      "[CV]  ct__subpipe_num__num_impute__strategy=median, rfc__max_depth=5, rfc__min_samples_leaf=1, rfc__n_estimators=50, score=0.806, total=   0.1s\n",
      "[CV] ct__subpipe_num__num_impute__strategy=median, rfc__max_depth=5, rfc__min_samples_leaf=1, rfc__n_estimators=50 \n",
      "[CV]  ct__subpipe_num__num_impute__strategy=median, rfc__max_depth=5, rfc__min_samples_leaf=1, rfc__n_estimators=50, score=0.791, total=   0.1s\n",
      "[CV] ct__subpipe_num__num_impute__strategy=median, rfc__max_depth=5, rfc__min_samples_leaf=1, rfc__n_estimators=50 \n",
      "[CV]  ct__subpipe_num__num_impute__strategy=median, rfc__max_depth=5, rfc__min_samples_leaf=1, rfc__n_estimators=50, score=0.767, total=   0.1s\n",
      "[CV] ct__subpipe_num__num_impute__strategy=median, rfc__max_depth=5, rfc__min_samples_leaf=1, rfc__n_estimators=50 \n",
      "[CV]  ct__subpipe_num__num_impute__strategy=median, rfc__max_depth=5, rfc__min_samples_leaf=1, rfc__n_estimators=50, score=0.797, total=   0.1s\n",
      "[CV] ct__subpipe_num__num_impute__strategy=median, rfc__max_depth=5, rfc__min_samples_leaf=1, rfc__n_estimators=100 \n",
      "[CV]  ct__subpipe_num__num_impute__strategy=median, rfc__max_depth=5, rfc__min_samples_leaf=1, rfc__n_estimators=100, score=0.776, total=   0.1s\n",
      "[CV] ct__subpipe_num__num_impute__strategy=median, rfc__max_depth=5, rfc__min_samples_leaf=1, rfc__n_estimators=100 \n",
      "[CV]  ct__subpipe_num__num_impute__strategy=median, rfc__max_depth=5, rfc__min_samples_leaf=1, rfc__n_estimators=100, score=0.843, total=   0.1s\n",
      "[CV] ct__subpipe_num__num_impute__strategy=median, rfc__max_depth=5, rfc__min_samples_leaf=1, rfc__n_estimators=100 \n",
      "[CV]  ct__subpipe_num__num_impute__strategy=median, rfc__max_depth=5, rfc__min_samples_leaf=1, rfc__n_estimators=100, score=0.754, total=   0.1s\n",
      "[CV] ct__subpipe_num__num_impute__strategy=median, rfc__max_depth=5, rfc__min_samples_leaf=1, rfc__n_estimators=100 \n",
      "[CV]  ct__subpipe_num__num_impute__strategy=median, rfc__max_depth=5, rfc__min_samples_leaf=1, rfc__n_estimators=100, score=0.759, total=   0.1s\n",
      "[CV] ct__subpipe_num__num_impute__strategy=median, rfc__max_depth=5, rfc__min_samples_leaf=1, rfc__n_estimators=100 \n",
      "[CV]  ct__subpipe_num__num_impute__strategy=median, rfc__max_depth=5, rfc__min_samples_leaf=1, rfc__n_estimators=100, score=0.797, total=   0.1s\n",
      "[CV] ct__subpipe_num__num_impute__strategy=median, rfc__max_depth=5, rfc__min_samples_leaf=3, rfc__n_estimators=50 \n",
      "[CV]  ct__subpipe_num__num_impute__strategy=median, rfc__max_depth=5, rfc__min_samples_leaf=3, rfc__n_estimators=50, score=0.619, total=   0.1s\n",
      "[CV] ct__subpipe_num__num_impute__strategy=median, rfc__max_depth=5, rfc__min_samples_leaf=3, rfc__n_estimators=50 \n",
      "[CV]  ct__subpipe_num__num_impute__strategy=median, rfc__max_depth=5, rfc__min_samples_leaf=3, rfc__n_estimators=50, score=0.657, total=   0.1s\n",
      "[CV] ct__subpipe_num__num_impute__strategy=median, rfc__max_depth=5, rfc__min_samples_leaf=3, rfc__n_estimators=50 \n",
      "[CV]  ct__subpipe_num__num_impute__strategy=median, rfc__max_depth=5, rfc__min_samples_leaf=3, rfc__n_estimators=50, score=0.627, total=   0.1s\n",
      "[CV] ct__subpipe_num__num_impute__strategy=median, rfc__max_depth=5, rfc__min_samples_leaf=3, rfc__n_estimators=50 \n"
     ]
    },
    {
     "name": "stdout",
     "output_type": "stream",
     "text": [
      "[CV]  ct__subpipe_num__num_impute__strategy=median, rfc__max_depth=5, rfc__min_samples_leaf=3, rfc__n_estimators=50, score=0.624, total=   0.1s\n",
      "[CV] ct__subpipe_num__num_impute__strategy=median, rfc__max_depth=5, rfc__min_samples_leaf=3, rfc__n_estimators=50 \n",
      "[CV]  ct__subpipe_num__num_impute__strategy=median, rfc__max_depth=5, rfc__min_samples_leaf=3, rfc__n_estimators=50, score=0.722, total=   0.0s\n",
      "[CV] ct__subpipe_num__num_impute__strategy=median, rfc__max_depth=5, rfc__min_samples_leaf=3, rfc__n_estimators=100 \n",
      "[CV]  ct__subpipe_num__num_impute__strategy=median, rfc__max_depth=5, rfc__min_samples_leaf=3, rfc__n_estimators=100, score=0.642, total=   0.1s\n",
      "[CV] ct__subpipe_num__num_impute__strategy=median, rfc__max_depth=5, rfc__min_samples_leaf=3, rfc__n_estimators=100 \n",
      "[CV]  ct__subpipe_num__num_impute__strategy=median, rfc__max_depth=5, rfc__min_samples_leaf=3, rfc__n_estimators=100, score=0.649, total=   0.1s\n",
      "[CV] ct__subpipe_num__num_impute__strategy=median, rfc__max_depth=5, rfc__min_samples_leaf=3, rfc__n_estimators=100 \n",
      "[CV]  ct__subpipe_num__num_impute__strategy=median, rfc__max_depth=5, rfc__min_samples_leaf=3, rfc__n_estimators=100, score=0.627, total=   0.1s\n",
      "[CV] ct__subpipe_num__num_impute__strategy=median, rfc__max_depth=5, rfc__min_samples_leaf=3, rfc__n_estimators=100 \n",
      "[CV]  ct__subpipe_num__num_impute__strategy=median, rfc__max_depth=5, rfc__min_samples_leaf=3, rfc__n_estimators=100, score=0.624, total=   0.1s\n",
      "[CV] ct__subpipe_num__num_impute__strategy=median, rfc__max_depth=5, rfc__min_samples_leaf=3, rfc__n_estimators=100 \n",
      "[CV]  ct__subpipe_num__num_impute__strategy=median, rfc__max_depth=5, rfc__min_samples_leaf=3, rfc__n_estimators=100, score=0.722, total=   0.1s\n",
      "[CV] ct__subpipe_num__num_impute__strategy=median, rfc__max_depth=5, rfc__min_samples_leaf=5, rfc__n_estimators=50 \n",
      "[CV]  ct__subpipe_num__num_impute__strategy=median, rfc__max_depth=5, rfc__min_samples_leaf=5, rfc__n_estimators=50, score=0.619, total=   0.1s\n",
      "[CV] ct__subpipe_num__num_impute__strategy=median, rfc__max_depth=5, rfc__min_samples_leaf=5, rfc__n_estimators=50 \n",
      "[CV]  ct__subpipe_num__num_impute__strategy=median, rfc__max_depth=5, rfc__min_samples_leaf=5, rfc__n_estimators=50, score=0.619, total=   0.1s\n",
      "[CV] ct__subpipe_num__num_impute__strategy=median, rfc__max_depth=5, rfc__min_samples_leaf=5, rfc__n_estimators=50 \n",
      "[CV]  ct__subpipe_num__num_impute__strategy=median, rfc__max_depth=5, rfc__min_samples_leaf=5, rfc__n_estimators=50, score=0.627, total=   0.1s\n",
      "[CV] ct__subpipe_num__num_impute__strategy=median, rfc__max_depth=5, rfc__min_samples_leaf=5, rfc__n_estimators=50 \n",
      "[CV]  ct__subpipe_num__num_impute__strategy=median, rfc__max_depth=5, rfc__min_samples_leaf=5, rfc__n_estimators=50, score=0.624, total=   0.0s\n",
      "[CV] ct__subpipe_num__num_impute__strategy=median, rfc__max_depth=5, rfc__min_samples_leaf=5, rfc__n_estimators=50 \n",
      "[CV]  ct__subpipe_num__num_impute__strategy=median, rfc__max_depth=5, rfc__min_samples_leaf=5, rfc__n_estimators=50, score=0.632, total=   0.1s\n",
      "[CV] ct__subpipe_num__num_impute__strategy=median, rfc__max_depth=5, rfc__min_samples_leaf=5, rfc__n_estimators=100 \n",
      "[CV]  ct__subpipe_num__num_impute__strategy=median, rfc__max_depth=5, rfc__min_samples_leaf=5, rfc__n_estimators=100, score=0.619, total=   0.1s\n",
      "[CV] ct__subpipe_num__num_impute__strategy=median, rfc__max_depth=5, rfc__min_samples_leaf=5, rfc__n_estimators=100 \n",
      "[CV]  ct__subpipe_num__num_impute__strategy=median, rfc__max_depth=5, rfc__min_samples_leaf=5, rfc__n_estimators=100, score=0.634, total=   0.1s\n",
      "[CV] ct__subpipe_num__num_impute__strategy=median, rfc__max_depth=5, rfc__min_samples_leaf=5, rfc__n_estimators=100 \n",
      "[CV]  ct__subpipe_num__num_impute__strategy=median, rfc__max_depth=5, rfc__min_samples_leaf=5, rfc__n_estimators=100, score=0.619, total=   0.1s\n",
      "[CV] ct__subpipe_num__num_impute__strategy=median, rfc__max_depth=5, rfc__min_samples_leaf=5, rfc__n_estimators=100 \n",
      "[CV]  ct__subpipe_num__num_impute__strategy=median, rfc__max_depth=5, rfc__min_samples_leaf=5, rfc__n_estimators=100, score=0.624, total=   0.1s\n",
      "[CV] ct__subpipe_num__num_impute__strategy=median, rfc__max_depth=5, rfc__min_samples_leaf=5, rfc__n_estimators=100 \n",
      "[CV]  ct__subpipe_num__num_impute__strategy=median, rfc__max_depth=5, rfc__min_samples_leaf=5, rfc__n_estimators=100, score=0.624, total=   0.1s\n",
      "[CV] ct__subpipe_num__num_impute__strategy=median, rfc__max_depth=7, rfc__min_samples_leaf=1, rfc__n_estimators=50 \n",
      "[CV]  ct__subpipe_num__num_impute__strategy=median, rfc__max_depth=7, rfc__min_samples_leaf=1, rfc__n_estimators=50, score=0.791, total=   0.1s\n",
      "[CV] ct__subpipe_num__num_impute__strategy=median, rfc__max_depth=7, rfc__min_samples_leaf=1, rfc__n_estimators=50 \n",
      "[CV]  ct__subpipe_num__num_impute__strategy=median, rfc__max_depth=7, rfc__min_samples_leaf=1, rfc__n_estimators=50, score=0.858, total=   0.1s\n",
      "[CV] ct__subpipe_num__num_impute__strategy=median, rfc__max_depth=7, rfc__min_samples_leaf=1, rfc__n_estimators=50 \n",
      "[CV]  ct__subpipe_num__num_impute__strategy=median, rfc__max_depth=7, rfc__min_samples_leaf=1, rfc__n_estimators=50, score=0.806, total=   0.1s\n",
      "[CV] ct__subpipe_num__num_impute__strategy=median, rfc__max_depth=7, rfc__min_samples_leaf=1, rfc__n_estimators=50 \n",
      "[CV]  ct__subpipe_num__num_impute__strategy=median, rfc__max_depth=7, rfc__min_samples_leaf=1, rfc__n_estimators=50, score=0.759, total=   0.1s\n",
      "[CV] ct__subpipe_num__num_impute__strategy=median, rfc__max_depth=7, rfc__min_samples_leaf=1, rfc__n_estimators=50 \n",
      "[CV]  ct__subpipe_num__num_impute__strategy=median, rfc__max_depth=7, rfc__min_samples_leaf=1, rfc__n_estimators=50, score=0.805, total=   0.1s\n",
      "[CV] ct__subpipe_num__num_impute__strategy=median, rfc__max_depth=7, rfc__min_samples_leaf=1, rfc__n_estimators=100 \n",
      "[CV]  ct__subpipe_num__num_impute__strategy=median, rfc__max_depth=7, rfc__min_samples_leaf=1, rfc__n_estimators=100, score=0.784, total=   0.1s\n",
      "[CV] ct__subpipe_num__num_impute__strategy=median, rfc__max_depth=7, rfc__min_samples_leaf=1, rfc__n_estimators=100 \n",
      "[CV]  ct__subpipe_num__num_impute__strategy=median, rfc__max_depth=7, rfc__min_samples_leaf=1, rfc__n_estimators=100, score=0.851, total=   0.1s\n",
      "[CV] ct__subpipe_num__num_impute__strategy=median, rfc__max_depth=7, rfc__min_samples_leaf=1, rfc__n_estimators=100 \n",
      "[CV]  ct__subpipe_num__num_impute__strategy=median, rfc__max_depth=7, rfc__min_samples_leaf=1, rfc__n_estimators=100, score=0.813, total=   0.1s\n",
      "[CV] ct__subpipe_num__num_impute__strategy=median, rfc__max_depth=7, rfc__min_samples_leaf=1, rfc__n_estimators=100 \n",
      "[CV]  ct__subpipe_num__num_impute__strategy=median, rfc__max_depth=7, rfc__min_samples_leaf=1, rfc__n_estimators=100, score=0.752, total=   0.1s\n",
      "[CV] ct__subpipe_num__num_impute__strategy=median, rfc__max_depth=7, rfc__min_samples_leaf=1, rfc__n_estimators=100 \n",
      "[CV]  ct__subpipe_num__num_impute__strategy=median, rfc__max_depth=7, rfc__min_samples_leaf=1, rfc__n_estimators=100, score=0.805, total=   0.1s\n",
      "[CV] ct__subpipe_num__num_impute__strategy=median, rfc__max_depth=7, rfc__min_samples_leaf=3, rfc__n_estimators=50 \n",
      "[CV]  ct__subpipe_num__num_impute__strategy=median, rfc__max_depth=7, rfc__min_samples_leaf=3, rfc__n_estimators=50, score=0.619, total=   0.1s\n",
      "[CV] ct__subpipe_num__num_impute__strategy=median, rfc__max_depth=7, rfc__min_samples_leaf=3, rfc__n_estimators=50 \n",
      "[CV]  ct__subpipe_num__num_impute__strategy=median, rfc__max_depth=7, rfc__min_samples_leaf=3, rfc__n_estimators=50, score=0.657, total=   0.1s\n",
      "[CV] ct__subpipe_num__num_impute__strategy=median, rfc__max_depth=7, rfc__min_samples_leaf=3, rfc__n_estimators=50 \n",
      "[CV]  ct__subpipe_num__num_impute__strategy=median, rfc__max_depth=7, rfc__min_samples_leaf=3, rfc__n_estimators=50, score=0.634, total=   0.1s\n",
      "[CV] ct__subpipe_num__num_impute__strategy=median, rfc__max_depth=7, rfc__min_samples_leaf=3, rfc__n_estimators=50 \n",
      "[CV]  ct__subpipe_num__num_impute__strategy=median, rfc__max_depth=7, rfc__min_samples_leaf=3, rfc__n_estimators=50, score=0.624, total=   0.1s\n",
      "[CV] ct__subpipe_num__num_impute__strategy=median, rfc__max_depth=7, rfc__min_samples_leaf=3, rfc__n_estimators=50 \n",
      "[CV]  ct__subpipe_num__num_impute__strategy=median, rfc__max_depth=7, rfc__min_samples_leaf=3, rfc__n_estimators=50, score=0.729, total=   0.1s\n",
      "[CV] ct__subpipe_num__num_impute__strategy=median, rfc__max_depth=7, rfc__min_samples_leaf=3, rfc__n_estimators=100 \n"
     ]
    },
    {
     "name": "stdout",
     "output_type": "stream",
     "text": [
      "[CV]  ct__subpipe_num__num_impute__strategy=median, rfc__max_depth=7, rfc__min_samples_leaf=3, rfc__n_estimators=100, score=0.642, total=   0.1s\n",
      "[CV] ct__subpipe_num__num_impute__strategy=median, rfc__max_depth=7, rfc__min_samples_leaf=3, rfc__n_estimators=100 \n",
      "[CV]  ct__subpipe_num__num_impute__strategy=median, rfc__max_depth=7, rfc__min_samples_leaf=3, rfc__n_estimators=100, score=0.649, total=   0.1s\n",
      "[CV] ct__subpipe_num__num_impute__strategy=median, rfc__max_depth=7, rfc__min_samples_leaf=3, rfc__n_estimators=100 \n",
      "[CV]  ct__subpipe_num__num_impute__strategy=median, rfc__max_depth=7, rfc__min_samples_leaf=3, rfc__n_estimators=100, score=0.634, total=   0.1s\n",
      "[CV] ct__subpipe_num__num_impute__strategy=median, rfc__max_depth=7, rfc__min_samples_leaf=3, rfc__n_estimators=100 \n",
      "[CV]  ct__subpipe_num__num_impute__strategy=median, rfc__max_depth=7, rfc__min_samples_leaf=3, rfc__n_estimators=100, score=0.624, total=   0.1s\n",
      "[CV] ct__subpipe_num__num_impute__strategy=median, rfc__max_depth=7, rfc__min_samples_leaf=3, rfc__n_estimators=100 \n",
      "[CV]  ct__subpipe_num__num_impute__strategy=median, rfc__max_depth=7, rfc__min_samples_leaf=3, rfc__n_estimators=100, score=0.722, total=   0.1s\n",
      "[CV] ct__subpipe_num__num_impute__strategy=median, rfc__max_depth=7, rfc__min_samples_leaf=5, rfc__n_estimators=50 \n",
      "[CV]  ct__subpipe_num__num_impute__strategy=median, rfc__max_depth=7, rfc__min_samples_leaf=5, rfc__n_estimators=50, score=0.619, total=   0.1s\n",
      "[CV] ct__subpipe_num__num_impute__strategy=median, rfc__max_depth=7, rfc__min_samples_leaf=5, rfc__n_estimators=50 \n",
      "[CV]  ct__subpipe_num__num_impute__strategy=median, rfc__max_depth=7, rfc__min_samples_leaf=5, rfc__n_estimators=50, score=0.619, total=   0.1s\n",
      "[CV] ct__subpipe_num__num_impute__strategy=median, rfc__max_depth=7, rfc__min_samples_leaf=5, rfc__n_estimators=50 \n",
      "[CV]  ct__subpipe_num__num_impute__strategy=median, rfc__max_depth=7, rfc__min_samples_leaf=5, rfc__n_estimators=50, score=0.627, total=   0.1s\n",
      "[CV] ct__subpipe_num__num_impute__strategy=median, rfc__max_depth=7, rfc__min_samples_leaf=5, rfc__n_estimators=50 \n",
      "[CV]  ct__subpipe_num__num_impute__strategy=median, rfc__max_depth=7, rfc__min_samples_leaf=5, rfc__n_estimators=50, score=0.624, total=   0.0s\n",
      "[CV] ct__subpipe_num__num_impute__strategy=median, rfc__max_depth=7, rfc__min_samples_leaf=5, rfc__n_estimators=50 \n",
      "[CV]  ct__subpipe_num__num_impute__strategy=median, rfc__max_depth=7, rfc__min_samples_leaf=5, rfc__n_estimators=50, score=0.632, total=   0.0s\n",
      "[CV] ct__subpipe_num__num_impute__strategy=median, rfc__max_depth=7, rfc__min_samples_leaf=5, rfc__n_estimators=100 \n",
      "[CV]  ct__subpipe_num__num_impute__strategy=median, rfc__max_depth=7, rfc__min_samples_leaf=5, rfc__n_estimators=100, score=0.619, total=   0.1s\n",
      "[CV] ct__subpipe_num__num_impute__strategy=median, rfc__max_depth=7, rfc__min_samples_leaf=5, rfc__n_estimators=100 \n",
      "[CV]  ct__subpipe_num__num_impute__strategy=median, rfc__max_depth=7, rfc__min_samples_leaf=5, rfc__n_estimators=100, score=0.642, total=   0.1s\n",
      "[CV] ct__subpipe_num__num_impute__strategy=median, rfc__max_depth=7, rfc__min_samples_leaf=5, rfc__n_estimators=100 \n",
      "[CV]  ct__subpipe_num__num_impute__strategy=median, rfc__max_depth=7, rfc__min_samples_leaf=5, rfc__n_estimators=100, score=0.619, total=   0.1s\n",
      "[CV] ct__subpipe_num__num_impute__strategy=median, rfc__max_depth=7, rfc__min_samples_leaf=5, rfc__n_estimators=100 \n",
      "[CV]  ct__subpipe_num__num_impute__strategy=median, rfc__max_depth=7, rfc__min_samples_leaf=5, rfc__n_estimators=100, score=0.624, total=   0.1s\n",
      "[CV] ct__subpipe_num__num_impute__strategy=median, rfc__max_depth=7, rfc__min_samples_leaf=5, rfc__n_estimators=100 \n",
      "[CV]  ct__subpipe_num__num_impute__strategy=median, rfc__max_depth=7, rfc__min_samples_leaf=5, rfc__n_estimators=100, score=0.624, total=   0.1s\n",
      "[CV] ct__subpipe_num__num_impute__strategy=mode, rfc__max_depth=3, rfc__min_samples_leaf=1, rfc__n_estimators=50 \n",
      "[CV]  ct__subpipe_num__num_impute__strategy=mode, rfc__max_depth=3, rfc__min_samples_leaf=1, rfc__n_estimators=50, score=nan, total=   0.0s\n",
      "[CV] ct__subpipe_num__num_impute__strategy=mode, rfc__max_depth=3, rfc__min_samples_leaf=1, rfc__n_estimators=50 \n",
      "[CV]  ct__subpipe_num__num_impute__strategy=mode, rfc__max_depth=3, rfc__min_samples_leaf=1, rfc__n_estimators=50, score=nan, total=   0.0s\n",
      "[CV] ct__subpipe_num__num_impute__strategy=mode, rfc__max_depth=3, rfc__min_samples_leaf=1, rfc__n_estimators=50 \n",
      "[CV]  ct__subpipe_num__num_impute__strategy=mode, rfc__max_depth=3, rfc__min_samples_leaf=1, rfc__n_estimators=50, score=nan, total=   0.0s\n",
      "[CV] ct__subpipe_num__num_impute__strategy=mode, rfc__max_depth=3, rfc__min_samples_leaf=1, rfc__n_estimators=50 \n",
      "[CV]  ct__subpipe_num__num_impute__strategy=mode, rfc__max_depth=3, rfc__min_samples_leaf=1, rfc__n_estimators=50, score=nan, total=   0.0s\n",
      "[CV] ct__subpipe_num__num_impute__strategy=mode, rfc__max_depth=3, rfc__min_samples_leaf=1, rfc__n_estimators=50 \n",
      "[CV]  ct__subpipe_num__num_impute__strategy=mode, rfc__max_depth=3, rfc__min_samples_leaf=1, rfc__n_estimators=50, score=nan, total=   0.0s\n",
      "[CV] ct__subpipe_num__num_impute__strategy=mode, rfc__max_depth=3, rfc__min_samples_leaf=1, rfc__n_estimators=100 \n",
      "[CV]  ct__subpipe_num__num_impute__strategy=mode, rfc__max_depth=3, rfc__min_samples_leaf=1, rfc__n_estimators=100, score=nan, total=   0.0s\n",
      "[CV] ct__subpipe_num__num_impute__strategy=mode, rfc__max_depth=3, rfc__min_samples_leaf=1, rfc__n_estimators=100 \n",
      "[CV]  ct__subpipe_num__num_impute__strategy=mode, rfc__max_depth=3, rfc__min_samples_leaf=1, rfc__n_estimators=100, score=nan, total=   0.0s\n",
      "[CV] ct__subpipe_num__num_impute__strategy=mode, rfc__max_depth=3, rfc__min_samples_leaf=1, rfc__n_estimators=100 \n",
      "[CV]  ct__subpipe_num__num_impute__strategy=mode, rfc__max_depth=3, rfc__min_samples_leaf=1, rfc__n_estimators=100, score=nan, total=   0.0s\n",
      "[CV] ct__subpipe_num__num_impute__strategy=mode, rfc__max_depth=3, rfc__min_samples_leaf=1, rfc__n_estimators=100 \n",
      "[CV]  ct__subpipe_num__num_impute__strategy=mode, rfc__max_depth=3, rfc__min_samples_leaf=1, rfc__n_estimators=100, score=nan, total=   0.0s\n",
      "[CV] ct__subpipe_num__num_impute__strategy=mode, rfc__max_depth=3, rfc__min_samples_leaf=1, rfc__n_estimators=100 \n",
      "[CV]  ct__subpipe_num__num_impute__strategy=mode, rfc__max_depth=3, rfc__min_samples_leaf=1, rfc__n_estimators=100, score=nan, total=   0.0s\n",
      "[CV] ct__subpipe_num__num_impute__strategy=mode, rfc__max_depth=3, rfc__min_samples_leaf=3, rfc__n_estimators=50 \n",
      "[CV]  ct__subpipe_num__num_impute__strategy=mode, rfc__max_depth=3, rfc__min_samples_leaf=3, rfc__n_estimators=50, score=nan, total=   0.0s\n",
      "[CV] ct__subpipe_num__num_impute__strategy=mode, rfc__max_depth=3, rfc__min_samples_leaf=3, rfc__n_estimators=50 \n",
      "[CV]  ct__subpipe_num__num_impute__strategy=mode, rfc__max_depth=3, rfc__min_samples_leaf=3, rfc__n_estimators=50, score=nan, total=   0.0s\n",
      "[CV] ct__subpipe_num__num_impute__strategy=mode, rfc__max_depth=3, rfc__min_samples_leaf=3, rfc__n_estimators=50 \n",
      "[CV]  ct__subpipe_num__num_impute__strategy=mode, rfc__max_depth=3, rfc__min_samples_leaf=3, rfc__n_estimators=50, score=nan, total=   0.0s\n",
      "[CV] ct__subpipe_num__num_impute__strategy=mode, rfc__max_depth=3, rfc__min_samples_leaf=3, rfc__n_estimators=50 \n",
      "[CV]  ct__subpipe_num__num_impute__strategy=mode, rfc__max_depth=3, rfc__min_samples_leaf=3, rfc__n_estimators=50, score=nan, total=   0.0s\n",
      "[CV] ct__subpipe_num__num_impute__strategy=mode, rfc__max_depth=3, rfc__min_samples_leaf=3, rfc__n_estimators=50 \n",
      "[CV]  ct__subpipe_num__num_impute__strategy=mode, rfc__max_depth=3, rfc__min_samples_leaf=3, rfc__n_estimators=50, score=nan, total=   0.0s\n",
      "[CV] ct__subpipe_num__num_impute__strategy=mode, rfc__max_depth=3, rfc__min_samples_leaf=3, rfc__n_estimators=100 \n",
      "[CV]  ct__subpipe_num__num_impute__strategy=mode, rfc__max_depth=3, rfc__min_samples_leaf=3, rfc__n_estimators=100, score=nan, total=   0.0s\n",
      "[CV] ct__subpipe_num__num_impute__strategy=mode, rfc__max_depth=3, rfc__min_samples_leaf=3, rfc__n_estimators=100 \n",
      "[CV]  ct__subpipe_num__num_impute__strategy=mode, rfc__max_depth=3, rfc__min_samples_leaf=3, rfc__n_estimators=100, score=nan, total=   0.0s\n",
      "[CV] ct__subpipe_num__num_impute__strategy=mode, rfc__max_depth=3, rfc__min_samples_leaf=3, rfc__n_estimators=100 \n",
      "[CV]  ct__subpipe_num__num_impute__strategy=mode, rfc__max_depth=3, rfc__min_samples_leaf=3, rfc__n_estimators=100, score=nan, total=   0.0s\n",
      "[CV] ct__subpipe_num__num_impute__strategy=mode, rfc__max_depth=3, rfc__min_samples_leaf=3, rfc__n_estimators=100 \n",
      "[CV]  ct__subpipe_num__num_impute__strategy=mode, rfc__max_depth=3, rfc__min_samples_leaf=3, rfc__n_estimators=100, score=nan, total=   0.0s\n",
      "[CV] ct__subpipe_num__num_impute__strategy=mode, rfc__max_depth=3, rfc__min_samples_leaf=3, rfc__n_estimators=100 \n",
      "[CV]  ct__subpipe_num__num_impute__strategy=mode, rfc__max_depth=3, rfc__min_samples_leaf=3, rfc__n_estimators=100, score=nan, total=   0.0s\n",
      "[CV] ct__subpipe_num__num_impute__strategy=mode, rfc__max_depth=3, rfc__min_samples_leaf=5, rfc__n_estimators=50 \n",
      "[CV]  ct__subpipe_num__num_impute__strategy=mode, rfc__max_depth=3, rfc__min_samples_leaf=5, rfc__n_estimators=50, score=nan, total=   0.0s\n",
      "[CV] ct__subpipe_num__num_impute__strategy=mode, rfc__max_depth=3, rfc__min_samples_leaf=5, rfc__n_estimators=50 \n",
      "[CV]  ct__subpipe_num__num_impute__strategy=mode, rfc__max_depth=3, rfc__min_samples_leaf=5, rfc__n_estimators=50, score=nan, total=   0.0s\n",
      "[CV] ct__subpipe_num__num_impute__strategy=mode, rfc__max_depth=3, rfc__min_samples_leaf=5, rfc__n_estimators=50 \n",
      "[CV]  ct__subpipe_num__num_impute__strategy=mode, rfc__max_depth=3, rfc__min_samples_leaf=5, rfc__n_estimators=50, score=nan, total=   0.0s\n",
      "[CV] ct__subpipe_num__num_impute__strategy=mode, rfc__max_depth=3, rfc__min_samples_leaf=5, rfc__n_estimators=50 \n",
      "[CV]  ct__subpipe_num__num_impute__strategy=mode, rfc__max_depth=3, rfc__min_samples_leaf=5, rfc__n_estimators=50, score=nan, total=   0.0s\n",
      "[CV] ct__subpipe_num__num_impute__strategy=mode, rfc__max_depth=3, rfc__min_samples_leaf=5, rfc__n_estimators=50 \n",
      "[CV]  ct__subpipe_num__num_impute__strategy=mode, rfc__max_depth=3, rfc__min_samples_leaf=5, rfc__n_estimators=50, score=nan, total=   0.0s\n",
      "[CV] ct__subpipe_num__num_impute__strategy=mode, rfc__max_depth=3, rfc__min_samples_leaf=5, rfc__n_estimators=100 \n",
      "[CV]  ct__subpipe_num__num_impute__strategy=mode, rfc__max_depth=3, rfc__min_samples_leaf=5, rfc__n_estimators=100, score=nan, total=   0.0s\n",
      "[CV] ct__subpipe_num__num_impute__strategy=mode, rfc__max_depth=3, rfc__min_samples_leaf=5, rfc__n_estimators=100 \n",
      "[CV]  ct__subpipe_num__num_impute__strategy=mode, rfc__max_depth=3, rfc__min_samples_leaf=5, rfc__n_estimators=100, score=nan, total=   0.0s\n",
      "[CV] ct__subpipe_num__num_impute__strategy=mode, rfc__max_depth=3, rfc__min_samples_leaf=5, rfc__n_estimators=100 \n",
      "[CV]  ct__subpipe_num__num_impute__strategy=mode, rfc__max_depth=3, rfc__min_samples_leaf=5, rfc__n_estimators=100, score=nan, total=   0.0s\n",
      "[CV] ct__subpipe_num__num_impute__strategy=mode, rfc__max_depth=3, rfc__min_samples_leaf=5, rfc__n_estimators=100 \n",
      "[CV]  ct__subpipe_num__num_impute__strategy=mode, rfc__max_depth=3, rfc__min_samples_leaf=5, rfc__n_estimators=100, score=nan, total=   0.0s\n",
      "[CV] ct__subpipe_num__num_impute__strategy=mode, rfc__max_depth=3, rfc__min_samples_leaf=5, rfc__n_estimators=100 \n",
      "[CV]  ct__subpipe_num__num_impute__strategy=mode, rfc__max_depth=3, rfc__min_samples_leaf=5, rfc__n_estimators=100, score=nan, total=   0.0s\n",
      "[CV] ct__subpipe_num__num_impute__strategy=mode, rfc__max_depth=5, rfc__min_samples_leaf=1, rfc__n_estimators=50 \n",
      "[CV]  ct__subpipe_num__num_impute__strategy=mode, rfc__max_depth=5, rfc__min_samples_leaf=1, rfc__n_estimators=50, score=nan, total=   0.0s\n",
      "[CV] ct__subpipe_num__num_impute__strategy=mode, rfc__max_depth=5, rfc__min_samples_leaf=1, rfc__n_estimators=50 \n",
      "[CV]  ct__subpipe_num__num_impute__strategy=mode, rfc__max_depth=5, rfc__min_samples_leaf=1, rfc__n_estimators=50, score=nan, total=   0.0s\n",
      "[CV] ct__subpipe_num__num_impute__strategy=mode, rfc__max_depth=5, rfc__min_samples_leaf=1, rfc__n_estimators=50 \n",
      "[CV]  ct__subpipe_num__num_impute__strategy=mode, rfc__max_depth=5, rfc__min_samples_leaf=1, rfc__n_estimators=50, score=nan, total=   0.0s\n",
      "[CV] ct__subpipe_num__num_impute__strategy=mode, rfc__max_depth=5, rfc__min_samples_leaf=1, rfc__n_estimators=50 \n",
      "[CV]  ct__subpipe_num__num_impute__strategy=mode, rfc__max_depth=5, rfc__min_samples_leaf=1, rfc__n_estimators=50, score=nan, total=   0.0s\n",
      "[CV] ct__subpipe_num__num_impute__strategy=mode, rfc__max_depth=5, rfc__min_samples_leaf=1, rfc__n_estimators=50 \n",
      "[CV]  ct__subpipe_num__num_impute__strategy=mode, rfc__max_depth=5, rfc__min_samples_leaf=1, rfc__n_estimators=50, score=nan, total=   0.0s\n",
      "[CV] ct__subpipe_num__num_impute__strategy=mode, rfc__max_depth=5, rfc__min_samples_leaf=1, rfc__n_estimators=100 \n",
      "[CV]  ct__subpipe_num__num_impute__strategy=mode, rfc__max_depth=5, rfc__min_samples_leaf=1, rfc__n_estimators=100, score=nan, total=   0.0s\n",
      "[CV] ct__subpipe_num__num_impute__strategy=mode, rfc__max_depth=5, rfc__min_samples_leaf=1, rfc__n_estimators=100 \n",
      "[CV]  ct__subpipe_num__num_impute__strategy=mode, rfc__max_depth=5, rfc__min_samples_leaf=1, rfc__n_estimators=100, score=nan, total=   0.0s\n",
      "[CV] ct__subpipe_num__num_impute__strategy=mode, rfc__max_depth=5, rfc__min_samples_leaf=1, rfc__n_estimators=100 \n",
      "[CV]  ct__subpipe_num__num_impute__strategy=mode, rfc__max_depth=5, rfc__min_samples_leaf=1, rfc__n_estimators=100, score=nan, total=   0.0s\n",
      "[CV] ct__subpipe_num__num_impute__strategy=mode, rfc__max_depth=5, rfc__min_samples_leaf=1, rfc__n_estimators=100 \n",
      "[CV]  ct__subpipe_num__num_impute__strategy=mode, rfc__max_depth=5, rfc__min_samples_leaf=1, rfc__n_estimators=100, score=nan, total=   0.0s\n",
      "[CV] ct__subpipe_num__num_impute__strategy=mode, rfc__max_depth=5, rfc__min_samples_leaf=1, rfc__n_estimators=100 \n",
      "[CV]  ct__subpipe_num__num_impute__strategy=mode, rfc__max_depth=5, rfc__min_samples_leaf=1, rfc__n_estimators=100, score=nan, total=   0.0s\n",
      "[CV] ct__subpipe_num__num_impute__strategy=mode, rfc__max_depth=5, rfc__min_samples_leaf=3, rfc__n_estimators=50 \n",
      "[CV]  ct__subpipe_num__num_impute__strategy=mode, rfc__max_depth=5, rfc__min_samples_leaf=3, rfc__n_estimators=50, score=nan, total=   0.0s\n",
      "[CV] ct__subpipe_num__num_impute__strategy=mode, rfc__max_depth=5, rfc__min_samples_leaf=3, rfc__n_estimators=50 \n",
      "[CV]  ct__subpipe_num__num_impute__strategy=mode, rfc__max_depth=5, rfc__min_samples_leaf=3, rfc__n_estimators=50, score=nan, total=   0.0s\n",
      "[CV] ct__subpipe_num__num_impute__strategy=mode, rfc__max_depth=5, rfc__min_samples_leaf=3, rfc__n_estimators=50 \n",
      "[CV]  ct__subpipe_num__num_impute__strategy=mode, rfc__max_depth=5, rfc__min_samples_leaf=3, rfc__n_estimators=50, score=nan, total=   0.0s\n",
      "[CV] ct__subpipe_num__num_impute__strategy=mode, rfc__max_depth=5, rfc__min_samples_leaf=3, rfc__n_estimators=50 \n",
      "[CV]  ct__subpipe_num__num_impute__strategy=mode, rfc__max_depth=5, rfc__min_samples_leaf=3, rfc__n_estimators=50, score=nan, total=   0.0s\n",
      "[CV] ct__subpipe_num__num_impute__strategy=mode, rfc__max_depth=5, rfc__min_samples_leaf=3, rfc__n_estimators=50 \n",
      "[CV]  ct__subpipe_num__num_impute__strategy=mode, rfc__max_depth=5, rfc__min_samples_leaf=3, rfc__n_estimators=50, score=nan, total=   0.0s\n",
      "[CV] ct__subpipe_num__num_impute__strategy=mode, rfc__max_depth=5, rfc__min_samples_leaf=3, rfc__n_estimators=100 \n",
      "[CV]  ct__subpipe_num__num_impute__strategy=mode, rfc__max_depth=5, rfc__min_samples_leaf=3, rfc__n_estimators=100, score=nan, total=   0.0s\n",
      "[CV] ct__subpipe_num__num_impute__strategy=mode, rfc__max_depth=5, rfc__min_samples_leaf=3, rfc__n_estimators=100 \n",
      "[CV]  ct__subpipe_num__num_impute__strategy=mode, rfc__max_depth=5, rfc__min_samples_leaf=3, rfc__n_estimators=100, score=nan, total=   0.0s\n",
      "[CV] ct__subpipe_num__num_impute__strategy=mode, rfc__max_depth=5, rfc__min_samples_leaf=3, rfc__n_estimators=100 \n",
      "[CV]  ct__subpipe_num__num_impute__strategy=mode, rfc__max_depth=5, rfc__min_samples_leaf=3, rfc__n_estimators=100, score=nan, total=   0.0s\n",
      "[CV] ct__subpipe_num__num_impute__strategy=mode, rfc__max_depth=5, rfc__min_samples_leaf=3, rfc__n_estimators=100 \n",
      "[CV]  ct__subpipe_num__num_impute__strategy=mode, rfc__max_depth=5, rfc__min_samples_leaf=3, rfc__n_estimators=100, score=nan, total=   0.0s\n",
      "[CV] ct__subpipe_num__num_impute__strategy=mode, rfc__max_depth=5, rfc__min_samples_leaf=3, rfc__n_estimators=100 \n",
      "[CV]  ct__subpipe_num__num_impute__strategy=mode, rfc__max_depth=5, rfc__min_samples_leaf=3, rfc__n_estimators=100, score=nan, total=   0.0s\n",
      "[CV] ct__subpipe_num__num_impute__strategy=mode, rfc__max_depth=5, rfc__min_samples_leaf=5, rfc__n_estimators=50 \n",
      "[CV]  ct__subpipe_num__num_impute__strategy=mode, rfc__max_depth=5, rfc__min_samples_leaf=5, rfc__n_estimators=50, score=nan, total=   0.0s\n",
      "[CV] ct__subpipe_num__num_impute__strategy=mode, rfc__max_depth=5, rfc__min_samples_leaf=5, rfc__n_estimators=50 \n",
      "[CV]  ct__subpipe_num__num_impute__strategy=mode, rfc__max_depth=5, rfc__min_samples_leaf=5, rfc__n_estimators=50, score=nan, total=   0.0s\n",
      "[CV] ct__subpipe_num__num_impute__strategy=mode, rfc__max_depth=5, rfc__min_samples_leaf=5, rfc__n_estimators=50 \n",
      "[CV]  ct__subpipe_num__num_impute__strategy=mode, rfc__max_depth=5, rfc__min_samples_leaf=5, rfc__n_estimators=50, score=nan, total=   0.0s\n",
      "[CV] ct__subpipe_num__num_impute__strategy=mode, rfc__max_depth=5, rfc__min_samples_leaf=5, rfc__n_estimators=50 \n",
      "[CV]  ct__subpipe_num__num_impute__strategy=mode, rfc__max_depth=5, rfc__min_samples_leaf=5, rfc__n_estimators=50, score=nan, total=   0.0s\n",
      "[CV] ct__subpipe_num__num_impute__strategy=mode, rfc__max_depth=5, rfc__min_samples_leaf=5, rfc__n_estimators=50 \n",
      "[CV]  ct__subpipe_num__num_impute__strategy=mode, rfc__max_depth=5, rfc__min_samples_leaf=5, rfc__n_estimators=50, score=nan, total=   0.0s\n",
      "[CV] ct__subpipe_num__num_impute__strategy=mode, rfc__max_depth=5, rfc__min_samples_leaf=5, rfc__n_estimators=100 \n",
      "[CV]  ct__subpipe_num__num_impute__strategy=mode, rfc__max_depth=5, rfc__min_samples_leaf=5, rfc__n_estimators=100, score=nan, total=   0.0s\n",
      "[CV] ct__subpipe_num__num_impute__strategy=mode, rfc__max_depth=5, rfc__min_samples_leaf=5, rfc__n_estimators=100 \n",
      "[CV]  ct__subpipe_num__num_impute__strategy=mode, rfc__max_depth=5, rfc__min_samples_leaf=5, rfc__n_estimators=100, score=nan, total=   0.0s\n",
      "[CV] ct__subpipe_num__num_impute__strategy=mode, rfc__max_depth=5, rfc__min_samples_leaf=5, rfc__n_estimators=100 \n",
      "[CV]  ct__subpipe_num__num_impute__strategy=mode, rfc__max_depth=5, rfc__min_samples_leaf=5, rfc__n_estimators=100, score=nan, total=   0.0s\n",
      "[CV] ct__subpipe_num__num_impute__strategy=mode, rfc__max_depth=5, rfc__min_samples_leaf=5, rfc__n_estimators=100 \n",
      "[CV]  ct__subpipe_num__num_impute__strategy=mode, rfc__max_depth=5, rfc__min_samples_leaf=5, rfc__n_estimators=100, score=nan, total=   0.0s\n",
      "[CV] ct__subpipe_num__num_impute__strategy=mode, rfc__max_depth=5, rfc__min_samples_leaf=5, rfc__n_estimators=100 \n",
      "[CV]  ct__subpipe_num__num_impute__strategy=mode, rfc__max_depth=5, rfc__min_samples_leaf=5, rfc__n_estimators=100, score=nan, total=   0.0s\n",
      "[CV] ct__subpipe_num__num_impute__strategy=mode, rfc__max_depth=7, rfc__min_samples_leaf=1, rfc__n_estimators=50 \n",
      "[CV]  ct__subpipe_num__num_impute__strategy=mode, rfc__max_depth=7, rfc__min_samples_leaf=1, rfc__n_estimators=50, score=nan, total=   0.0s\n",
      "[CV] ct__subpipe_num__num_impute__strategy=mode, rfc__max_depth=7, rfc__min_samples_leaf=1, rfc__n_estimators=50 \n",
      "[CV]  ct__subpipe_num__num_impute__strategy=mode, rfc__max_depth=7, rfc__min_samples_leaf=1, rfc__n_estimators=50, score=nan, total=   0.0s\n",
      "[CV] ct__subpipe_num__num_impute__strategy=mode, rfc__max_depth=7, rfc__min_samples_leaf=1, rfc__n_estimators=50 \n",
      "[CV]  ct__subpipe_num__num_impute__strategy=mode, rfc__max_depth=7, rfc__min_samples_leaf=1, rfc__n_estimators=50, score=nan, total=   0.0s\n",
      "[CV] ct__subpipe_num__num_impute__strategy=mode, rfc__max_depth=7, rfc__min_samples_leaf=1, rfc__n_estimators=50 \n",
      "[CV]  ct__subpipe_num__num_impute__strategy=mode, rfc__max_depth=7, rfc__min_samples_leaf=1, rfc__n_estimators=50, score=nan, total=   0.0s\n",
      "[CV] ct__subpipe_num__num_impute__strategy=mode, rfc__max_depth=7, rfc__min_samples_leaf=1, rfc__n_estimators=50 \n",
      "[CV]  ct__subpipe_num__num_impute__strategy=mode, rfc__max_depth=7, rfc__min_samples_leaf=1, rfc__n_estimators=50, score=nan, total=   0.0s\n",
      "[CV] ct__subpipe_num__num_impute__strategy=mode, rfc__max_depth=7, rfc__min_samples_leaf=1, rfc__n_estimators=100 \n",
      "[CV]  ct__subpipe_num__num_impute__strategy=mode, rfc__max_depth=7, rfc__min_samples_leaf=1, rfc__n_estimators=100, score=nan, total=   0.0s\n",
      "[CV] ct__subpipe_num__num_impute__strategy=mode, rfc__max_depth=7, rfc__min_samples_leaf=1, rfc__n_estimators=100 \n",
      "[CV]  ct__subpipe_num__num_impute__strategy=mode, rfc__max_depth=7, rfc__min_samples_leaf=1, rfc__n_estimators=100, score=nan, total=   0.0s\n",
      "[CV] ct__subpipe_num__num_impute__strategy=mode, rfc__max_depth=7, rfc__min_samples_leaf=1, rfc__n_estimators=100 \n",
      "[CV]  ct__subpipe_num__num_impute__strategy=mode, rfc__max_depth=7, rfc__min_samples_leaf=1, rfc__n_estimators=100, score=nan, total=   0.0s\n",
      "[CV] ct__subpipe_num__num_impute__strategy=mode, rfc__max_depth=7, rfc__min_samples_leaf=1, rfc__n_estimators=100 \n",
      "[CV]  ct__subpipe_num__num_impute__strategy=mode, rfc__max_depth=7, rfc__min_samples_leaf=1, rfc__n_estimators=100, score=nan, total=   0.0s\n",
      "[CV] ct__subpipe_num__num_impute__strategy=mode, rfc__max_depth=7, rfc__min_samples_leaf=1, rfc__n_estimators=100 \n",
      "[CV]  ct__subpipe_num__num_impute__strategy=mode, rfc__max_depth=7, rfc__min_samples_leaf=1, rfc__n_estimators=100, score=nan, total=   0.0s\n",
      "[CV] ct__subpipe_num__num_impute__strategy=mode, rfc__max_depth=7, rfc__min_samples_leaf=3, rfc__n_estimators=50 \n",
      "[CV]  ct__subpipe_num__num_impute__strategy=mode, rfc__max_depth=7, rfc__min_samples_leaf=3, rfc__n_estimators=50, score=nan, total=   0.0s\n",
      "[CV] ct__subpipe_num__num_impute__strategy=mode, rfc__max_depth=7, rfc__min_samples_leaf=3, rfc__n_estimators=50 \n",
      "[CV]  ct__subpipe_num__num_impute__strategy=mode, rfc__max_depth=7, rfc__min_samples_leaf=3, rfc__n_estimators=50, score=nan, total=   0.0s\n",
      "[CV] ct__subpipe_num__num_impute__strategy=mode, rfc__max_depth=7, rfc__min_samples_leaf=3, rfc__n_estimators=50 \n",
      "[CV]  ct__subpipe_num__num_impute__strategy=mode, rfc__max_depth=7, rfc__min_samples_leaf=3, rfc__n_estimators=50, score=nan, total=   0.0s\n",
      "[CV] ct__subpipe_num__num_impute__strategy=mode, rfc__max_depth=7, rfc__min_samples_leaf=3, rfc__n_estimators=50 \n",
      "[CV]  ct__subpipe_num__num_impute__strategy=mode, rfc__max_depth=7, rfc__min_samples_leaf=3, rfc__n_estimators=50, score=nan, total=   0.0s\n",
      "[CV] ct__subpipe_num__num_impute__strategy=mode, rfc__max_depth=7, rfc__min_samples_leaf=3, rfc__n_estimators=50 \n",
      "[CV]  ct__subpipe_num__num_impute__strategy=mode, rfc__max_depth=7, rfc__min_samples_leaf=3, rfc__n_estimators=50, score=nan, total=   0.0s\n",
      "[CV] ct__subpipe_num__num_impute__strategy=mode, rfc__max_depth=7, rfc__min_samples_leaf=3, rfc__n_estimators=100 \n",
      "[CV]  ct__subpipe_num__num_impute__strategy=mode, rfc__max_depth=7, rfc__min_samples_leaf=3, rfc__n_estimators=100, score=nan, total=   0.0s\n",
      "[CV] ct__subpipe_num__num_impute__strategy=mode, rfc__max_depth=7, rfc__min_samples_leaf=3, rfc__n_estimators=100 \n",
      "[CV]  ct__subpipe_num__num_impute__strategy=mode, rfc__max_depth=7, rfc__min_samples_leaf=3, rfc__n_estimators=100, score=nan, total=   0.0s\n",
      "[CV] ct__subpipe_num__num_impute__strategy=mode, rfc__max_depth=7, rfc__min_samples_leaf=3, rfc__n_estimators=100 \n",
      "[CV]  ct__subpipe_num__num_impute__strategy=mode, rfc__max_depth=7, rfc__min_samples_leaf=3, rfc__n_estimators=100, score=nan, total=   0.0s\n",
      "[CV] ct__subpipe_num__num_impute__strategy=mode, rfc__max_depth=7, rfc__min_samples_leaf=3, rfc__n_estimators=100 \n",
      "[CV]  ct__subpipe_num__num_impute__strategy=mode, rfc__max_depth=7, rfc__min_samples_leaf=3, rfc__n_estimators=100, score=nan, total=   0.0s\n",
      "[CV] ct__subpipe_num__num_impute__strategy=mode, rfc__max_depth=7, rfc__min_samples_leaf=3, rfc__n_estimators=100 \n",
      "[CV]  ct__subpipe_num__num_impute__strategy=mode, rfc__max_depth=7, rfc__min_samples_leaf=3, rfc__n_estimators=100, score=nan, total=   0.0s\n",
      "[CV] ct__subpipe_num__num_impute__strategy=mode, rfc__max_depth=7, rfc__min_samples_leaf=5, rfc__n_estimators=50 \n"
     ]
    },
    {
     "name": "stderr",
     "output_type": "stream",
     "text": [
      "/opt/anaconda3/envs/learn-env/lib/python3.8/site-packages/sklearn/model_selection/_validation.py:548: FitFailedWarning: Estimator fit failed. The score on this train-test partition for these parameters will be set to nan. Details: \n",
      "Traceback (most recent call last):\n",
      "  File \"/opt/anaconda3/envs/learn-env/lib/python3.8/site-packages/sklearn/model_selection/_validation.py\", line 531, in _fit_and_score\n",
      "    estimator.fit(X_train, y_train, **fit_params)\n",
      "  File \"/opt/anaconda3/envs/learn-env/lib/python3.8/site-packages/sklearn/pipeline.py\", line 330, in fit\n",
      "    Xt = self._fit(X, y, **fit_params_steps)\n",
      "  File \"/opt/anaconda3/envs/learn-env/lib/python3.8/site-packages/sklearn/pipeline.py\", line 292, in _fit\n",
      "    X, fitted_transformer = fit_transform_one_cached(\n",
      "  File \"/opt/anaconda3/envs/learn-env/lib/python3.8/site-packages/joblib/memory.py\", line 352, in __call__\n",
      "    return self.func(*args, **kwargs)\n",
      "  File \"/opt/anaconda3/envs/learn-env/lib/python3.8/site-packages/sklearn/pipeline.py\", line 740, in _fit_transform_one\n",
      "    res = transformer.fit_transform(X, y, **fit_params)\n",
      "  File \"/opt/anaconda3/envs/learn-env/lib/python3.8/site-packages/sklearn/compose/_column_transformer.py\", line 531, in fit_transform\n",
      "    result = self._fit_transform(X, y, _fit_transform_one)\n",
      "  File \"/opt/anaconda3/envs/learn-env/lib/python3.8/site-packages/sklearn/compose/_column_transformer.py\", line 458, in _fit_transform\n",
      "    return Parallel(n_jobs=self.n_jobs)(\n",
      "  File \"/opt/anaconda3/envs/learn-env/lib/python3.8/site-packages/joblib/parallel.py\", line 1048, in __call__\n",
      "    if self.dispatch_one_batch(iterator):\n",
      "  File \"/opt/anaconda3/envs/learn-env/lib/python3.8/site-packages/joblib/parallel.py\", line 866, in dispatch_one_batch\n",
      "    self._dispatch(tasks)\n",
      "  File \"/opt/anaconda3/envs/learn-env/lib/python3.8/site-packages/joblib/parallel.py\", line 784, in _dispatch\n",
      "    job = self._backend.apply_async(batch, callback=cb)\n",
      "  File \"/opt/anaconda3/envs/learn-env/lib/python3.8/site-packages/joblib/_parallel_backends.py\", line 208, in apply_async\n",
      "    result = ImmediateResult(func)\n",
      "  File \"/opt/anaconda3/envs/learn-env/lib/python3.8/site-packages/joblib/_parallel_backends.py\", line 572, in __init__\n",
      "    self.results = batch()\n",
      "  File \"/opt/anaconda3/envs/learn-env/lib/python3.8/site-packages/joblib/parallel.py\", line 262, in __call__\n",
      "    return [func(*args, **kwargs)\n",
      "  File \"/opt/anaconda3/envs/learn-env/lib/python3.8/site-packages/joblib/parallel.py\", line 262, in <listcomp>\n",
      "    return [func(*args, **kwargs)\n",
      "  File \"/opt/anaconda3/envs/learn-env/lib/python3.8/site-packages/sklearn/pipeline.py\", line 740, in _fit_transform_one\n",
      "    res = transformer.fit_transform(X, y, **fit_params)\n",
      "  File \"/opt/anaconda3/envs/learn-env/lib/python3.8/site-packages/sklearn/pipeline.py\", line 367, in fit_transform\n",
      "    Xt = self._fit(X, y, **fit_params_steps)\n",
      "  File \"/opt/anaconda3/envs/learn-env/lib/python3.8/site-packages/sklearn/pipeline.py\", line 292, in _fit\n",
      "    X, fitted_transformer = fit_transform_one_cached(\n",
      "  File \"/opt/anaconda3/envs/learn-env/lib/python3.8/site-packages/joblib/memory.py\", line 352, in __call__\n",
      "    return self.func(*args, **kwargs)\n",
      "  File \"/opt/anaconda3/envs/learn-env/lib/python3.8/site-packages/sklearn/pipeline.py\", line 740, in _fit_transform_one\n",
      "    res = transformer.fit_transform(X, y, **fit_params)\n",
      "  File \"/opt/anaconda3/envs/learn-env/lib/python3.8/site-packages/sklearn/base.py\", line 693, in fit_transform\n",
      "    return self.fit(X, y, **fit_params).transform(X)\n",
      "  File \"/opt/anaconda3/envs/learn-env/lib/python3.8/site-packages/sklearn/impute/_base.py\", line 277, in fit\n",
      "    X = self._validate_input(X, in_fit=True)\n",
      "  File \"/opt/anaconda3/envs/learn-env/lib/python3.8/site-packages/sklearn/impute/_base.py\", line 226, in _validate_input\n",
      "    raise ValueError(\"Can only use these strategies: {0} \"\n",
      "ValueError: Can only use these strategies: ['mean', 'median', 'most_frequent', 'constant']  got strategy=mode\n",
      "\n",
      "  warnings.warn(\"Estimator fit failed. The score on this train-test\"\n"
     ]
    },
    {
     "name": "stdout",
     "output_type": "stream",
     "text": [
      "[CV]  ct__subpipe_num__num_impute__strategy=mode, rfc__max_depth=7, rfc__min_samples_leaf=5, rfc__n_estimators=50, score=nan, total=   0.0s\n",
      "[CV] ct__subpipe_num__num_impute__strategy=mode, rfc__max_depth=7, rfc__min_samples_leaf=5, rfc__n_estimators=50 \n",
      "[CV]  ct__subpipe_num__num_impute__strategy=mode, rfc__max_depth=7, rfc__min_samples_leaf=5, rfc__n_estimators=50, score=nan, total=   0.0s\n",
      "[CV] ct__subpipe_num__num_impute__strategy=mode, rfc__max_depth=7, rfc__min_samples_leaf=5, rfc__n_estimators=50 \n",
      "[CV]  ct__subpipe_num__num_impute__strategy=mode, rfc__max_depth=7, rfc__min_samples_leaf=5, rfc__n_estimators=50, score=nan, total=   0.0s\n",
      "[CV] ct__subpipe_num__num_impute__strategy=mode, rfc__max_depth=7, rfc__min_samples_leaf=5, rfc__n_estimators=50 \n",
      "[CV]  ct__subpipe_num__num_impute__strategy=mode, rfc__max_depth=7, rfc__min_samples_leaf=5, rfc__n_estimators=50, score=nan, total=   0.0s\n",
      "[CV] ct__subpipe_num__num_impute__strategy=mode, rfc__max_depth=7, rfc__min_samples_leaf=5, rfc__n_estimators=50 \n",
      "[CV]  ct__subpipe_num__num_impute__strategy=mode, rfc__max_depth=7, rfc__min_samples_leaf=5, rfc__n_estimators=50, score=nan, total=   0.0s\n",
      "[CV] ct__subpipe_num__num_impute__strategy=mode, rfc__max_depth=7, rfc__min_samples_leaf=5, rfc__n_estimators=100 \n",
      "[CV]  ct__subpipe_num__num_impute__strategy=mode, rfc__max_depth=7, rfc__min_samples_leaf=5, rfc__n_estimators=100, score=nan, total=   0.0s\n",
      "[CV] ct__subpipe_num__num_impute__strategy=mode, rfc__max_depth=7, rfc__min_samples_leaf=5, rfc__n_estimators=100 \n",
      "[CV]  ct__subpipe_num__num_impute__strategy=mode, rfc__max_depth=7, rfc__min_samples_leaf=5, rfc__n_estimators=100, score=nan, total=   0.0s\n",
      "[CV] ct__subpipe_num__num_impute__strategy=mode, rfc__max_depth=7, rfc__min_samples_leaf=5, rfc__n_estimators=100 \n",
      "[CV]  ct__subpipe_num__num_impute__strategy=mode, rfc__max_depth=7, rfc__min_samples_leaf=5, rfc__n_estimators=100, score=nan, total=   0.0s\n",
      "[CV] ct__subpipe_num__num_impute__strategy=mode, rfc__max_depth=7, rfc__min_samples_leaf=5, rfc__n_estimators=100 \n",
      "[CV]  ct__subpipe_num__num_impute__strategy=mode, rfc__max_depth=7, rfc__min_samples_leaf=5, rfc__n_estimators=100, score=nan, total=   0.0s\n",
      "[CV] ct__subpipe_num__num_impute__strategy=mode, rfc__max_depth=7, rfc__min_samples_leaf=5, rfc__n_estimators=100 \n",
      "[CV]  ct__subpipe_num__num_impute__strategy=mode, rfc__max_depth=7, rfc__min_samples_leaf=5, rfc__n_estimators=100, score=nan, total=   0.0s\n"
     ]
    },
    {
     "name": "stderr",
     "output_type": "stream",
     "text": [
      "[Parallel(n_jobs=1)]: Done 270 out of 270 | elapsed:   13.9s finished\n"
     ]
    },
    {
     "data": {
      "text/plain": [
       "GridSearchCV(cv=5,\n",
       "             estimator=Pipeline(steps=[('ct',\n",
       "                                        ColumnTransformer(remainder='passthrough',\n",
       "                                                          transformers=[('subpipe_num',\n",
       "                                                                         Pipeline(steps=[('num_impute',\n",
       "                                                                                          SimpleImputer()),\n",
       "                                                                                         ('ss',\n",
       "                                                                                          StandardScaler())]),\n",
       "                                                                         [2, 3,\n",
       "                                                                          4,\n",
       "                                                                          6]),\n",
       "                                                                        ('subpipe_cat',\n",
       "                                                                         Pipeline(steps=[('cat_impute',\n",
       "                                                                                          SimpleImputer(strategy='most_frequent')),\n",
       "                                                                                         ('ohe',\n",
       "                                                                                          OneHotEncoder(handle_unknown='ignore',\n",
       "                                                                                                        sparse=False))]),\n",
       "                                                                         [0, 1,\n",
       "                                                                          5, 7,\n",
       "                                                                          8])])),\n",
       "                                       ('rfc',\n",
       "                                        RandomForestClassifier(random_state=42))]),\n",
       "             param_grid={'ct__subpipe_num__num_impute__strategy': ['mean',\n",
       "                                                                   'median',\n",
       "                                                                   'mode'],\n",
       "                         'rfc__max_depth': [3, 5, 7],\n",
       "                         'rfc__min_samples_leaf': [1, 3, 5],\n",
       "                         'rfc__n_estimators': [50, 100]},\n",
       "             verbose=3)"
      ]
     },
     "execution_count": 45,
     "metadata": {},
     "output_type": "execute_result"
    }
   ],
   "source": [
    "gs_rfc.fit(X_train, y_train)"
   ]
  },
  {
   "cell_type": "code",
   "execution_count": 46,
   "metadata": {},
   "outputs": [
    {
     "data": {
      "text/plain": [
       "Pipeline(steps=[('ct',\n",
       "                 ColumnTransformer(remainder='passthrough',\n",
       "                                   transformers=[('subpipe_num',\n",
       "                                                  Pipeline(steps=[('num_impute',\n",
       "                                                                   SimpleImputer(strategy='median')),\n",
       "                                                                  ('ss',\n",
       "                                                                   StandardScaler())]),\n",
       "                                                  [2, 3, 4, 6]),\n",
       "                                                 ('subpipe_cat',\n",
       "                                                  Pipeline(steps=[('cat_impute',\n",
       "                                                                   SimpleImputer(strategy='most_frequent')),\n",
       "                                                                  ('ohe',\n",
       "                                                                   OneHotEncoder(handle_unknown='ignore',\n",
       "                                                                                 sparse=False))]),\n",
       "                                                  [0, 1, 5, 7, 8])])),\n",
       "                ('rfc',\n",
       "                 RandomForestClassifier(max_depth=7, n_estimators=50,\n",
       "                                        random_state=42))])"
      ]
     },
     "execution_count": 46,
     "metadata": {},
     "output_type": "execute_result"
    }
   ],
   "source": [
    "gs_rfc.best_estimator_"
   ]
  },
  {
   "cell_type": "code",
   "execution_count": 51,
   "metadata": {},
   "outputs": [],
   "source": [
    "grid = {'ct__subpipe_num__num_impute__strategy': ['mean', 'median'],\n",
    "        'rfc__max_depth': [3, 5, 7, 9], \n",
    "        'rfc__n_estimators': [50, 100, 150],\n",
    "        'rfc__min_samples_leaf': [1, 3, 5],\n",
    "        'rfc__criterion': ['gini', 'entropy'],\n",
    "        'rfc__max_features': ['auto', 'sqrt', 'log2']}\n",
    "\n",
    "gs_rfc = GridSearchCV(rfc_model_pipe, param_grid=grid, cv=5, verbose=3, n_jobs=-2)"
   ]
  },
  {
   "cell_type": "code",
   "execution_count": 52,
   "metadata": {},
   "outputs": [
    {
     "name": "stdout",
     "output_type": "stream",
     "text": [
      "Fitting 5 folds for each of 432 candidates, totalling 2160 fits\n"
     ]
    },
    {
     "name": "stderr",
     "output_type": "stream",
     "text": [
      "[Parallel(n_jobs=-2)]: Using backend LokyBackend with 7 concurrent workers.\n",
      "[Parallel(n_jobs=-2)]: Done  18 tasks      | elapsed:    1.7s\n",
      "[Parallel(n_jobs=-2)]: Done 114 tasks      | elapsed:    4.4s\n",
      "[Parallel(n_jobs=-2)]: Done 274 tasks      | elapsed:    8.5s\n",
      "[Parallel(n_jobs=-2)]: Done 498 tasks      | elapsed:   14.2s\n",
      "[Parallel(n_jobs=-2)]: Done 786 tasks      | elapsed:   21.1s\n",
      "[Parallel(n_jobs=-2)]: Done 1138 tasks      | elapsed:   29.3s\n",
      "[Parallel(n_jobs=-2)]: Done 1554 tasks      | elapsed:   38.8s\n",
      "[Parallel(n_jobs=-2)]: Done 2034 tasks      | elapsed:   49.4s\n",
      "[Parallel(n_jobs=-2)]: Done 2160 out of 2160 | elapsed:   52.3s finished\n"
     ]
    },
    {
     "data": {
      "text/plain": [
       "GridSearchCV(cv=5,\n",
       "             estimator=Pipeline(steps=[('ct',\n",
       "                                        ColumnTransformer(remainder='passthrough',\n",
       "                                                          transformers=[('subpipe_num',\n",
       "                                                                         Pipeline(steps=[('num_impute',\n",
       "                                                                                          SimpleImputer()),\n",
       "                                                                                         ('ss',\n",
       "                                                                                          StandardScaler())]),\n",
       "                                                                         [2, 3,\n",
       "                                                                          4,\n",
       "                                                                          6]),\n",
       "                                                                        ('subpipe_cat',\n",
       "                                                                         Pipeline(steps=[('cat_impute',\n",
       "                                                                                          SimpleImputer(strategy='most_frequent')),\n",
       "                                                                                         ('ohe',\n",
       "                                                                                          OneHotEncoder(handle_unknown='ignore',\n",
       "                                                                                                        sparse=False))]),\n",
       "                                                                         [0, 1,\n",
       "                                                                          5, 7,\n",
       "                                                                          8])])),\n",
       "                                       ('rfc',\n",
       "                                        RandomForestClassifier(random_state=42))]),\n",
       "             n_jobs=-2,\n",
       "             param_grid={'ct__subpipe_num__num_impute__strategy': ['mean',\n",
       "                                                                   'median'],\n",
       "                         'rfc__criterion': ['gini', 'entropy'],\n",
       "                         'rfc__max_depth': [3, 5, 7, 9],\n",
       "                         'rfc__max_features': ['auto', 'sqrt', 'log2'],\n",
       "                         'rfc__min_samples_leaf': [1, 3, 5],\n",
       "                         'rfc__n_estimators': [50, 100, 150]},\n",
       "             verbose=3)"
      ]
     },
     "execution_count": 52,
     "metadata": {},
     "output_type": "execute_result"
    }
   ],
   "source": [
    "gs_rfc.fit(X_train, y_train)"
   ]
  },
  {
   "cell_type": "code",
   "execution_count": 53,
   "metadata": {},
   "outputs": [
    {
     "data": {
      "text/plain": [
       "{'ct__subpipe_num__num_impute__strategy': 'median',\n",
       " 'rfc__criterion': 'entropy',\n",
       " 'rfc__max_depth': 9,\n",
       " 'rfc__max_features': 'auto',\n",
       " 'rfc__min_samples_leaf': 1,\n",
       " 'rfc__n_estimators': 50}"
      ]
     },
     "execution_count": 53,
     "metadata": {},
     "output_type": "execute_result"
    }
   ],
   "source": [
    "gs_rfc.best_params_"
   ]
  },
  {
   "cell_type": "code",
   "execution_count": null,
   "metadata": {},
   "outputs": [],
   "source": []
  },
  {
   "cell_type": "code",
   "execution_count": null,
   "metadata": {},
   "outputs": [],
   "source": []
  },
  {
   "cell_type": "code",
   "execution_count": null,
   "metadata": {},
   "outputs": [],
   "source": []
  },
  {
   "cell_type": "code",
   "execution_count": null,
   "metadata": {},
   "outputs": [],
   "source": []
  },
  {
   "cell_type": "code",
   "execution_count": null,
   "metadata": {},
   "outputs": [],
   "source": []
  },
  {
   "cell_type": "code",
   "execution_count": null,
   "metadata": {},
   "outputs": [],
   "source": []
  },
  {
   "cell_type": "markdown",
   "metadata": {},
   "source": [
    "### Gradient Booster"
   ]
  },
  {
   "cell_type": "code",
   "execution_count": 31,
   "metadata": {},
   "outputs": [],
   "source": [
    "gbc_model_pipe = Pipeline([('ct', CT), ('gbc', GradientBoostingClassifier(random_state=42))])"
   ]
  },
  {
   "cell_type": "code",
   "execution_count": 32,
   "metadata": {},
   "outputs": [
    {
     "data": {
      "text/plain": [
       "Pipeline(steps=[('ct',\n",
       "                 ColumnTransformer(remainder='passthrough',\n",
       "                                   transformers=[('subpipe_num',\n",
       "                                                  Pipeline(steps=[('num_impute',\n",
       "                                                                   SimpleImputer()),\n",
       "                                                                  ('ss',\n",
       "                                                                   StandardScaler())]),\n",
       "                                                  [2, 3, 4, 6]),\n",
       "                                                 ('subpipe_cat',\n",
       "                                                  Pipeline(steps=[('cat_impute',\n",
       "                                                                   SimpleImputer(strategy='most_frequent')),\n",
       "                                                                  ('ohe',\n",
       "                                                                   OneHotEncoder(handle_unknown='ignore',\n",
       "                                                                                 sparse=False))]),\n",
       "                                                  [0, 1, 5, 7, 8])])),\n",
       "                ('gbc', GradientBoostingClassifier(random_state=42))])"
      ]
     },
     "execution_count": 32,
     "metadata": {},
     "output_type": "execute_result"
    }
   ],
   "source": [
    "gbc_model_pipe.fit(X_train, y_train)"
   ]
  },
  {
   "cell_type": "code",
   "execution_count": 33,
   "metadata": {},
   "outputs": [
    {
     "data": {
      "text/plain": [
       "0.8622754491017964"
      ]
     },
     "execution_count": 33,
     "metadata": {},
     "output_type": "execute_result"
    }
   ],
   "source": [
    "gbc_model_pipe.score(X_train, y_train)"
   ]
  },
  {
   "cell_type": "code",
   "execution_count": 34,
   "metadata": {},
   "outputs": [],
   "source": [
    "boost_pipe = ModelWithCV(model=gbc_model_pipe,\n",
    "                         model_name='boost_pipe',\n",
    "                         X=X_train,\n",
    "                         y=y_train)"
   ]
  },
  {
   "cell_type": "code",
   "execution_count": 35,
   "metadata": {
    "scrolled": false
   },
   "outputs": [
    {
     "data": {
      "image/png": "[encoded data removed]",
      "text/plain": [
       "<Figure size 432x288 with 1 Axes>"
      ]
     },
     "metadata": {
      "needs_background": "light"
     },
     "output_type": "display_data"
    }
   ],
   "source": [
    "fig, ax = plt.subplots()\n",
    "\n",
    "boost_pipe.plot_cv(ax=ax);"
   ]
  },
  {
   "cell_type": "code",
   "execution_count": 38,
   "metadata": {},
   "outputs": [
    {
     "name": "stdout",
     "output_type": "stream",
     "text": [
      "CV Results for `forest_pipe` model:\n",
      "            0.82800 ± 0.06124 accuracy\n",
      "        \n"
     ]
    }
   ],
   "source": [
    "forest_pipe.print_cv_summary()"
   ]
  },
  {
   "cell_type": "code",
   "execution_count": 37,
   "metadata": {},
   "outputs": [
    {
     "name": "stdout",
     "output_type": "stream",
     "text": [
      "CV Results for `boost_pipe` model:\n",
      "            0.82492 ± 0.05907 accuracy\n",
      "        \n"
     ]
    }
   ],
   "source": [
    "boost_pipe.print_cv_summary()"
   ]
  },
  {
   "cell_type": "markdown",
   "metadata": {},
   "source": [
    "## Tuning and Cross-Validating"
   ]
  },
  {
   "cell_type": "code",
   "execution_count": 40,
   "metadata": {},
   "outputs": [],
   "source": [
    "params = {}\n",
    "params['rfc__criterion'] = ['gini', 'entropy']\n",
    "params['rfc__min_samples_leaf'] = [1, 5, 10]\n",
    "\n",
    "gs = GridSearchCV(estimator=rfc_model_pipe,\n",
    "                 param_grid=params,\n",
    "                 cv=10)"
   ]
  },
  {
   "cell_type": "code",
   "execution_count": 41,
   "metadata": {},
   "outputs": [
    {
     "data": {
      "text/plain": [
       "GridSearchCV(cv=10,\n",
       "             estimator=Pipeline(steps=[('ct',\n",
       "                                        ColumnTransformer(remainder='passthrough',\n",
       "                                                          transformers=[('subpipe_num',\n",
       "                                                                         Pipeline(steps=[('num_impute',\n",
       "                                                                                          SimpleImputer()),\n",
       "                                                                                         ('ss',\n",
       "                                                                                          StandardScaler())]),\n",
       "                                                                         [2, 3,\n",
       "                                                                          4,\n",
       "                                                                          6]),\n",
       "                                                                        ('subpipe_cat',\n",
       "                                                                         Pipeline(steps=[('cat_impute',\n",
       "                                                                                          SimpleImputer(strategy='most_frequent')),\n",
       "                                                                                         ('ohe',\n",
       "                                                                                          OneHotEncoder(handle_unknown='ignore',\n",
       "                                                                                                        sparse=False))]),\n",
       "                                                                         [0, 1,\n",
       "                                                                          5, 7,\n",
       "                                                                          8])])),\n",
       "                                       ('rfc',\n",
       "                                        RandomForestClassifier(random_state=42))]),\n",
       "             param_grid={'rfc__criterion': ['gini', 'entropy'],\n",
       "                         'rfc__min_samples_leaf': [1, 5, 10]})"
      ]
     },
     "execution_count": 41,
     "metadata": {},
     "output_type": "execute_result"
    }
   ],
   "source": [
    "gs.fit(X_train, y_train)"
   ]
  },
  {
   "cell_type": "code",
   "execution_count": 42,
   "metadata": {},
   "outputs": [
    {
     "data": {
      "text/plain": [
       "{'rfc__criterion': 'gini', 'rfc__min_samples_leaf': 1}"
      ]
     },
     "execution_count": 42,
     "metadata": {},
     "output_type": "execute_result"
    }
   ],
   "source": [
    "gs.best_params_"
   ]
  },
  {
   "cell_type": "code",
   "execution_count": 43,
   "metadata": {},
   "outputs": [
    {
     "data": {
      "text/plain": [
       "array([0.82799638, 0.6272275 , 0.62424242, 0.81906377, 0.6272275 ,\n",
       "       0.62424242])"
      ]
     },
     "execution_count": 43,
     "metadata": {},
     "output_type": "execute_result"
    }
   ],
   "source": [
    "# Mean test score for each of six models\n",
    "\n",
    "gs.cv_results_['mean_test_score']"
   ]
  },
  {
   "cell_type": "code",
   "execution_count": 45,
   "metadata": {},
   "outputs": [],
   "source": [
    "final_model = gs.best_estimator_"
   ]
  },
  {
   "cell_type": "markdown",
   "metadata": {},
   "source": [
    "## `imblearn` Pipelines\n",
    "\n",
    "### Dealing with the Target Imbalance"
   ]
  },
  {
   "cell_type": "markdown",
   "metadata": {},
   "source": [
    "Let's use `SMOTE()`:"
   ]
  },
  {
   "cell_type": "code",
   "execution_count": 46,
   "metadata": {},
   "outputs": [
    {
     "data": {
      "text/plain": [
       "0    415\n",
       "1    253\n",
       "Name: Survived, dtype: int64"
      ]
     },
     "execution_count": 46,
     "metadata": {},
     "output_type": "execute_result"
    }
   ],
   "source": [
    "y_train.value_counts()"
   ]
  },
  {
   "cell_type": "code",
   "execution_count": 47,
   "metadata": {},
   "outputs": [],
   "source": [
    "sm = SMOTE(sampling_strategy='auto', random_state=42)"
   ]
  },
  {
   "cell_type": "code",
   "execution_count": 48,
   "metadata": {},
   "outputs": [],
   "source": [
    "sm2 = SMOTE(sampling_strategy=0.8, random_state=42)"
   ]
  },
  {
   "cell_type": "markdown",
   "metadata": {},
   "source": [
    "To make things simple (and avoid errors!), let's just grab the numeric types and eliminate the NaNs from X_train:"
   ]
  },
  {
   "cell_type": "code",
   "execution_count": 49,
   "metadata": {},
   "outputs": [],
   "source": [
    "X_train_clean = X_train.select_dtypes(['float', 'int']).dropna()\n",
    "y_train_clean = y_train[X_train_clean.index]"
   ]
  },
  {
   "cell_type": "code",
   "execution_count": 50,
   "metadata": {},
   "outputs": [
    {
     "data": {
      "text/plain": [
       "0    317\n",
       "1    219\n",
       "Name: Survived, dtype: int64"
      ]
     },
     "execution_count": 50,
     "metadata": {},
     "output_type": "execute_result"
    }
   ],
   "source": [
    "y_train_clean.value_counts()"
   ]
  },
  {
   "cell_type": "code",
   "execution_count": 51,
   "metadata": {},
   "outputs": [
    {
     "data": {
      "text/plain": [
       "1    317\n",
       "0    317\n",
       "Name: Survived, dtype: int64"
      ]
     },
     "execution_count": 51,
     "metadata": {},
     "output_type": "execute_result"
    }
   ],
   "source": [
    "# Even distribution\n",
    "\n",
    "X_clean_resmp, y_clean_resmp = sm.fit_resample(X_train_clean, y_train_clean)\n",
    "\n",
    "y_clean_resmp.value_counts()"
   ]
  },
  {
   "cell_type": "code",
   "execution_count": 52,
   "metadata": {},
   "outputs": [
    {
     "data": {
      "text/plain": [
       "0    317\n",
       "1    253\n",
       "Name: Survived, dtype: int64"
      ]
     },
     "execution_count": 52,
     "metadata": {},
     "output_type": "execute_result"
    }
   ],
   "source": [
    "# Distribution where count of 1's = 0.8 * count of 0's\n",
    "\n",
    "X_clean_resmp2, y_clean_resmp2 = sm2.fit_resample(X_train_clean, y_train_clean)\n",
    "\n",
    "y_clean_resmp2.value_counts()"
   ]
  },
  {
   "cell_type": "markdown",
   "metadata": {},
   "source": [
    "### `imblearn` Pipeline"
   ]
  },
  {
   "cell_type": "markdown",
   "metadata": {},
   "source": [
    "Of course, we want to be able to perform all of our preprocessing steps from above, but just now add `SMOTE`. Good thing we can throw it all into a pipeline!"
   ]
  },
  {
   "cell_type": "code",
   "execution_count": 53,
   "metadata": {},
   "outputs": [],
   "source": [
    "imb_pipe = ImPipeline(steps=[('ct', CT),\n",
    "                             ('sm', SMOTE(random_state=42)),\n",
    "                            ('rfc', RandomForestClassifier(random_state=42))])"
   ]
  },
  {
   "cell_type": "code",
   "execution_count": 54,
   "metadata": {},
   "outputs": [
    {
     "data": {
      "text/plain": [
       "Pipeline(steps=[('ct',\n",
       "                 ColumnTransformer(remainder='passthrough',\n",
       "                                   transformers=[('subpipe_num',\n",
       "                                                  Pipeline(steps=[('num_impute',\n",
       "                                                                   SimpleImputer()),\n",
       "                                                                  ('ss',\n",
       "                                                                   StandardScaler())]),\n",
       "                                                  [2, 3, 4, 6]),\n",
       "                                                 ('subpipe_cat',\n",
       "                                                  Pipeline(steps=[('cat_impute',\n",
       "                                                                   SimpleImputer(strategy='most_frequent')),\n",
       "                                                                  ('ohe',\n",
       "                                                                   OneHotEncoder(handle_unknown='ignore',\n",
       "                                                                                 sparse=False))]),\n",
       "                                                  [0, 1, 5, 7, 8])])),\n",
       "                ('sm', SMOTE(random_state=42)),\n",
       "                ('rfc', RandomForestClassifier(random_state=42))])"
      ]
     },
     "execution_count": 54,
     "metadata": {},
     "output_type": "execute_result"
    }
   ],
   "source": [
    "imb_pipe.fit(X_train, y_train)"
   ]
  },
  {
   "cell_type": "code",
   "execution_count": 55,
   "metadata": {},
   "outputs": [
    {
     "data": {
      "text/plain": [
       "0.9985029940119761"
      ]
     },
     "execution_count": 55,
     "metadata": {},
     "output_type": "execute_result"
    }
   ],
   "source": [
    "imb_pipe.score(X_train, y_train)"
   ]
  },
  {
   "cell_type": "markdown",
   "metadata": {},
   "source": [
    "### Gridsearching"
   ]
  },
  {
   "cell_type": "code",
   "execution_count": 56,
   "metadata": {},
   "outputs": [],
   "source": [
    "parameters = {'rfc__criterion': ['gini', 'entropy'],\n",
    "          'rfc__min_samples_leaf': [1, 5, 10],\n",
    "          'sm__k_neighbors': [3, 5, 9]}\n",
    "\n",
    "gs = GridSearchCV(estimator=imb_pipe,\n",
    "                 param_grid=parameters,\n",
    "                 cv=10)"
   ]
  },
  {
   "cell_type": "code",
   "execution_count": 57,
   "metadata": {
    "scrolled": true
   },
   "outputs": [
    {
     "data": {
      "text/plain": [
       "GridSearchCV(cv=10,\n",
       "             estimator=Pipeline(steps=[('ct',\n",
       "                                        ColumnTransformer(remainder='passthrough',\n",
       "                                                          transformers=[('subpipe_num',\n",
       "                                                                         Pipeline(steps=[('num_impute',\n",
       "                                                                                          SimpleImputer()),\n",
       "                                                                                         ('ss',\n",
       "                                                                                          StandardScaler())]),\n",
       "                                                                         [2, 3,\n",
       "                                                                          4,\n",
       "                                                                          6]),\n",
       "                                                                        ('subpipe_cat',\n",
       "                                                                         Pipeline(steps=[('cat_impute',\n",
       "                                                                                          SimpleImputer(strategy='most_frequent')),\n",
       "                                                                                         ('ohe',\n",
       "                                                                                          OneHotEncoder(handle_unknown='ignore',\n",
       "                                                                                                        sparse=False))]),\n",
       "                                                                         [0, 1,\n",
       "                                                                          5, 7,\n",
       "                                                                          8])])),\n",
       "                                       ('sm', SMOTE(random_state=42)),\n",
       "                                       ('rfc',\n",
       "                                        RandomForestClassifier(random_state=42))]),\n",
       "             param_grid={'rfc__criterion': ['gini', 'entropy'],\n",
       "                         'rfc__min_samples_leaf': [1, 5, 10],\n",
       "                         'sm__k_neighbors': [3, 5, 9]})"
      ]
     },
     "execution_count": 57,
     "metadata": {},
     "output_type": "execute_result"
    }
   ],
   "source": [
    "gs.fit(X_train, y_train)"
   ]
  },
  {
   "cell_type": "code",
   "execution_count": 58,
   "metadata": {
    "scrolled": true
   },
   "outputs": [
    {
     "data": {
      "text/plain": [
       "{'rfc__criterion': 'gini', 'rfc__min_samples_leaf': 1, 'sm__k_neighbors': 5}"
      ]
     },
     "execution_count": 58,
     "metadata": {},
     "output_type": "execute_result"
    }
   ],
   "source": [
    "gs.best_params_"
   ]
  },
  {
   "cell_type": "code",
   "execution_count": 59,
   "metadata": {
    "scrolled": true
   },
   "outputs": [
    {
     "data": {
      "text/plain": [
       "0.8295115332428764"
      ]
     },
     "execution_count": 59,
     "metadata": {},
     "output_type": "execute_result"
    }
   ],
   "source": [
    "gs.best_score_"
   ]
  },
  {
   "cell_type": "markdown",
   "metadata": {},
   "source": [
    "## Evaluation on Test Set"
   ]
  },
  {
   "cell_type": "markdown",
   "metadata": {},
   "source": [
    "Let's suppose that we choose our final model from this last GridSearch run. Note that the optimal parameters are also the default values!"
   ]
  },
  {
   "cell_type": "code",
   "execution_count": 60,
   "metadata": {
    "scrolled": true
   },
   "outputs": [
    {
     "data": {
      "text/plain": [
       "Pipeline(steps=[('ct',\n",
       "                 ColumnTransformer(remainder='passthrough',\n",
       "                                   transformers=[('subpipe_num',\n",
       "                                                  Pipeline(steps=[('num_impute',\n",
       "                                                                   SimpleImputer()),\n",
       "                                                                  ('ss',\n",
       "                                                                   StandardScaler())]),\n",
       "                                                  [2, 3, 4, 6]),\n",
       "                                                 ('subpipe_cat',\n",
       "                                                  Pipeline(steps=[('cat_impute',\n",
       "                                                                   SimpleImputer(strategy='most_frequent')),\n",
       "                                                                  ('ohe',\n",
       "                                                                   OneHotEncoder(handle_unknown='ignore',\n",
       "                                                                                 sparse=False))]),\n",
       "                                                  [0, 1, 5, 7, 8])])),\n",
       "                ('sm', SMOTE(random_state=42)),\n",
       "                ('rfc', RandomForestClassifier(random_state=42))])"
      ]
     },
     "execution_count": 60,
     "metadata": {},
     "output_type": "execute_result"
    }
   ],
   "source": [
    "imb_pipe"
   ]
  },
  {
   "cell_type": "code",
   "execution_count": 64,
   "metadata": {
    "scrolled": true
   },
   "outputs": [],
   "source": [
    "final_model = gs.best_estimator_"
   ]
  },
  {
   "cell_type": "code",
   "execution_count": 65,
   "metadata": {},
   "outputs": [
    {
     "data": {
      "text/plain": [
       "Pipeline(steps=[('ct',\n",
       "                 ColumnTransformer(remainder='passthrough',\n",
       "                                   transformers=[('subpipe_num',\n",
       "                                                  Pipeline(steps=[('num_impute',\n",
       "                                                                   SimpleImputer()),\n",
       "                                                                  ('ss',\n",
       "                                                                   StandardScaler())]),\n",
       "                                                  [2, 3, 4, 6]),\n",
       "                                                 ('subpipe_cat',\n",
       "                                                  Pipeline(steps=[('cat_impute',\n",
       "                                                                   SimpleImputer(strategy='most_frequent')),\n",
       "                                                                  ('ohe',\n",
       "                                                                   OneHotEncoder(handle_unknown='ignore',\n",
       "                                                                                 sparse=False))]),\n",
       "                                                  [0, 1, 5, 7, 8])])),\n",
       "                ('sm', SMOTE(random_state=42)),\n",
       "                ('rfc', RandomForestClassifier(random_state=42))])"
      ]
     },
     "execution_count": 65,
     "metadata": {},
     "output_type": "execute_result"
    }
   ],
   "source": [
    "final_model"
   ]
  },
  {
   "cell_type": "code",
   "execution_count": 66,
   "metadata": {},
   "outputs": [
    {
     "data": {
      "image/png": "[encoded data removed]",
      "text/plain": [
       "<Figure size 432x288 with 2 Axes>"
      ]
     },
     "metadata": {
      "needs_background": "light"
     },
     "output_type": "display_data"
    }
   ],
   "source": [
    "plot_confusion_matrix(final_model, X_test, y_test);"
   ]
  },
  {
   "cell_type": "code",
   "execution_count": 67,
   "metadata": {},
   "outputs": [],
   "source": [
    "y_hat = final_model.predict(X_test)"
   ]
  },
  {
   "cell_type": "code",
   "execution_count": 68,
   "metadata": {
    "scrolled": true
   },
   "outputs": [
    {
     "name": "stdout",
     "output_type": "stream",
     "text": [
      "\n",
      "Our final model's accuracy on the test set is 0.83. \n",
      "\n",
      "Our final model's recall on the test set is 0.72 \n",
      "\n",
      "Our final model's precision on the test set is 0.82 \n",
      "\n",
      "Our final model's f1-score on the test is 0.77.\n",
      "\n"
     ]
    }
   ],
   "source": [
    "print(f\"\"\"\n",
    "Our final model's accuracy on the test set is {round(accuracy_score(y_test, y_hat), 2)}. \\n\n",
    "Our final model's recall on the test set is {round(recall_score(y_test, y_hat), 2)} \\n\n",
    "Our final model's precision on the test set is {round(precision_score(y_test, y_hat), 2)} \\n\n",
    "Our final model's f1-score on the test is {round(f1_score(y_test, y_hat), 2)}.\n",
    "\"\"\")"
   ]
  },
  {
   "cell_type": "code",
   "execution_count": 72,
   "metadata": {},
   "outputs": [
    {
     "data": {
      "text/plain": [
       "array([8.07253821e-02, 2.37340287e-02, 1.90568738e-02, 7.98922570e-02,\n",
       "       1.45743765e-02, 1.15358027e-02, 3.18657682e-02, 1.10837137e-01,\n",
       "       1.20059376e-01, 8.96153785e-04, 2.37748023e-04, 2.74594553e-04,\n",
       "       5.21359072e-04, 3.23591862e-05, 4.81955370e-04, 5.68859958e-05,\n",
       "       2.22329457e-03, 3.61602137e-04, 2.01753661e-04, 2.06732900e-04,\n",
       "       2.39344021e-04, 2.08345155e-04, 4.81414140e-04, 3.02607982e-04,\n",
       "       2.77436977e-04, 1.26311269e-03, 3.22736483e-04, 1.32976134e-04,\n",
       "       4.56904830e-04, 3.80118982e-04, 3.21075015e-04, 3.86543245e-04,\n",
       "       5.02096427e-04, 5.88846836e-04, 2.94011565e-04, 4.69029593e-04,\n",
       "       2.84160928e-04, 3.57527496e-03, 3.00877716e-04, 4.57157453e-04,\n",
       "       1.41485954e-03, 1.22639446e-04, 4.05105842e-04, 3.45884822e-04,\n",
       "       7.31641498e-05, 1.49188989e-04, 3.62681209e-04, 5.68251385e-05,\n",
       "       2.05535518e-03, 1.30797565e-03, 9.95517689e-05, 2.42158949e-03,\n",
       "       8.86319713e-04, 2.43228143e-06, 8.57747891e-04, 5.33008358e-04,\n",
       "       2.61303139e-05, 4.46183258e-04, 9.92606825e-04, 6.06526346e-04,\n",
       "       2.20936759e-04, 1.10365361e-04, 8.61989336e-04, 5.53650056e-04,\n",
       "       7.20835413e-04, 4.26255584e-04, 5.43356046e-04, 1.85285511e-04,\n",
       "       5.28946734e-04, 8.73354379e-04, 1.62684089e-03, 7.00515907e-04,\n",
       "       2.44473011e-05, 1.07722150e-02, 6.52623063e-05, 1.24730671e-03,\n",
       "       5.31528963e-04, 4.72221962e-04, 3.45211737e-04, 1.49206955e-04,\n",
       "       1.01494735e-03, 5.93135306e-04, 1.83267035e-04, 1.02810388e-03,\n",
       "       5.58759039e-04, 1.49395551e-03, 8.27834992e-04, 7.38381036e-05,\n",
       "       7.62567587e-05, 1.31739005e-04, 1.06382272e-04, 9.57072968e-04,\n",
       "       2.60056688e-05, 9.39226608e-04, 2.24754475e-04, 1.34629671e-03,\n",
       "       7.60851778e-04, 4.60540297e-04, 7.68118148e-04, 2.43229694e-03,\n",
       "       3.56735629e-05, 1.27372255e-04, 9.02802698e-05, 1.79665037e-04,\n",
       "       6.23776523e-04, 6.86551871e-05, 3.14899273e-04, 1.15103882e-04,\n",
       "       1.12189000e-04, 1.14609277e-04, 6.94929676e-05, 2.87784607e-04,\n",
       "       7.77439434e-04, 4.40425990e-03, 3.86293308e-04, 9.16956120e-05,\n",
       "       1.09899049e-04, 3.68783045e-04, 1.72714912e-04, 4.90871898e-04,\n",
       "       1.37591938e-03, 4.39538261e-04, 1.23990880e-04, 2.51526057e-04,\n",
       "       5.70061904e-05, 1.18808973e-04, 1.73433691e-04, 2.98728020e-03,\n",
       "       1.10800167e-03, 1.32992037e-04, 6.86691534e-04, 6.72560116e-05,\n",
       "       1.49837796e-04, 6.76647106e-05, 4.09683987e-04, 1.08827723e-04,\n",
       "       4.61282901e-04, 1.41738272e-03, 2.69729756e-04, 8.19372435e-05,\n",
       "       5.63196977e-03, 1.39121278e-04, 2.02831022e-04, 1.39470274e-03,\n",
       "       1.41060354e-03, 1.14628686e-03, 8.82589109e-05, 2.12626667e-04,\n",
       "       2.67246163e-04, 4.03487703e-04, 1.90058960e-04, 1.63914614e-04,\n",
       "       3.30865907e-04, 7.81357224e-04, 1.19412873e-03, 3.99411644e-03,\n",
       "       1.29440265e-03, 3.98846907e-04, 1.75127562e-04, 2.42218529e-03,\n",
       "       9.46512506e-04, 7.08837994e-04, 1.44595548e-04, 2.03565441e-04,\n",
       "       1.48026049e-04, 1.76179118e-04, 1.12041092e-04, 3.29210433e-03,\n",
       "       1.31582047e-03, 4.34518052e-04, 5.85390416e-05, 7.84360345e-05,\n",
       "       3.26064713e-04, 5.31244861e-04, 1.37887177e-03, 3.07572871e-04,\n",
       "       3.66676407e-04, 5.54135036e-03, 1.30258938e-04, 8.99113779e-04,\n",
       "       6.98231099e-05, 4.03819862e-04, 6.53769785e-05, 9.07704756e-05,\n",
       "       1.22981099e-04, 1.15515444e-04, 4.99943787e-04, 1.79234980e-04,\n",
       "       3.36332601e-04, 2.48908629e-04, 5.50661884e-05, 4.19257940e-03,\n",
       "       1.15603858e-04, 3.05647593e-04, 5.13969981e-03, 1.18617433e-04,\n",
       "       3.74239323e-04, 2.66939532e-04, 8.78228494e-05, 4.27371466e-05,\n",
       "       1.36604786e-03, 9.13966093e-05, 1.06318341e-04, 3.59702405e-05,\n",
       "       8.15715082e-04, 1.27644940e-03, 1.50153088e-03, 1.43729112e-04,\n",
       "       2.45806236e-04, 3.61410600e-04, 1.13487208e-04, 4.87151534e-03,\n",
       "       4.72401607e-05, 9.51165057e-04, 2.58748208e-05, 3.08305772e-05,\n",
       "       5.68330316e-05, 3.03482748e-05, 3.08584328e-05, 6.58003536e-05,\n",
       "       1.91245660e-05, 8.80469463e-04, 2.47726381e-05, 4.17208433e-03,\n",
       "       2.55018756e-05, 4.23980637e-04, 4.73854052e-05, 5.38518893e-05,\n",
       "       8.17482406e-05, 1.48298316e-03, 6.88066612e-04, 1.02371810e-03,\n",
       "       1.50559552e-03, 1.13687285e-03, 6.06326057e-05, 8.11111206e-05,\n",
       "       1.66173329e-04, 1.57621117e-03, 3.92641442e-04, 2.02443378e-04,\n",
       "       3.16134021e-04, 2.70820382e-05, 7.43087217e-04, 2.03092276e-03,\n",
       "       2.20339858e-05, 1.47630971e-05, 6.98278102e-04, 1.03085738e-03,\n",
       "       9.46561786e-04, 2.82479256e-05, 2.68237947e-05, 1.72587066e-05,\n",
       "       2.36931085e-05, 1.92190830e-03, 1.08714503e-05, 1.00763472e-04,\n",
       "       4.50082878e-05, 1.03806521e-05, 1.19003909e-05, 1.52660338e-03,\n",
       "       1.03960778e-04, 6.20048100e-05, 7.28902876e-05, 5.52705033e-05,\n",
       "       1.25797326e-05, 1.76966458e-04, 6.59173486e-05, 1.46585046e-03,\n",
       "       1.26416996e-03, 3.97748094e-05, 2.78350858e-03, 2.47425265e-05,\n",
       "       1.16596825e-03, 1.78799648e-03, 3.09803274e-03, 1.02165818e-03,\n",
       "       1.12861958e-03, 1.72616050e-03, 2.34222345e-03, 2.82604798e-05,\n",
       "       1.74014974e-05, 2.21905039e-03, 4.18343471e-03, 7.21060313e-05,\n",
       "       1.90415046e-04, 1.60319205e-05, 3.98162479e-05, 2.64831541e-05,\n",
       "       2.44731484e-05, 3.31058696e-05, 2.30433861e-05, 2.92942945e-05,\n",
       "       1.83457301e-05, 4.57420226e-05, 2.11892849e-04, 1.62519290e-05,\n",
       "       2.58402111e-05, 3.37027517e-05, 1.26333147e-05, 1.69322387e-05,\n",
       "       7.16102233e-05, 3.30158361e-05, 1.38056891e-05, 1.04242645e-05,\n",
       "       6.51647721e-05, 5.15763790e-05, 1.09481913e-03, 6.35687691e-05,\n",
       "       2.31196341e-04, 5.08228412e-03, 1.38616592e-04, 4.19283486e-05,\n",
       "       3.11040615e-05, 9.03190622e-04, 1.06273384e-03, 3.74153475e-05,\n",
       "       5.12682545e-05, 1.69466345e-05, 4.01369911e-05, 2.47218212e-05,\n",
       "       2.00525778e-04, 2.54354373e-04, 5.83214634e-04, 1.18532362e-05,\n",
       "       2.49632384e-03, 3.94975952e-05, 4.12503666e-05, 9.51851627e-05,\n",
       "       7.11554800e-03, 8.71789729e-05, 7.93717077e-05, 4.46810138e-03,\n",
       "       2.51071624e-05, 3.43097086e-05, 2.69065936e-05, 4.50257277e-05,\n",
       "       1.09458857e-04, 1.14129306e-03, 5.42389160e-03, 1.01920630e-04,\n",
       "       8.55612929e-04, 6.73484051e-04, 1.63527218e-03, 2.96735779e-04,\n",
       "       7.90741743e-04, 2.57584654e-05, 4.65886550e-05, 3.47878774e-05,\n",
       "       8.78080303e-05, 1.58043843e-05, 9.31734272e-04, 1.36098253e-03,\n",
       "       1.10338569e-03, 1.12218909e-04, 1.89299166e-04, 1.82708529e-05,\n",
       "       9.17526283e-04, 1.54819045e-04, 3.17949450e-03, 3.78956225e-03,\n",
       "       1.16309847e-04, 1.24493808e-03, 1.45625208e-04, 5.19485814e-05,\n",
       "       1.09706042e-04, 1.34904602e-03, 3.10012459e-04, 3.77374911e-04,\n",
       "       1.86035238e-04, 2.81752714e-04, 5.94031227e-04, 1.66275862e-04,\n",
       "       2.38121457e-04, 7.82387375e-05, 3.66831237e-04, 1.86636780e-03,\n",
       "       6.59286258e-05, 1.28757018e-04, 3.55382003e-04, 4.21282170e-04,\n",
       "       6.15625999e-05, 2.09317502e-04, 3.10662807e-05, 1.59595072e-05,\n",
       "       1.00999048e-03, 1.12356777e-04, 1.74518126e-03, 3.41692177e-03,\n",
       "       1.08869318e-03, 1.21085366e-04, 1.99683726e-04, 8.21632031e-04,\n",
       "       2.22816342e-03, 1.23306683e-03, 1.37625429e-04, 8.09575761e-04,\n",
       "       6.94282124e-04, 7.96745605e-04, 1.12873065e-03, 1.16362104e-03,\n",
       "       8.68719389e-06, 1.75750070e-04, 3.43618786e-04, 1.24274060e-04,\n",
       "       8.06539011e-05, 3.65155130e-03, 2.51868428e-04, 1.48155486e-04,\n",
       "       3.07924625e-05, 4.52095720e-04, 9.92695272e-04, 1.25339165e-03,\n",
       "       4.32929590e-05, 2.47465766e-05, 1.95027557e-05, 4.60794178e-05,\n",
       "       1.58490047e-05, 1.65039858e-04, 8.47741419e-05, 1.95552625e-05,\n",
       "       9.79884404e-05, 6.71312646e-05, 2.99763497e-05, 3.17796850e-05,\n",
       "       2.39633452e-05, 5.42230694e-05, 8.05727018e-03, 2.31091216e-04,\n",
       "       2.49162867e-05, 1.06609907e-03, 7.87962541e-04, 1.63495935e-04,\n",
       "       5.22041095e-06, 1.43326209e-05, 2.55893847e-03, 4.25283555e-05,\n",
       "       5.52213536e-05, 2.40888946e-03, 6.95930954e-05, 8.76025481e-04,\n",
       "       2.21532570e-04, 6.03322260e-04, 1.51777550e-04, 1.72066407e-04,\n",
       "       3.88665475e-04, 6.02667632e-04, 7.49215966e-04, 1.94112175e-04,\n",
       "       4.30360445e-04, 4.00197839e-04, 6.92208380e-03, 6.96861551e-05,\n",
       "       1.60845272e-04, 2.07474760e-03, 1.87768419e-03, 3.20881207e-03,\n",
       "       5.30107590e-04, 3.26298064e-04, 6.02312303e-04, 8.08940798e-05,\n",
       "       2.93734158e-03, 2.96017265e-04, 9.33895396e-04, 5.00225473e-04,\n",
       "       6.93631993e-04, 2.13789319e-05, 1.38591360e-04, 2.25984534e-03,\n",
       "       4.55108070e-04, 3.35246461e-04, 3.49727348e-04, 5.40741756e-04,\n",
       "       1.49591339e-03, 6.05599716e-04, 2.86452452e-05, 3.19243272e-04,\n",
       "       5.65303145e-04, 3.21472044e-04, 5.77931484e-08, 2.18522243e-04,\n",
       "       1.39421381e-03, 2.95981703e-04, 9.54360726e-04, 2.72939024e-04,\n",
       "       5.61607548e-04, 4.53116334e-04, 7.10246092e-04, 6.14105885e-05,\n",
       "       8.66808380e-04, 1.15624382e-05, 9.33703547e-04, 1.04842633e-04,\n",
       "       5.12611841e-05, 6.88458761e-04, 7.10702929e-05, 1.77728626e-03,\n",
       "       1.46055295e-04, 1.47883468e-04, 4.45125067e-05, 4.21341487e-04,\n",
       "       2.04480664e-04, 1.55226072e-03, 5.52097932e-04, 5.47464561e-04,\n",
       "       5.39085770e-05, 7.50746251e-05, 2.79325606e-03, 9.96531342e-04,\n",
       "       6.69662257e-05, 1.88465583e-05, 4.78236222e-05, 8.98473322e-05,\n",
       "       1.25410572e-05, 5.13835580e-05, 6.55472422e-03, 1.80709290e-05,\n",
       "       8.72136569e-03, 6.74339179e-05, 4.35186218e-05, 4.15084131e-03,\n",
       "       7.29573532e-03, 3.48104939e-03, 5.52700007e-03, 3.36054247e-04,\n",
       "       5.69601194e-05, 8.90012576e-04, 6.57287852e-04, 3.56248433e-03,\n",
       "       2.11160441e-03, 1.24724299e-03, 2.39210125e-03, 1.08634556e-03,\n",
       "       6.45130352e-05, 6.90840552e-04, 9.19800134e-04, 4.33274412e-04,\n",
       "       5.07451569e-05, 2.17468979e-04, 3.50552441e-04, 2.43547156e-04,\n",
       "       9.11493380e-05, 5.49875470e-04, 1.58824599e-03, 1.82563231e-04,\n",
       "       5.17684169e-04, 1.23981783e-04, 3.34688886e-04, 5.61043914e-05,\n",
       "       1.00504107e-03, 3.22623076e-04, 1.94152638e-04, 3.87446841e-04,\n",
       "       7.56124425e-04, 3.19639332e-04, 1.62918369e-04, 2.23577672e-04,\n",
       "       4.04740634e-04, 5.55961462e-04, 1.39151872e-04, 6.10648834e-04,\n",
       "       6.80852971e-05, 4.76260583e-04, 4.38611452e-04, 7.23006926e-04,\n",
       "       1.08344363e-03, 1.36064417e-05, 2.51224698e-04, 2.51357141e-05,\n",
       "       7.80475011e-04, 7.81716403e-05, 1.64822460e-06, 4.70201326e-04,\n",
       "       1.41039467e-04, 4.52628200e-04, 5.59767109e-05, 6.39449541e-05,\n",
       "       1.04660332e-03, 8.26330518e-04, 3.42494456e-04, 4.80580412e-04,\n",
       "       2.36616362e-04, 1.78416884e-04, 6.66550328e-04, 3.89583639e-04,\n",
       "       3.44841796e-04, 3.05375377e-03, 2.64710590e-02, 2.69850825e-04,\n",
       "       1.26087004e-04, 4.11785250e-04, 8.50967059e-04, 7.74579297e-04,\n",
       "       9.71574489e-06, 8.80047005e-04, 5.67902851e-05, 8.80950086e-05,\n",
       "       4.92661880e-04, 5.44836746e-04, 1.65376716e-04, 2.47608007e-04,\n",
       "       1.37780880e-04, 3.38401830e-04, 1.48015440e-04, 7.31206524e-04,\n",
       "       2.40658394e-04, 2.21476873e-04, 4.01244885e-04, 5.68380398e-04,\n",
       "       8.72693247e-04, 1.31435476e-04, 1.69900423e-05, 2.81938659e-05,\n",
       "       1.56073547e-04, 9.46759138e-05, 9.49311556e-04, 5.02948404e-04,\n",
       "       2.73661415e-04, 1.09937718e-03, 4.65948774e-05, 1.85275554e-04,\n",
       "       6.51879351e-04, 3.68042038e-04, 3.11455138e-04, 9.79886226e-04,\n",
       "       1.62909876e-04, 1.77958509e-04, 2.37084004e-03, 8.52348313e-04,\n",
       "       1.55600274e-03, 7.43231121e-04, 1.23656732e-03, 3.11003928e-03,\n",
       "       3.53722651e-04, 2.81554443e-04, 4.27004494e-04, 1.22336708e-04,\n",
       "       7.53431564e-04, 2.58362202e-04, 7.19555212e-04, 1.34052473e-04,\n",
       "       9.09102612e-05, 1.07014548e-03, 3.26085152e-04, 2.12291881e-04,\n",
       "       4.28477713e-04, 6.59486165e-04, 1.54727033e-04, 1.00503594e-04,\n",
       "       1.04331612e-03, 1.65503283e-03, 4.93860696e-04, 1.23306276e-02,\n",
       "       5.62453577e-03, 1.19576019e-02])"
      ]
     },
     "execution_count": 72,
     "metadata": {},
     "output_type": "execute_result"
    }
   ],
   "source": [
    "final_model['rfc'].feature_importances_"
   ]
  },
  {
   "cell_type": "markdown",
   "metadata": {},
   "source": [
    "## Exercise: Your Turn!"
   ]
  },
  {
   "cell_type": "markdown",
   "metadata": {},
   "source": [
    "Use SMOTE and an estimator (model) of your choice in a pipeline to model the exoplanets' method of discovery (\"method\"). You can build a model one feature at a time or just throw them all in from the beginning. Consider using the LabelEncoder (from sklearn.preprocessing) to code up the target. You'll also need to make a choice about how to handle the null values."
   ]
  },
  {
   "cell_type": "code",
   "execution_count": null,
   "metadata": {},
   "outputs": [],
   "source": [
    "exos = sns.load_dataset('planets')"
   ]
  },
  {
   "cell_type": "code",
   "execution_count": null,
   "metadata": {},
   "outputs": [],
   "source": [
    "### Your work here\n",
    "\n",
    "\n",
    "\n",
    "\n",
    "\n",
    "\n"
   ]
  },
  {
   "cell_type": "code",
   "execution_count": null,
   "metadata": {},
   "outputs": [],
   "source": []
  }
 ],
 "metadata": {
  "kernelspec": {
   "display_name": "Python (learn-env)",
   "language": "python",
   "name": "learn-env"
  },
  "language_info": {
   "codemirror_mode": {
    "name": "ipython",
    "version": 3
   },
   "file_extension": ".py",
   "mimetype": "text/x-python",
   "name": "python",
   "nbconvert_exporter": "python",
   "pygments_lexer": "ipython3",
   "version": "3.8.5"
  }
 },
 "nbformat": 4,
 "nbformat_minor": 4
}
