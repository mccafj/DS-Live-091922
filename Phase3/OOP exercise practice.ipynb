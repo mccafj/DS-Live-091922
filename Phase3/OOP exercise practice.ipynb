{
 "cells": [
  {
   "cell_type": "code",
   "execution_count": null,
   "metadata": {},
   "outputs": [],
   "source": [
    "#  https://pynative.com/python-object-oriented-programming-oop-exercise/"
   ]
  },
  {
   "cell_type": "code",
   "execution_count": 2,
   "metadata": {},
   "outputs": [],
   "source": [
    "# Exercise 1  - Write a Python program to \n",
    "# create a Vehicle class with max_speed and mileage instance attributes.\n",
    "class Vehicle():\n",
    "    def __init__(self, max_speed, mileage):\n",
    "        self.max_speed = max_speed\n",
    "        self.mileage = mileage"
   ]
  },
  {
   "cell_type": "code",
   "execution_count": 3,
   "metadata": {},
   "outputs": [],
   "source": [
    "# Exercise 2  - Create a Vehicle class without any variables and methods\n",
    "class Vehicle():\n",
    "    pass"
   ]
  },
  {
   "cell_type": "code",
   "execution_count": null,
   "metadata": {},
   "outputs": [],
   "source": [
    "# Exercise 3 - Create a child class Bus that will \n",
    "# inherit all of the variables and methods of the Vehicle class\n",
    "class Vehicle:\n",
    "\n",
    "    def __init__(self, name, max_speed, mileage):\n",
    "        self.name = name\n",
    "        self.max_speed = max_speed\n",
    "        self.mileage = mileage\n",
    "        \n",
    "class Bus (Vehicle):\n",
    "    pass"
   ]
  },
  {
   "cell_type": "code",
   "execution_count": 4,
   "metadata": {},
   "outputs": [],
   "source": [
    "# Exercise 4  - Class inheritance\n",
    "# Create a Bus class that inherits from the Vehicle class. \n",
    "# Give the capacity argument of Bus.seating_capacity() a default value of 50.\n",
    "\n",
    "class Vehicle:\n",
    "    def __init__(self, name, max_speed, mileage):\n",
    "        self.name = name\n",
    "        self.max_speed = max_speed\n",
    "        self.mileage = mileage\n",
    "\n",
    "    def seating_capacity(self, capacity):\n",
    "        return f\"The seating capacity of a {self.name} is {capacity} passengers\"\n",
    "\n",
    "class Bus (Vehicle):\n",
    "    def seating_capacity(self, capacity = 50):\n",
    "        self.capacity = capacity\n",
    "        return super().seating_capacity(self.capacity)"
   ]
  },
  {
   "cell_type": "code",
   "execution_count": 8,
   "metadata": {},
   "outputs": [],
   "source": [
    "school_bus = Bus('bus', 120, 100)"
   ]
  },
  {
   "cell_type": "code",
   "execution_count": 10,
   "metadata": {},
   "outputs": [
    {
     "data": {
      "text/plain": [
       "'The seating capacity of a bus is 100 passengers'"
      ]
     },
     "execution_count": 10,
     "metadata": {},
     "output_type": "execute_result"
    }
   ],
   "source": [
    "school_bus.seating_capacity(100)"
   ]
  },
  {
   "cell_type": "code",
   "execution_count": 44,
   "metadata": {},
   "outputs": [
    {
     "name": "stdout",
     "output_type": "stream",
     "text": [
      "White School Volvo Speed: 180 Mileage: 12\n",
      "White Audi Q5 Speed: 240 Mileage: 18\n"
     ]
    }
   ],
   "source": [
    "# Exercise 5 - Define a property that \n",
    "# must have the same value for every class instance (object)\n",
    "# Define a class attribute”color” with a default value white. \n",
    "# I.e., Every Vehicle should be white.\n",
    "\n",
    "class Vehicle:\n",
    "    # Class attribute\n",
    "    color = \"White\"\n",
    "\n",
    "    def __init__(self, name, max_speed, mileage):\n",
    "        self.name = name\n",
    "        self.max_speed = max_speed\n",
    "        self.mileage = mileage\n",
    "\n",
    "class Bus(Vehicle):\n",
    "    pass\n",
    "\n",
    "class Car(Vehicle):\n",
    "    pass\n",
    "\n",
    "School_bus = Bus(\"School Volvo\", 180, 12)\n",
    "print(School_bus.color, School_bus.name, \"Speed:\", School_bus.max_speed, \"Mileage:\", School_bus.mileage)\n",
    "\n",
    "car = Car(\"Audi Q5\", 240, 18)\n",
    "print(car.color, car.name, \"Speed:\", car.max_speed, \"Mileage:\", car.mileage)"
   ]
  },
  {
   "cell_type": "code",
   "execution_count": 31,
   "metadata": {},
   "outputs": [
    {
     "name": "stdout",
     "output_type": "stream",
     "text": [
      "Total Bus fare is: 5500.0\n"
     ]
    }
   ],
   "source": [
    "# Exercise 6  - Class inheritance\n",
    "# Create a Bus child class that inherits from the Vehicle class. \n",
    "# The default fare charge of any vehicle is seating capacity * 100. \n",
    "# If Vehicle is Bus instance, we need to add an extra 10% on full fare as a \n",
    "# maintenance charge. So total fare for bus \n",
    "# instance will become the final amount = total fare + 10% of the total fare.\n",
    "\n",
    "# Note: The bus seating capacity is 50. so the final fare amount should be 5500. \n",
    "# You need to override the fare() method of a Vehicle class in Bus class\n",
    "\n",
    "class Vehicle:\n",
    "    def __init__(self, name, mileage, capacity):\n",
    "        self.name = name\n",
    "        self.mileage = mileage\n",
    "        self.capacity = capacity\n",
    "\n",
    "    def fare(self):\n",
    "        return self.capacity * 100\n",
    "\n",
    "class Bus(Vehicle):\n",
    "    def fare(self):\n",
    "        amount = super().fare()\n",
    "        amount += amount * 10/100\n",
    "        return amount\n",
    "\n",
    "School_bus = Bus(\"School Volvo\", 12, 50)\n",
    "print(\"Total Bus fare is:\", School_bus.fare())"
   ]
  },
  {
   "cell_type": "code",
   "execution_count": 32,
   "metadata": {},
   "outputs": [
    {
     "name": "stdout",
     "output_type": "stream",
     "text": [
      "<class '__main__.Bus'>\n"
     ]
    }
   ],
   "source": [
    "#Exercise 7 - \n",
    "# Write a program to determine which class a given Bus object belongs to.\n",
    "\n",
    "class Vehicle:\n",
    "    def __init__(self, name, mileage, capacity):\n",
    "        self.name = name\n",
    "        self.mileage = mileage\n",
    "        self.capacity = capacity\n",
    "\n",
    "class Bus(Vehicle):\n",
    "    pass\n",
    "\n",
    "School_bus = Bus(\"School Volvo\", 12, 50)\n",
    "\n",
    "# Python's built-in type()\n",
    "print(type(School_bus))"
   ]
  },
  {
   "cell_type": "code",
   "execution_count": 37,
   "metadata": {},
   "outputs": [
    {
     "name": "stdout",
     "output_type": "stream",
     "text": [
      "True\n"
     ]
    }
   ],
   "source": [
    "# Exercise 8 - Determine if School_bus is also an instance of the Vehicle class\n",
    "\n",
    "class Vehicle:\n",
    "    def __init__(self, name, mileage, capacity):\n",
    "        self.name = name\n",
    "        self.mileage = mileage\n",
    "        self.capacity = capacity\n",
    "\n",
    "class Bus(Vehicle):\n",
    "    pass\n",
    "\n",
    "School_bus = Bus(\"School Volvo\", 12, 50)\n",
    "\n",
    "# Python's built-in isinstance() function\n",
    "print(isinstance(School_bus, Vehicle))"
   ]
  },
  {
   "cell_type": "code",
   "execution_count": null,
   "metadata": {},
   "outputs": [],
   "source": [
    "# parsing JSON\n",
    "\n",
    "data_dictionary = {}"
   ]
  },
  {
   "cell_type": "code",
   "execution_count": null,
   "metadata": {},
   "outputs": [],
   "source": [
    "data_dictionary.keys()"
   ]
  },
  {
   "cell_type": "code",
   "execution_count": null,
   "metadata": {},
   "outputs": [],
   "source": [
    "data_dictionary.values()"
   ]
  },
  {
   "cell_type": "code",
   "execution_count": null,
   "metadata": {},
   "outputs": [],
   "source": [
    "class Monster:\n",
    "    def __init__(self, data)\n",
    "        self._height = data['height(m)']\n",
    "        self._weight = data['weight(kg)']\n",
    "        self._color = data['color']\n",
    "        self._appen = \n",
    "        "
   ]
  },
  {
   "cell_type": "code",
   "execution_count": null,
   "metadata": {},
   "outputs": [],
   "source": [
    "# instantiate\n",
    "monster_1 = Monster(data_dictionary)"
   ]
  },
  {
   "cell_type": "code",
   "execution_count": null,
   "metadata": {},
   "outputs": [],
   "source": [
    "# could index into a list as well, or a dictionary of lists, whatever"
   ]
  }
 ],
 "metadata": {
  "kernelspec": {
   "display_name": "Python (learn-env)",
   "language": "python",
   "name": "learn-env"
  },
  "language_info": {
   "codemirror_mode": {
    "name": "ipython",
    "version": 3
   },
   "file_extension": ".py",
   "mimetype": "text/x-python",
   "name": "python",
   "nbconvert_exporter": "python",
   "pygments_lexer": "ipython3",
   "version": "3.8.5"
  }
 },
 "nbformat": 4,
 "nbformat_minor": 4
}
