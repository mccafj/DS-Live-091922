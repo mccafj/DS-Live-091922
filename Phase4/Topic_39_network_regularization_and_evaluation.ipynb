{
 "cells": [
  {
   "cell_type": "markdown",
   "metadata": {
    "slideshow": {
     "slide_type": "slide"
    }
   },
   "source": [
    "# Regularization and Evaluation of Neural Networks"
   ]
  },
  {
   "cell_type": "code",
   "execution_count": 1,
   "metadata": {},
   "outputs": [],
   "source": [
    "from sklearn.datasets import load_sample_images\n",
    "from sklearn.datasets import load_digits\n",
    "from sklearn.model_selection import train_test_split, cross_val_score\n",
    "from sklearn.preprocessing import OneHotEncoder\n",
    "from sklearn.metrics import accuracy_score, confusion_matrix\n",
    "import matplotlib.pyplot as plt\n",
    "import matplotlib.image as mpimg\n",
    "import numpy as np\n",
    "import seaborn as sns\n",
    "\n",
    "from tensorflow.keras.models import Sequential\n",
    "from tensorflow.keras.layers import Dense, Dropout\n",
    "from tensorflow.keras.regularizers import l2\n",
    "from tensorflow.keras.optimizers import SGD\n",
    "from tensorflow.keras.wrappers import scikit_learn #necessary for eval.\n",
    "from tensorflow.keras.callbacks import EarlyStopping\n",
    "\n",
    "import os\n",
    "import sys\n",
    "module_path = os.path.abspath(os.path.join(os.pardir, os.pardir))\n",
    "if module_path not in sys.path:\n",
    "    sys.path.append(module_path)\n",
    "    \n",
    "%load_ext autoreload\n",
    "%autoreload 2"
   ]
  },
  {
   "cell_type": "markdown",
   "metadata": {},
   "source": [
    "## Learning Objectives\n",
    "\n",
    "- use `keras` to code up a neural network model;\n",
    "- explain dropout and early stopping as distinctive forms of regularization in neural networks;\n",
    "- use wrappers inside `keras` to make models that can jibe with `sklearn`."
   ]
  },
  {
   "cell_type": "markdown",
   "metadata": {},
   "source": [
    "### From last time"
   ]
  },
  {
   "cell_type": "code",
   "execution_count": 4,
   "metadata": {},
   "outputs": [],
   "source": [
    "digits = load_digits()\n",
    "X_data = digits.data\n",
    "y_target = digits.target\n",
    "X = np.asarray(X_data).astype(np.float32)\n",
    "y = np.asarray(y_target).astype(np.float32)\n",
    "\n",
    "y_binary = y % 2"
   ]
  },
  {
   "cell_type": "code",
   "execution_count": 5,
   "metadata": {},
   "outputs": [
    {
     "name": "stdout",
     "output_type": "stream",
     "text": [
      "Epoch 1/30\n",
      "60/60 [==============================] - 0s 2ms/step - loss: 1.1908 - accuracy: 0.5465\n",
      "Epoch 2/30\n",
      "60/60 [==============================] - 0s 2ms/step - loss: 0.4620 - accuracy: 0.7769\n",
      "Epoch 3/30\n",
      "60/60 [==============================] - 0s 1ms/step - loss: 0.3705 - accuracy: 0.8191\n",
      "Epoch 4/30\n",
      "60/60 [==============================] - 0s 1ms/step - loss: 0.3079 - accuracy: 0.8564\n",
      "Epoch 5/30\n",
      "60/60 [==============================] - 0s 1ms/step - loss: 0.2527 - accuracy: 0.9009\n",
      "Epoch 6/30\n",
      "60/60 [==============================] - 0s 995us/step - loss: 0.2123 - accuracy: 0.9226\n",
      "Epoch 7/30\n",
      "60/60 [==============================] - 0s 1ms/step - loss: 0.1843 - accuracy: 0.9293\n",
      "Epoch 8/30\n",
      "60/60 [==============================] - 0s 1ms/step - loss: 0.1659 - accuracy: 0.9371\n",
      "Epoch 9/30\n",
      "60/60 [==============================] - 0s 1ms/step - loss: 0.1459 - accuracy: 0.9488\n",
      "Epoch 10/30\n",
      "60/60 [==============================] - 0s 1ms/step - loss: 0.1334 - accuracy: 0.9499\n",
      "Epoch 11/30\n",
      "60/60 [==============================] - 0s 1ms/step - loss: 0.1209 - accuracy: 0.9560\n",
      "Epoch 12/30\n",
      "60/60 [==============================] - 0s 959us/step - loss: 0.1086 - accuracy: 0.9577\n",
      "Epoch 13/30\n",
      "60/60 [==============================] - 0s 1ms/step - loss: 0.1007 - accuracy: 0.9644\n",
      "Epoch 14/30\n",
      "60/60 [==============================] - 0s 1ms/step - loss: 0.0945 - accuracy: 0.9672\n",
      "Epoch 15/30\n",
      "60/60 [==============================] - 0s 966us/step - loss: 0.0870 - accuracy: 0.9699\n",
      "Epoch 16/30\n",
      "60/60 [==============================] - 0s 962us/step - loss: 0.0817 - accuracy: 0.9699\n",
      "Epoch 17/30\n",
      "60/60 [==============================] - 0s 963us/step - loss: 0.0785 - accuracy: 0.9744\n",
      "Epoch 18/30\n",
      "60/60 [==============================] - 0s 1ms/step - loss: 0.0714 - accuracy: 0.9727\n",
      "Epoch 19/30\n",
      "60/60 [==============================] - 0s 964us/step - loss: 0.0703 - accuracy: 0.9738\n",
      "Epoch 20/30\n",
      "60/60 [==============================] - 0s 952us/step - loss: 0.0635 - accuracy: 0.9789\n",
      "Epoch 21/30\n",
      "60/60 [==============================] - 0s 723us/step - loss: 0.0641 - accuracy: 0.9755\n",
      "Epoch 22/30\n",
      "60/60 [==============================] - 0s 903us/step - loss: 0.0572 - accuracy: 0.9789\n",
      "Epoch 23/30\n",
      "60/60 [==============================] - 0s 989us/step - loss: 0.0544 - accuracy: 0.9783\n",
      "Epoch 24/30\n",
      "60/60 [==============================] - 0s 1ms/step - loss: 0.0513 - accuracy: 0.9827\n",
      "Epoch 25/30\n",
      "60/60 [==============================] - 0s 1ms/step - loss: 0.0491 - accuracy: 0.9827\n",
      "Epoch 26/30\n",
      "60/60 [==============================] - 0s 950us/step - loss: 0.0449 - accuracy: 0.9861\n",
      "Epoch 27/30\n",
      "60/60 [==============================] - 0s 958us/step - loss: 0.0449 - accuracy: 0.9878\n",
      "Epoch 28/30\n",
      "60/60 [==============================] - 0s 953us/step - loss: 0.0395 - accuracy: 0.9883\n",
      "Epoch 29/30\n",
      "60/60 [==============================] - 0s 1ms/step - loss: 0.0381 - accuracy: 0.9883\n",
      "Epoch 30/30\n",
      "60/60 [==============================] - 0s 958us/step - loss: 0.0372 - accuracy: 0.9894\n"
     ]
    },
    {
     "data": {
      "text/plain": [
       "<tensorflow.python.keras.callbacks.History at 0x1b5e1ad53a0>"
      ]
     },
     "execution_count": 5,
     "metadata": {},
     "output_type": "execute_result"
    }
   ],
   "source": [
    "model = Sequential()\n",
    "model.add(Dense(12, activation='relu', input_dim=64))\n",
    "model.add(Dense(8, activation='relu'))\n",
    "model.add(Dense(1, activation='sigmoid'))\n",
    "\n",
    "model.compile(optimizer='rmsprop',\n",
    "              loss='binary_crossentropy',\n",
    "              metrics=['accuracy'])\n",
    "\n",
    "model.fit(X, y_binary, epochs=30, batch_size=30)"
   ]
  },
  {
   "cell_type": "markdown",
   "metadata": {},
   "source": [
    "### Things to know:\n",
    "\n",
    "- The data and labels in `fit()` need to be numpy arrays, not `pandas` dfs.\n",
    "- Scaling your data will have a large impact on your model.\n",
    "   > For our traditional input features, we would use a scaler object. For images, as long as the minimum value is 0, we can simply divide through by the maximum pixel intensity."
   ]
  },
  {
   "cell_type": "markdown",
   "metadata": {},
   "source": [
    "#### Getting data ready for modeling\n",
    "**Preprocessing**:\n",
    "\n",
    "- use train_test_split to create X_train, y_train, X_test, and y_test\n",
    "- Split training data into pure_train and validation sets.\n",
    "- Scale the pixel intensity to a value between 0 and 1."
   ]
  },
  {
   "cell_type": "markdown",
   "metadata": {},
   "source": [
    "Scaling our input variables will help speed up our neural network.\n",
    "\n",
    "Since our minimum intensity is 0, we can normalize the inputs by dividing each value by the max value (16)."
   ]
  },
  {
   "cell_type": "code",
   "execution_count": 6,
   "metadata": {},
   "outputs": [],
   "source": [
    "X_train, X_test, y_train, y_test =\\\n",
    "    train_test_split(X, y_binary, random_state=42, test_size=0.2)\n",
    "\n",
    "X_pure_train, X_val, y_pure_train, y_val =\\\n",
    "    train_test_split(X_train, y_train, random_state=42, test_size=0.2)\n",
    "\n",
    "X_pure_train, X_val, X_test = X_pure_train/16, X_val/16, X_test/16"
   ]
  },
  {
   "cell_type": "markdown",
   "metadata": {},
   "source": [
    "For activation, let's start with the familiar sigmoid function, and see how it performs."
   ]
  },
  {
   "cell_type": "code",
   "execution_count": 7,
   "metadata": {},
   "outputs": [
    {
     "name": "stdout",
     "output_type": "stream",
     "text": [
      "Epoch 1/10\n",
      "12/12 [==============================] - 0s 1ms/step - loss: 0.6986 - accuracy: 0.5039\n",
      "Epoch 2/10\n",
      "12/12 [==============================] - 0s 971us/step - loss: 0.6968 - accuracy: 0.5039\n",
      "Epoch 3/10\n",
      "12/12 [==============================] - 0s 2ms/step - loss: 0.6952 - accuracy: 0.5039\n",
      "Epoch 4/10\n",
      "12/12 [==============================] - 0s 1ms/step - loss: 0.6942 - accuracy: 0.5039\n",
      "Epoch 5/10\n",
      "12/12 [==============================] - 0s 1ms/step - loss: 0.6933 - accuracy: 0.5039\n",
      "Epoch 6/10\n",
      "12/12 [==============================] - 0s 1ms/step - loss: 0.6926 - accuracy: 0.5039\n",
      "Epoch 7/10\n",
      "12/12 [==============================] - 0s 2ms/step - loss: 0.6921 - accuracy: 0.5039\n",
      "Epoch 8/10\n",
      "12/12 [==============================] - 0s 1ms/step - loss: 0.6916 - accuracy: 0.5039\n",
      "Epoch 9/10\n",
      "12/12 [==============================] - 0s 1ms/step - loss: 0.6913 - accuracy: 0.5039\n",
      "Epoch 10/10\n",
      "12/12 [==============================] - 0s 1ms/step - loss: 0.6911 - accuracy: 0.5039\n"
     ]
    }
   ],
   "source": [
    "model = Sequential()\n",
    "# We will start with our trusty sigmoid function.\n",
    "# What does input dimension correspond to? the # of features, or columns\n",
    "model.add(Dense(12, activation='sigmoid', input_dim=64))\n",
    "model.add(Dense(8, activation='sigmoid'))\n",
    "model.add(Dense(1, activation='sigmoid'))\n",
    "\n",
    "model.compile(optimizer='SGD' ,\n",
    "              # We use binary_crossentropy for a binary loss function\n",
    "              loss='binary_crossentropy',\n",
    "              metrics=['accuracy'])\n",
    "\n",
    "# Assign the variable history to store the results,\n",
    "# and set verbose=1 so we can see the output. To see\n",
    "# only the metrics at the end of each epoch, set verbose=2.\n",
    "results = model.fit(X_pure_train, y_pure_train, epochs=10, batch_size=100, verbose=1)"
   ]
  },
  {
   "cell_type": "markdown",
   "metadata": {},
   "source": [
    "We can access the history of our model via `results.history`.\n",
    "Use __dict__ to take a tour."
   ]
  },
  {
   "cell_type": "code",
   "execution_count": 8,
   "metadata": {},
   "outputs": [
    {
     "data": {
      "text/plain": [
       "{'validation_data': None,\n",
       " 'model': <tensorflow.python.keras.engine.sequential.Sequential at 0x1b5bf1af040>,\n",
       " '_chief_worker_only': None,\n",
       " '_supports_tf_logs': False,\n",
       " 'history': {'loss': [0.6986391544342041,\n",
       "   0.6967519521713257,\n",
       "   0.6952065825462341,\n",
       "   0.6941612362861633,\n",
       "   0.6933199167251587,\n",
       "   0.6926121711730957,\n",
       "   0.6920729875564575,\n",
       "   0.6916458010673523,\n",
       "   0.6913238167762756,\n",
       "   0.6910783648490906],\n",
       "  'accuracy': [0.5039164423942566,\n",
       "   0.5039164423942566,\n",
       "   0.5039164423942566,\n",
       "   0.5039164423942566,\n",
       "   0.5039164423942566,\n",
       "   0.5039164423942566,\n",
       "   0.5039164423942566,\n",
       "   0.5039164423942566,\n",
       "   0.5039164423942566,\n",
       "   0.5039164423942566]},\n",
       " 'params': {'verbose': 1, 'epochs': 10, 'steps': 12},\n",
       " 'epoch': [0, 1, 2, 3, 4, 5, 6, 7, 8, 9]}"
      ]
     },
     "execution_count": 8,
     "metadata": {},
     "output_type": "execute_result"
    }
   ],
   "source": [
    "results.__dict__"
   ]
  },
  {
   "cell_type": "code",
   "execution_count": 9,
   "metadata": {},
   "outputs": [
    {
     "data": {
      "image/png": "[encoded data removed]",
      "text/plain": [
       "<Figure size 720x360 with 2 Axes>"
      ]
     },
     "metadata": {
      "needs_background": "light"
     },
     "output_type": "display_data"
    }
   ],
   "source": [
    "sigmoid_loss = results.history['loss']\n",
    "sigmoid_accuracy = results.history['accuracy']\n",
    "\n",
    "fig, (ax1, ax2) = plt.subplots(1, 2, figsize=(10, 5))\n",
    "sns.lineplot(x=results.epoch, y=sigmoid_loss, ax=ax1, label='loss')\n",
    "sns.lineplot(x=results.epoch, y=sigmoid_accuracy, ax=ax2, label='accuracy');\n",
    "\n",
    "# loss is not reaching a low value, and accuracy curve is garbage"
   ]
  },
  {
   "cell_type": "markdown",
   "metadata": {},
   "source": [
    "We have two plots above both relating to the quality of our model.  The left-hand plot is our loss. It uses the probabilities associated with our predictions to judge how well our prediction fits reality. We want it to decrease as far as possible.\n",
    "\n",
    "The accuracy judges how well the predictions are after applying the threshold at the output layer.  We want accuracy to increase."
   ]
  },
  {
   "cell_type": "markdown",
   "metadata": {},
   "source": [
    "If we look at our loss, it is still decreasing. That is a signal that our model is **still learning**. If our model is still learning, we can allow it to get better by turning a few dials.\n",
    "\n",
    "Let's:\n",
    "- increase the number of epochs;\n",
    "- change sigmoid activation in the hidden layers to ReLU; and\n",
    "- decrease the batch size."
   ]
  },
  {
   "cell_type": "code",
   "execution_count": 10,
   "metadata": {},
   "outputs": [
    {
     "data": {
      "text/plain": [
       "1149"
      ]
     },
     "execution_count": 10,
     "metadata": {},
     "output_type": "execute_result"
    }
   ],
   "source": [
    "X_pure_train.shape[0]"
   ]
  },
  {
   "cell_type": "code",
   "execution_count": 11,
   "metadata": {},
   "outputs": [
    {
     "name": "stdout",
     "output_type": "stream",
     "text": [
      "Epoch 1/50\n",
      "23/23 [==============================] - 0s 2ms/step - loss: 0.6797 - accuracy: 0.5883\n",
      "Epoch 2/50\n",
      "23/23 [==============================] - 0s 1ms/step - loss: 0.6732 - accuracy: 0.6162\n",
      "Epoch 3/50\n",
      "23/23 [==============================] - 0s 1ms/step - loss: 0.6669 - accuracy: 0.6249\n",
      "Epoch 4/50\n",
      "23/23 [==============================] - 0s 2ms/step - loss: 0.6603 - accuracy: 0.6728\n",
      "Epoch 5/50\n",
      "23/23 [==============================] - 0s 981us/step - loss: 0.6529 - accuracy: 0.7023\n",
      "Epoch 6/50\n",
      "23/23 [==============================] - 0s 946us/step - loss: 0.6452 - accuracy: 0.7206\n",
      "Epoch 7/50\n",
      "23/23 [==============================] - 0s 945us/step - loss: 0.6372 - accuracy: 0.7232\n",
      "Epoch 8/50\n",
      "23/23 [==============================] - 0s 1ms/step - loss: 0.6284 - accuracy: 0.7380\n",
      "Epoch 9/50\n",
      "23/23 [==============================] - 0s 960us/step - loss: 0.6187 - accuracy: 0.7441\n",
      "Epoch 10/50\n",
      "23/23 [==============================] - 0s 725us/step - loss: 0.6075 - accuracy: 0.7607\n",
      "Epoch 11/50\n",
      "23/23 [==============================] - 0s 719us/step - loss: 0.5955 - accuracy: 0.7763\n",
      "Epoch 12/50\n",
      "23/23 [==============================] - 0s 917us/step - loss: 0.5833 - accuracy: 0.7850\n",
      "Epoch 13/50\n",
      "23/23 [==============================] - 0s 962us/step - loss: 0.5709 - accuracy: 0.7937\n",
      "Epoch 14/50\n",
      "23/23 [==============================] - 0s 782us/step - loss: 0.5583 - accuracy: 0.7946\n",
      "Epoch 15/50\n",
      "23/23 [==============================] - 0s 1ms/step - loss: 0.5452 - accuracy: 0.8042\n",
      "Epoch 16/50\n",
      "23/23 [==============================] - 0s 834us/step - loss: 0.5319 - accuracy: 0.8085\n",
      "Epoch 17/50\n",
      "23/23 [==============================] - 0s 1ms/step - loss: 0.5188 - accuracy: 0.8120\n",
      "Epoch 18/50\n",
      "23/23 [==============================] - 0s 1ms/step - loss: 0.5047 - accuracy: 0.8146\n",
      "Epoch 19/50\n",
      "23/23 [==============================] - 0s 1ms/step - loss: 0.4913 - accuracy: 0.8181\n",
      "Epoch 20/50\n",
      "23/23 [==============================] - 0s 1ms/step - loss: 0.4776 - accuracy: 0.8225\n",
      "Epoch 21/50\n",
      "23/23 [==============================] - 0s 664us/step - loss: 0.4644 - accuracy: 0.8198\n",
      "Epoch 22/50\n",
      "23/23 [==============================] - 0s 692us/step - loss: 0.4513 - accuracy: 0.8251\n",
      "Epoch 23/50\n",
      "23/23 [==============================] - 0s 926us/step - loss: 0.4387 - accuracy: 0.8251\n",
      "Epoch 24/50\n",
      "23/23 [==============================] - 0s 1ms/step - loss: 0.4265 - accuracy: 0.8364\n",
      "Epoch 25/50\n",
      "23/23 [==============================] - 0s 1ms/step - loss: 0.4148 - accuracy: 0.8372\n",
      "Epoch 26/50\n",
      "23/23 [==============================] - 0s 1ms/step - loss: 0.4042 - accuracy: 0.8390\n",
      "Epoch 27/50\n",
      "23/23 [==============================] - 0s 827us/step - loss: 0.3935 - accuracy: 0.8407\n",
      "Epoch 28/50\n",
      "23/23 [==============================] - 0s 643us/step - loss: 0.3833 - accuracy: 0.8416\n",
      "Epoch 29/50\n",
      "23/23 [==============================] - 0s 956us/step - loss: 0.3743 - accuracy: 0.8486\n",
      "Epoch 30/50\n",
      "23/23 [==============================] - 0s 556us/step - loss: 0.3653 - accuracy: 0.8494\n",
      "Epoch 31/50\n",
      "23/23 [==============================] - 0s 3ms/step - loss: 0.3567 - accuracy: 0.8581\n",
      "Epoch 32/50\n",
      "23/23 [==============================] - 0s 2ms/step - loss: 0.3494 - accuracy: 0.8564\n",
      "Epoch 33/50\n",
      "23/23 [==============================] - 0s 1ms/step - loss: 0.3420 - accuracy: 0.8599\n",
      "Epoch 34/50\n",
      "23/23 [==============================] - 0s 1ms/step - loss: 0.3350 - accuracy: 0.8616\n",
      "Epoch 35/50\n",
      "23/23 [==============================] - 0s 1ms/step - loss: 0.3281 - accuracy: 0.8625\n",
      "Epoch 36/50\n",
      "23/23 [==============================] - 0s 1ms/step - loss: 0.3228 - accuracy: 0.8651\n",
      "Epoch 37/50\n",
      "23/23 [==============================] - 0s 1ms/step - loss: 0.3164 - accuracy: 0.8651\n",
      "Epoch 38/50\n",
      "23/23 [==============================] - 0s 1ms/step - loss: 0.3107 - accuracy: 0.8677\n",
      "Epoch 39/50\n",
      "23/23 [==============================] - 0s 866us/step - loss: 0.3060 - accuracy: 0.8712\n",
      "Epoch 40/50\n",
      "23/23 [==============================] - 0s 1ms/step - loss: 0.3012 - accuracy: 0.8695\n",
      "Epoch 41/50\n",
      "23/23 [==============================] - 0s 968us/step - loss: 0.2954 - accuracy: 0.8747\n",
      "Epoch 42/50\n",
      "23/23 [==============================] - 0s 1ms/step - loss: 0.2926 - accuracy: 0.8712\n",
      "Epoch 43/50\n",
      "23/23 [==============================] - 0s 1ms/step - loss: 0.2880 - accuracy: 0.8773\n",
      "Epoch 44/50\n",
      "23/23 [==============================] - 0s 715us/step - loss: 0.2845 - accuracy: 0.8782\n",
      "Epoch 45/50\n",
      "23/23 [==============================] - 0s 778us/step - loss: 0.2804 - accuracy: 0.8816\n",
      "Epoch 46/50\n",
      "23/23 [==============================] - 0s 941us/step - loss: 0.2758 - accuracy: 0.8842\n",
      "Epoch 47/50\n",
      "23/23 [==============================] - 0s 924us/step - loss: 0.2738 - accuracy: 0.8851\n",
      "Epoch 48/50\n",
      "23/23 [==============================] - 0s 1ms/step - loss: 0.2699 - accuracy: 0.8808\n",
      "Epoch 49/50\n",
      "23/23 [==============================] - 0s 1ms/step - loss: 0.2672 - accuracy: 0.8886\n",
      "Epoch 50/50\n",
      "23/23 [==============================] - 0s 775us/step - loss: 0.2641 - accuracy: 0.8877\n"
     ]
    }
   ],
   "source": [
    "model = Sequential()\n",
    "model.add(Dense(12, activation='relu', input_dim=64))\n",
    "model.add(Dense(8, activation='relu'))\n",
    "model.add(Dense(1, activation='sigmoid'))\n",
    "\n",
    "model.compile(optimizer='SGD',  #stochastic grade descent\n",
    "              loss='binary_crossentropy',\n",
    "              metrics=['accuracy'])\n",
    "\n",
    "# Assign the variable history to store the results,\n",
    "# and set verbose=1 so we can see the output.\n",
    "results = model.fit(X_pure_train, y_pure_train, epochs=50, batch_size=50, verbose=1)\n",
    "\n",
    "# 30 epochs was not enough.  Still learning.  Upped to 50\n",
    "# 50 still didn't assymptote out on plot below.  Trying to hit the\n",
    "# minimum, and accuracy should be going up and up and up\n"
   ]
  },
  {
   "cell_type": "code",
   "execution_count": 12,
   "metadata": {},
   "outputs": [
    {
     "data": {
      "image/png": "[encoded data removed]",
      "text/plain": [
       "<Figure size 720x360 with 2 Axes>"
      ]
     },
     "metadata": {
      "needs_background": "light"
     },
     "output_type": "display_data"
    }
   ],
   "source": [
    "sigmoid_loss = results.history['loss']\n",
    "sigmoid_accuracy = results.history['accuracy']\n",
    "\n",
    "fig, (ax1, ax2) = plt.subplots(1, 2, figsize=(10, 5))\n",
    "sns.lineplot(x=results.epoch, y=sigmoid_loss, ax=ax1, label='loss')\n",
    "sns.lineplot(x=results.epoch, y=sigmoid_accuracy, ax=ax2, label='accuracy');"
   ]
  },
  {
   "cell_type": "markdown",
   "metadata": {},
   "source": [
    "If we increase the learning rate to a very high number (too big a step size), we see that our model overshoots the minimum, and starts bouncing all around."
   ]
  },
  {
   "cell_type": "code",
   "execution_count": 13,
   "metadata": {},
   "outputs": [
    {
     "name": "stdout",
     "output_type": "stream",
     "text": [
      "Epoch 1/30\n",
      "115/115 [==============================] - 0s 2ms/step - loss: 518.9327 - accuracy: 0.5004\n",
      "Epoch 2/30\n",
      "115/115 [==============================] - 0s 1ms/step - loss: 0.9891 - accuracy: 0.4978\n",
      "Epoch 3/30\n",
      "115/115 [==============================] - 0s 1ms/step - loss: 1.1581 - accuracy: 0.4639\n",
      "Epoch 4/30\n",
      "115/115 [==============================] - 0s 921us/step - loss: 1.0453 - accuracy: 0.4909\n",
      "Epoch 5/30\n",
      "115/115 [==============================] - 0s 925us/step - loss: 1.0169 - accuracy: 0.4891\n",
      "Epoch 6/30\n",
      "115/115 [==============================] - 0s 980us/step - loss: 1.0034 - accuracy: 0.5144\n",
      "Epoch 7/30\n",
      "115/115 [==============================] - 0s 1ms/step - loss: 1.0140 - accuracy: 0.4996\n",
      "Epoch 8/30\n",
      "115/115 [==============================] - 0s 1ms/step - loss: 0.9397 - accuracy: 0.5030\n",
      "Epoch 9/30\n",
      "115/115 [==============================] - 0s 1ms/step - loss: 0.9915 - accuracy: 0.5100\n",
      "Epoch 10/30\n",
      "115/115 [==============================] - 0s 944us/step - loss: 0.9681 - accuracy: 0.5135\n",
      "Epoch 11/30\n",
      "115/115 [==============================] - 0s 1ms/step - loss: 0.9392 - accuracy: 0.5205\n",
      "Epoch 12/30\n",
      "115/115 [==============================] - 0s 976us/step - loss: 1.0755 - accuracy: 0.4909\n",
      "Epoch 13/30\n",
      "115/115 [==============================] - 0s 1ms/step - loss: 1.0053 - accuracy: 0.4856\n",
      "Epoch 14/30\n",
      "115/115 [==============================] - 0s 1ms/step - loss: 0.9443 - accuracy: 0.5300\n",
      "Epoch 15/30\n",
      "115/115 [==============================] - 0s 1ms/step - loss: 0.8824 - accuracy: 0.5196\n",
      "Epoch 16/30\n",
      "115/115 [==============================] - 0s 1ms/step - loss: 0.9573 - accuracy: 0.5248\n",
      "Epoch 17/30\n",
      "115/115 [==============================] - 0s 1ms/step - loss: 1.0759 - accuracy: 0.4883\n",
      "Epoch 18/30\n",
      "115/115 [==============================] - 0s 1ms/step - loss: 0.9858 - accuracy: 0.5178\n",
      "Epoch 19/30\n",
      "115/115 [==============================] - 0s 1ms/step - loss: 1.0459 - accuracy: 0.4752\n",
      "Epoch 20/30\n",
      "115/115 [==============================] - 0s 1ms/step - loss: 0.9883 - accuracy: 0.5004\n",
      "Epoch 21/30\n",
      "115/115 [==============================] - 0s 1ms/step - loss: 1.1901 - accuracy: 0.4648\n",
      "Epoch 22/30\n",
      "115/115 [==============================] - 0s 1ms/step - loss: 0.9931 - accuracy: 0.4978\n",
      "Epoch 23/30\n",
      "115/115 [==============================] - 0s 1ms/step - loss: 0.9979 - accuracy: 0.5022\n",
      "Epoch 24/30\n",
      "115/115 [==============================] - 0s 960us/step - loss: 0.9698 - accuracy: 0.4978\n",
      "Epoch 25/30\n",
      "115/115 [==============================] - 0s 934us/step - loss: 0.9975 - accuracy: 0.4996\n",
      "Epoch 26/30\n",
      "115/115 [==============================] - 0s 903us/step - loss: 1.1054 - accuracy: 0.4761\n",
      "Epoch 27/30\n",
      "115/115 [==============================] - 0s 938us/step - loss: 1.0448 - accuracy: 0.4909\n",
      "Epoch 28/30\n",
      "115/115 [==============================] - 0s 1ms/step - loss: 1.0185 - accuracy: 0.4883\n",
      "Epoch 29/30\n",
      "115/115 [==============================] - 0s 1ms/step - loss: 0.9941 - accuracy: 0.4961\n",
      "Epoch 30/30\n",
      "115/115 [==============================] - 0s 1ms/step - loss: 0.9703 - accuracy: 0.5196\n"
     ]
    },
    {
     "data": {
      "image/png": "[encoded data removed]",
      "text/plain": [
       "<Figure size 720x360 with 2 Axes>"
      ]
     },
     "metadata": {
      "needs_background": "light"
     },
     "output_type": "display_data"
    }
   ],
   "source": [
    "model = Sequential()\n",
    "\n",
    "sgd = SGD(learning_rate=9) #exploding our learning rate. Default =.01\n",
    "model.add(Dense(12, activation='relu', input_dim=64))\n",
    "model.add(Dense(8, activation='relu'))\n",
    "model.add(Dense(1, activation='sigmoid'))\n",
    "\n",
    "model.compile(optimizer=sgd,  # different thant string called earlier\n",
    "              loss='binary_crossentropy',\n",
    "              metrics=['accuracy'])\n",
    "\n",
    "results = model.fit(X_pure_train, y_pure_train,\n",
    "                    epochs=30, batch_size=10, verbose=1)\n",
    "\n",
    "relu_loss = results.history['loss']\n",
    "relu_accuracy = results.history['accuracy']\n",
    "\n",
    "fig, (ax1, ax2) = plt.subplots(1, 2, figsize=(10, 5))\n",
    "sns.lineplot(x=results.epoch, y=relu_loss, ax=ax1, label='loss')\n",
    "sns.lineplot(x=results.epoch, y=relu_accuracy, ax=ax2, label='accuracy');\n",
    "\n",
    "# bouncing all around because step size is WAY too big"
   ]
  },
  {
   "cell_type": "markdown",
   "metadata": {},
   "source": [
    "### Exercise\n",
    "\n",
    "We have been looking only at our training set. Let's add in our validation set to the picture. Check the docstring for the `.fit()` method and add in our validation data."
   ]
  },
  {
   "cell_type": "code",
   "execution_count": 14,
   "metadata": {
    "scrolled": false
   },
   "outputs": [
    {
     "name": "stdout",
     "output_type": "stream",
     "text": [
      "Epoch 1/30\n",
      "115/115 [==============================] - 2s 16ms/step - loss: 0.6613 - accuracy: 0.5979 - val_loss: 0.5982 - val_accuracy: 0.7396\n",
      "Epoch 2/30\n",
      "115/115 [==============================] - 0s 2ms/step - loss: 0.4841 - accuracy: 0.8007 - val_loss: 0.3795 - val_accuracy: 0.8507\n",
      "Epoch 3/30\n",
      "115/115 [==============================] - 0s 2ms/step - loss: 0.3147 - accuracy: 0.8721 - val_loss: 0.2665 - val_accuracy: 0.9097\n",
      "Epoch 4/30\n",
      "115/115 [==============================] - 0s 2ms/step - loss: 0.2305 - accuracy: 0.9069 - val_loss: 0.2167 - val_accuracy: 0.9167\n",
      "Epoch 5/30\n",
      "115/115 [==============================] - 0s 2ms/step - loss: 0.1844 - accuracy: 0.9278 - val_loss: 0.1617 - val_accuracy: 0.9444\n",
      "Epoch 6/30\n",
      "115/115 [==============================] - 0s 2ms/step - loss: 0.1535 - accuracy: 0.9391 - val_loss: 0.1560 - val_accuracy: 0.9410\n",
      "Epoch 7/30\n",
      "115/115 [==============================] - 0s 1ms/step - loss: 0.1309 - accuracy: 0.9565 - val_loss: 0.1187 - val_accuracy: 0.9618\n",
      "Epoch 8/30\n",
      "115/115 [==============================] - 0s 2ms/step - loss: 0.1141 - accuracy: 0.9556 - val_loss: 0.1084 - val_accuracy: 0.9688\n",
      "Epoch 9/30\n",
      "115/115 [==============================] - 0s 1ms/step - loss: 0.1036 - accuracy: 0.9608 - val_loss: 0.1004 - val_accuracy: 0.9688\n",
      "Epoch 10/30\n",
      "115/115 [==============================] - 0s 2ms/step - loss: 0.0936 - accuracy: 0.9661 - val_loss: 0.0927 - val_accuracy: 0.9722\n",
      "Epoch 11/30\n",
      "115/115 [==============================] - 0s 2ms/step - loss: 0.0823 - accuracy: 0.9687 - val_loss: 0.0879 - val_accuracy: 0.9618\n",
      "Epoch 12/30\n",
      "115/115 [==============================] - 0s 2ms/step - loss: 0.0805 - accuracy: 0.9695 - val_loss: 0.0785 - val_accuracy: 0.9722\n",
      "Epoch 13/30\n",
      "115/115 [==============================] - 0s 1ms/step - loss: 0.0718 - accuracy: 0.9730 - val_loss: 0.0821 - val_accuracy: 0.9722\n",
      "Epoch 14/30\n",
      "115/115 [==============================] - 0s 2ms/step - loss: 0.0678 - accuracy: 0.9774 - val_loss: 0.0698 - val_accuracy: 0.9757\n",
      "Epoch 15/30\n",
      "115/115 [==============================] - 0s 1ms/step - loss: 0.0614 - accuracy: 0.9800 - val_loss: 0.0730 - val_accuracy: 0.9757\n",
      "Epoch 16/30\n",
      "115/115 [==============================] - 0s 2ms/step - loss: 0.0560 - accuracy: 0.9817 - val_loss: 0.0662 - val_accuracy: 0.9792\n",
      "Epoch 17/30\n",
      "115/115 [==============================] - 0s 2ms/step - loss: 0.0542 - accuracy: 0.9809 - val_loss: 0.0687 - val_accuracy: 0.9722\n",
      "Epoch 18/30\n",
      "115/115 [==============================] - 0s 1ms/step - loss: 0.0484 - accuracy: 0.9861 - val_loss: 0.0633 - val_accuracy: 0.9757\n",
      "Epoch 19/30\n",
      "115/115 [==============================] - 0s 2ms/step - loss: 0.0512 - accuracy: 0.9791 - val_loss: 0.0614 - val_accuracy: 0.9792\n",
      "Epoch 20/30\n",
      "115/115 [==============================] - 0s 2ms/step - loss: 0.0480 - accuracy: 0.9852 - val_loss: 0.0708 - val_accuracy: 0.9722\n",
      "Epoch 21/30\n",
      "115/115 [==============================] - 0s 2ms/step - loss: 0.0386 - accuracy: 0.9896 - val_loss: 0.0622 - val_accuracy: 0.9792\n",
      "Epoch 22/30\n",
      "115/115 [==============================] - 0s 1ms/step - loss: 0.0360 - accuracy: 0.9922 - val_loss: 0.0598 - val_accuracy: 0.9792\n",
      "Epoch 23/30\n",
      "115/115 [==============================] - 0s 1ms/step - loss: 0.0342 - accuracy: 0.9930 - val_loss: 0.0633 - val_accuracy: 0.9757\n",
      "Epoch 24/30\n",
      "115/115 [==============================] - 0s 1ms/step - loss: 0.0341 - accuracy: 0.9922 - val_loss: 0.0596 - val_accuracy: 0.9792\n",
      "Epoch 25/30\n",
      "115/115 [==============================] - 0s 1ms/step - loss: 0.0314 - accuracy: 0.9922 - val_loss: 0.0621 - val_accuracy: 0.9757\n",
      "Epoch 26/30\n",
      "115/115 [==============================] - 0s 2ms/step - loss: 0.0272 - accuracy: 0.9965 - val_loss: 0.0563 - val_accuracy: 0.9792\n",
      "Epoch 27/30\n",
      "115/115 [==============================] - 0s 1ms/step - loss: 0.0264 - accuracy: 0.9948 - val_loss: 0.0603 - val_accuracy: 0.9792\n",
      "Epoch 28/30\n",
      "115/115 [==============================] - 0s 1ms/step - loss: 0.0248 - accuracy: 0.9956 - val_loss: 0.0567 - val_accuracy: 0.9792\n",
      "Epoch 29/30\n",
      "115/115 [==============================] - 0s 1ms/step - loss: 0.0234 - accuracy: 0.9956 - val_loss: 0.0567 - val_accuracy: 0.9757\n",
      "Epoch 30/30\n",
      "115/115 [==============================] - 0s 1ms/step - loss: 0.0230 - accuracy: 0.9948 - val_loss: 0.0712 - val_accuracy: 0.9826\n"
     ]
    },
    {
     "data": {
      "image/png": "[encoded data removed]",
      "text/plain": [
       "<Figure size 720x360 with 2 Axes>"
      ]
     },
     "metadata": {
      "needs_background": "light"
     },
     "output_type": "display_data"
    }
   ],
   "source": [
    "model = Sequential()\n",
    "model.add(Dense(12, activation='relu', input_dim=64))\n",
    "model.add(Dense(8, activation='relu'))\n",
    "model.add(Dense(4, activation='relu'))\n",
    "model.add(Dense(1, activation='sigmoid'))\n",
    "\n",
    "model.compile(optimizer='adam',  # using Adam now\n",
    "              loss='binary_crossentropy',\n",
    "              metrics=['accuracy'])  #can look at a bunch of different metrics\n",
    "\n",
    "\n",
    "## YOUR CODE HERE\n",
    "\n",
    "# talked about validation_split (splits training data for us)\n",
    "# validation_data (can be a tuple of x_val and y_val)\n",
    "results = model.fit(X_pure_train, y_pure_train, \n",
    "                    epochs=30, batch_size=10, verbose=1,\n",
    "                   validation_data=(X_val, y_val))\n",
    "\n",
    "# so using sklearn train_test_split is better than val_split\n",
    "\n",
    "\n",
    "train_loss = results.history['loss']\n",
    "train_acc = results.history['accuracy']\n",
    "val_loss = results.history['val_loss']\n",
    "val_acc = results.history['val_accuracy']\n",
    "\n",
    "fig, (ax1, ax2) = plt.subplots(1, 2, figsize=(10, 5))\n",
    "sns.lineplot(x=results.epoch, y=train_loss, ax=ax1, label='train_loss')\n",
    "sns.lineplot(x=results.epoch, y=train_acc, ax=ax2, label='train_accuracy')\n",
    "\n",
    "sns.lineplot(x=results.epoch, y=val_loss, ax=ax1, label='val_loss')\n",
    "sns.lineplot(x=results.epoch, y=val_acc, ax=ax2, label='val_accuracy');\n",
    "\n",
    "# now we have val_loss and val_accuracy\n",
    "# so we can validate our model withOUT using our test data\n",
    "\n",
    "# cool visuals.  The goal is to see those lines touching, with loss\n",
    "# as close to zero as possible, and accuracy as close to 1\n",
    "\n",
    "# these are still overfitting"
   ]
  },
  {
   "cell_type": "markdown",
   "metadata": {},
   "source": [
    "<details>\n",
    "    <summary>One answer here</summary>\n",
    "<code>model = Sequential()\n",
    "model.add(Dense(12, activation='relu', input_dim=64))\n",
    "model.add(Dense(8, activation='relu'))\n",
    "model.add(Dense(4, activation='relu'))\n",
    "model.add(Dense(1, activation='sigmoid'))\n",
    "model.compile(optimizer='adam',\n",
    "              loss='binary_crossentropy',\n",
    "              metrics=['accuracy'])\n",
    "results = model.fit(X_pure_train, y_pure_train,\n",
    "                   validation_data=(X_val, y_val),\n",
    "                   epochs=30, batch_size=10)\n",
    "train_loss = results.history['loss']\n",
    "train_acc = results.history['accuracy']\n",
    "val_loss = results.history['val_loss']\n",
    "val_acc = results.history['val_accuracy']\n",
    "fig, (ax1, ax2) = plt.subplots(1, 2, figsize=(10, 5))\n",
    "sns.lineplot(x=results.epoch, y=train_loss, ax=ax1, label='train_loss')\n",
    "sns.lineplot(x=results.epoch, y=train_acc, ax=ax2, label='train_accuracy')\n",
    "sns.lineplot(x=results.epoch, y=val_loss, ax=ax1, label='val_loss')\n",
    "sns.lineplot(x=results.epoch, y=val_acc, ax=ax2, label='val_accuracy');</code>\n",
    "</details>"
   ]
  },
  {
   "cell_type": "code",
   "execution_count": 15,
   "metadata": {},
   "outputs": [
    {
     "data": {
      "text/plain": [
       "0.9826388955116272"
      ]
     },
     "execution_count": 15,
     "metadata": {},
     "output_type": "execute_result"
    }
   ],
   "source": [
    "results.history['val_accuracy'][-1]"
   ]
  },
  {
   "cell_type": "markdown",
   "metadata": {},
   "source": [
    "## Connecting with `sklearn`\n",
    "\n",
    "The `keras.wrappers` submodule means that we can turn `keras` models into estimators that `sklearn` tools will recognize."
   ]
  },
  {
   "cell_type": "code",
   "execution_count": 16,
   "metadata": {},
   "outputs": [
    {
     "ename": "TypeError",
     "evalue": "If no scoring is specified, the estimator passed should have a 'score' method. The estimator <tensorflow.python.keras.engine.sequential.Sequential object at 0x000001B5E63D8CA0> does not.",
     "output_type": "error",
     "traceback": [
      "\u001b[1;31m---------------------------------------------------------------------------\u001b[0m",
      "\u001b[1;31mTypeError\u001b[0m                                 Traceback (most recent call last)",
      "\u001b[1;32m<ipython-input-16-c95584e00bfb>\u001b[0m in \u001b[0;36m<module>\u001b[1;34m\u001b[0m\n\u001b[0;32m      1\u001b[0m \u001b[1;31m# This will throw an error.\u001b[0m\u001b[1;33m\u001b[0m\u001b[1;33m\u001b[0m\u001b[1;33m\u001b[0m\u001b[0m\n\u001b[0;32m      2\u001b[0m \u001b[1;33m\u001b[0m\u001b[0m\n\u001b[1;32m----> 3\u001b[1;33m \u001b[0mcross_val_score\u001b[0m\u001b[1;33m(\u001b[0m\u001b[0mmodel\u001b[0m\u001b[1;33m,\u001b[0m \u001b[0mX_pure_train\u001b[0m\u001b[1;33m,\u001b[0m \u001b[0my_pure_train\u001b[0m\u001b[1;33m)\u001b[0m\u001b[1;33m\u001b[0m\u001b[1;33m\u001b[0m\u001b[0m\n\u001b[0m\u001b[0;32m      4\u001b[0m \u001b[1;33m\u001b[0m\u001b[0m\n\u001b[0;32m      5\u001b[0m \u001b[1;31m# can't just cross val the model.  Why not, if it's an estimator?\u001b[0m\u001b[1;33m\u001b[0m\u001b[1;33m\u001b[0m\u001b[1;33m\u001b[0m\u001b[0m\n",
      "\u001b[1;32m~\\anaconda3\\envs\\learn-env\\lib\\site-packages\\sklearn\\utils\\validation.py\u001b[0m in \u001b[0;36minner_f\u001b[1;34m(*args, **kwargs)\u001b[0m\n\u001b[0;32m     70\u001b[0m                           FutureWarning)\n\u001b[0;32m     71\u001b[0m         \u001b[0mkwargs\u001b[0m\u001b[1;33m.\u001b[0m\u001b[0mupdate\u001b[0m\u001b[1;33m(\u001b[0m\u001b[1;33m{\u001b[0m\u001b[0mk\u001b[0m\u001b[1;33m:\u001b[0m \u001b[0marg\u001b[0m \u001b[1;32mfor\u001b[0m \u001b[0mk\u001b[0m\u001b[1;33m,\u001b[0m \u001b[0marg\u001b[0m \u001b[1;32min\u001b[0m \u001b[0mzip\u001b[0m\u001b[1;33m(\u001b[0m\u001b[0msig\u001b[0m\u001b[1;33m.\u001b[0m\u001b[0mparameters\u001b[0m\u001b[1;33m,\u001b[0m \u001b[0margs\u001b[0m\u001b[1;33m)\u001b[0m\u001b[1;33m}\u001b[0m\u001b[1;33m)\u001b[0m\u001b[1;33m\u001b[0m\u001b[1;33m\u001b[0m\u001b[0m\n\u001b[1;32m---> 72\u001b[1;33m         \u001b[1;32mreturn\u001b[0m \u001b[0mf\u001b[0m\u001b[1;33m(\u001b[0m\u001b[1;33m**\u001b[0m\u001b[0mkwargs\u001b[0m\u001b[1;33m)\u001b[0m\u001b[1;33m\u001b[0m\u001b[1;33m\u001b[0m\u001b[0m\n\u001b[0m\u001b[0;32m     73\u001b[0m     \u001b[1;32mreturn\u001b[0m \u001b[0minner_f\u001b[0m\u001b[1;33m\u001b[0m\u001b[1;33m\u001b[0m\u001b[0m\n\u001b[0;32m     74\u001b[0m \u001b[1;33m\u001b[0m\u001b[0m\n",
      "\u001b[1;32m~\\anaconda3\\envs\\learn-env\\lib\\site-packages\\sklearn\\model_selection\\_validation.py\u001b[0m in \u001b[0;36mcross_val_score\u001b[1;34m(estimator, X, y, groups, scoring, cv, n_jobs, verbose, fit_params, pre_dispatch, error_score)\u001b[0m\n\u001b[0;32m    397\u001b[0m     \"\"\"\n\u001b[0;32m    398\u001b[0m     \u001b[1;31m# To ensure multimetric format is not supported\u001b[0m\u001b[1;33m\u001b[0m\u001b[1;33m\u001b[0m\u001b[1;33m\u001b[0m\u001b[0m\n\u001b[1;32m--> 399\u001b[1;33m     \u001b[0mscorer\u001b[0m \u001b[1;33m=\u001b[0m \u001b[0mcheck_scoring\u001b[0m\u001b[1;33m(\u001b[0m\u001b[0mestimator\u001b[0m\u001b[1;33m,\u001b[0m \u001b[0mscoring\u001b[0m\u001b[1;33m=\u001b[0m\u001b[0mscoring\u001b[0m\u001b[1;33m)\u001b[0m\u001b[1;33m\u001b[0m\u001b[1;33m\u001b[0m\u001b[0m\n\u001b[0m\u001b[0;32m    400\u001b[0m \u001b[1;33m\u001b[0m\u001b[0m\n\u001b[0;32m    401\u001b[0m     cv_results = cross_validate(estimator=estimator, X=X, y=y, groups=groups,\n",
      "\u001b[1;32m~\\anaconda3\\envs\\learn-env\\lib\\site-packages\\sklearn\\utils\\validation.py\u001b[0m in \u001b[0;36minner_f\u001b[1;34m(*args, **kwargs)\u001b[0m\n\u001b[0;32m     70\u001b[0m                           FutureWarning)\n\u001b[0;32m     71\u001b[0m         \u001b[0mkwargs\u001b[0m\u001b[1;33m.\u001b[0m\u001b[0mupdate\u001b[0m\u001b[1;33m(\u001b[0m\u001b[1;33m{\u001b[0m\u001b[0mk\u001b[0m\u001b[1;33m:\u001b[0m \u001b[0marg\u001b[0m \u001b[1;32mfor\u001b[0m \u001b[0mk\u001b[0m\u001b[1;33m,\u001b[0m \u001b[0marg\u001b[0m \u001b[1;32min\u001b[0m \u001b[0mzip\u001b[0m\u001b[1;33m(\u001b[0m\u001b[0msig\u001b[0m\u001b[1;33m.\u001b[0m\u001b[0mparameters\u001b[0m\u001b[1;33m,\u001b[0m \u001b[0margs\u001b[0m\u001b[1;33m)\u001b[0m\u001b[1;33m}\u001b[0m\u001b[1;33m)\u001b[0m\u001b[1;33m\u001b[0m\u001b[1;33m\u001b[0m\u001b[0m\n\u001b[1;32m---> 72\u001b[1;33m         \u001b[1;32mreturn\u001b[0m \u001b[0mf\u001b[0m\u001b[1;33m(\u001b[0m\u001b[1;33m**\u001b[0m\u001b[0mkwargs\u001b[0m\u001b[1;33m)\u001b[0m\u001b[1;33m\u001b[0m\u001b[1;33m\u001b[0m\u001b[0m\n\u001b[0m\u001b[0;32m     73\u001b[0m     \u001b[1;32mreturn\u001b[0m \u001b[0minner_f\u001b[0m\u001b[1;33m\u001b[0m\u001b[1;33m\u001b[0m\u001b[0m\n\u001b[0;32m     74\u001b[0m \u001b[1;33m\u001b[0m\u001b[0m\n",
      "\u001b[1;32m~\\anaconda3\\envs\\learn-env\\lib\\site-packages\\sklearn\\metrics\\_scorer.py\u001b[0m in \u001b[0;36mcheck_scoring\u001b[1;34m(estimator, scoring, allow_none)\u001b[0m\n\u001b[0;32m    423\u001b[0m             \u001b[1;32mreturn\u001b[0m \u001b[1;32mNone\u001b[0m\u001b[1;33m\u001b[0m\u001b[1;33m\u001b[0m\u001b[0m\n\u001b[0;32m    424\u001b[0m         \u001b[1;32melse\u001b[0m\u001b[1;33m:\u001b[0m\u001b[1;33m\u001b[0m\u001b[1;33m\u001b[0m\u001b[0m\n\u001b[1;32m--> 425\u001b[1;33m             raise TypeError(\n\u001b[0m\u001b[0;32m    426\u001b[0m                 \u001b[1;34m\"If no scoring is specified, the estimator passed should \"\u001b[0m\u001b[1;33m\u001b[0m\u001b[1;33m\u001b[0m\u001b[0m\n\u001b[0;32m    427\u001b[0m                 \u001b[1;34m\"have a 'score' method. The estimator %r does not.\"\u001b[0m\u001b[1;33m\u001b[0m\u001b[1;33m\u001b[0m\u001b[0m\n",
      "\u001b[1;31mTypeError\u001b[0m: If no scoring is specified, the estimator passed should have a 'score' method. The estimator <tensorflow.python.keras.engine.sequential.Sequential object at 0x000001B5E63D8CA0> does not."
     ]
    }
   ],
   "source": [
    "# This will throw an error.\n",
    "\n",
    "cross_val_score(model, X_pure_train, y_pure_train)\n",
    "\n",
    "# can't just cross val the model.  Why not, if it's an estimator?\n",
    "# well it's still a tensorflow object, not an OOP estimator\n",
    "\n",
    "# we have to WRAP IT"
   ]
  },
  {
   "cell_type": "code",
   "execution_count": 17,
   "metadata": {},
   "outputs": [],
   "source": [
    "def build_model():\n",
    "    model = Sequential()\n",
    "    model.add(Dense(12, activation='relu', input_dim=64))\n",
    "    model.add(Dense(8, activation='relu'))\n",
    "    model.add(Dense(4, activation='relu'))\n",
    "    model.add(Dense(1, activation = 'sigmoid'))\n",
    "\n",
    "    model.compile(optimizer='adam',\n",
    "                  loss='binary_crossentropy',\n",
    "                  metrics=['accuracy'])\n",
    "    return model"
   ]
  },
  {
   "cell_type": "code",
   "execution_count": 18,
   "metadata": {},
   "outputs": [],
   "source": [
    "# can't just feed our model in, we need a build function\n",
    "# that represents our model.  THAT will return our compiled model.\n",
    "# and we give that function to our wrapper, with all parameters (that\n",
    "# we would have passed in to our .fit)\n",
    "\n",
    "keras_model = scikit_learn.KerasClassifier(build_model,\n",
    "                                          epochs=50,\n",
    "                                          batch_size=32,\n",
    "                                          verbose=2)\n",
    "\n",
    "# warning that this will depreciate soon.  \n",
    "# So there will be a different way to do this in the future"
   ]
  },
  {
   "cell_type": "code",
   "execution_count": 19,
   "metadata": {},
   "outputs": [
    {
     "data": {
      "text/plain": [
       "tensorflow.python.keras.wrappers.scikit_learn.KerasClassifier"
      ]
     },
     "execution_count": 19,
     "metadata": {},
     "output_type": "execute_result"
    }
   ],
   "source": [
    "type(keras_model)\n",
    "\n",
    "# it's a wrapper!"
   ]
  },
  {
   "cell_type": "code",
   "execution_count": 20,
   "metadata": {
    "scrolled": false
   },
   "outputs": [
    {
     "name": "stdout",
     "output_type": "stream",
     "text": [
      "Epoch 1/50\n",
      "24/24 - 0s - loss: 0.6788 - accuracy: 0.5339\n",
      "Epoch 2/50\n",
      "24/24 - 0s - loss: 0.6437 - accuracy: 0.6175\n",
      "Epoch 3/50\n",
      "24/24 - 0s - loss: 0.5957 - accuracy: 0.6749\n",
      "Epoch 4/50\n",
      "24/24 - 0s - loss: 0.5494 - accuracy: 0.7742\n",
      "Epoch 5/50\n",
      "24/24 - 0s - loss: 0.5135 - accuracy: 0.8146\n",
      "Epoch 6/50\n",
      "24/24 - 0s - loss: 0.4871 - accuracy: 0.8512\n",
      "Epoch 7/50\n",
      "24/24 - 0s - loss: 0.4662 - accuracy: 0.8681\n",
      "Epoch 8/50\n",
      "24/24 - 0s - loss: 0.4492 - accuracy: 0.8773\n",
      "Epoch 9/50\n",
      "24/24 - 0s - loss: 0.4344 - accuracy: 0.8877\n",
      "Epoch 10/50\n",
      "24/24 - 0s - loss: 0.4219 - accuracy: 0.8982\n",
      "Epoch 11/50\n",
      "24/24 - 0s - loss: 0.4096 - accuracy: 0.8995\n",
      "Epoch 12/50\n",
      "24/24 - 0s - loss: 0.4008 - accuracy: 0.9099\n",
      "Epoch 13/50\n",
      "24/24 - 0s - loss: 0.3915 - accuracy: 0.9112\n",
      "Epoch 14/50\n",
      "24/24 - 0s - loss: 0.3797 - accuracy: 0.9204\n",
      "Epoch 15/50\n",
      "24/24 - 0s - loss: 0.3699 - accuracy: 0.9295\n",
      "Epoch 16/50\n",
      "24/24 - 0s - loss: 0.3651 - accuracy: 0.9230\n",
      "Epoch 17/50\n",
      "24/24 - 0s - loss: 0.3549 - accuracy: 0.9321\n",
      "Epoch 18/50\n",
      "24/24 - 0s - loss: 0.3467 - accuracy: 0.9334\n",
      "Epoch 19/50\n",
      "24/24 - 0s - loss: 0.3406 - accuracy: 0.9334\n",
      "Epoch 20/50\n",
      "24/24 - 0s - loss: 0.3318 - accuracy: 0.9373\n",
      "Epoch 21/50\n",
      "24/24 - 0s - loss: 0.3282 - accuracy: 0.9373\n",
      "Epoch 22/50\n",
      "24/24 - 0s - loss: 0.3200 - accuracy: 0.9439\n",
      "Epoch 23/50\n",
      "24/24 - 0s - loss: 0.3157 - accuracy: 0.9439\n",
      "Epoch 24/50\n",
      "24/24 - 0s - loss: 0.3099 - accuracy: 0.9413\n",
      "Epoch 25/50\n",
      "24/24 - 0s - loss: 0.3028 - accuracy: 0.9465\n",
      "Epoch 26/50\n",
      "24/24 - 0s - loss: 0.2958 - accuracy: 0.9504\n",
      "Epoch 27/50\n",
      "24/24 - 0s - loss: 0.2915 - accuracy: 0.9504\n",
      "Epoch 28/50\n",
      "24/24 - 0s - loss: 0.2864 - accuracy: 0.9543\n",
      "Epoch 29/50\n",
      "24/24 - 0s - loss: 0.2812 - accuracy: 0.9556\n",
      "Epoch 30/50\n",
      "24/24 - 0s - loss: 0.2770 - accuracy: 0.9556\n",
      "Epoch 31/50\n",
      "24/24 - 0s - loss: 0.2724 - accuracy: 0.9556\n",
      "Epoch 32/50\n",
      "24/24 - 0s - loss: 0.2665 - accuracy: 0.9569\n",
      "Epoch 33/50\n",
      "24/24 - 0s - loss: 0.2624 - accuracy: 0.9569\n",
      "Epoch 34/50\n",
      "24/24 - 0s - loss: 0.2580 - accuracy: 0.9608\n",
      "Epoch 35/50\n",
      "24/24 - 0s - loss: 0.2533 - accuracy: 0.9595\n",
      "Epoch 36/50\n",
      "24/24 - 0s - loss: 0.2489 - accuracy: 0.9608\n",
      "Epoch 37/50\n",
      "24/24 - 0s - loss: 0.2457 - accuracy: 0.9608\n",
      "Epoch 38/50\n",
      "24/24 - 0s - loss: 0.2415 - accuracy: 0.9661\n",
      "Epoch 39/50\n",
      "24/24 - 0s - loss: 0.2370 - accuracy: 0.9621\n",
      "Epoch 40/50\n",
      "24/24 - 0s - loss: 0.2326 - accuracy: 0.9713\n",
      "Epoch 41/50\n",
      "24/24 - 0s - loss: 0.2318 - accuracy: 0.9648\n",
      "Epoch 42/50\n",
      "24/24 - 0s - loss: 0.2294 - accuracy: 0.9661\n",
      "Epoch 43/50\n",
      "24/24 - 0s - loss: 0.2226 - accuracy: 0.9661\n",
      "Epoch 44/50\n",
      "24/24 - 0s - loss: 0.2191 - accuracy: 0.9687\n",
      "Epoch 45/50\n",
      "24/24 - 0s - loss: 0.2159 - accuracy: 0.9726\n",
      "Epoch 46/50\n",
      "24/24 - 0s - loss: 0.2125 - accuracy: 0.9726\n",
      "Epoch 47/50\n",
      "24/24 - 0s - loss: 0.2126 - accuracy: 0.9634\n",
      "Epoch 48/50\n",
      "24/24 - 0s - loss: 0.2066 - accuracy: 0.9700\n",
      "Epoch 49/50\n",
      "24/24 - 0s - loss: 0.2044 - accuracy: 0.9739\n",
      "Epoch 50/50\n",
      "24/24 - 0s - loss: 0.2036 - accuracy: 0.9713\n",
      "12/12 - 0s - loss: 0.2886 - accuracy: 0.9217\n",
      "Epoch 1/50\n",
      "24/24 - 0s - loss: 0.6671 - accuracy: 0.5131\n",
      "Epoch 2/50\n",
      "24/24 - 0s - loss: 0.6356 - accuracy: 0.5274\n",
      "Epoch 3/50\n",
      "24/24 - 0s - loss: 0.6065 - accuracy: 0.5953\n",
      "Epoch 4/50\n",
      "24/24 - 0s - loss: 0.5717 - accuracy: 0.7193\n",
      "Epoch 5/50\n",
      "24/24 - 0s - loss: 0.5246 - accuracy: 0.8251\n",
      "Epoch 6/50\n",
      "24/24 - 0s - loss: 0.4728 - accuracy: 0.8551\n",
      "Epoch 7/50\n",
      "24/24 - 0s - loss: 0.4014 - accuracy: 0.8695\n",
      "Epoch 8/50\n",
      "24/24 - 0s - loss: 0.3381 - accuracy: 0.8734\n",
      "Epoch 9/50\n",
      "24/24 - 0s - loss: 0.2942 - accuracy: 0.8799\n",
      "Epoch 10/50\n",
      "24/24 - 0s - loss: 0.2621 - accuracy: 0.8995\n",
      "Epoch 11/50\n",
      "24/24 - 0s - loss: 0.2390 - accuracy: 0.9073\n",
      "Epoch 12/50\n",
      "24/24 - 0s - loss: 0.2293 - accuracy: 0.9034\n",
      "Epoch 13/50\n",
      "24/24 - 0s - loss: 0.2080 - accuracy: 0.9164\n",
      "Epoch 14/50\n",
      "24/24 - 0s - loss: 0.2033 - accuracy: 0.9151\n",
      "Epoch 15/50\n",
      "24/24 - 0s - loss: 0.1896 - accuracy: 0.9178\n",
      "Epoch 16/50\n",
      "24/24 - 0s - loss: 0.1807 - accuracy: 0.9243\n",
      "Epoch 17/50\n",
      "24/24 - 0s - loss: 0.1771 - accuracy: 0.9308\n",
      "Epoch 18/50\n",
      "24/24 - 0s - loss: 0.1677 - accuracy: 0.9295\n",
      "Epoch 19/50\n",
      "24/24 - 0s - loss: 0.1639 - accuracy: 0.9282\n",
      "Epoch 20/50\n",
      "24/24 - 0s - loss: 0.1547 - accuracy: 0.9308\n",
      "Epoch 21/50\n",
      "24/24 - 0s - loss: 0.1521 - accuracy: 0.9308\n",
      "Epoch 22/50\n",
      "24/24 - 0s - loss: 0.1405 - accuracy: 0.9439\n",
      "Epoch 23/50\n",
      "24/24 - 0s - loss: 0.1375 - accuracy: 0.9399\n",
      "Epoch 24/50\n",
      "24/24 - 0s - loss: 0.1294 - accuracy: 0.9413\n",
      "Epoch 25/50\n",
      "24/24 - 0s - loss: 0.1293 - accuracy: 0.9504\n",
      "Epoch 26/50\n",
      "24/24 - 0s - loss: 0.1219 - accuracy: 0.9491\n",
      "Epoch 27/50\n",
      "24/24 - 0s - loss: 0.1226 - accuracy: 0.9478\n",
      "Epoch 28/50\n",
      "24/24 - 0s - loss: 0.1144 - accuracy: 0.9556\n",
      "Epoch 29/50\n",
      "24/24 - 0s - loss: 0.1135 - accuracy: 0.9517\n",
      "Epoch 30/50\n",
      "24/24 - 0s - loss: 0.1067 - accuracy: 0.9582\n",
      "Epoch 31/50\n",
      "24/24 - 0s - loss: 0.0992 - accuracy: 0.9569\n",
      "Epoch 32/50\n",
      "24/24 - 0s - loss: 0.0952 - accuracy: 0.9621\n",
      "Epoch 33/50\n",
      "24/24 - 0s - loss: 0.1013 - accuracy: 0.9582\n",
      "Epoch 34/50\n",
      "24/24 - 0s - loss: 0.0917 - accuracy: 0.9700\n",
      "Epoch 35/50\n",
      "24/24 - 0s - loss: 0.0870 - accuracy: 0.9687\n",
      "Epoch 36/50\n",
      "24/24 - 0s - loss: 0.0844 - accuracy: 0.9648\n",
      "Epoch 37/50\n",
      "24/24 - 0s - loss: 0.0827 - accuracy: 0.9713\n",
      "Epoch 38/50\n",
      "24/24 - 0s - loss: 0.0777 - accuracy: 0.9726\n",
      "Epoch 39/50\n",
      "24/24 - 0s - loss: 0.0753 - accuracy: 0.9739\n",
      "Epoch 40/50\n",
      "24/24 - 0s - loss: 0.0744 - accuracy: 0.9752\n",
      "Epoch 41/50\n",
      "24/24 - 0s - loss: 0.0716 - accuracy: 0.9713\n",
      "Epoch 42/50\n",
      "24/24 - 0s - loss: 0.0699 - accuracy: 0.9765\n",
      "Epoch 43/50\n",
      "24/24 - 0s - loss: 0.0635 - accuracy: 0.9765\n",
      "Epoch 44/50\n",
      "24/24 - 0s - loss: 0.0679 - accuracy: 0.9765\n",
      "Epoch 45/50\n",
      "24/24 - 0s - loss: 0.0612 - accuracy: 0.9817\n",
      "Epoch 46/50\n",
      "24/24 - 0s - loss: 0.0575 - accuracy: 0.9843\n",
      "Epoch 47/50\n",
      "24/24 - 0s - loss: 0.0597 - accuracy: 0.9765\n",
      "Epoch 48/50\n",
      "24/24 - 0s - loss: 0.0578 - accuracy: 0.9791\n",
      "Epoch 49/50\n",
      "24/24 - 0s - loss: 0.0529 - accuracy: 0.9856\n",
      "Epoch 50/50\n",
      "24/24 - 0s - loss: 0.0513 - accuracy: 0.9869\n",
      "12/12 - 0s - loss: 0.1276 - accuracy: 0.9478\n",
      "Epoch 1/50\n",
      "24/24 - 0s - loss: 0.6779 - accuracy: 0.6070\n",
      "Epoch 2/50\n",
      "24/24 - 0s - loss: 0.6375 - accuracy: 0.7311\n",
      "Epoch 3/50\n",
      "24/24 - 0s - loss: 0.5663 - accuracy: 0.8029\n",
      "Epoch 4/50\n",
      "24/24 - 0s - loss: 0.4764 - accuracy: 0.8512\n",
      "Epoch 5/50\n",
      "24/24 - 0s - loss: 0.3934 - accuracy: 0.8838\n",
      "Epoch 6/50\n",
      "24/24 - 0s - loss: 0.3287 - accuracy: 0.8956\n",
      "Epoch 7/50\n",
      "24/24 - 0s - loss: 0.2871 - accuracy: 0.9008\n",
      "Epoch 8/50\n",
      "24/24 - 0s - loss: 0.2558 - accuracy: 0.9086\n",
      "Epoch 9/50\n",
      "24/24 - 0s - loss: 0.2346 - accuracy: 0.9151\n",
      "Epoch 10/50\n",
      "24/24 - 0s - loss: 0.2190 - accuracy: 0.9178\n",
      "Epoch 11/50\n",
      "24/24 - 0s - loss: 0.1998 - accuracy: 0.9269\n",
      "Epoch 12/50\n",
      "24/24 - 0s - loss: 0.1915 - accuracy: 0.9243\n",
      "Epoch 13/50\n",
      "24/24 - 0s - loss: 0.1789 - accuracy: 0.9334\n",
      "Epoch 14/50\n",
      "24/24 - 0s - loss: 0.1664 - accuracy: 0.9347\n",
      "Epoch 15/50\n",
      "24/24 - 0s - loss: 0.1590 - accuracy: 0.9360\n",
      "Epoch 16/50\n",
      "24/24 - 0s - loss: 0.1508 - accuracy: 0.9399\n",
      "Epoch 17/50\n",
      "24/24 - 0s - loss: 0.1471 - accuracy: 0.9373\n",
      "Epoch 18/50\n",
      "24/24 - 0s - loss: 0.1378 - accuracy: 0.9439\n",
      "Epoch 19/50\n",
      "24/24 - 0s - loss: 0.1323 - accuracy: 0.9465\n",
      "Epoch 20/50\n",
      "24/24 - 0s - loss: 0.1271 - accuracy: 0.9543\n",
      "Epoch 21/50\n",
      "24/24 - 0s - loss: 0.1160 - accuracy: 0.9569\n",
      "Epoch 22/50\n",
      "24/24 - 0s - loss: 0.1126 - accuracy: 0.9556\n",
      "Epoch 23/50\n",
      "24/24 - 0s - loss: 0.1080 - accuracy: 0.9608\n",
      "Epoch 24/50\n",
      "24/24 - 0s - loss: 0.1014 - accuracy: 0.9674\n",
      "Epoch 25/50\n",
      "24/24 - 0s - loss: 0.0987 - accuracy: 0.9648\n",
      "Epoch 26/50\n",
      "24/24 - 0s - loss: 0.0932 - accuracy: 0.9674\n",
      "Epoch 27/50\n",
      "24/24 - 0s - loss: 0.0890 - accuracy: 0.9726\n",
      "Epoch 28/50\n",
      "24/24 - 0s - loss: 0.0835 - accuracy: 0.9674\n",
      "Epoch 29/50\n",
      "24/24 - 0s - loss: 0.0834 - accuracy: 0.9700\n",
      "Epoch 30/50\n",
      "24/24 - 0s - loss: 0.0791 - accuracy: 0.9726\n",
      "Epoch 31/50\n",
      "24/24 - 0s - loss: 0.0750 - accuracy: 0.9752\n",
      "Epoch 32/50\n",
      "24/24 - 0s - loss: 0.0717 - accuracy: 0.9752\n",
      "Epoch 33/50\n",
      "24/24 - 0s - loss: 0.0685 - accuracy: 0.9765\n",
      "Epoch 34/50\n",
      "24/24 - 0s - loss: 0.0653 - accuracy: 0.9791\n",
      "Epoch 35/50\n",
      "24/24 - 0s - loss: 0.0644 - accuracy: 0.9765\n",
      "Epoch 36/50\n",
      "24/24 - 0s - loss: 0.0608 - accuracy: 0.9817\n",
      "Epoch 37/50\n",
      "24/24 - 0s - loss: 0.0597 - accuracy: 0.9830\n",
      "Epoch 38/50\n",
      "24/24 - 0s - loss: 0.0555 - accuracy: 0.9856\n",
      "Epoch 39/50\n",
      "24/24 - 0s - loss: 0.0535 - accuracy: 0.9843\n",
      "Epoch 40/50\n",
      "24/24 - 0s - loss: 0.0548 - accuracy: 0.9856\n",
      "Epoch 41/50\n",
      "24/24 - 0s - loss: 0.0527 - accuracy: 0.9843\n",
      "Epoch 42/50\n",
      "24/24 - 0s - loss: 0.0497 - accuracy: 0.9922\n",
      "Epoch 43/50\n",
      "24/24 - 0s - loss: 0.0456 - accuracy: 0.9883\n"
     ]
    },
    {
     "name": "stdout",
     "output_type": "stream",
     "text": [
      "Epoch 44/50\n",
      "24/24 - 0s - loss: 0.0447 - accuracy: 0.9896\n",
      "Epoch 45/50\n",
      "24/24 - 0s - loss: 0.0431 - accuracy: 0.9883\n",
      "Epoch 46/50\n",
      "24/24 - 0s - loss: 0.0408 - accuracy: 0.9922\n",
      "Epoch 47/50\n",
      "24/24 - 0s - loss: 0.0402 - accuracy: 0.9922\n",
      "Epoch 48/50\n",
      "24/24 - 0s - loss: 0.0383 - accuracy: 0.9935\n",
      "Epoch 49/50\n",
      "24/24 - 0s - loss: 0.0372 - accuracy: 0.9948\n",
      "Epoch 50/50\n",
      "24/24 - 0s - loss: 0.0347 - accuracy: 0.9922\n",
      "12/12 - 0s - loss: 0.1071 - accuracy: 0.9556\n"
     ]
    },
    {
     "data": {
      "text/plain": [
       "array([0.92167103, 0.94778067, 0.95561355])"
      ]
     },
     "execution_count": 20,
     "metadata": {},
     "output_type": "execute_result"
    }
   ],
   "source": [
    "# Can now cross_val\n",
    "cross_val_score(keras_model, X_pure_train, y_pure_train, cv=3)\n",
    "\n",
    "# took about 45 sec?  Would be a lot longer with a larger model\n",
    "\n",
    "# ultimately: we can cross val a neural network if we want"
   ]
  },
  {
   "cell_type": "markdown",
   "metadata": {},
   "source": [
    "## Regularization"
   ]
  },
  {
   "cell_type": "markdown",
   "metadata": {},
   "source": [
    "Does regularization make sense in the context of neural networks? <br/>\n",
    "\n",
    "**Yes! We still have all of the salient ingredients: a loss function, overfitting vs. underfitting, and coefficients (weights) that could get too large.**\n",
    "\n",
    "But there are now a few different flavors besides L1 and L2 regularization. (Note that L1 regularization is not common in the context of  neural networks.)\n",
    "\n",
    "We'll add a few more layers to give regularization a better chance of making a difference!"
   ]
  },
  {
   "cell_type": "code",
   "execution_count": 21,
   "metadata": {},
   "outputs": [
    {
     "data": {
      "image/png": "[encoded data removed]",
      "text/plain": [
       "<Figure size 720x360 with 2 Axes>"
      ]
     },
     "metadata": {
      "needs_background": "light"
     },
     "output_type": "display_data"
    }
   ],
   "source": [
    "model = Sequential()\n",
    "model.add(Dense(30, activation='relu', input_dim=64))\n",
    "\n",
    "# We can add L2 (or L1) regularization right into\n",
    "# the layer with the kernel_regularizer parameter.\n",
    "\n",
    "model.add(Dense(20, activation='relu', \n",
    "                kernel_regularizer=l2(l2=0.05)))  \n",
    "# added kernel_regularizer.  Could add this to any of the dense layers too\n",
    "# this is only penalizing the weights\n",
    "\n",
    "# Note that there is also a bias_regularizer,\n",
    "# but this tends to have less effect.\n",
    "\n",
    "model.add(Dense(12, activation='relu'))\n",
    "model.add(Dense(12, activation='relu'))\n",
    "model.add(Dense(12, activation='relu'))\n",
    "model.add(Dense(8, activation='relu'))\n",
    "model.add(Dense(4, activation='relu'))\n",
    "model.add(Dense(1, activation ='sigmoid'))\n",
    "\n",
    "model.compile(optimizer='adam',\n",
    "              loss='binary_crossentropy',\n",
    "              metrics=['accuracy'])\n",
    "\n",
    "results = model.fit(X_pure_train, y_pure_train, epochs=20, batch_size=32,\n",
    "                    verbose=0, validation_data=(X_val, y_val))\n",
    "\n",
    "train_loss = results.history['loss']\n",
    "train_acc = results.history['accuracy']\n",
    "val_loss = results.history['val_loss']\n",
    "val_acc = results.history['val_accuracy']\n",
    "\n",
    "\n",
    "fig, (ax1, ax2) = plt.subplots(1, 2, figsize=(10, 5))\n",
    "sns.lineplot(x=results.epoch, y=train_loss, ax=ax1, label='train_loss')\n",
    "sns.lineplot(x=results.epoch, y=train_acc, ax=ax2, label='train_accuracy')\n",
    "\n",
    "sns.lineplot(x=results.epoch, y=val_loss, ax=ax1, label='val_loss')\n",
    "sns.lineplot(x=results.epoch, y=val_acc, ax=ax2, label='val_accuracy');\n",
    "\n",
    "# verbosity is 0, speeds up training time a little\n",
    "\n",
    "# plots: "
   ]
  },
  {
   "cell_type": "markdown",
   "metadata": {},
   "source": [
    "Adding L2 to multiple layers:"
   ]
  },
  {
   "cell_type": "code",
   "execution_count": 22,
   "metadata": {},
   "outputs": [
    {
     "data": {
      "image/png": "[encoded data removed]",
      "text/plain": [
       "<Figure size 720x360 with 2 Axes>"
      ]
     },
     "metadata": {
      "needs_background": "light"
     },
     "output_type": "display_data"
    }
   ],
   "source": [
    "# this is going to the extreme\n",
    "\n",
    "model = Sequential()\n",
    "model.add(Dense(30, activation='relu',\n",
    "                input_dim=64))\n",
    "model.add(Dense(20, activation='relu',\n",
    "                kernel_regularizer=l2(l2=0.01)))\n",
    "\n",
    "model.add(Dense(12, activation='relu',\n",
    "                kernel_regularizer=l2(l2=0.01)))\n",
    "model.add(Dense(12, activation='relu',\n",
    "                kernel_regularizer=l2(l2=0.01)))\n",
    "model.add(Dense(12, activation='relu',\n",
    "                kernel_regularizer=l2(l2=0.01)))\n",
    "model.add(Dense(8, activation='relu',\n",
    "                kernel_regularizer=l2(l2=0.01)))\n",
    "model.add(Dense(4, activation='relu',\n",
    "                kernel_regularizer=l2(l2=0.01)))\n",
    "model.add(Dense(1, activation='sigmoid'))\n",
    "\n",
    "model.compile(optimizer='adam',\n",
    "              loss='binary_crossentropy',\n",
    "              metrics=['accuracy'])\n",
    "\n",
    "results = model.fit(X_pure_train, y_pure_train, epochs=20, batch_size=32,\n",
    "                    verbose=0, validation_data=(X_val, y_val))\n",
    "\n",
    "train_loss = results.history['loss']\n",
    "train_acc = results.history['accuracy']\n",
    "val_loss = results.history['val_loss']\n",
    "val_acc = results.history['val_accuracy']\n",
    "\n",
    "\n",
    "fig, (ax1, ax2) = plt.subplots(1, 2, figsize=(10, 5))\n",
    "sns.lineplot(x=results.epoch, y=train_loss, ax=ax1, label='train_loss')\n",
    "sns.lineplot(x=results.epoch, y=train_acc, ax=ax2, label='train_accuracy')\n",
    "\n",
    "sns.lineplot(x=results.epoch, y=val_loss, ax=ax1, label='val_loss')\n",
    "sns.lineplot(x=results.epoch, y=val_acc, ax=ax2, label='val_accuracy');\n",
    "\n",
    "# pretty similar, though we did smooth out plots.\n",
    "# still overfitting some though\n",
    "# already using relu too (which turns off nodes for neg. numbers)\n",
    "\n",
    "# can add a separate dropout layer too, to randomly shut off other nodes\n",
    "# see below"
   ]
  },
  {
   "cell_type": "markdown",
   "metadata": {},
   "source": [
    "### Dropout\n",
    "\n",
    "We can also specify a dropout layer in keras, which randomly shuts off different nodes during training. This can help to prevent overfitting.\n",
    "\n",
    "![drop_out](images/drop_out.png)"
   ]
  },
  {
   "cell_type": "markdown",
   "metadata": {},
   "source": [
    "### Exercise\n",
    "\n",
    "To add dropout to a `keras` network, simply add it as though it were a layer. It will apply to the immediately preceding layer.\n",
    "\n",
    "Add Dropout to one or more layers below."
   ]
  },
  {
   "cell_type": "code",
   "execution_count": 23,
   "metadata": {},
   "outputs": [
    {
     "data": {
      "image/png": "[encoded data removed]",
      "text/plain": [
       "<Figure size 720x360 with 2 Axes>"
      ]
     },
     "metadata": {
      "needs_background": "light"
     },
     "output_type": "display_data"
    }
   ],
   "source": [
    "model = Sequential()\n",
    "model.add(Dense(30, activation='relu', input_dim=64))\n",
    "model.add(Dense(20, activation='relu'))\n",
    "model.add(Dropout(rate=0.5))\n",
    "    # how many nodes to turn off?  rate. 0.5 = 50%\n",
    "    # added a dropout layer here.  Applies itself to the previous layer\n",
    "model.add(Dense(12, activation='relu'))\n",
    "model.add(Dropout(rate=0.5))  # and here\n",
    "model.add(Dense(12, activation='relu'))\n",
    "model.add(Dense(12, activation='relu'))\n",
    "model.add(Dense(8, activation='relu'))\n",
    "model.add(Dense(4, activation='relu'))\n",
    "model.add(Dense(1, activation ='sigmoid'))\n",
    "\n",
    "model.compile(optimizer='adam',\n",
    "              loss='binary_crossentropy',\n",
    "              metrics=['accuracy'])\n",
    "\n",
    "results = model.fit(X_pure_train, y_pure_train, epochs=50,\n",
    "                    batch_size= 32, verbose=0,\n",
    "                    validation_data=(X_val, y_val))\n",
    "\n",
    "train_loss = results.history['loss']\n",
    "train_acc = results.history['accuracy']\n",
    "val_loss = results.history['val_loss']\n",
    "val_acc = results.history['val_accuracy']\n",
    "\n",
    "\n",
    "fig, (ax1, ax2) = plt.subplots(1, 2, figsize=(10, 5))\n",
    "sns.lineplot(x=results.epoch, y=train_loss, ax=ax1, label='train_loss')\n",
    "sns.lineplot(x=results.epoch, y=train_acc, ax=ax2, label='train_accuracy')\n",
    "\n",
    "sns.lineplot(x=results.epoch, y=val_loss, ax=ax1, label='val_loss')\n",
    "sns.lineplot(x=results.epoch, y=val_acc, ax=ax2, label='val_accuracy');\n",
    "\n",
    "#  pretty decently fit model, via dropout (another form of regularization basically)"
   ]
  },
  {
   "cell_type": "markdown",
   "metadata": {},
   "source": [
    "<details>\n",
    "    <summary>One answer here</summary>\n",
    "<code>model = Sequential()\n",
    "model.add(Dense(30, activation='relu', input_dim=64))\n",
    "model.add(Dense(20, activation='relu'))\n",
    "model.add(Dropout(0.5))\n",
    "model.add(Dense(12, activation='relu'))\n",
    "model.add(Dropout(0.2))\n",
    "model.add(Dense(12, activation='relu'))\n",
    "model.add(Dense(12, activation='relu'))\n",
    "model.add(Dense(8, activation='relu'))\n",
    "model.add(Dense(4, activation='relu'))\n",
    "model.add(Dense(1, activation ='sigmoid'))\n",
    "\n",
    "model.compile(optimizer='adam',\n",
    "              loss='binary_crossentropy',\n",
    "              metrics=['accuracy'])\n",
    "\n",
    "results = model.fit(X_pure_train, y_pure_train, epochs=50,\n",
    "                    batch_size= 32, verbose=0,\n",
    "                    validation_data=(X_val, y_val))\n",
    "\n",
    "train_loss = results.history['loss']\n",
    "train_acc = results.history['accuracy']\n",
    "val_loss = results.history['val_loss']\n",
    "val_acc = results.history['val_accuracy']\n",
    "\n",
    "\n",
    "fig, (ax1, ax2) = plt.subplots(1, 2, figsize=(10, 5))\n",
    "sns.lineplot(x=results.epoch, y=train_loss, ax=ax1, label='train_loss')\n",
    "sns.lineplot(x=results.epoch, y=train_acc, ax=ax2, label='train_accuracy')\n",
    "\n",
    "sns.lineplot(x=results.epoch, y=val_loss, ax=ax1, label='val_loss')\n",
    "sns.lineplot(x=results.epoch, y=val_acc, ax=ax2, label='val_accuracy');</code>\n",
    "</details>"
   ]
  },
  {
   "cell_type": "code",
   "execution_count": 24,
   "metadata": {},
   "outputs": [
    {
     "data": {
      "text/plain": [
       "0.9791666865348816"
      ]
     },
     "execution_count": 24,
     "metadata": {},
     "output_type": "execute_result"
    }
   ],
   "source": [
    "results.history['val_accuracy'][-1]\n",
    "\n",
    "# up to .9826 now"
   ]
  },
  {
   "cell_type": "markdown",
   "metadata": {},
   "source": [
    "### Early Stopping"
   ]
  },
  {
   "cell_type": "markdown",
   "metadata": {},
   "source": [
    "We can also tell our neural network to stop once it stops realizing any gain.\n",
    "\n",
    "Here we tell it to stop once the a very small positive change in the validation loss occurs:"
   ]
  },
  {
   "cell_type": "code",
   "execution_count": 25,
   "metadata": {},
   "outputs": [
    {
     "data": {
      "image/png": "[encoded data removed]",
      "text/plain": [
       "<Figure size 720x360 with 2 Axes>"
      ]
     },
     "metadata": {
      "needs_background": "light"
     },
     "output_type": "display_data"
    }
   ],
   "source": [
    "# talked about setting a tolerance for gradient descent.  Going to \n",
    "# try that here\n",
    "# we'll stop the model if accuracy does not improve by a certain amount\n",
    "# over a certain number of epochs.  See early stopping object below...\n",
    "\n",
    "model = Sequential()\n",
    "model.add(Dense(30, activation='relu', input_dim=64))\n",
    "model.add(Dense(20, activation='relu'))\n",
    "model.add(Dropout(0.5))\n",
    "model.add(Dense(12, activation='relu'))\n",
    "model.add(Dense(12, activation='relu'))\n",
    "model.add(Dense(12, activation='relu'))\n",
    "model.add(Dense(8, activation='relu'))\n",
    "model.add(Dense(4, activation='relu'))\n",
    "model.add(Dense(1, activation ='sigmoid'))\n",
    "\n",
    "model.compile(optimizer='adam',\n",
    "              loss='binary_crossentropy',\n",
    "              metrics=['accuracy'])\n",
    "\n",
    "# Define the EarlyStopping object  (a Tensorflow class)\n",
    "# tell it what you want to monitor (e.g. val_loss - looking for min\n",
    "# or val_accuracy - looking for max)\n",
    "early_stop = EarlyStopping(monitor='val_loss', min_delta=1e-8,\n",
    "                           verbose=1,\n",
    "                           mode='min')\n",
    "\n",
    "# Place this in a list as the value of the `callbacks` parameter\n",
    "# in the `.fit()` method.\n",
    "results = model.fit(X_pure_train, y_pure_train,\n",
    "                    epochs=20, batch_size=32,\n",
    "                    verbose=0, validation_data=(X_val, y_val),\n",
    "                    callbacks=[early_stop])\n",
    "\n",
    "train_loss = results.history['loss']\n",
    "train_acc = results.history['accuracy']\n",
    "val_loss = results.history['val_loss']\n",
    "val_acc = results.history['val_accuracy']\n",
    "\n",
    "\n",
    "fig, (ax1, ax2) = plt.subplots(1, 2, figsize=(10, 5))\n",
    "sns.lineplot(x=results.epoch, y=train_loss, ax=ax1, label='train_loss')\n",
    "sns.lineplot(x=results.epoch, y=train_acc, ax=ax2, label='train_accuracy')\n",
    "\n",
    "sns.lineplot(x=results.epoch, y=val_loss, ax=ax1, label='val_loss')\n",
    "sns.lineplot(x=results.epoch, y=val_acc, ax=ax2, label='val_accuracy');\n",
    "\n",
    "# initially the model stopped WAAY too early.  \n",
    "# that's because it's looking for a change between EVERY epoch.  \n",
    "# need to space it out...  will pass patience parameter below"
   ]
  },
  {
   "cell_type": "markdown",
   "metadata": {},
   "source": [
    "### Exercise\n",
    "\n",
    "That probably stopped too early. We can specify the number of epochs in which it doesn't see decrease in the loss with the `patience` parameter. Modify the code below to include an Early Stop with a patience of 5 epochs."
   ]
  },
  {
   "cell_type": "code",
   "execution_count": 26,
   "metadata": {},
   "outputs": [
    {
     "name": "stdout",
     "output_type": "stream",
     "text": [
      "Epoch 00021: early stopping\n"
     ]
    },
    {
     "data": {
      "image/png": "[encoded data removed]",
      "text/plain": [
       "<Figure size 720x360 with 2 Axes>"
      ]
     },
     "metadata": {
      "needs_background": "light"
     },
     "output_type": "display_data"
    }
   ],
   "source": [
    "model = Sequential()\n",
    "model.add(Dense(30, activation='relu', input_dim=64))\n",
    "model.add(Dense(20, activation='relu'))\n",
    "model.add(Dropout(0.5))\n",
    "model.add(Dense(12, activation='relu'))\n",
    "model.add(Dense(12, activation='relu'))\n",
    "model.add(Dense(12, activation='relu'))\n",
    "model.add(Dense(8, activation='relu'))\n",
    "model.add(Dense(4, activation='relu'))\n",
    "model.add(Dense(1, activation ='sigmoid'))\n",
    "\n",
    "model.compile(optimizer='adam',\n",
    "              loss='binary_crossentropy',\n",
    "              metrics=['accuracy'])\n",
    "\n",
    "# Define the EarlyStopping object\n",
    "early_stop = EarlyStopping(monitor='val_loss', min_delta=1e-8,\n",
    "                           verbose=1, patience=5,  # patience parameter - after 5 epochs, if loss not...\n",
    "                           mode='min')\n",
    "\n",
    "# Place this in a list as the value of the `callbacks` parameter\n",
    "# in the `.fit()` method.\n",
    "results = model.fit(X_pure_train, y_pure_train,\n",
    "                    epochs=50, batch_size= 32,\n",
    "                    verbose=0, validation_data=(X_val, y_val),\n",
    "                    callbacks=[early_stop])  # need a callback in our .fit too\n",
    "\n",
    "train_loss = results.history['loss']\n",
    "train_acc = results.history['accuracy']\n",
    "val_loss = results.history['val_loss']\n",
    "val_acc = results.history['val_accuracy']\n",
    "\n",
    "\n",
    "fig, (ax1, ax2) = plt.subplots(1, 2, figsize=(10, 5))\n",
    "sns.lineplot(x=results.epoch, y=train_loss, ax=ax1, label='train_loss')\n",
    "sns.lineplot(x=results.epoch, y=train_acc, ax=ax2, label='train_accuracy')\n",
    "\n",
    "sns.lineplot(x=results.epoch, y=val_loss, ax=ax1, label='val_loss')\n",
    "sns.lineplot(x=results.epoch, y=val_acc, ax=ax2, label='val_accuracy');\n",
    "\n",
    "# we stopped at epoch 34.  Didn't make it to 50\n",
    "# because of our callback\n",
    "# like another form of regularization, to avoid overfitting"
   ]
  },
  {
   "cell_type": "markdown",
   "metadata": {},
   "source": [
    "<details>\n",
    "    <summary>One answer here</summary>\n",
    "<code>model = Sequential()\n",
    "model.add(Dense(30, activation='relu', input_dim=64))\n",
    "model.add(Dense(20, activation='relu'))\n",
    "model.add(Dropout(0.5))\n",
    "model.add(Dense(12, activation='relu'))\n",
    "model.add(Dense(12, activation='relu'))\n",
    "model.add(Dense(12, activation='relu'))\n",
    "model.add(Dense(8, activation='relu'))\n",
    "model.add(Dense(4, activation='relu'))\n",
    "model.add(Dense(1, activation ='sigmoid'))\n",
    "\n",
    "model.compile(optimizer='adam',\n",
    "              loss='binary_crossentropy',\n",
    "              metrics=['accuracy'])\n",
    "\n",
    "# Define the EarlyStopping object\n",
    "\n",
    "\n",
    "\n",
    "# Place this in a list as the value of the `callbacks` parameter\n",
    "# in the `.fit()` method.\n",
    "results = model.fit(X_pure_train, y_pure_train,\n",
    "                    epochs=50, batch_size= 32,\n",
    "                    verbose=0, validation_data=(X_val, y_val),\n",
    "                    callbacks=[early_stop])\n",
    "\n",
    "train_loss = results.history['loss']\n",
    "train_acc = results.history['accuracy']\n",
    "val_loss = results.history['val_loss']\n",
    "val_acc = results.history['val_accuracy']\n",
    "\n",
    "\n",
    "fig, (ax1, ax2) = plt.subplots(1, 2, figsize=(10, 5))\n",
    "sns.lineplot(x=results.epoch, y=train_loss, ax=ax1, label='train_loss')\n",
    "sns.lineplot(x=results.epoch, y=train_acc, ax=ax2, label='train_accuracy')\n",
    "\n",
    "sns.lineplot(x=results.epoch, y=val_loss, ax=ax1, label='val_loss')\n",
    "sns.lineplot(x=results.epoch, y=val_acc, ax=ax2, label='val_accuracy');</code>\n",
    "</details>"
   ]
  },
  {
   "cell_type": "code",
   "execution_count": 27,
   "metadata": {},
   "outputs": [
    {
     "data": {
      "text/plain": [
       "0.9756944179534912"
      ]
     },
     "execution_count": 27,
     "metadata": {},
     "output_type": "execute_result"
    }
   ],
   "source": [
    "results.history['val_accuracy'][-1]\n",
    "\n",
    "# now .9757"
   ]
  },
  {
   "cell_type": "markdown",
   "metadata": {},
   "source": [
    "## Multiclass Classification and Softmax"
   ]
  },
  {
   "cell_type": "markdown",
   "metadata": {},
   "source": [
    "Now let's return to the problem of predicting digits 0 through 9."
   ]
  },
  {
   "cell_type": "code",
   "execution_count": 28,
   "metadata": {},
   "outputs": [],
   "source": [
    "digits = load_digits()\n",
    "X = digits.data\n",
    "y = digits.target\n",
    "\n",
    "# no binary target here.  This is a full multiclass problem\n",
    "\n",
    "# softmax puts out probabilities, floats between 0 and 1, and they\n",
    "# will all total to 1.  And we can pick the highest probability\n",
    "\n",
    "# it involves transforming our y data (!)"
   ]
  },
  {
   "cell_type": "code",
   "execution_count": 29,
   "metadata": {},
   "outputs": [],
   "source": [
    "X_train, X_test, y_train, y_test = train_test_split(X, y,\n",
    "                                                    random_state=42,\n",
    "                                                    test_size=0.2)\n",
    "X_pure_train, X_val, y_pure_train, y_val =\\\n",
    "    train_test_split(X_train, y_train,\n",
    "                     random_state=42, test_size=0.2)\n",
    "X_pure_train, X_val, X_test = X_pure_train/16, X_val/16, X_test/16"
   ]
  },
  {
   "cell_type": "markdown",
   "metadata": {},
   "source": [
    "For a multiclass output, our neural net expects our target to be in a certain form."
   ]
  },
  {
   "cell_type": "code",
   "execution_count": null,
   "metadata": {},
   "outputs": [],
   "source": [
    "# it needs to be one hot encoded out.  Not dropping a category though\n",
    "\n",
    "# so this is transforming y_pure_train"
   ]
  },
  {
   "cell_type": "code",
   "execution_count": 30,
   "metadata": {},
   "outputs": [],
   "source": [
    "ohe = OneHotEncoder(sparse=False)\n",
    "y_pure_train = ohe.fit_transform(y_pure_train.reshape(-1,1))\n",
    "y_val = ohe.transform(y_val.reshape(-1,1))\n",
    "y_test = ohe.transform(y_test.reshape(-1,1))"
   ]
  },
  {
   "cell_type": "code",
   "execution_count": 31,
   "metadata": {},
   "outputs": [
    {
     "data": {
      "text/plain": [
       "array([[0.],\n",
       "       [0.],\n",
       "       [0.],\n",
       "       ...,\n",
       "       [0.],\n",
       "       [1.],\n",
       "       [0.]])"
      ]
     },
     "execution_count": 31,
     "metadata": {},
     "output_type": "execute_result"
    }
   ],
   "source": [
    "y_pure_train.reshape(-1,1)"
   ]
  },
  {
   "cell_type": "code",
   "execution_count": 32,
   "metadata": {},
   "outputs": [
    {
     "data": {
      "text/plain": [
       "array([[0., 0., 0., ..., 0., 0., 0.],\n",
       "       [0., 0., 0., ..., 0., 0., 1.],\n",
       "       [0., 0., 0., ..., 0., 0., 0.],\n",
       "       ...,\n",
       "       [0., 0., 0., ..., 0., 1., 0.],\n",
       "       [0., 0., 0., ..., 0., 0., 0.],\n",
       "       [0., 0., 0., ..., 0., 0., 0.]])"
      ]
     },
     "execution_count": 32,
     "metadata": {},
     "output_type": "execute_result"
    }
   ],
   "source": [
    "y_test\n",
    "\n",
    "# so 1st row below matches the above"
   ]
  },
  {
   "cell_type": "code",
   "execution_count": null,
   "metadata": {},
   "outputs": [],
   "source": [
    "# an OHE 9 would be:\n",
    "# 9 = [0,0,0,0,0,0,0,0,1]"
   ]
  },
  {
   "cell_type": "code",
   "execution_count": 33,
   "metadata": {},
   "outputs": [
    {
     "name": "stdout",
     "output_type": "stream",
     "text": [
      "Epoch 1/50\n",
      "115/115 [==============================] - 0s 4ms/step - loss: 2.1627 - accuracy: 0.2959 - val_loss: 2.0414 - val_accuracy: 0.3681\n",
      "Epoch 2/50\n",
      "115/115 [==============================] - 0s 2ms/step - loss: 1.8580 - accuracy: 0.4282 - val_loss: 1.7350 - val_accuracy: 0.4792\n",
      "Epoch 3/50\n",
      "115/115 [==============================] - 0s 2ms/step - loss: 1.5268 - accuracy: 0.5570 - val_loss: 1.4259 - val_accuracy: 0.6319\n",
      "Epoch 4/50\n",
      "115/115 [==============================] - 0s 3ms/step - loss: 1.2255 - accuracy: 0.6893 - val_loss: 1.1689 - val_accuracy: 0.7118\n",
      "Epoch 5/50\n",
      "115/115 [==============================] - 0s 2ms/step - loss: 0.9870 - accuracy: 0.7737 - val_loss: 0.9763 - val_accuracy: 0.7049\n",
      "Epoch 6/50\n",
      "115/115 [==============================] - 0s 1ms/step - loss: 0.8147 - accuracy: 0.7998 - val_loss: 0.8147 - val_accuracy: 0.7778\n",
      "Epoch 7/50\n",
      "115/115 [==============================] - 0s 1ms/step - loss: 0.6789 - accuracy: 0.8320 - val_loss: 0.6977 - val_accuracy: 0.8090\n",
      "Epoch 8/50\n",
      "115/115 [==============================] - 0s 1ms/step - loss: 0.5798 - accuracy: 0.8520 - val_loss: 0.6056 - val_accuracy: 0.8472\n",
      "Epoch 9/50\n",
      "115/115 [==============================] - 0s 2ms/step - loss: 0.4972 - accuracy: 0.8773 - val_loss: 0.5235 - val_accuracy: 0.8472\n",
      "Epoch 10/50\n",
      "115/115 [==============================] - 0s 2ms/step - loss: 0.4305 - accuracy: 0.8895 - val_loss: 0.4688 - val_accuracy: 0.8542\n",
      "Epoch 11/50\n",
      "115/115 [==============================] - 0s 1ms/step - loss: 0.3831 - accuracy: 0.8982 - val_loss: 0.4132 - val_accuracy: 0.8854\n",
      "Epoch 12/50\n",
      "115/115 [==============================] - 0s 1ms/step - loss: 0.3489 - accuracy: 0.9104 - val_loss: 0.3949 - val_accuracy: 0.8993\n",
      "Epoch 13/50\n",
      "115/115 [==============================] - 0s 2ms/step - loss: 0.3215 - accuracy: 0.9208 - val_loss: 0.3520 - val_accuracy: 0.9132\n",
      "Epoch 14/50\n",
      "115/115 [==============================] - 0s 1ms/step - loss: 0.2908 - accuracy: 0.9304 - val_loss: 0.3217 - val_accuracy: 0.9028\n",
      "Epoch 15/50\n",
      "115/115 [==============================] - 0s 1ms/step - loss: 0.2734 - accuracy: 0.9373 - val_loss: 0.3122 - val_accuracy: 0.8993\n",
      "Epoch 16/50\n",
      "115/115 [==============================] - 0s 1ms/step - loss: 0.2556 - accuracy: 0.9356 - val_loss: 0.2901 - val_accuracy: 0.9201\n",
      "Epoch 17/50\n",
      "115/115 [==============================] - 0s 2ms/step - loss: 0.2385 - accuracy: 0.9399 - val_loss: 0.2820 - val_accuracy: 0.9201\n",
      "Epoch 18/50\n",
      "115/115 [==============================] - 0s 1ms/step - loss: 0.2256 - accuracy: 0.9408 - val_loss: 0.2721 - val_accuracy: 0.9375\n",
      "Epoch 19/50\n",
      "115/115 [==============================] - 0s 1ms/step - loss: 0.2131 - accuracy: 0.9469 - val_loss: 0.2412 - val_accuracy: 0.9271\n",
      "Epoch 20/50\n",
      "115/115 [==============================] - 0s 2ms/step - loss: 0.2044 - accuracy: 0.9460 - val_loss: 0.2371 - val_accuracy: 0.9340\n",
      "Epoch 21/50\n",
      "115/115 [==============================] - 0s 1ms/step - loss: 0.1965 - accuracy: 0.9487 - val_loss: 0.2340 - val_accuracy: 0.9271\n",
      "Epoch 22/50\n",
      "115/115 [==============================] - 0s 2ms/step - loss: 0.1840 - accuracy: 0.9565 - val_loss: 0.2242 - val_accuracy: 0.9340\n",
      "Epoch 23/50\n",
      "115/115 [==============================] - 0s 2ms/step - loss: 0.1776 - accuracy: 0.9582 - val_loss: 0.2110 - val_accuracy: 0.9340\n",
      "Epoch 24/50\n",
      "115/115 [==============================] - 0s 2ms/step - loss: 0.1688 - accuracy: 0.9608 - val_loss: 0.2051 - val_accuracy: 0.9306\n",
      "Epoch 25/50\n",
      "115/115 [==============================] - 0s 1ms/step - loss: 0.1602 - accuracy: 0.9608 - val_loss: 0.2153 - val_accuracy: 0.9340\n",
      "Epoch 26/50\n",
      "115/115 [==============================] - 0s 1ms/step - loss: 0.1552 - accuracy: 0.9600 - val_loss: 0.1922 - val_accuracy: 0.9375\n",
      "Epoch 27/50\n",
      "115/115 [==============================] - 0s 2ms/step - loss: 0.1483 - accuracy: 0.9643 - val_loss: 0.1911 - val_accuracy: 0.9375\n",
      "Epoch 28/50\n",
      "115/115 [==============================] - 0s 1ms/step - loss: 0.1438 - accuracy: 0.9643 - val_loss: 0.1980 - val_accuracy: 0.9271\n",
      "Epoch 29/50\n",
      "115/115 [==============================] - 0s 1ms/step - loss: 0.1418 - accuracy: 0.9626 - val_loss: 0.1838 - val_accuracy: 0.9375\n",
      "Epoch 30/50\n",
      "115/115 [==============================] - 0s 1ms/step - loss: 0.1344 - accuracy: 0.9652 - val_loss: 0.1752 - val_accuracy: 0.9410\n",
      "Epoch 31/50\n",
      "115/115 [==============================] - 0s 1ms/step - loss: 0.1292 - accuracy: 0.9661 - val_loss: 0.1714 - val_accuracy: 0.9375\n",
      "Epoch 32/50\n",
      "115/115 [==============================] - 0s 1ms/step - loss: 0.1268 - accuracy: 0.9669 - val_loss: 0.1695 - val_accuracy: 0.9375\n",
      "Epoch 33/50\n",
      "115/115 [==============================] - 0s 1ms/step - loss: 0.1192 - accuracy: 0.9713 - val_loss: 0.1680 - val_accuracy: 0.9340\n",
      "Epoch 34/50\n",
      "115/115 [==============================] - 0s 1ms/step - loss: 0.1172 - accuracy: 0.9695 - val_loss: 0.1660 - val_accuracy: 0.9410\n",
      "Epoch 35/50\n",
      "115/115 [==============================] - 0s 1ms/step - loss: 0.1154 - accuracy: 0.9704 - val_loss: 0.1713 - val_accuracy: 0.9410\n",
      "Epoch 36/50\n",
      "115/115 [==============================] - 0s 1ms/step - loss: 0.1095 - accuracy: 0.9721 - val_loss: 0.1585 - val_accuracy: 0.9410\n",
      "Epoch 37/50\n",
      "115/115 [==============================] - 0s 1ms/step - loss: 0.1052 - accuracy: 0.9721 - val_loss: 0.1591 - val_accuracy: 0.9340\n",
      "Epoch 38/50\n",
      "115/115 [==============================] - 0s 1ms/step - loss: 0.1009 - accuracy: 0.9748 - val_loss: 0.1452 - val_accuracy: 0.9410\n",
      "Epoch 39/50\n",
      "115/115 [==============================] - 0s 1ms/step - loss: 0.0990 - accuracy: 0.9730 - val_loss: 0.1511 - val_accuracy: 0.9375\n",
      "Epoch 40/50\n",
      "115/115 [==============================] - 0s 3ms/step - loss: 0.0954 - accuracy: 0.9774 - val_loss: 0.1428 - val_accuracy: 0.9375\n",
      "Epoch 41/50\n",
      "115/115 [==============================] - 0s 2ms/step - loss: 0.0947 - accuracy: 0.9756 - val_loss: 0.1484 - val_accuracy: 0.9410\n",
      "Epoch 42/50\n",
      "115/115 [==============================] - 0s 2ms/step - loss: 0.0910 - accuracy: 0.9782 - val_loss: 0.1475 - val_accuracy: 0.9444\n",
      "Epoch 43/50\n",
      "115/115 [==============================] - 0s 2ms/step - loss: 0.0866 - accuracy: 0.9791 - val_loss: 0.1414 - val_accuracy: 0.9514\n",
      "Epoch 44/50\n",
      "115/115 [==============================] - 0s 2ms/step - loss: 0.0858 - accuracy: 0.9756 - val_loss: 0.1459 - val_accuracy: 0.9444\n",
      "Epoch 45/50\n",
      "115/115 [==============================] - 0s 2ms/step - loss: 0.0806 - accuracy: 0.9809 - val_loss: 0.1537 - val_accuracy: 0.9375\n",
      "Epoch 46/50\n",
      "115/115 [==============================] - 0s 2ms/step - loss: 0.0812 - accuracy: 0.9782 - val_loss: 0.1291 - val_accuracy: 0.9549\n",
      "Epoch 47/50\n",
      "115/115 [==============================] - 0s 2ms/step - loss: 0.0792 - accuracy: 0.9774 - val_loss: 0.1366 - val_accuracy: 0.9514\n",
      "Epoch 48/50\n",
      "115/115 [==============================] - 0s 2ms/step - loss: 0.0769 - accuracy: 0.9800 - val_loss: 0.1291 - val_accuracy: 0.9618\n",
      "Epoch 49/50\n",
      "115/115 [==============================] - 0s 2ms/step - loss: 0.0761 - accuracy: 0.9826 - val_loss: 0.1392 - val_accuracy: 0.9549\n",
      "Epoch 50/50\n",
      "115/115 [==============================] - 0s 2ms/step - loss: 0.0715 - accuracy: 0.9817 - val_loss: 0.1431 - val_accuracy: 0.9514\n"
     ]
    }
   ],
   "source": [
    "# Model from above, but now with ten output neurons:\n",
    "\n",
    "model = Sequential()\n",
    "model.add(Dense(12, activation='relu', input_dim=64))\n",
    "model.add(Dense(8, activation='relu'))\n",
    "# Final layer will look different need a node for each class\n",
    "model.add(Dense(10, activation='softmax'))  # this is what we added\n",
    "# we need 10 probabilities, not the binary of sigmoid function\n",
    "\n",
    "model.compile(optimizer='adam',\n",
    "              loss='categorical_crossentropy',  # this is new too, not binary\n",
    "              metrics=['accuracy'])\n",
    "\n",
    "results = model.fit(X_pure_train, y_pure_train,\n",
    "                   epochs=50, batch_size=10,\n",
    "                   validation_data=(X_val, y_val))"
   ]
  },
  {
   "cell_type": "markdown",
   "metadata": {},
   "source": [
    "$$\\large \\text{Softmax}(x_{i}) = \\frac{\\exp(x_i)}{\\sum_j \\exp(x_j)}$$\n",
    "\n",
    "The sofmax function outputs a number between 0 and 1 for each of our classes.  All of the probabilities of the classes sum up to 1.\n",
    "\n",
    "The number of nodes in our output layer equals the number of categories in our dataset.\n",
    "\n",
    "We also need a new loss function: **categorical crossentropy**, which calculates a separate loss for each label and then sums the results."
   ]
  },
  {
   "cell_type": "code",
   "execution_count": 34,
   "metadata": {},
   "outputs": [],
   "source": [
    "history = results.history\n",
    "training_loss = history['loss']\n",
    "val_loss = history['val_loss']\n",
    "training_accuracy = history['accuracy']\n",
    "val_accuracy = history['val_accuracy']"
   ]
  },
  {
   "cell_type": "code",
   "execution_count": 35,
   "metadata": {},
   "outputs": [
    {
     "data": {
      "image/png": "[encoded data removed]",
      "text/plain": [
       "<Figure size 1080x360 with 2 Axes>"
      ]
     },
     "metadata": {
      "needs_background": "light"
     },
     "output_type": "display_data"
    }
   ],
   "source": [
    "fig, (ax1,ax2) = plt.subplots(1,2,figsize=(15,5))\n",
    "\n",
    "\n",
    "sns.lineplot(x=list(range(len(training_loss))),\n",
    "             y=training_loss, color='r', label='training', ax=ax1)\n",
    "sns.lineplot(x=list(range(len(val_loss))),\n",
    "             y=val_loss, color='b', label='validation', ax=ax1)\n",
    "sns.lineplot(x=list(range(len(training_loss))),\n",
    "             y=training_accuracy, color='r', label='training',ax=ax2)\n",
    "sns.lineplot(x=list(range(len(val_loss))),\n",
    "             y=val_accuracy, color='b', label='validation',ax=ax2)\n",
    "ax1.legend();"
   ]
  },
  {
   "cell_type": "code",
   "execution_count": 36,
   "metadata": {},
   "outputs": [
    {
     "data": {
      "text/plain": [
       "array([[1.4592889e-04, 2.9752523e-04, 5.2039223e-08, ..., 6.2983789e-12,\n",
       "        1.8830750e-03, 1.9571537e-06],\n",
       "       [4.6497782e-05, 1.5868917e-06, 2.2526998e-10, ..., 5.6988585e-05,\n",
       "        1.2226234e-04, 9.9852931e-01],\n",
       "       [6.7187067e-08, 8.6537995e-07, 9.0035121e-04, ..., 7.6346541e-06,\n",
       "        7.6092285e-04, 1.5844746e-03],\n",
       "       ...,\n",
       "       [4.5928678e-06, 2.7564583e-02, 3.6456226e-05, ..., 2.3640392e-02,\n",
       "        9.4456798e-01, 6.0528837e-04],\n",
       "       [1.4646803e-06, 1.9201354e-04, 4.7239899e-03, ..., 5.9626258e-05,\n",
       "        8.6945118e-03, 5.1354137e-03],\n",
       "       [1.7387518e-07, 3.1260899e-07, 9.2933057e-08, ..., 6.2325756e-10,\n",
       "        3.3336914e-06, 3.8976963e-03]], dtype=float32)"
      ]
     },
     "execution_count": 36,
     "metadata": {},
     "output_type": "execute_result"
    }
   ],
   "source": [
    "model.predict(X_test)"
   ]
  },
  {
   "cell_type": "code",
   "execution_count": 37,
   "metadata": {},
   "outputs": [
    {
     "data": {
      "text/plain": [
       "array([1.4592889e-04, 2.9752523e-04, 5.2039223e-08, 6.6278702e-08,\n",
       "       4.7884695e-04, 1.6106985e-04, 9.9703157e-01, 6.2983789e-12,\n",
       "       1.8830750e-03, 1.9571537e-06], dtype=float32)"
      ]
     },
     "execution_count": 37,
     "metadata": {},
     "output_type": "execute_result"
    }
   ],
   "source": [
    "model.predict(X_test)[0]"
   ]
  },
  {
   "cell_type": "code",
   "execution_count": 36,
   "metadata": {},
   "outputs": [
    {
     "data": {
      "text/plain": [
       "10"
      ]
     },
     "execution_count": 36,
     "metadata": {},
     "output_type": "execute_result"
    }
   ],
   "source": [
    "len(model.predict(X_test)[0])\n",
    "\n",
    "# the length of this is 10 - each of our 10 softmax"
   ]
  },
  {
   "cell_type": "code",
   "execution_count": 38,
   "metadata": {},
   "outputs": [
    {
     "data": {
      "text/plain": [
       "1.0000001"
      ]
     },
     "execution_count": 38,
     "metadata": {},
     "output_type": "execute_result"
    }
   ],
   "source": [
    "model.predict(X_test)[0].sum()"
   ]
  },
  {
   "cell_type": "code",
   "execution_count": 39,
   "metadata": {},
   "outputs": [],
   "source": [
    "y_hat_test = np.argmax(model.predict(X_test), axis=-1)\n",
    "\n",
    "# np.argmax returns the indices of the maximum value"
   ]
  },
  {
   "cell_type": "code",
   "execution_count": 40,
   "metadata": {},
   "outputs": [
    {
     "data": {
      "text/plain": [
       "array([[30,  0,  0,  0,  1,  0,  1,  1,  0,  0],\n",
       "       [ 0, 27,  1,  0,  0,  0,  0,  0,  0,  0],\n",
       "       [ 0,  1, 30,  0,  0,  0,  0,  0,  2,  0],\n",
       "       [ 0,  0,  1, 32,  0,  1,  0,  0,  0,  0],\n",
       "       [ 0,  0,  0,  0, 46,  0,  0,  0,  0,  0],\n",
       "       [ 0,  0,  1,  0,  0, 45,  1,  0,  0,  0],\n",
       "       [ 1,  0,  0,  0,  0,  0, 34,  0,  0,  0],\n",
       "       [ 0,  0,  0,  0,  0,  0,  0, 33,  0,  1],\n",
       "       [ 0,  0,  0,  0,  0,  1,  0,  0, 29,  0],\n",
       "       [ 0,  0,  0,  2,  0,  1,  0,  0,  2, 35]], dtype=int64)"
      ]
     },
     "execution_count": 40,
     "metadata": {},
     "output_type": "execute_result"
    }
   ],
   "source": [
    "y_test_restore = ohe.inverse_transform(y_test)\n",
    "confusion_matrix(y_test_restore, y_hat_test)\n",
    "\n",
    "# that's an awesome confusion matrix"
   ]
  },
  {
   "cell_type": "markdown",
   "metadata": {},
   "source": [
    "Wow, look at that performance!  \n",
    "\n",
    "That is great, but remember, we were dealing with simple black and white images.  With color, our basic neural net will have less success.\n",
    "\n"
   ]
  }
 ],
 "metadata": {
  "celltoolbar": "Raw Cell Format",
  "colab": {
   "collapsed_sections": [],
   "name": "intro-to-keras.ipynb",
   "provenance": []
  },
  "kernelspec": {
   "display_name": "Python (learn-env)",
   "language": "python",
   "name": "learn-env"
  },
  "language_info": {
   "codemirror_mode": {
    "name": "ipython",
    "version": 3
   },
   "file_extension": ".py",
   "mimetype": "text/x-python",
   "name": "python",
   "nbconvert_exporter": "python",
   "pygments_lexer": "ipython3",
   "version": "3.8.5"
  }
 },
 "nbformat": 4,
 "nbformat_minor": 4
}
