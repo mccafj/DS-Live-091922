{
 "cells": [
  {
   "cell_type": "markdown",
   "metadata": {
    "nbgrader": {
     "grade": false,
     "grade_id": "cell-e09d1d1727c07a79",
     "locked": true,
     "schema_version": 3,
     "solution": false,
     "task": false
    }
   },
   "source": [
    "# Time Series Checkpoint\n",
    "\n",
    "This checkpoint is designed to test your knowledge of time series analysis and modeling.\n",
    "\n",
    "Specifically, this will cover:\n",
    "\n",
    "* Using `pandas` to manipulate time series data\n",
    "* Plotting time series data\n",
    "* Modeling time series data with an ARMA model"
   ]
  },
  {
   "cell_type": "markdown",
   "metadata": {
    "nbgrader": {
     "grade": false,
     "grade_id": "cell-5c2150a70b218a3d",
     "locked": true,
     "schema_version": 3,
     "solution": false,
     "task": false
    }
   },
   "source": [
    "## Data Understanding\n",
    "\n",
    "The following dataset comes from the [UCI Machine Learning Repository](https://archive.ics.uci.edu/ml/datasets/Appliances+energy+prediction). It includes energy usage data as well as temperature and humidity data.\n",
    "\n",
    "The relevant columns for your analysis will be:\n",
    "\n",
    "* `date`: A string representing the timestamp of measurements taken every 10 minutes\n",
    "* `lights`: An integer representing energy use of light fixtures in the house in Wh"
   ]
  },
  {
   "cell_type": "code",
   "execution_count": null,
   "metadata": {
    "nbgrader": {
     "grade": false,
     "grade_id": "cell-d4591cce74003c68",
     "locked": true,
     "schema_version": 3,
     "solution": false,
     "task": false
    }
   },
   "outputs": [],
   "source": [
    "# Run this cell without changes\n",
    "import pandas as pd\n",
    "\n",
    "df = pd.read_csv(\"energy_data.csv\")\n",
    "df"
   ]
  },
  {
   "cell_type": "markdown",
   "metadata": {
    "nbgrader": {
     "grade": false,
     "grade_id": "cell-f15e3609da54dd7f",
     "locked": true,
     "schema_version": 3,
     "solution": false,
     "task": false
    }
   },
   "source": [
    "## 1. Create a `Series` Object for Analysis\n",
    "\n",
    "As noted previously, we do not need all of the columns of `df`. Create a `pandas` `Series` object called `light_ts` which has an index of type `DatetimeIndex` generated based on the `date` column of `df` and data from the values of the `lights` column of `df`.\n",
    "\n",
    "***Hint:*** The `pd.to_datetime` function ([documentation here](https://pandas.pydata.org/pandas-docs/stable/reference/api/pandas.to_datetime.html)) can convert strings representing dates into datetimes"
   ]
  },
  {
   "cell_type": "code",
   "execution_count": null,
   "metadata": {
    "nbgrader": {
     "grade": false,
     "grade_id": "cell-8c1bb3cb584db471",
     "locked": false,
     "schema_version": 3,
     "solution": true,
     "task": false
    }
   },
   "outputs": [],
   "source": [
    "# CodeGrade step1\n",
    "# Replace None with appropriate code\n",
    "light_ts = None\n",
    "\n",
    "light_ts"
   ]
  },
  {
   "cell_type": "code",
   "execution_count": null,
   "metadata": {},
   "outputs": [],
   "source": [
    "# light_ts should be a Series\n",
    "assert type(light_ts) == pd.Series\n",
    "\n",
    "# light_ts should have the same number of records as df\n",
    "assert light_ts.shape[0] == df.shape[0]\n",
    "\n",
    "# The index of light_ts should be composed of datetimes\n",
    "assert type(light_ts.index) == pd.DatetimeIndex"
   ]
  },
  {
   "cell_type": "markdown",
   "metadata": {
    "nbgrader": {
     "grade": false,
     "grade_id": "cell-e51b79c8888e7cd7",
     "locked": true,
     "schema_version": 3,
     "solution": false,
     "task": false
    }
   },
   "source": [
    "## 2. Downsample Time Series Data to Find a Daily Total\n",
    "\n",
    "Currently this dataset has recorded the amount of energy used every hour. We want to analyze the amount of energy used every day.\n",
    "\n",
    "Create a `Series` called `daily_ts` which contains the data from `light_ts` downsampled using the frequency string for 1 **day**, then aggregated using the **sum** of daily energy use by the lights.\n",
    "\n",
    "***Hint:*** Here is some relevant documentation:\n",
    "\n",
    "* See [this page](https://pandas.pydata.org/pandas-docs/stable/reference/api/pandas.Series.resample.html#pandas.Series.resample) for information on the method used for upsampling and downsampling\n",
    "* See [this page](https://pandas.pydata.org/pandas-docs/stable/user_guide/timeseries.html#dateoffset-objects) for the available frequency strings\n",
    "* See [this page](https://pandas.pydata.org/docs/reference/resampling.html#computations-descriptive-stats) for the available aggregate functions to use after resampling"
   ]
  },
  {
   "cell_type": "code",
   "execution_count": null,
   "metadata": {
    "nbgrader": {
     "grade": false,
     "grade_id": "cell-eece984f0b632f01",
     "locked": false,
     "schema_version": 3,
     "solution": true,
     "task": false
    }
   },
   "outputs": [],
   "source": [
    "# CodeGrade step2\n",
    "# Replace None with appropriate code\n",
    "daily_ts = None\n",
    "daily_ts"
   ]
  },
  {
   "cell_type": "code",
   "execution_count": null,
   "metadata": {},
   "outputs": [],
   "source": [
    "# daily_ts should be a Series\n",
    "assert type(daily_ts) == pd.Series\n",
    "\n",
    "# daily_ts should have fewer records than light_ts\n",
    "assert len(daily_ts) < len(light_ts)"
   ]
  },
  {
   "cell_type": "code",
   "execution_count": null,
   "metadata": {
    "nbgrader": {
     "grade": false,
     "grade_id": "cell-5875e57d44066498",
     "locked": true,
     "schema_version": 3,
     "solution": false,
     "task": false
    },
    "scrolled": true
   },
   "outputs": [],
   "source": [
    "# Run this cell without changes\n",
    "daily_ts.plot(ylabel=\"Daily energy use of lights (Wh)\");"
   ]
  },
  {
   "cell_type": "markdown",
   "metadata": {
    "nbgrader": {
     "grade": false,
     "grade_id": "cell-1048e7555f930091",
     "locked": true,
     "schema_version": 3,
     "solution": false,
     "task": false
    }
   },
   "source": [
    "## 3. Check for Stationarity\n",
    "\n",
    "Is this `daily_ts` time series stationary? You can answer this by interpreting the graph above, or using a statistical test ([documentation here](https://www.statsmodels.org/dev/generated/statsmodels.tsa.stattools.adfuller.html)) with an alpha of 0.05. Assign your answer to `is_stationary`."
   ]
  },
  {
   "cell_type": "code",
   "execution_count": null,
   "metadata": {
    "nbgrader": {
     "grade": false,
     "grade_id": "cell-cd438a6a385d12e5",
     "locked": false,
     "schema_version": 3,
     "solution": true,
     "task": false
    }
   },
   "outputs": [],
   "source": [
    "# CodeGrade step3\n",
    "# Replace None with appropriate code\n",
    "is_stationary = None\n",
    "\n",
    "is_stationary"
   ]
  },
  {
   "cell_type": "code",
   "execution_count": null,
   "metadata": {},
   "outputs": [],
   "source": [
    "# is_stationary should be True or False\n",
    "assert (is_stationary == True or is_stationary == False)"
   ]
  },
  {
   "cell_type": "markdown",
   "metadata": {
    "nbgrader": {
     "grade": false,
     "grade_id": "cell-40927cba3193cf66",
     "locked": true,
     "schema_version": 3,
     "solution": false,
     "task": false
    }
   },
   "source": [
    "## 4. Find The Weekly Rolling Average of Time Series Data\n",
    "\n",
    "Create a `Series` called `rolling_avg_ts` that represents the **weekly (7-day)** rolling **mean** of daily energy usage.\n",
    "\n",
    "***Hint:*** See [this documentation](https://pandas.pydata.org/docs/reference/api/pandas.Series.rolling.html) for more information on calculating a rolling average.\n",
    "\n",
    "(Note that it is expected that you'll see some NaN values at the beginning, when there have been fewer than 7 days to average.)"
   ]
  },
  {
   "cell_type": "code",
   "execution_count": null,
   "metadata": {
    "nbgrader": {
     "grade": false,
     "grade_id": "cell-c92808cd4096e5cc",
     "locked": false,
     "schema_version": 3,
     "solution": true,
     "task": false
    }
   },
   "outputs": [],
   "source": [
    "# CodeGrade step4\n",
    "# Replace None with appropriate code\n",
    "rolling_avg_ts = None\n",
    "\n",
    "rolling_avg_ts"
   ]
  },
  {
   "cell_type": "code",
   "execution_count": null,
   "metadata": {},
   "outputs": [],
   "source": [
    "# rolling_avg_ts should be a Series\n",
    "assert type(rolling_avg_ts) == pd.Series\n",
    "\n",
    "# rolling_avg_ts should have the same number of records as daily_ts\n",
    "assert len(rolling_avg_ts) == len(daily_ts)"
   ]
  },
  {
   "cell_type": "markdown",
   "metadata": {
    "nbgrader": {
     "grade": false,
     "grade_id": "cell-0f0a3d032258625a",
     "locked": true,
     "schema_version": 3,
     "solution": false,
     "task": false
    }
   },
   "source": [
    "In the cell below, we plot the raw daily data, the 7-day moving average, and the difference between the raw daily data and the moving average."
   ]
  },
  {
   "cell_type": "code",
   "execution_count": null,
   "metadata": {
    "nbgrader": {
     "grade": false,
     "grade_id": "cell-e30a62ff5dfbc684",
     "locked": true,
     "schema_version": 3,
     "solution": false,
     "task": false
    }
   },
   "outputs": [],
   "source": [
    "# Run this cell without changes\n",
    "\n",
    "import matplotlib.pyplot as plt\n",
    "from matplotlib.dates import AutoDateLocator, ConciseDateFormatter\n",
    "import numpy as np\n",
    "\n",
    "differenced_ts = daily_ts - rolling_avg_ts\n",
    "differenced_ts.dropna(inplace=True)\n",
    "differenced_transformed_ts = np.sqrt(daily_ts) - np.sqrt(rolling_avg_ts)\n",
    "differenced_transformed_ts.dropna(inplace=True)\n",
    "\n",
    "fig, axes = plt.subplots(ncols=3, figsize=(16,4))\n",
    "\n",
    "axes[0].plot(daily_ts, color=\"gray\", label=\"Daily energy use\", )\n",
    "axes[0].plot(rolling_avg_ts, color=\"blue\", label=\"7-day moving average\")\n",
    "axes[1].plot(differenced_ts, color=\"green\", label=\"Differenced\")\n",
    "axes[2].plot(differenced_transformed_ts, label=\"Differenced and transformed\")\n",
    "\n",
    "locator = AutoDateLocator()\n",
    "formatter = ConciseDateFormatter(locator)\n",
    "\n",
    "for ax in axes:\n",
    "    ax.xaxis.set_major_locator(locator)\n",
    "    ax.xaxis.set_major_formatter(formatter)\n",
    "    ax.legend()"
   ]
  },
  {
   "cell_type": "markdown",
   "metadata": {
    "nbgrader": {
     "grade": false,
     "grade_id": "cell-87ddebe457119f57",
     "locked": true,
     "schema_version": 3,
     "solution": false,
     "task": false
    }
   },
   "source": [
    "## 5. Choose a Dataset and Build an AR(I)MA Model\n",
    "\n",
    "Based on the plots above, choose the most-stationary time series data out of:\n",
    "\n",
    "* `daily_ts`\n",
    "* `differenced_ts`\n",
    "* `differenced_transformed_ts`\n",
    "\n",
    "And plug it into an AR(I)MA model ([documentation here](https://www.statsmodels.org/dev/generated/statsmodels.tsa.arima.model.ARIMA.html))\n",
    "\n",
    "You can use any order `(p, d, q)` that you want, so long as it doesn't produce a convergence warning message."
   ]
  },
  {
   "cell_type": "code",
   "execution_count": null,
   "metadata": {
    "nbgrader": {
     "grade": false,
     "grade_id": "cell-5c1083654356a9b2",
     "locked": false,
     "schema_version": 3,
     "solution": true,
     "task": false
    }
   },
   "outputs": [],
   "source": [
    "# CodeGrade step5\n",
    "# Replace None with appropriate code\n",
    "from statsmodels.tsa.arima.model import ARIMA\n",
    "\n",
    "model = None\n",
    "\n",
    "res = model.fit()\n",
    "res.summary()"
   ]
  },
  {
   "cell_type": "code",
   "execution_count": null,
   "metadata": {},
   "outputs": [],
   "source": [
    "# model should be an ARIMA model\n",
    "assert type(model) == ARIMA"
   ]
  }
 ],
 "metadata": {
  "celltoolbar": "Create Assignment",
  "kernelspec": {
   "display_name": "Python (learn-env)",
   "language": "python",
   "name": "learn-env"
  },
  "language_info": {
   "codemirror_mode": {
    "name": "ipython",
    "version": 3
   },
   "file_extension": ".py",
   "mimetype": "text/x-python",
   "name": "python",
   "nbconvert_exporter": "python",
   "pygments_lexer": "ipython3",
   "version": "3.8.5"
  }
 },
 "nbformat": 4,
 "nbformat_minor": 5
}
