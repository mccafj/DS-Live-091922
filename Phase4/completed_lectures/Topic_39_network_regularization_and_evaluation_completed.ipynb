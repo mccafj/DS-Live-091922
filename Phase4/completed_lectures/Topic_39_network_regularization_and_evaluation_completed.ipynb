{
 "cells": [
  {
   "cell_type": "markdown",
   "metadata": {
    "slideshow": {
     "slide_type": "slide"
    }
   },
   "source": [
    "# Regularization and Evaluation of Neural Networks"
   ]
  },
  {
   "cell_type": "code",
   "execution_count": 1,
   "metadata": {},
   "outputs": [],
   "source": [
    "from sklearn.datasets import load_sample_images\n",
    "from sklearn.datasets import load_digits\n",
    "from sklearn.model_selection import train_test_split, cross_val_score\n",
    "from sklearn.preprocessing import OneHotEncoder\n",
    "from sklearn.metrics import accuracy_score, confusion_matrix\n",
    "import matplotlib.pyplot as plt\n",
    "import matplotlib.image as mpimg\n",
    "import numpy as np\n",
    "import seaborn as sns\n",
    "\n",
    "from tensorflow.keras.models import Sequential\n",
    "from tensorflow.keras.layers import Dense, Dropout\n",
    "from tensorflow.keras.regularizers import l2\n",
    "from tensorflow.keras.optimizers import SGD\n",
    "from tensorflow.keras.wrappers import scikit_learn\n",
    "from tensorflow.keras.callbacks import EarlyStopping\n",
    "\n",
    "import os\n",
    "import sys\n",
    "module_path = os.path.abspath(os.path.join(os.pardir, os.pardir))\n",
    "if module_path not in sys.path:\n",
    "    sys.path.append(module_path)\n",
    "    \n",
    "%load_ext autoreload\n",
    "%autoreload 2"
   ]
  },
  {
   "cell_type": "markdown",
   "metadata": {},
   "source": [
    "## Learning Objectives\n",
    "\n",
    "- use `keras` to code up a neural network model;\n",
    "- explain dropout and early stopping as distinctive forms of regularization in neural networks;\n",
    "- use wrappers inside `keras` to make models that can jibe with `sklearn`."
   ]
  },
  {
   "cell_type": "markdown",
   "metadata": {},
   "source": [
    "### From last time"
   ]
  },
  {
   "cell_type": "code",
   "execution_count": 2,
   "metadata": {},
   "outputs": [],
   "source": [
    "digits = load_digits()\n",
    "X = digits.data\n",
    "y = digits.target\n",
    "\n",
    "y_binary = y % 2"
   ]
  },
  {
   "cell_type": "code",
   "execution_count": 3,
   "metadata": {},
   "outputs": [
    {
     "name": "stdout",
     "output_type": "stream",
     "text": [
      "Metal device set to: Apple M1\n",
      "Epoch 1/30\n"
     ]
    },
    {
     "name": "stderr",
     "output_type": "stream",
     "text": [
      "2022-12-01 15:07:47.015698: I tensorflow/core/common_runtime/pluggable_device/pluggable_device_factory.cc:305] Could not identify NUMA node of platform GPU ID 0, defaulting to 0. Your kernel may not have been built with NUMA support.\n",
      "2022-12-01 15:07:47.016009: I tensorflow/core/common_runtime/pluggable_device/pluggable_device_factory.cc:271] Created TensorFlow device (/job:localhost/replica:0/task:0/device:GPU:0 with 0 MB memory) -> physical PluggableDevice (device: 0, name: METAL, pci bus id: <undefined>)\n",
      "2022-12-01 15:07:47.203976: W tensorflow/core/platform/profile_utils/cpu_utils.cc:128] Failed to get CPU frequency: 0 Hz\n"
     ]
    },
    {
     "name": "stdout",
     "output_type": "stream",
     "text": [
      "\r",
      " 1/60 [..............................] - ETA: 24s - loss: 2.2644 - accuracy: 0.4667"
     ]
    },
    {
     "name": "stderr",
     "output_type": "stream",
     "text": [
      "2022-12-01 15:07:47.453842: I tensorflow/core/grappler/optimizers/custom_graph_optimizer_registry.cc:113] Plugin optimizer for device_type GPU is enabled.\n"
     ]
    },
    {
     "name": "stdout",
     "output_type": "stream",
     "text": [
      "60/60 [==============================] - 1s 9ms/step - loss: 0.7817 - accuracy: 0.6617\n",
      "Epoch 2/30\n",
      "60/60 [==============================] - 1s 9ms/step - loss: 0.3853 - accuracy: 0.8353\n",
      "Epoch 3/30\n",
      "60/60 [==============================] - 1s 10ms/step - loss: 0.2881 - accuracy: 0.8876\n",
      "Epoch 4/30\n",
      "60/60 [==============================] - 1s 9ms/step - loss: 0.2472 - accuracy: 0.8987\n",
      "Epoch 5/30\n",
      "60/60 [==============================] - 1s 10ms/step - loss: 0.2122 - accuracy: 0.9171\n",
      "Epoch 6/30\n",
      "60/60 [==============================] - 1s 9ms/step - loss: 0.1918 - accuracy: 0.9232\n",
      "Epoch 7/30\n",
      "60/60 [==============================] - 1s 10ms/step - loss: 0.1696 - accuracy: 0.9366\n",
      "Epoch 8/30\n",
      "60/60 [==============================] - 1s 9ms/step - loss: 0.1502 - accuracy: 0.9399\n",
      "Epoch 9/30\n",
      "60/60 [==============================] - 1s 9ms/step - loss: 0.1378 - accuracy: 0.9482\n",
      "Epoch 10/30\n",
      "60/60 [==============================] - 1s 9ms/step - loss: 0.1234 - accuracy: 0.9549\n",
      "Epoch 11/30\n",
      "60/60 [==============================] - 1s 10ms/step - loss: 0.1118 - accuracy: 0.9572\n",
      "Epoch 12/30\n",
      "60/60 [==============================] - 1s 9ms/step - loss: 0.1032 - accuracy: 0.9605\n",
      "Epoch 13/30\n",
      "60/60 [==============================] - 1s 10ms/step - loss: 0.0956 - accuracy: 0.9661\n",
      "Epoch 14/30\n",
      "60/60 [==============================] - 1s 11ms/step - loss: 0.0875 - accuracy: 0.9716\n",
      "Epoch 15/30\n",
      "60/60 [==============================] - 1s 10ms/step - loss: 0.0845 - accuracy: 0.9699\n",
      "Epoch 16/30\n",
      "60/60 [==============================] - 1s 10ms/step - loss: 0.0761 - accuracy: 0.9722\n",
      "Epoch 17/30\n",
      "60/60 [==============================] - 1s 10ms/step - loss: 0.0690 - accuracy: 0.9744\n",
      "Epoch 18/30\n",
      "60/60 [==============================] - 1s 10ms/step - loss: 0.0638 - accuracy: 0.9789\n",
      "Epoch 19/30\n",
      "60/60 [==============================] - 1s 9ms/step - loss: 0.0582 - accuracy: 0.9805\n",
      "Epoch 20/30\n",
      "60/60 [==============================] - 1s 9ms/step - loss: 0.0541 - accuracy: 0.9811\n",
      "Epoch 21/30\n",
      "60/60 [==============================] - 1s 9ms/step - loss: 0.0478 - accuracy: 0.9861\n",
      "Epoch 22/30\n",
      "60/60 [==============================] - 1s 9ms/step - loss: 0.0438 - accuracy: 0.9866\n",
      "Epoch 23/30\n",
      "60/60 [==============================] - 1s 10ms/step - loss: 0.0426 - accuracy: 0.9855\n",
      "Epoch 24/30\n",
      "60/60 [==============================] - 1s 11ms/step - loss: 0.0392 - accuracy: 0.9866\n",
      "Epoch 25/30\n",
      "60/60 [==============================] - 1s 10ms/step - loss: 0.0355 - accuracy: 0.9894\n",
      "Epoch 26/30\n",
      "60/60 [==============================] - 1s 10ms/step - loss: 0.0330 - accuracy: 0.9905\n",
      "Epoch 27/30\n",
      "60/60 [==============================] - 1s 10ms/step - loss: 0.0286 - accuracy: 0.9917\n",
      "Epoch 28/30\n",
      "60/60 [==============================] - 1s 9ms/step - loss: 0.0268 - accuracy: 0.9933\n",
      "Epoch 29/30\n",
      "60/60 [==============================] - 1s 9ms/step - loss: 0.0239 - accuracy: 0.9922\n",
      "Epoch 30/30\n",
      "60/60 [==============================] - 1s 10ms/step - loss: 0.0231 - accuracy: 0.9944\n"
     ]
    },
    {
     "data": {
      "text/plain": [
       "<keras.callbacks.History at 0x17a66e700>"
      ]
     },
     "execution_count": 3,
     "metadata": {},
     "output_type": "execute_result"
    }
   ],
   "source": [
    "model = Sequential()\n",
    "model.add(Dense(12, activation='relu', input_dim=64))\n",
    "model.add(Dense(8, activation='relu'))\n",
    "model.add(Dense(1, activation='sigmoid'))\n",
    "\n",
    "model.compile(optimizer='rmsprop',\n",
    "              loss='binary_crossentropy',\n",
    "              metrics=['accuracy'])\n",
    "\n",
    "model.fit(X, y_binary, epochs=30, batch_size=30)"
   ]
  },
  {
   "cell_type": "markdown",
   "metadata": {},
   "source": [
    "### Things to know:\n",
    "\n",
    "- The data and labels in `fit()` need to be numpy arrays, not `pandas` dfs.\n",
    "- Scaling your data will have a large impact on your model.\n",
    "   > For our traditional input features, we would use a scaler object. For images, as long as the minimum value is 0, we can simply divide through by the maximum pixel intensity."
   ]
  },
  {
   "cell_type": "markdown",
   "metadata": {},
   "source": [
    "#### Getting data ready for modeling\n",
    "**Preprocessing**:\n",
    "\n",
    "- use train_test_split to create X_train, y_train, X_test, and y_test\n",
    "- Split training data into pure_train and validation sets.\n",
    "- Scale the pixel intensity to a value between 0 and 1."
   ]
  },
  {
   "cell_type": "markdown",
   "metadata": {},
   "source": [
    "Scaling our input variables will help speed up our neural network.\n",
    "\n",
    "Since our minimum intensity is 0, we can normalize the inputs by dividing each value by the max value (16)."
   ]
  },
  {
   "cell_type": "code",
   "execution_count": 4,
   "metadata": {},
   "outputs": [],
   "source": [
    "X_train, X_test, y_train, y_test =\\\n",
    "    train_test_split(X, y_binary, random_state=42, test_size=0.2)\n",
    "\n",
    "X_pure_train, X_val, y_pure_train, y_val =\\\n",
    "    train_test_split(X_train, y_train, random_state=42, test_size=0.2)\n",
    "\n",
    "X_pure_train, X_val, X_test = X_pure_train/16, X_val/16, X_test/16"
   ]
  },
  {
   "cell_type": "code",
   "execution_count": 5,
   "metadata": {},
   "outputs": [
    {
     "data": {
      "text/plain": [
       "(1149, 64)"
      ]
     },
     "execution_count": 5,
     "metadata": {},
     "output_type": "execute_result"
    }
   ],
   "source": [
    "X_pure_train.shape"
   ]
  },
  {
   "cell_type": "markdown",
   "metadata": {},
   "source": [
    "For activation, let's start with the familiar sigmoid function, and see how it performs."
   ]
  },
  {
   "cell_type": "code",
   "execution_count": 6,
   "metadata": {},
   "outputs": [
    {
     "name": "stdout",
     "output_type": "stream",
     "text": [
      "Epoch 1/10\n",
      " 8/12 [===================>..........] - ETA: 0s - loss: 0.7335 - accuracy: 0.5000"
     ]
    },
    {
     "name": "stderr",
     "output_type": "stream",
     "text": [
      "2022-12-01 15:12:16.757954: I tensorflow/core/grappler/optimizers/custom_graph_optimizer_registry.cc:113] Plugin optimizer for device_type GPU is enabled.\n"
     ]
    },
    {
     "name": "stdout",
     "output_type": "stream",
     "text": [
      "12/12 [==============================] - 0s 11ms/step - loss: 0.7337 - accuracy: 0.4961\n",
      "Epoch 2/10\n",
      "12/12 [==============================] - 0s 9ms/step - loss: 0.7252 - accuracy: 0.4961\n",
      "Epoch 3/10\n",
      "12/12 [==============================] - 0s 9ms/step - loss: 0.7185 - accuracy: 0.4961\n",
      "Epoch 4/10\n",
      "12/12 [==============================] - 0s 7ms/step - loss: 0.7137 - accuracy: 0.4961\n",
      "Epoch 5/10\n",
      "12/12 [==============================] - 0s 8ms/step - loss: 0.7096 - accuracy: 0.4961\n",
      "Epoch 6/10\n",
      "12/12 [==============================] - 0s 8ms/step - loss: 0.7064 - accuracy: 0.4961\n",
      "Epoch 7/10\n",
      "12/12 [==============================] - 0s 9ms/step - loss: 0.7039 - accuracy: 0.4961\n",
      "Epoch 8/10\n",
      "12/12 [==============================] - 0s 9ms/step - loss: 0.7018 - accuracy: 0.4961\n",
      "Epoch 9/10\n",
      "12/12 [==============================] - 0s 12ms/step - loss: 0.7004 - accuracy: 0.4961\n",
      "Epoch 10/10\n",
      "12/12 [==============================] - 0s 7ms/step - loss: 0.6991 - accuracy: 0.4961\n"
     ]
    }
   ],
   "source": [
    "model = Sequential()\n",
    "# We will start with our trusty sigmoid function.\n",
    "# What does input dimension correspond to?\n",
    "model.add(Dense(12, activation='sigmoid', input_dim=64))\n",
    "model.add(Dense(8, activation='sigmoid'))\n",
    "model.add(Dense(1, activation='sigmoid'))\n",
    "\n",
    "model.compile(optimizer='SGD' ,\n",
    "              # We use binary_crossentropy for a binary loss function\n",
    "              loss='binary_crossentropy',\n",
    "              metrics=['accuracy'])\n",
    "\n",
    "# Assign the variable history to store the results,\n",
    "# and set verbose=1 so we can see the output. To see\n",
    "# only the metrics at the end of each epoch, set verbose=2.\n",
    "results = model.fit(X_pure_train, y_pure_train, epochs=10, batch_size=100, verbose=1)"
   ]
  },
  {
   "cell_type": "markdown",
   "metadata": {},
   "source": [
    "We can access the history of our model via `results.history`.\n",
    "Use __dict__ to take a tour."
   ]
  },
  {
   "cell_type": "code",
   "execution_count": 8,
   "metadata": {},
   "outputs": [
    {
     "data": {
      "text/plain": [
       "{'validation_data': None,\n",
       " 'model': <keras.engine.sequential.Sequential at 0x280e01580>,\n",
       " '_chief_worker_only': None,\n",
       " '_supports_tf_logs': False,\n",
       " 'history': {'loss': [0.7337338924407959,\n",
       "   0.7252453565597534,\n",
       "   0.7185274362564087,\n",
       "   0.7136576175689697,\n",
       "   0.7096322774887085,\n",
       "   0.7064158320426941,\n",
       "   0.7039496302604675,\n",
       "   0.7018485069274902,\n",
       "   0.7004148960113525,\n",
       "   0.6991204619407654],\n",
       "  'accuracy': [0.4960835576057434,\n",
       "   0.4960835576057434,\n",
       "   0.4960835576057434,\n",
       "   0.4960835576057434,\n",
       "   0.4960835576057434,\n",
       "   0.4960835576057434,\n",
       "   0.4960835576057434,\n",
       "   0.4960835576057434,\n",
       "   0.4960835576057434,\n",
       "   0.4960835576057434]},\n",
       " 'params': {'verbose': 1, 'epochs': 10, 'steps': 12},\n",
       " 'epoch': [0, 1, 2, 3, 4, 5, 6, 7, 8, 9]}"
      ]
     },
     "execution_count": 8,
     "metadata": {},
     "output_type": "execute_result"
    }
   ],
   "source": [
    "results.__dict__"
   ]
  },
  {
   "cell_type": "code",
   "execution_count": 9,
   "metadata": {},
   "outputs": [
    {
     "data": {
      "image/png": "[encoded data removed]",
      "text/plain": [
       "<Figure size 720x360 with 2 Axes>"
      ]
     },
     "metadata": {
      "needs_background": "light"
     },
     "output_type": "display_data"
    }
   ],
   "source": [
    "sigmoid_loss = results.history['loss']\n",
    "sigmoid_accuracy = results.history['accuracy']\n",
    "\n",
    "fig, (ax1, ax2) = plt.subplots(1, 2, figsize=(10, 5))\n",
    "sns.lineplot(x=results.epoch, y=sigmoid_loss, ax=ax1, label='loss')\n",
    "sns.lineplot(x=results.epoch, y=sigmoid_accuracy, ax=ax2, label='accuracy');"
   ]
  },
  {
   "cell_type": "markdown",
   "metadata": {},
   "source": [
    "We have two plots above both relating to the quality of our model.  The left-hand plot is our loss. It uses the probabilities associated with our predictions to judge how well our prediction fits reality. We want it to decrease as far as possible.\n",
    "\n",
    "The accuracy judges how well the predictions are after applying the threshold at the output layer.  We want accuracy to increase."
   ]
  },
  {
   "cell_type": "markdown",
   "metadata": {},
   "source": [
    "If we look at our loss, it is still decreasing. That is a signal that our model is **still learning**. If our model is still learning, we can allow it to get better by turning a few dials.\n",
    "\n",
    "Let's:\n",
    "- increase the number of epochs;\n",
    "- change sigmoid activation in the hidden layers to ReLU; and\n",
    "- decrease the batch size."
   ]
  },
  {
   "cell_type": "code",
   "execution_count": 11,
   "metadata": {},
   "outputs": [
    {
     "data": {
      "text/plain": [
       "(1149, 64)"
      ]
     },
     "execution_count": 11,
     "metadata": {},
     "output_type": "execute_result"
    }
   ],
   "source": [
    "X_pure_train.shape"
   ]
  },
  {
   "cell_type": "code",
   "execution_count": 16,
   "metadata": {},
   "outputs": [
    {
     "name": "stdout",
     "output_type": "stream",
     "text": [
      "Epoch 1/100\n",
      "14/23 [=================>............] - ETA: 0s - loss: 0.7406 - accuracy: 0.4657"
     ]
    },
    {
     "name": "stderr",
     "output_type": "stream",
     "text": [
      "2022-12-01 15:18:06.496944: I tensorflow/core/grappler/optimizers/custom_graph_optimizer_registry.cc:113] Plugin optimizer for device_type GPU is enabled.\n"
     ]
    },
    {
     "name": "stdout",
     "output_type": "stream",
     "text": [
      "23/23 [==============================] - 0s 10ms/step - loss: 0.7179 - accuracy: 0.4865\n",
      "Epoch 2/100\n",
      "23/23 [==============================] - 0s 8ms/step - loss: 0.6689 - accuracy: 0.5483\n",
      "Epoch 3/100\n",
      "23/23 [==============================] - 0s 7ms/step - loss: 0.6490 - accuracy: 0.6536\n",
      "Epoch 4/100\n",
      "23/23 [==============================] - 0s 8ms/step - loss: 0.6337 - accuracy: 0.6928\n",
      "Epoch 5/100\n",
      "23/23 [==============================] - 0s 10ms/step - loss: 0.6189 - accuracy: 0.7163\n",
      "Epoch 6/100\n",
      "23/23 [==============================] - 0s 9ms/step - loss: 0.6037 - accuracy: 0.7232\n",
      "Epoch 7/100\n",
      "23/23 [==============================] - 0s 8ms/step - loss: 0.5883 - accuracy: 0.7337\n",
      "Epoch 8/100\n",
      "23/23 [==============================] - 0s 8ms/step - loss: 0.5726 - accuracy: 0.7450\n",
      "Epoch 9/100\n",
      "23/23 [==============================] - 0s 8ms/step - loss: 0.5560 - accuracy: 0.7589\n",
      "Epoch 10/100\n",
      "23/23 [==============================] - 0s 7ms/step - loss: 0.5398 - accuracy: 0.7746\n",
      "Epoch 11/100\n",
      "23/23 [==============================] - 0s 8ms/step - loss: 0.5230 - accuracy: 0.7842\n",
      "Epoch 12/100\n",
      "23/23 [==============================] - 0s 11ms/step - loss: 0.5073 - accuracy: 0.7885\n",
      "Epoch 13/100\n",
      "23/23 [==============================] - 0s 7ms/step - loss: 0.4907 - accuracy: 0.7963\n",
      "Epoch 14/100\n",
      "23/23 [==============================] - 0s 7ms/step - loss: 0.4755 - accuracy: 0.8007\n",
      "Epoch 15/100\n",
      "23/23 [==============================] - 0s 6ms/step - loss: 0.4602 - accuracy: 0.8077\n",
      "Epoch 16/100\n",
      "23/23 [==============================] - 0s 7ms/step - loss: 0.4463 - accuracy: 0.8103\n",
      "Epoch 17/100\n",
      "23/23 [==============================] - 0s 6ms/step - loss: 0.4325 - accuracy: 0.8207\n",
      "Epoch 18/100\n",
      "23/23 [==============================] - 0s 8ms/step - loss: 0.4198 - accuracy: 0.8312\n",
      "Epoch 19/100\n",
      "23/23 [==============================] - 0s 8ms/step - loss: 0.4074 - accuracy: 0.8329\n",
      "Epoch 20/100\n",
      "23/23 [==============================] - 0s 7ms/step - loss: 0.3962 - accuracy: 0.8433\n",
      "Epoch 21/100\n",
      "23/23 [==============================] - 0s 7ms/step - loss: 0.3848 - accuracy: 0.8442\n",
      "Epoch 22/100\n",
      "23/23 [==============================] - 0s 8ms/step - loss: 0.3748 - accuracy: 0.8494\n",
      "Epoch 23/100\n",
      "23/23 [==============================] - 0s 10ms/step - loss: 0.3651 - accuracy: 0.8538\n",
      "Epoch 24/100\n",
      "23/23 [==============================] - 0s 8ms/step - loss: 0.3573 - accuracy: 0.8520\n",
      "Epoch 25/100\n",
      "23/23 [==============================] - 0s 9ms/step - loss: 0.3479 - accuracy: 0.8581\n",
      "Epoch 26/100\n",
      "23/23 [==============================] - 0s 8ms/step - loss: 0.3405 - accuracy: 0.8625\n",
      "Epoch 27/100\n",
      "23/23 [==============================] - 0s 8ms/step - loss: 0.3336 - accuracy: 0.8668\n",
      "Epoch 28/100\n",
      "23/23 [==============================] - 0s 7ms/step - loss: 0.3263 - accuracy: 0.8677\n",
      "Epoch 29/100\n",
      "23/23 [==============================] - 0s 7ms/step - loss: 0.3193 - accuracy: 0.8712\n",
      "Epoch 30/100\n",
      "23/23 [==============================] - 0s 7ms/step - loss: 0.3133 - accuracy: 0.8703\n",
      "Epoch 31/100\n",
      "23/23 [==============================] - 0s 6ms/step - loss: 0.3078 - accuracy: 0.8703\n",
      "Epoch 32/100\n",
      "23/23 [==============================] - 0s 7ms/step - loss: 0.3020 - accuracy: 0.8747\n",
      "Epoch 33/100\n",
      "23/23 [==============================] - 0s 7ms/step - loss: 0.2978 - accuracy: 0.8764\n",
      "Epoch 34/100\n",
      "23/23 [==============================] - 0s 6ms/step - loss: 0.2921 - accuracy: 0.8782\n",
      "Epoch 35/100\n",
      "23/23 [==============================] - 0s 7ms/step - loss: 0.2878 - accuracy: 0.8825\n",
      "Epoch 36/100\n",
      "23/23 [==============================] - 0s 7ms/step - loss: 0.2823 - accuracy: 0.8842\n",
      "Epoch 37/100\n",
      "23/23 [==============================] - 0s 7ms/step - loss: 0.2780 - accuracy: 0.8903\n",
      "Epoch 38/100\n",
      "23/23 [==============================] - 0s 7ms/step - loss: 0.2746 - accuracy: 0.8886\n",
      "Epoch 39/100\n",
      "23/23 [==============================] - 0s 7ms/step - loss: 0.2706 - accuracy: 0.8903\n",
      "Epoch 40/100\n",
      "23/23 [==============================] - 0s 7ms/step - loss: 0.2667 - accuracy: 0.8903\n",
      "Epoch 41/100\n",
      "23/23 [==============================] - 0s 7ms/step - loss: 0.2631 - accuracy: 0.8912\n",
      "Epoch 42/100\n",
      "23/23 [==============================] - 0s 7ms/step - loss: 0.2600 - accuracy: 0.8947\n",
      "Epoch 43/100\n",
      "23/23 [==============================] - 0s 7ms/step - loss: 0.2561 - accuracy: 0.8956\n",
      "Epoch 44/100\n",
      "23/23 [==============================] - 0s 7ms/step - loss: 0.2532 - accuracy: 0.8973\n",
      "Epoch 45/100\n",
      "23/23 [==============================] - 0s 7ms/step - loss: 0.2496 - accuracy: 0.9017\n",
      "Epoch 46/100\n",
      "23/23 [==============================] - 0s 7ms/step - loss: 0.2476 - accuracy: 0.8999\n",
      "Epoch 47/100\n",
      "23/23 [==============================] - 0s 7ms/step - loss: 0.2440 - accuracy: 0.8999\n",
      "Epoch 48/100\n",
      "23/23 [==============================] - 0s 7ms/step - loss: 0.2418 - accuracy: 0.8999\n",
      "Epoch 49/100\n",
      "23/23 [==============================] - 0s 7ms/step - loss: 0.2384 - accuracy: 0.9025\n",
      "Epoch 50/100\n",
      "23/23 [==============================] - 0s 7ms/step - loss: 0.2365 - accuracy: 0.9017\n",
      "Epoch 51/100\n",
      "23/23 [==============================] - 0s 7ms/step - loss: 0.2346 - accuracy: 0.9025\n",
      "Epoch 52/100\n",
      "23/23 [==============================] - 0s 7ms/step - loss: 0.2311 - accuracy: 0.9025\n",
      "Epoch 53/100\n",
      "23/23 [==============================] - 0s 7ms/step - loss: 0.2296 - accuracy: 0.9025\n",
      "Epoch 54/100\n",
      "23/23 [==============================] - 0s 7ms/step - loss: 0.2272 - accuracy: 0.9051\n",
      "Epoch 55/100\n",
      "23/23 [==============================] - 0s 6ms/step - loss: 0.2247 - accuracy: 0.9051\n",
      "Epoch 56/100\n",
      "23/23 [==============================] - 0s 7ms/step - loss: 0.2219 - accuracy: 0.9043\n",
      "Epoch 57/100\n",
      "23/23 [==============================] - 0s 7ms/step - loss: 0.2196 - accuracy: 0.9069\n",
      "Epoch 58/100\n",
      "23/23 [==============================] - 0s 7ms/step - loss: 0.2176 - accuracy: 0.9086\n",
      "Epoch 59/100\n",
      "23/23 [==============================] - 0s 6ms/step - loss: 0.2155 - accuracy: 0.9077\n",
      "Epoch 60/100\n",
      "23/23 [==============================] - 0s 7ms/step - loss: 0.2133 - accuracy: 0.9086\n",
      "Epoch 61/100\n",
      "23/23 [==============================] - 0s 7ms/step - loss: 0.2113 - accuracy: 0.9069\n",
      "Epoch 62/100\n",
      "23/23 [==============================] - 0s 7ms/step - loss: 0.2092 - accuracy: 0.9112\n",
      "Epoch 63/100\n",
      "23/23 [==============================] - 0s 7ms/step - loss: 0.2075 - accuracy: 0.9104\n",
      "Epoch 64/100\n",
      "23/23 [==============================] - 0s 6ms/step - loss: 0.2055 - accuracy: 0.9147\n",
      "Epoch 65/100\n",
      "23/23 [==============================] - 0s 7ms/step - loss: 0.2034 - accuracy: 0.9138\n",
      "Epoch 66/100\n",
      "23/23 [==============================] - 0s 7ms/step - loss: 0.2013 - accuracy: 0.9138\n",
      "Epoch 67/100\n",
      "23/23 [==============================] - 0s 7ms/step - loss: 0.1991 - accuracy: 0.9138\n",
      "Epoch 68/100\n",
      "23/23 [==============================] - 0s 7ms/step - loss: 0.1972 - accuracy: 0.9173\n",
      "Epoch 69/100\n",
      "23/23 [==============================] - 0s 9ms/step - loss: 0.1955 - accuracy: 0.9164\n",
      "Epoch 70/100\n",
      "23/23 [==============================] - 0s 9ms/step - loss: 0.1933 - accuracy: 0.9147\n",
      "Epoch 71/100\n",
      "23/23 [==============================] - 0s 8ms/step - loss: 0.1919 - accuracy: 0.9234\n",
      "Epoch 72/100\n",
      "23/23 [==============================] - 0s 7ms/step - loss: 0.1906 - accuracy: 0.9156\n",
      "Epoch 73/100\n",
      "23/23 [==============================] - 0s 7ms/step - loss: 0.1883 - accuracy: 0.9173\n",
      "Epoch 74/100\n",
      "23/23 [==============================] - 0s 7ms/step - loss: 0.1868 - accuracy: 0.9208\n",
      "Epoch 75/100\n",
      "23/23 [==============================] - 0s 8ms/step - loss: 0.1858 - accuracy: 0.9191\n",
      "Epoch 76/100\n",
      "23/23 [==============================] - 0s 7ms/step - loss: 0.1842 - accuracy: 0.9225\n",
      "Epoch 77/100\n",
      "23/23 [==============================] - 0s 10ms/step - loss: 0.1826 - accuracy: 0.9182\n",
      "Epoch 78/100\n",
      "23/23 [==============================] - 0s 8ms/step - loss: 0.1808 - accuracy: 0.9234\n",
      "Epoch 79/100\n",
      "23/23 [==============================] - 0s 9ms/step - loss: 0.1796 - accuracy: 0.9234\n",
      "Epoch 80/100\n",
      "23/23 [==============================] - 0s 8ms/step - loss: 0.1785 - accuracy: 0.9243\n",
      "Epoch 81/100\n",
      "23/23 [==============================] - 0s 8ms/step - loss: 0.1779 - accuracy: 0.9208\n",
      "Epoch 82/100\n",
      "23/23 [==============================] - 0s 8ms/step - loss: 0.1754 - accuracy: 0.9243\n",
      "Epoch 83/100\n"
     ]
    },
    {
     "name": "stdout",
     "output_type": "stream",
     "text": [
      "23/23 [==============================] - 0s 7ms/step - loss: 0.1742 - accuracy: 0.9243\n",
      "Epoch 84/100\n",
      "23/23 [==============================] - 0s 10ms/step - loss: 0.1725 - accuracy: 0.9260\n",
      "Epoch 85/100\n",
      "23/23 [==============================] - 0s 8ms/step - loss: 0.1715 - accuracy: 0.9269\n",
      "Epoch 86/100\n",
      "23/23 [==============================] - 0s 8ms/step - loss: 0.1701 - accuracy: 0.9260\n",
      "Epoch 87/100\n",
      "23/23 [==============================] - 0s 6ms/step - loss: 0.1692 - accuracy: 0.9286\n",
      "Epoch 88/100\n",
      "23/23 [==============================] - 0s 6ms/step - loss: 0.1679 - accuracy: 0.9278\n",
      "Epoch 89/100\n",
      "23/23 [==============================] - 0s 8ms/step - loss: 0.1662 - accuracy: 0.9278\n",
      "Epoch 90/100\n",
      "23/23 [==============================] - 0s 8ms/step - loss: 0.1651 - accuracy: 0.9286\n",
      "Epoch 91/100\n",
      "23/23 [==============================] - 0s 8ms/step - loss: 0.1643 - accuracy: 0.9312\n",
      "Epoch 92/100\n",
      "23/23 [==============================] - 0s 7ms/step - loss: 0.1630 - accuracy: 0.9347\n",
      "Epoch 93/100\n",
      "23/23 [==============================] - 0s 9ms/step - loss: 0.1615 - accuracy: 0.9330\n",
      "Epoch 94/100\n",
      "23/23 [==============================] - 0s 9ms/step - loss: 0.1614 - accuracy: 0.9356\n",
      "Epoch 95/100\n",
      "23/23 [==============================] - 0s 8ms/step - loss: 0.1601 - accuracy: 0.9356\n",
      "Epoch 96/100\n",
      "23/23 [==============================] - 0s 8ms/step - loss: 0.1583 - accuracy: 0.9373\n",
      "Epoch 97/100\n",
      "23/23 [==============================] - 0s 6ms/step - loss: 0.1572 - accuracy: 0.9365\n",
      "Epoch 98/100\n",
      "23/23 [==============================] - 0s 7ms/step - loss: 0.1560 - accuracy: 0.9399\n",
      "Epoch 99/100\n",
      "23/23 [==============================] - 0s 7ms/step - loss: 0.1553 - accuracy: 0.9382\n",
      "Epoch 100/100\n",
      "23/23 [==============================] - 0s 7ms/step - loss: 0.1546 - accuracy: 0.9391\n"
     ]
    }
   ],
   "source": [
    "model = Sequential()\n",
    "model.add(Dense(12, activation='relu', input_dim=64))\n",
    "model.add(Dense(8, activation='relu'))\n",
    "model.add(Dense(1, activation='sigmoid'))\n",
    "\n",
    "model.compile(optimizer='SGD',\n",
    "              loss='binary_crossentropy',\n",
    "              metrics=['accuracy'])\n",
    "\n",
    "# Assign the variable history to store the results,\n",
    "# and set verbose=1 so we can see the output.\n",
    "results = model.fit(X_pure_train, y_pure_train, epochs=100, batch_size=50, verbose=1)"
   ]
  },
  {
   "cell_type": "code",
   "execution_count": 17,
   "metadata": {},
   "outputs": [
    {
     "data": {
      "image/png": "[encoded data removed]",
      "text/plain": [
       "<Figure size 720x360 with 2 Axes>"
      ]
     },
     "metadata": {
      "needs_background": "light"
     },
     "output_type": "display_data"
    }
   ],
   "source": [
    "sigmoid_loss = results.history['loss']\n",
    "sigmoid_accuracy = results.history['accuracy']\n",
    "\n",
    "fig, (ax1, ax2) = plt.subplots(1, 2, figsize=(10, 5))\n",
    "sns.lineplot(x=results.epoch, y=sigmoid_loss, ax=ax1, label='loss')\n",
    "sns.lineplot(x=results.epoch, y=sigmoid_accuracy, ax=ax2, label='accuracy');"
   ]
  },
  {
   "cell_type": "markdown",
   "metadata": {},
   "source": [
    "If we increase the learning rate to a very high number, we see that our model overshoots the minimum, and starts bouncing all around."
   ]
  },
  {
   "cell_type": "code",
   "execution_count": 18,
   "metadata": {},
   "outputs": [
    {
     "name": "stdout",
     "output_type": "stream",
     "text": [
      "Epoch 1/30\n",
      "  7/115 [>.............................] - ETA: 0s - loss: 479.3051 - accuracy: 0.4429"
     ]
    },
    {
     "name": "stderr",
     "output_type": "stream",
     "text": [
      "2022-12-01 15:20:56.305383: I tensorflow/core/grappler/optimizers/custom_graph_optimizer_registry.cc:113] Plugin optimizer for device_type GPU is enabled.\n"
     ]
    },
    {
     "name": "stdout",
     "output_type": "stream",
     "text": [
      "115/115 [==============================] - 1s 8ms/step - loss: 30.2166 - accuracy: 0.4795\n",
      "Epoch 2/30\n",
      "115/115 [==============================] - 1s 8ms/step - loss: 1.1273 - accuracy: 0.4726\n",
      "Epoch 3/30\n",
      "115/115 [==============================] - 1s 7ms/step - loss: 0.9225 - accuracy: 0.5065\n",
      "Epoch 4/30\n",
      "115/115 [==============================] - 1s 7ms/step - loss: 1.0998 - accuracy: 0.4891\n",
      "Epoch 5/30\n",
      "115/115 [==============================] - 1s 7ms/step - loss: 1.0321 - accuracy: 0.4952\n",
      "Epoch 6/30\n",
      "115/115 [==============================] - 1s 7ms/step - loss: 0.9609 - accuracy: 0.5100\n",
      "Epoch 7/30\n",
      "115/115 [==============================] - 1s 6ms/step - loss: 1.0077 - accuracy: 0.5030\n",
      "Epoch 8/30\n",
      "115/115 [==============================] - 1s 7ms/step - loss: 1.0398 - accuracy: 0.4830\n",
      "Epoch 9/30\n",
      "115/115 [==============================] - 1s 7ms/step - loss: 1.0873 - accuracy: 0.4822\n",
      "Epoch 10/30\n",
      "115/115 [==============================] - 1s 7ms/step - loss: 1.0169 - accuracy: 0.4970\n",
      "Epoch 11/30\n",
      "115/115 [==============================] - 1s 7ms/step - loss: 0.9916 - accuracy: 0.4970\n",
      "Epoch 12/30\n",
      "115/115 [==============================] - 1s 7ms/step - loss: 1.0004 - accuracy: 0.4996\n",
      "Epoch 13/30\n",
      "115/115 [==============================] - 1s 7ms/step - loss: 1.0254 - accuracy: 0.4987\n",
      "Epoch 14/30\n",
      "115/115 [==============================] - 1s 7ms/step - loss: 0.9255 - accuracy: 0.5144\n",
      "Epoch 15/30\n",
      "115/115 [==============================] - 1s 7ms/step - loss: 1.0020 - accuracy: 0.4926\n",
      "Epoch 16/30\n",
      "115/115 [==============================] - 1s 7ms/step - loss: 1.0051 - accuracy: 0.5022\n",
      "Epoch 17/30\n",
      "115/115 [==============================] - 1s 7ms/step - loss: 0.9242 - accuracy: 0.5248\n",
      "Epoch 18/30\n",
      "115/115 [==============================] - 1s 8ms/step - loss: 1.0187 - accuracy: 0.4900\n",
      "Epoch 19/30\n",
      "115/115 [==============================] - 1s 8ms/step - loss: 0.9586 - accuracy: 0.5083\n",
      "Epoch 20/30\n",
      "115/115 [==============================] - 1s 9ms/step - loss: 1.0568 - accuracy: 0.4926\n",
      "Epoch 21/30\n",
      "115/115 [==============================] - 1s 9ms/step - loss: 0.9943 - accuracy: 0.5161\n",
      "Epoch 22/30\n",
      "115/115 [==============================] - 1s 8ms/step - loss: 0.9799 - accuracy: 0.4900\n",
      "Epoch 23/30\n",
      "115/115 [==============================] - 1s 8ms/step - loss: 0.9449 - accuracy: 0.5057\n",
      "Epoch 24/30\n",
      "115/115 [==============================] - 1s 8ms/step - loss: 0.9391 - accuracy: 0.5048\n",
      "Epoch 25/30\n",
      "115/115 [==============================] - 1s 8ms/step - loss: 0.9018 - accuracy: 0.5187\n",
      "Epoch 26/30\n",
      "115/115 [==============================] - 1s 8ms/step - loss: 0.9668 - accuracy: 0.5257\n",
      "Epoch 27/30\n",
      "115/115 [==============================] - 1s 7ms/step - loss: 0.9280 - accuracy: 0.5265\n",
      "Epoch 28/30\n",
      "115/115 [==============================] - 1s 7ms/step - loss: 1.0681 - accuracy: 0.4874\n",
      "Epoch 29/30\n",
      "115/115 [==============================] - 1s 7ms/step - loss: 0.9446 - accuracy: 0.5039\n",
      "Epoch 30/30\n",
      "115/115 [==============================] - 1s 7ms/step - loss: 0.9974 - accuracy: 0.4935\n"
     ]
    },
    {
     "data": {
      "image/png": "[encoded data removed]",
      "text/plain": [
       "<Figure size 720x360 with 2 Axes>"
      ]
     },
     "metadata": {
      "needs_background": "light"
     },
     "output_type": "display_data"
    }
   ],
   "source": [
    "model = Sequential()\n",
    "\n",
    "sgd = SGD(learning_rate=9)\n",
    "model.add(Dense(12, activation='relu', input_dim=64))\n",
    "model.add(Dense(8, activation='relu'))\n",
    "model.add(Dense(1, activation='sigmoid'))\n",
    "\n",
    "model.compile(optimizer=sgd,\n",
    "              loss='binary_crossentropy',\n",
    "              metrics=['accuracy'])\n",
    "\n",
    "results = model.fit(X_pure_train, y_pure_train,\n",
    "                    epochs=30, batch_size=10, verbose=1)\n",
    "\n",
    "relu_loss = results.history['loss']\n",
    "relu_accuracy = results.history['accuracy']\n",
    "\n",
    "fig, (ax1, ax2) = plt.subplots(1, 2, figsize=(10, 5))\n",
    "sns.lineplot(x=results.epoch, y=relu_loss, ax=ax1, label='loss')\n",
    "sns.lineplot(x=results.epoch, y=relu_accuracy, ax=ax2, label='accuracy');"
   ]
  },
  {
   "cell_type": "markdown",
   "metadata": {},
   "source": [
    "### Exercise\n",
    "\n",
    "We have been looking only at our training set. Let's add in our validation set to the picture. Check the docstring for the `.fit()` method and add in our validation data."
   ]
  },
  {
   "cell_type": "code",
   "execution_count": 19,
   "metadata": {},
   "outputs": [
    {
     "name": "stdout",
     "output_type": "stream",
     "text": [
      "Epoch 1/30\n",
      "  7/115 [>.............................] - ETA: 0s - loss: 0.7828 - accuracy: 0.3857 "
     ]
    },
    {
     "name": "stderr",
     "output_type": "stream",
     "text": [
      "2022-12-01 15:26:24.338663: I tensorflow/core/grappler/optimizers/custom_graph_optimizer_registry.cc:113] Plugin optimizer for device_type GPU is enabled.\n"
     ]
    },
    {
     "name": "stdout",
     "output_type": "stream",
     "text": [
      "115/115 [==============================] - 2s 12ms/step - loss: 0.6364 - accuracy: 0.6432 - val_loss: 0.5455 - val_accuracy: 0.7604\n",
      "Epoch 2/30\n",
      "  1/115 [..............................] - ETA: 1s - loss: 0.5354 - accuracy: 0.8000"
     ]
    },
    {
     "name": "stderr",
     "output_type": "stream",
     "text": [
      "2022-12-01 15:26:25.620062: I tensorflow/core/grappler/optimizers/custom_graph_optimizer_registry.cc:113] Plugin optimizer for device_type GPU is enabled.\n"
     ]
    },
    {
     "name": "stdout",
     "output_type": "stream",
     "text": [
      "115/115 [==============================] - 1s 10ms/step - loss: 0.4238 - accuracy: 0.8468 - val_loss: 0.3578 - val_accuracy: 0.8889\n",
      "Epoch 3/30\n",
      "115/115 [==============================] - 1s 10ms/step - loss: 0.2956 - accuracy: 0.8834 - val_loss: 0.2746 - val_accuracy: 0.8854\n",
      "Epoch 4/30\n",
      "115/115 [==============================] - 1s 10ms/step - loss: 0.2450 - accuracy: 0.9008 - val_loss: 0.2276 - val_accuracy: 0.9028\n",
      "Epoch 5/30\n",
      "115/115 [==============================] - 1s 10ms/step - loss: 0.2088 - accuracy: 0.9164 - val_loss: 0.2115 - val_accuracy: 0.9271\n",
      "Epoch 6/30\n",
      "115/115 [==============================] - 1s 10ms/step - loss: 0.1861 - accuracy: 0.9286 - val_loss: 0.1744 - val_accuracy: 0.9479\n",
      "Epoch 7/30\n",
      "115/115 [==============================] - 1s 9ms/step - loss: 0.1591 - accuracy: 0.9373 - val_loss: 0.1719 - val_accuracy: 0.9444\n",
      "Epoch 8/30\n",
      "115/115 [==============================] - 1s 9ms/step - loss: 0.1404 - accuracy: 0.9399 - val_loss: 0.1740 - val_accuracy: 0.9271\n",
      "Epoch 9/30\n",
      "115/115 [==============================] - 1s 9ms/step - loss: 0.1247 - accuracy: 0.9460 - val_loss: 0.1300 - val_accuracy: 0.9549\n",
      "Epoch 10/30\n",
      "115/115 [==============================] - 1s 9ms/step - loss: 0.1145 - accuracy: 0.9565 - val_loss: 0.1231 - val_accuracy: 0.9549\n",
      "Epoch 11/30\n",
      "115/115 [==============================] - 1s 10ms/step - loss: 0.1003 - accuracy: 0.9608 - val_loss: 0.1374 - val_accuracy: 0.9444\n",
      "Epoch 12/30\n",
      "115/115 [==============================] - 1s 9ms/step - loss: 0.0918 - accuracy: 0.9678 - val_loss: 0.1105 - val_accuracy: 0.9583\n",
      "Epoch 13/30\n",
      "115/115 [==============================] - 1s 9ms/step - loss: 0.0854 - accuracy: 0.9661 - val_loss: 0.0991 - val_accuracy: 0.9618\n",
      "Epoch 14/30\n",
      "115/115 [==============================] - 1s 9ms/step - loss: 0.0762 - accuracy: 0.9713 - val_loss: 0.0886 - val_accuracy: 0.9688\n",
      "Epoch 15/30\n",
      "115/115 [==============================] - 1s 9ms/step - loss: 0.0688 - accuracy: 0.9748 - val_loss: 0.0922 - val_accuracy: 0.9653\n",
      "Epoch 16/30\n",
      "115/115 [==============================] - 1s 9ms/step - loss: 0.0643 - accuracy: 0.9765 - val_loss: 0.0914 - val_accuracy: 0.9583\n",
      "Epoch 17/30\n",
      "115/115 [==============================] - 1s 9ms/step - loss: 0.0610 - accuracy: 0.9765 - val_loss: 0.0812 - val_accuracy: 0.9688\n",
      "Epoch 18/30\n",
      "115/115 [==============================] - 1s 11ms/step - loss: 0.0537 - accuracy: 0.9826 - val_loss: 0.0826 - val_accuracy: 0.9653\n",
      "Epoch 19/30\n",
      "115/115 [==============================] - 1s 11ms/step - loss: 0.0551 - accuracy: 0.9800 - val_loss: 0.0970 - val_accuracy: 0.9653\n",
      "Epoch 20/30\n",
      "115/115 [==============================] - 1s 10ms/step - loss: 0.0463 - accuracy: 0.9861 - val_loss: 0.0940 - val_accuracy: 0.9653\n",
      "Epoch 21/30\n",
      "115/115 [==============================] - 1s 9ms/step - loss: 0.0451 - accuracy: 0.9861 - val_loss: 0.0640 - val_accuracy: 0.9757\n",
      "Epoch 22/30\n",
      "115/115 [==============================] - 1s 9ms/step - loss: 0.0408 - accuracy: 0.9843 - val_loss: 0.0726 - val_accuracy: 0.9722\n",
      "Epoch 23/30\n",
      "115/115 [==============================] - 1s 10ms/step - loss: 0.0366 - accuracy: 0.9878 - val_loss: 0.0718 - val_accuracy: 0.9688\n",
      "Epoch 24/30\n",
      "115/115 [==============================] - 1s 9ms/step - loss: 0.0369 - accuracy: 0.9878 - val_loss: 0.0649 - val_accuracy: 0.9618\n",
      "Epoch 25/30\n",
      "115/115 [==============================] - 1s 9ms/step - loss: 0.0319 - accuracy: 0.9878 - val_loss: 0.0605 - val_accuracy: 0.9826\n",
      "Epoch 26/30\n",
      "115/115 [==============================] - 1s 9ms/step - loss: 0.0297 - accuracy: 0.9930 - val_loss: 0.0628 - val_accuracy: 0.9792\n",
      "Epoch 27/30\n",
      "115/115 [==============================] - 1s 9ms/step - loss: 0.0263 - accuracy: 0.9956 - val_loss: 0.0558 - val_accuracy: 0.9792\n",
      "Epoch 28/30\n",
      "115/115 [==============================] - 1s 9ms/step - loss: 0.0258 - accuracy: 0.9939 - val_loss: 0.0661 - val_accuracy: 0.9792\n",
      "Epoch 29/30\n",
      "115/115 [==============================] - 1s 9ms/step - loss: 0.0204 - accuracy: 0.9956 - val_loss: 0.0558 - val_accuracy: 0.9896\n",
      "Epoch 30/30\n",
      "115/115 [==============================] - 1s 9ms/step - loss: 0.0212 - accuracy: 0.9948 - val_loss: 0.0654 - val_accuracy: 0.9826\n"
     ]
    },
    {
     "data": {
      "image/png": "[encoded data removed]",
      "text/plain": [
       "<Figure size 720x360 with 2 Axes>"
      ]
     },
     "metadata": {
      "needs_background": "light"
     },
     "output_type": "display_data"
    }
   ],
   "source": [
    "model = Sequential()\n",
    "model.add(Dense(12, activation='relu', input_dim=64))\n",
    "model.add(Dense(8, activation='relu'))\n",
    "model.add(Dense(4, activation='relu'))\n",
    "model.add(Dense(1, activation='sigmoid'))\n",
    "\n",
    "model.compile(optimizer='adam',\n",
    "              loss='binary_crossentropy',\n",
    "              metrics=['accuracy'])\n",
    "\n",
    "\n",
    "## YOUR CODE HERE\n",
    "results = model.fit(X_pure_train, y_pure_train, epochs=30, batch_size=10, verbose=1,\n",
    "                   validation_data=(X_val, y_val))\n",
    "\n",
    "\n",
    "train_loss = results.history['loss']\n",
    "train_acc = results.history['accuracy']\n",
    "val_loss = results.history['val_loss']\n",
    "val_acc = results.history['val_accuracy']\n",
    "\n",
    "fig, (ax1, ax2) = plt.subplots(1, 2, figsize=(10, 5))\n",
    "sns.lineplot(x=results.epoch, y=train_loss, ax=ax1, label='train_loss')\n",
    "sns.lineplot(x=results.epoch, y=train_acc, ax=ax2, label='train_accuracy')\n",
    "\n",
    "sns.lineplot(x=results.epoch, y=val_loss, ax=ax1, label='val_loss')\n",
    "sns.lineplot(x=results.epoch, y=val_acc, ax=ax2, label='val_accuracy');"
   ]
  },
  {
   "cell_type": "markdown",
   "metadata": {},
   "source": [
    "<details>\n",
    "    <summary>One answer here</summary>\n",
    "<code>model = Sequential()\n",
    "model.add(Dense(12, activation='relu', input_dim=64))\n",
    "model.add(Dense(8, activation='relu'))\n",
    "model.add(Dense(4, activation='relu'))\n",
    "model.add(Dense(1, activation='sigmoid'))\n",
    "model.compile(optimizer='adam',\n",
    "              loss='binary_crossentropy',\n",
    "              metrics=['accuracy'])\n",
    "results = model.fit(X_pure_train, y_pure_train,\n",
    "                   validation_data=(X_val, y_val),\n",
    "                   epochs=30, batch_size=10)\n",
    "train_loss = results.history['loss']\n",
    "train_acc = results.history['accuracy']\n",
    "val_loss = results.history['val_loss']\n",
    "val_acc = results.history['val_accuracy']\n",
    "fig, (ax1, ax2) = plt.subplots(1, 2, figsize=(10, 5))\n",
    "sns.lineplot(x=results.epoch, y=train_loss, ax=ax1, label='train_loss')\n",
    "sns.lineplot(x=results.epoch, y=train_acc, ax=ax2, label='train_accuracy')\n",
    "sns.lineplot(x=results.epoch, y=val_loss, ax=ax1, label='val_loss')\n",
    "sns.lineplot(x=results.epoch, y=val_acc, ax=ax2, label='val_accuracy');</code>\n",
    "</details>"
   ]
  },
  {
   "cell_type": "code",
   "execution_count": 20,
   "metadata": {},
   "outputs": [
    {
     "data": {
      "text/plain": [
       "0.9826388955116272"
      ]
     },
     "execution_count": 20,
     "metadata": {},
     "output_type": "execute_result"
    }
   ],
   "source": [
    "results.history['val_accuracy'][-1]"
   ]
  },
  {
   "cell_type": "markdown",
   "metadata": {},
   "source": [
    "## Connecting with `sklearn`\n",
    "\n",
    "The `keras.wrappers` submodule means that we can turn `keras` models into estimators that `sklearn` tools will recognize."
   ]
  },
  {
   "cell_type": "code",
   "execution_count": 21,
   "metadata": {},
   "outputs": [
    {
     "ename": "TypeError",
     "evalue": "If no scoring is specified, the estimator passed should have a 'score' method. The estimator <keras.engine.sequential.Sequential object at 0x280e3ddf0> does not.",
     "output_type": "error",
     "traceback": [
      "\u001b[0;31m---------------------------------------------------------------------------\u001b[0m",
      "\u001b[0;31mTypeError\u001b[0m                                 Traceback (most recent call last)",
      "Input \u001b[0;32mIn [21]\u001b[0m, in \u001b[0;36m<cell line: 3>\u001b[0;34m()\u001b[0m\n\u001b[1;32m      1\u001b[0m \u001b[38;5;66;03m# This will throw an error.\u001b[39;00m\n\u001b[0;32m----> 3\u001b[0m \u001b[43mcross_val_score\u001b[49m\u001b[43m(\u001b[49m\u001b[43mmodel\u001b[49m\u001b[43m,\u001b[49m\u001b[43m \u001b[49m\u001b[43mX_pure_train\u001b[49m\u001b[43m,\u001b[49m\u001b[43m \u001b[49m\u001b[43my_pure_train\u001b[49m\u001b[43m)\u001b[49m\n",
      "File \u001b[0;32m~/miniforge3/envs/tf/lib/python3.9/site-packages/sklearn/model_selection/_validation.py:513\u001b[0m, in \u001b[0;36mcross_val_score\u001b[0;34m(estimator, X, y, groups, scoring, cv, n_jobs, verbose, fit_params, pre_dispatch, error_score)\u001b[0m\n\u001b[1;32m    395\u001b[0m \u001b[38;5;124;03m\"\"\"Evaluate a score by cross-validation.\u001b[39;00m\n\u001b[1;32m    396\u001b[0m \n\u001b[1;32m    397\u001b[0m \u001b[38;5;124;03mRead more in the :ref:`User Guide <cross_validation>`.\u001b[39;00m\n\u001b[0;32m   (...)\u001b[0m\n\u001b[1;32m    510\u001b[0m \u001b[38;5;124;03m[0.3315057  0.08022103 0.03531816]\u001b[39;00m\n\u001b[1;32m    511\u001b[0m \u001b[38;5;124;03m\"\"\"\u001b[39;00m\n\u001b[1;32m    512\u001b[0m \u001b[38;5;66;03m# To ensure multimetric format is not supported\u001b[39;00m\n\u001b[0;32m--> 513\u001b[0m scorer \u001b[38;5;241m=\u001b[39m \u001b[43mcheck_scoring\u001b[49m\u001b[43m(\u001b[49m\u001b[43mestimator\u001b[49m\u001b[43m,\u001b[49m\u001b[43m \u001b[49m\u001b[43mscoring\u001b[49m\u001b[38;5;241;43m=\u001b[39;49m\u001b[43mscoring\u001b[49m\u001b[43m)\u001b[49m\n\u001b[1;32m    515\u001b[0m cv_results \u001b[38;5;241m=\u001b[39m cross_validate(\n\u001b[1;32m    516\u001b[0m     estimator\u001b[38;5;241m=\u001b[39mestimator,\n\u001b[1;32m    517\u001b[0m     X\u001b[38;5;241m=\u001b[39mX,\n\u001b[0;32m   (...)\u001b[0m\n\u001b[1;32m    526\u001b[0m     error_score\u001b[38;5;241m=\u001b[39merror_score,\n\u001b[1;32m    527\u001b[0m )\n\u001b[1;32m    528\u001b[0m \u001b[38;5;28;01mreturn\u001b[39;00m cv_results[\u001b[38;5;124m\"\u001b[39m\u001b[38;5;124mtest_score\u001b[39m\u001b[38;5;124m\"\u001b[39m]\n",
      "File \u001b[0;32m~/miniforge3/envs/tf/lib/python3.9/site-packages/sklearn/metrics/_scorer.py:488\u001b[0m, in \u001b[0;36mcheck_scoring\u001b[0;34m(estimator, scoring, allow_none)\u001b[0m\n\u001b[1;32m    486\u001b[0m         \u001b[38;5;28;01mreturn\u001b[39;00m \u001b[38;5;28;01mNone\u001b[39;00m\n\u001b[1;32m    487\u001b[0m     \u001b[38;5;28;01melse\u001b[39;00m:\n\u001b[0;32m--> 488\u001b[0m         \u001b[38;5;28;01mraise\u001b[39;00m \u001b[38;5;167;01mTypeError\u001b[39;00m(\n\u001b[1;32m    489\u001b[0m             \u001b[38;5;124m\"\u001b[39m\u001b[38;5;124mIf no scoring is specified, the estimator passed should \u001b[39m\u001b[38;5;124m\"\u001b[39m\n\u001b[1;32m    490\u001b[0m             \u001b[38;5;124m\"\u001b[39m\u001b[38;5;124mhave a \u001b[39m\u001b[38;5;124m'\u001b[39m\u001b[38;5;124mscore\u001b[39m\u001b[38;5;124m'\u001b[39m\u001b[38;5;124m method. The estimator \u001b[39m\u001b[38;5;132;01m%r\u001b[39;00m\u001b[38;5;124m does not.\u001b[39m\u001b[38;5;124m\"\u001b[39m \u001b[38;5;241m%\u001b[39m estimator\n\u001b[1;32m    491\u001b[0m         )\n\u001b[1;32m    492\u001b[0m \u001b[38;5;28;01melif\u001b[39;00m \u001b[38;5;28misinstance\u001b[39m(scoring, Iterable):\n\u001b[1;32m    493\u001b[0m     \u001b[38;5;28;01mraise\u001b[39;00m \u001b[38;5;167;01mValueError\u001b[39;00m(\n\u001b[1;32m    494\u001b[0m         \u001b[38;5;124m\"\u001b[39m\u001b[38;5;124mFor evaluating multiple scores, use \u001b[39m\u001b[38;5;124m\"\u001b[39m\n\u001b[1;32m    495\u001b[0m         \u001b[38;5;124m\"\u001b[39m\u001b[38;5;124msklearn.model_selection.cross_validate instead. \u001b[39m\u001b[38;5;124m\"\u001b[39m\n\u001b[1;32m    496\u001b[0m         \u001b[38;5;124m\"\u001b[39m\u001b[38;5;132;01m{0}\u001b[39;00m\u001b[38;5;124m was passed.\u001b[39m\u001b[38;5;124m\"\u001b[39m\u001b[38;5;241m.\u001b[39mformat(scoring)\n\u001b[1;32m    497\u001b[0m     )\n",
      "\u001b[0;31mTypeError\u001b[0m: If no scoring is specified, the estimator passed should have a 'score' method. The estimator <keras.engine.sequential.Sequential object at 0x280e3ddf0> does not."
     ]
    }
   ],
   "source": [
    "# This will throw an error.\n",
    "\n",
    "cross_val_score(model, X_pure_train, y_pure_train)"
   ]
  },
  {
   "cell_type": "code",
   "execution_count": 22,
   "metadata": {},
   "outputs": [],
   "source": [
    "def build_model():\n",
    "    model = Sequential()\n",
    "    model.add(Dense(12, activation='relu', input_dim=64))\n",
    "    model.add(Dense(8, activation='relu'))\n",
    "    model.add(Dense(4, activation='relu'))\n",
    "    model.add(Dense(1, activation = 'sigmoid'))\n",
    "\n",
    "    model.compile(optimizer='adam',\n",
    "                  loss='binary_crossentropy',\n",
    "                  metrics=['accuracy'])\n",
    "    return model"
   ]
  },
  {
   "cell_type": "code",
   "execution_count": 23,
   "metadata": {},
   "outputs": [
    {
     "name": "stderr",
     "output_type": "stream",
     "text": [
      "/var/folders/0c/wkrr_xjn2xz65fx41rj45h6w0000gp/T/ipykernel_11260/2453450268.py:1: DeprecationWarning: KerasClassifier is deprecated, use Sci-Keras (https://github.com/adriangb/scikeras) instead. See https://www.adriangb.com/scikeras/stable/migration.html for help migrating.\n",
      "  keras_model = scikit_learn.KerasClassifier(build_model,\n"
     ]
    }
   ],
   "source": [
    "keras_model = scikit_learn.KerasClassifier(build_model,\n",
    "                                          epochs=50,\n",
    "                                          batch_size=32,\n",
    "                                          verbose=1)"
   ]
  },
  {
   "cell_type": "code",
   "execution_count": 24,
   "metadata": {},
   "outputs": [
    {
     "data": {
      "text/plain": [
       "keras.wrappers.scikit_learn.KerasClassifier"
      ]
     },
     "execution_count": 24,
     "metadata": {},
     "output_type": "execute_result"
    }
   ],
   "source": [
    "type(keras_model)"
   ]
  },
  {
   "cell_type": "code",
   "execution_count": 26,
   "metadata": {},
   "outputs": [
    {
     "name": "stdout",
     "output_type": "stream",
     "text": [
      "Epoch 1/50\n",
      " 7/24 [=======>......................] - ETA: 0s - loss: 0.7515 - accuracy: 0.4107"
     ]
    },
    {
     "name": "stderr",
     "output_type": "stream",
     "text": [
      "2022-12-01 15:34:42.111913: I tensorflow/core/grappler/optimizers/custom_graph_optimizer_registry.cc:113] Plugin optimizer for device_type GPU is enabled.\n"
     ]
    },
    {
     "name": "stdout",
     "output_type": "stream",
     "text": [
      "24/24 [==============================] - 1s 11ms/step - loss: 0.7120 - accuracy: 0.5078\n",
      "Epoch 2/50\n",
      "24/24 [==============================] - 0s 8ms/step - loss: 0.6427 - accuracy: 0.6397\n",
      "Epoch 3/50\n",
      "24/24 [==============================] - 0s 9ms/step - loss: 0.5966 - accuracy: 0.7089\n",
      "Epoch 4/50\n",
      "24/24 [==============================] - 0s 10ms/step - loss: 0.5417 - accuracy: 0.7559\n",
      "Epoch 5/50\n",
      "24/24 [==============================] - 0s 9ms/step - loss: 0.4766 - accuracy: 0.8290\n",
      "Epoch 6/50\n",
      "24/24 [==============================] - 0s 8ms/step - loss: 0.4093 - accuracy: 0.8512\n",
      "Epoch 7/50\n",
      "24/24 [==============================] - 0s 8ms/step - loss: 0.3482 - accuracy: 0.8760\n",
      "Epoch 8/50\n",
      "24/24 [==============================] - 0s 9ms/step - loss: 0.3097 - accuracy: 0.8668\n",
      "Epoch 9/50\n",
      "24/24 [==============================] - 0s 8ms/step - loss: 0.2729 - accuracy: 0.8982\n",
      "Epoch 10/50\n",
      "24/24 [==============================] - 0s 8ms/step - loss: 0.2471 - accuracy: 0.8995\n",
      "Epoch 11/50\n",
      "24/24 [==============================] - 0s 9ms/step - loss: 0.2294 - accuracy: 0.9021\n",
      "Epoch 12/50\n",
      "24/24 [==============================] - 0s 10ms/step - loss: 0.2125 - accuracy: 0.9178\n",
      "Epoch 13/50\n",
      "24/24 [==============================] - 0s 10ms/step - loss: 0.2011 - accuracy: 0.9269\n",
      "Epoch 14/50\n",
      "24/24 [==============================] - 0s 9ms/step - loss: 0.1888 - accuracy: 0.9243\n",
      "Epoch 15/50\n",
      "24/24 [==============================] - 0s 9ms/step - loss: 0.1803 - accuracy: 0.9230\n",
      "Epoch 16/50\n",
      "24/24 [==============================] - 0s 9ms/step - loss: 0.1687 - accuracy: 0.9334\n",
      "Epoch 17/50\n",
      "24/24 [==============================] - 0s 12ms/step - loss: 0.1614 - accuracy: 0.9334\n",
      "Epoch 18/50\n",
      "24/24 [==============================] - 0s 9ms/step - loss: 0.1523 - accuracy: 0.9360\n",
      "Epoch 19/50\n",
      "24/24 [==============================] - 0s 10ms/step - loss: 0.1451 - accuracy: 0.9347\n",
      "Epoch 20/50\n",
      "24/24 [==============================] - 0s 8ms/step - loss: 0.1417 - accuracy: 0.9360\n",
      "Epoch 21/50\n",
      "24/24 [==============================] - 0s 9ms/step - loss: 0.1309 - accuracy: 0.9373\n",
      "Epoch 22/50\n",
      "24/24 [==============================] - 0s 9ms/step - loss: 0.1266 - accuracy: 0.9465\n",
      "Epoch 23/50\n",
      "24/24 [==============================] - 0s 8ms/step - loss: 0.1227 - accuracy: 0.9399\n",
      "Epoch 24/50\n",
      "24/24 [==============================] - 0s 12ms/step - loss: 0.1148 - accuracy: 0.9504\n",
      "Epoch 25/50\n",
      "24/24 [==============================] - 0s 8ms/step - loss: 0.1133 - accuracy: 0.9491\n",
      "Epoch 26/50\n",
      "24/24 [==============================] - 0s 9ms/step - loss: 0.1046 - accuracy: 0.9517\n",
      "Epoch 27/50\n",
      "24/24 [==============================] - 0s 8ms/step - loss: 0.1007 - accuracy: 0.9582\n",
      "Epoch 28/50\n",
      "24/24 [==============================] - 0s 9ms/step - loss: 0.1004 - accuracy: 0.9465\n",
      "Epoch 29/50\n",
      "24/24 [==============================] - 0s 8ms/step - loss: 0.0958 - accuracy: 0.9582\n",
      "Epoch 30/50\n",
      "24/24 [==============================] - 0s 9ms/step - loss: 0.0866 - accuracy: 0.9687\n",
      "Epoch 31/50\n",
      "24/24 [==============================] - 0s 8ms/step - loss: 0.0830 - accuracy: 0.9634\n",
      "Epoch 32/50\n",
      "24/24 [==============================] - 0s 9ms/step - loss: 0.0836 - accuracy: 0.9661\n",
      "Epoch 33/50\n",
      "24/24 [==============================] - 0s 11ms/step - loss: 0.0798 - accuracy: 0.9674\n",
      "Epoch 34/50\n",
      "24/24 [==============================] - 0s 10ms/step - loss: 0.0789 - accuracy: 0.9674\n",
      "Epoch 35/50\n",
      "24/24 [==============================] - 0s 9ms/step - loss: 0.0719 - accuracy: 0.9726\n",
      "Epoch 36/50\n",
      "24/24 [==============================] - 0s 9ms/step - loss: 0.0675 - accuracy: 0.9765\n",
      "Epoch 37/50\n",
      "24/24 [==============================] - 0s 9ms/step - loss: 0.0643 - accuracy: 0.9817\n",
      "Epoch 38/50\n",
      "24/24 [==============================] - 0s 8ms/step - loss: 0.0613 - accuracy: 0.9804\n",
      "Epoch 39/50\n",
      "24/24 [==============================] - 0s 8ms/step - loss: 0.0639 - accuracy: 0.9739\n",
      "Epoch 40/50\n",
      "24/24 [==============================] - 0s 10ms/step - loss: 0.0579 - accuracy: 0.9778\n",
      "Epoch 41/50\n",
      "24/24 [==============================] - 0s 8ms/step - loss: 0.0553 - accuracy: 0.9830\n",
      "Epoch 42/50\n",
      "24/24 [==============================] - 0s 9ms/step - loss: 0.0529 - accuracy: 0.9869\n",
      "Epoch 43/50\n",
      "24/24 [==============================] - 0s 8ms/step - loss: 0.0515 - accuracy: 0.9843\n",
      "Epoch 44/50\n",
      "24/24 [==============================] - 0s 8ms/step - loss: 0.0522 - accuracy: 0.9843\n",
      "Epoch 45/50\n",
      "24/24 [==============================] - 0s 9ms/step - loss: 0.0468 - accuracy: 0.9856\n",
      "Epoch 46/50\n",
      "24/24 [==============================] - 0s 9ms/step - loss: 0.0452 - accuracy: 0.9896\n",
      "Epoch 47/50\n",
      "24/24 [==============================] - 0s 9ms/step - loss: 0.0443 - accuracy: 0.9883\n",
      "Epoch 48/50\n",
      "24/24 [==============================] - 0s 8ms/step - loss: 0.0427 - accuracy: 0.9869\n",
      "Epoch 49/50\n",
      "24/24 [==============================] - 0s 9ms/step - loss: 0.0451 - accuracy: 0.9856\n",
      "Epoch 50/50\n",
      "24/24 [==============================] - 0s 9ms/step - loss: 0.0421 - accuracy: 0.9883\n",
      "12/12 [==============================] - 0s 9ms/step - loss: 0.1199 - accuracy: 0.9530\n"
     ]
    },
    {
     "name": "stderr",
     "output_type": "stream",
     "text": [
      "2022-12-01 15:34:53.206125: I tensorflow/core/grappler/optimizers/custom_graph_optimizer_registry.cc:113] Plugin optimizer for device_type GPU is enabled.\n"
     ]
    },
    {
     "name": "stdout",
     "output_type": "stream",
     "text": [
      "Epoch 1/50\n",
      " 7/24 [=======>......................] - ETA: 0s - loss: 0.7520 - accuracy: 0.3884"
     ]
    },
    {
     "name": "stderr",
     "output_type": "stream",
     "text": [
      "2022-12-01 15:34:53.602291: I tensorflow/core/grappler/optimizers/custom_graph_optimizer_registry.cc:113] Plugin optimizer for device_type GPU is enabled.\n"
     ]
    },
    {
     "name": "stdout",
     "output_type": "stream",
     "text": [
      "24/24 [==============================] - 1s 10ms/step - loss: 0.7151 - accuracy: 0.4765\n",
      "Epoch 2/50\n",
      "24/24 [==============================] - 0s 9ms/step - loss: 0.6463 - accuracy: 0.6201\n",
      "Epoch 3/50\n",
      "24/24 [==============================] - 0s 8ms/step - loss: 0.6081 - accuracy: 0.6802\n",
      "Epoch 4/50\n",
      "24/24 [==============================] - 0s 8ms/step - loss: 0.5676 - accuracy: 0.7454\n",
      "Epoch 5/50\n",
      "24/24 [==============================] - 0s 9ms/step - loss: 0.5129 - accuracy: 0.7833\n",
      "Epoch 6/50\n",
      "24/24 [==============================] - 0s 8ms/step - loss: 0.4528 - accuracy: 0.8264\n",
      "Epoch 7/50\n",
      "24/24 [==============================] - 0s 8ms/step - loss: 0.3937 - accuracy: 0.8460\n",
      "Epoch 8/50\n",
      "24/24 [==============================] - 0s 8ms/step - loss: 0.3417 - accuracy: 0.8551\n",
      "Epoch 9/50\n",
      "24/24 [==============================] - 0s 8ms/step - loss: 0.3074 - accuracy: 0.8747\n",
      "Epoch 10/50\n",
      "24/24 [==============================] - 0s 7ms/step - loss: 0.2810 - accuracy: 0.8786\n",
      "Epoch 11/50\n",
      "24/24 [==============================] - 0s 10ms/step - loss: 0.2585 - accuracy: 0.8864\n",
      "Epoch 12/50\n",
      "24/24 [==============================] - 0s 8ms/step - loss: 0.2369 - accuracy: 0.8995\n",
      "Epoch 13/50\n",
      "24/24 [==============================] - 0s 8ms/step - loss: 0.2229 - accuracy: 0.9086\n",
      "Epoch 14/50\n",
      "24/24 [==============================] - 0s 8ms/step - loss: 0.2147 - accuracy: 0.9099\n",
      "Epoch 15/50\n",
      "24/24 [==============================] - 0s 7ms/step - loss: 0.1954 - accuracy: 0.9164\n",
      "Epoch 16/50\n",
      "24/24 [==============================] - 0s 9ms/step - loss: 0.1843 - accuracy: 0.9230\n",
      "Epoch 17/50\n",
      "24/24 [==============================] - 0s 9ms/step - loss: 0.1736 - accuracy: 0.9256\n",
      "Epoch 18/50\n",
      "24/24 [==============================] - 0s 8ms/step - loss: 0.1644 - accuracy: 0.9308\n",
      "Epoch 19/50\n",
      "24/24 [==============================] - 0s 9ms/step - loss: 0.1578 - accuracy: 0.9386\n",
      "Epoch 20/50\n",
      "24/24 [==============================] - 0s 8ms/step - loss: 0.1491 - accuracy: 0.9347\n",
      "Epoch 21/50\n",
      "24/24 [==============================] - 0s 7ms/step - loss: 0.1375 - accuracy: 0.9439\n",
      "Epoch 22/50\n",
      "24/24 [==============================] - 0s 7ms/step - loss: 0.1309 - accuracy: 0.9530\n",
      "Epoch 23/50\n",
      "24/24 [==============================] - 0s 8ms/step - loss: 0.1243 - accuracy: 0.9478\n",
      "Epoch 24/50\n",
      "24/24 [==============================] - 0s 7ms/step - loss: 0.1193 - accuracy: 0.9543\n",
      "Epoch 25/50\n",
      "24/24 [==============================] - 0s 8ms/step - loss: 0.1186 - accuracy: 0.9517\n",
      "Epoch 26/50\n",
      "24/24 [==============================] - 0s 8ms/step - loss: 0.1066 - accuracy: 0.9621\n",
      "Epoch 27/50\n",
      "24/24 [==============================] - 0s 9ms/step - loss: 0.1044 - accuracy: 0.9582\n",
      "Epoch 28/50\n",
      "24/24 [==============================] - 0s 8ms/step - loss: 0.0960 - accuracy: 0.9648\n",
      "Epoch 29/50\n",
      "24/24 [==============================] - 0s 8ms/step - loss: 0.0966 - accuracy: 0.9648\n",
      "Epoch 30/50\n",
      "24/24 [==============================] - 0s 8ms/step - loss: 0.0894 - accuracy: 0.9595\n",
      "Epoch 31/50\n",
      "24/24 [==============================] - 0s 9ms/step - loss: 0.0848 - accuracy: 0.9661\n",
      "Epoch 32/50\n",
      "24/24 [==============================] - 0s 9ms/step - loss: 0.0785 - accuracy: 0.9687\n",
      "Epoch 33/50\n",
      "24/24 [==============================] - 0s 9ms/step - loss: 0.0766 - accuracy: 0.9700\n",
      "Epoch 34/50\n",
      "24/24 [==============================] - 0s 9ms/step - loss: 0.0723 - accuracy: 0.9752\n",
      "Epoch 35/50\n",
      "24/24 [==============================] - 0s 8ms/step - loss: 0.0698 - accuracy: 0.9752\n",
      "Epoch 36/50\n",
      "24/24 [==============================] - 0s 8ms/step - loss: 0.0684 - accuracy: 0.9726\n",
      "Epoch 37/50\n",
      "24/24 [==============================] - 0s 9ms/step - loss: 0.0646 - accuracy: 0.9778\n",
      "Epoch 38/50\n",
      "24/24 [==============================] - 0s 8ms/step - loss: 0.0618 - accuracy: 0.9791\n",
      "Epoch 39/50\n",
      "24/24 [==============================] - 0s 10ms/step - loss: 0.0586 - accuracy: 0.9817\n",
      "Epoch 40/50\n",
      "24/24 [==============================] - 0s 8ms/step - loss: 0.0569 - accuracy: 0.9817\n",
      "Epoch 41/50\n",
      "24/24 [==============================] - 0s 8ms/step - loss: 0.0553 - accuracy: 0.9830\n",
      "Epoch 42/50\n",
      "24/24 [==============================] - 0s 8ms/step - loss: 0.0521 - accuracy: 0.9843\n",
      "Epoch 43/50\n",
      "24/24 [==============================] - 0s 9ms/step - loss: 0.0498 - accuracy: 0.9830\n",
      "Epoch 44/50\n",
      "24/24 [==============================] - 0s 10ms/step - loss: 0.0486 - accuracy: 0.9883\n",
      "Epoch 45/50\n",
      "24/24 [==============================] - 0s 8ms/step - loss: 0.0465 - accuracy: 0.9856\n",
      "Epoch 46/50\n",
      "24/24 [==============================] - 0s 10ms/step - loss: 0.0441 - accuracy: 0.9883\n",
      "Epoch 47/50\n",
      "24/24 [==============================] - 0s 8ms/step - loss: 0.0435 - accuracy: 0.9869\n",
      "Epoch 48/50\n",
      "24/24 [==============================] - 0s 8ms/step - loss: 0.0414 - accuracy: 0.9896\n",
      "Epoch 49/50\n",
      "24/24 [==============================] - 0s 8ms/step - loss: 0.0407 - accuracy: 0.9896\n",
      "Epoch 50/50\n",
      "24/24 [==============================] - 0s 8ms/step - loss: 0.0391 - accuracy: 0.9896\n",
      "12/12 [==============================] - 0s 12ms/step - loss: 0.0992 - accuracy: 0.9530\n"
     ]
    },
    {
     "name": "stderr",
     "output_type": "stream",
     "text": [
      "2022-12-01 15:35:03.935071: I tensorflow/core/grappler/optimizers/custom_graph_optimizer_registry.cc:113] Plugin optimizer for device_type GPU is enabled.\n"
     ]
    },
    {
     "name": "stdout",
     "output_type": "stream",
     "text": [
      "Epoch 1/50\n",
      " 6/24 [======>.......................] - ETA: 0s - loss: 0.7338 - accuracy: 0.4375"
     ]
    },
    {
     "name": "stderr",
     "output_type": "stream",
     "text": [
      "2022-12-01 15:35:04.354920: I tensorflow/core/grappler/optimizers/custom_graph_optimizer_registry.cc:113] Plugin optimizer for device_type GPU is enabled.\n"
     ]
    },
    {
     "name": "stdout",
     "output_type": "stream",
     "text": [
      "24/24 [==============================] - 1s 11ms/step - loss: 0.7149 - accuracy: 0.4987\n",
      "Epoch 2/50\n",
      "24/24 [==============================] - 0s 8ms/step - loss: 0.6420 - accuracy: 0.6593\n",
      "Epoch 3/50\n",
      "24/24 [==============================] - 0s 10ms/step - loss: 0.5844 - accuracy: 0.7206\n",
      "Epoch 4/50\n",
      "24/24 [==============================] - 0s 9ms/step - loss: 0.5186 - accuracy: 0.7911\n",
      "Epoch 5/50\n",
      "24/24 [==============================] - 0s 8ms/step - loss: 0.4448 - accuracy: 0.8355\n",
      "Epoch 6/50\n",
      "24/24 [==============================] - 0s 9ms/step - loss: 0.3801 - accuracy: 0.8473\n",
      "Epoch 7/50\n",
      "24/24 [==============================] - 0s 8ms/step - loss: 0.3271 - accuracy: 0.8812\n",
      "Epoch 8/50\n",
      "24/24 [==============================] - 0s 9ms/step - loss: 0.2948 - accuracy: 0.8851\n",
      "Epoch 9/50\n",
      "24/24 [==============================] - 0s 9ms/step - loss: 0.2675 - accuracy: 0.8903\n",
      "Epoch 10/50\n",
      "24/24 [==============================] - 0s 9ms/step - loss: 0.2510 - accuracy: 0.8956\n",
      "Epoch 11/50\n",
      "24/24 [==============================] - 0s 8ms/step - loss: 0.2345 - accuracy: 0.9047\n",
      "Epoch 12/50\n",
      "24/24 [==============================] - 0s 7ms/step - loss: 0.2188 - accuracy: 0.9099\n",
      "Epoch 13/50\n",
      "24/24 [==============================] - 0s 8ms/step - loss: 0.2059 - accuracy: 0.9125\n",
      "Epoch 14/50\n",
      "24/24 [==============================] - 0s 8ms/step - loss: 0.1972 - accuracy: 0.9112\n",
      "Epoch 15/50\n",
      "24/24 [==============================] - 0s 9ms/step - loss: 0.1849 - accuracy: 0.9243\n",
      "Epoch 16/50\n",
      "24/24 [==============================] - 0s 8ms/step - loss: 0.1763 - accuracy: 0.9282\n",
      "Epoch 17/50\n",
      "24/24 [==============================] - 0s 8ms/step - loss: 0.1654 - accuracy: 0.9295\n",
      "Epoch 18/50\n",
      "24/24 [==============================] - 0s 8ms/step - loss: 0.1591 - accuracy: 0.9347\n",
      "Epoch 19/50\n",
      "24/24 [==============================] - 0s 8ms/step - loss: 0.1512 - accuracy: 0.9347\n",
      "Epoch 20/50\n",
      "24/24 [==============================] - 0s 8ms/step - loss: 0.1439 - accuracy: 0.9426\n",
      "Epoch 21/50\n",
      "24/24 [==============================] - 0s 10ms/step - loss: 0.1371 - accuracy: 0.9439\n",
      "Epoch 22/50\n",
      "24/24 [==============================] - 0s 8ms/step - loss: 0.1308 - accuracy: 0.9465\n",
      "Epoch 23/50\n",
      "24/24 [==============================] - 0s 8ms/step - loss: 0.1244 - accuracy: 0.9491\n",
      "Epoch 24/50\n",
      "24/24 [==============================] - 0s 8ms/step - loss: 0.1214 - accuracy: 0.9504\n",
      "Epoch 25/50\n",
      "24/24 [==============================] - 0s 9ms/step - loss: 0.1122 - accuracy: 0.9530\n",
      "Epoch 26/50\n",
      "24/24 [==============================] - 0s 10ms/step - loss: 0.1076 - accuracy: 0.9556\n",
      "Epoch 27/50\n",
      "24/24 [==============================] - 0s 8ms/step - loss: 0.1063 - accuracy: 0.9648\n",
      "Epoch 28/50\n",
      "24/24 [==============================] - 0s 8ms/step - loss: 0.1029 - accuracy: 0.9608\n",
      "Epoch 29/50\n",
      "24/24 [==============================] - 0s 8ms/step - loss: 0.0968 - accuracy: 0.9687\n",
      "Epoch 30/50\n",
      "24/24 [==============================] - 0s 9ms/step - loss: 0.0907 - accuracy: 0.9700\n",
      "Epoch 31/50\n",
      "24/24 [==============================] - 0s 8ms/step - loss: 0.0857 - accuracy: 0.9700\n",
      "Epoch 32/50\n",
      "24/24 [==============================] - 0s 9ms/step - loss: 0.0851 - accuracy: 0.9674\n",
      "Epoch 33/50\n",
      "24/24 [==============================] - 0s 8ms/step - loss: 0.0782 - accuracy: 0.9765\n",
      "Epoch 34/50\n",
      "24/24 [==============================] - 0s 8ms/step - loss: 0.0786 - accuracy: 0.9687\n",
      "Epoch 35/50\n",
      "24/24 [==============================] - 0s 8ms/step - loss: 0.0717 - accuracy: 0.9752\n",
      "Epoch 36/50\n",
      "24/24 [==============================] - 0s 8ms/step - loss: 0.0757 - accuracy: 0.9739\n",
      "Epoch 37/50\n",
      "24/24 [==============================] - 0s 8ms/step - loss: 0.0674 - accuracy: 0.9817\n",
      "Epoch 38/50\n",
      "24/24 [==============================] - 0s 10ms/step - loss: 0.0622 - accuracy: 0.9804\n",
      "Epoch 39/50\n",
      "24/24 [==============================] - 0s 8ms/step - loss: 0.0611 - accuracy: 0.9804\n",
      "Epoch 40/50\n",
      "24/24 [==============================] - 0s 9ms/step - loss: 0.0575 - accuracy: 0.9804\n",
      "Epoch 41/50\n",
      "24/24 [==============================] - 0s 8ms/step - loss: 0.0547 - accuracy: 0.9843\n",
      "Epoch 42/50\n",
      "24/24 [==============================] - 0s 9ms/step - loss: 0.0532 - accuracy: 0.9804\n",
      "Epoch 43/50\n",
      "24/24 [==============================] - 0s 8ms/step - loss: 0.0504 - accuracy: 0.9830\n",
      "Epoch 44/50\n",
      "24/24 [==============================] - 0s 10ms/step - loss: 0.0487 - accuracy: 0.9830\n",
      "Epoch 45/50\n",
      "24/24 [==============================] - 0s 9ms/step - loss: 0.0464 - accuracy: 0.9869\n",
      "Epoch 46/50\n",
      "24/24 [==============================] - 0s 9ms/step - loss: 0.0462 - accuracy: 0.9883\n",
      "Epoch 47/50\n",
      "24/24 [==============================] - 0s 8ms/step - loss: 0.0445 - accuracy: 0.9843\n",
      "Epoch 48/50\n",
      "24/24 [==============================] - 0s 8ms/step - loss: 0.0417 - accuracy: 0.9909\n",
      "Epoch 49/50\n",
      "24/24 [==============================] - 0s 11ms/step - loss: 0.0397 - accuracy: 0.9896\n",
      "Epoch 50/50\n",
      "24/24 [==============================] - 0s 9ms/step - loss: 0.0388 - accuracy: 0.9909\n",
      "12/12 [==============================] - 0s 9ms/step - loss: 0.0902 - accuracy: 0.9608\n"
     ]
    },
    {
     "name": "stderr",
     "output_type": "stream",
     "text": [
      "2022-12-01 15:35:15.248324: I tensorflow/core/grappler/optimizers/custom_graph_optimizer_registry.cc:113] Plugin optimizer for device_type GPU is enabled.\n"
     ]
    },
    {
     "data": {
      "text/plain": [
       "array([0.95300263, 0.95300263, 0.96083552])"
      ]
     },
     "execution_count": 26,
     "metadata": {},
     "output_type": "execute_result"
    }
   ],
   "source": [
    "cross_val_score(keras_model, X_pure_train, y_pure_train, cv=3)"
   ]
  },
  {
   "cell_type": "markdown",
   "metadata": {},
   "source": [
    "## Regularization"
   ]
  },
  {
   "cell_type": "markdown",
   "metadata": {},
   "source": [
    "Does regularization make sense in the context of neural networks? <br/>\n",
    "\n",
    "Yes! We still have all of the salient ingredients: a loss function, overfitting vs. underfitting, and coefficients (weights) that could get too large.\n",
    "\n",
    "But there are now a few different flavors besides L1 and L2 regularization. (Note that L1 regularization is not common in the context of  neural networks.)\n",
    "\n",
    "We'll add a few more layers to give regularization a better chance of making a difference!"
   ]
  },
  {
   "cell_type": "code",
   "execution_count": 27,
   "metadata": {},
   "outputs": [
    {
     "name": "stderr",
     "output_type": "stream",
     "text": [
      "2022-12-01 15:39:06.222125: I tensorflow/core/grappler/optimizers/custom_graph_optimizer_registry.cc:113] Plugin optimizer for device_type GPU is enabled.\n",
      "2022-12-01 15:39:06.891321: I tensorflow/core/grappler/optimizers/custom_graph_optimizer_registry.cc:113] Plugin optimizer for device_type GPU is enabled.\n"
     ]
    },
    {
     "data": {
      "image/png": "[encoded data removed]",
      "text/plain": [
       "<Figure size 720x360 with 2 Axes>"
      ]
     },
     "metadata": {
      "needs_background": "light"
     },
     "output_type": "display_data"
    }
   ],
   "source": [
    "model = Sequential()\n",
    "model.add(Dense(30, activation='relu', input_dim=64))\n",
    "\n",
    "# We can add L2 (or L1) regularization right into\n",
    "# the layer with the kernel_regularizer parameter.\n",
    "\n",
    "model.add(Dense(20, activation='relu', kernel_regularizer=l2(l2=0.05)))\n",
    "\n",
    "# Note that there is also a bias_regularizer,\n",
    "# but this tends to have less effect.\n",
    "\n",
    "model.add(Dense(12, activation='relu'))\n",
    "model.add(Dense(12, activation='relu'))\n",
    "model.add(Dense(12, activation='relu'))\n",
    "model.add(Dense(8, activation='relu'))\n",
    "model.add(Dense(4, activation='relu'))\n",
    "model.add(Dense(1, activation ='sigmoid'))\n",
    "\n",
    "model.compile(optimizer='adam',\n",
    "              loss='binary_crossentropy',\n",
    "              metrics=['accuracy'])\n",
    "\n",
    "results = model.fit(X_pure_train, y_pure_train, epochs=20, batch_size=32,\n",
    "                    verbose=0, validation_data=(X_val, y_val))\n",
    "\n",
    "train_loss = results.history['loss']\n",
    "train_acc = results.history['accuracy']\n",
    "val_loss = results.history['val_loss']\n",
    "val_acc = results.history['val_accuracy']\n",
    "\n",
    "\n",
    "fig, (ax1, ax2) = plt.subplots(1, 2, figsize=(10, 5))\n",
    "sns.lineplot(x=results.epoch, y=train_loss, ax=ax1, label='train_loss')\n",
    "sns.lineplot(x=results.epoch, y=train_acc, ax=ax2, label='train_accuracy')\n",
    "\n",
    "sns.lineplot(x=results.epoch, y=val_loss, ax=ax1, label='val_loss')\n",
    "sns.lineplot(x=results.epoch, y=val_acc, ax=ax2, label='val_accuracy');"
   ]
  },
  {
   "cell_type": "markdown",
   "metadata": {},
   "source": [
    "Adding L2 to multiple layers:"
   ]
  },
  {
   "cell_type": "code",
   "execution_count": 28,
   "metadata": {},
   "outputs": [
    {
     "name": "stderr",
     "output_type": "stream",
     "text": [
      "2022-12-01 15:40:25.020912: I tensorflow/core/grappler/optimizers/custom_graph_optimizer_registry.cc:113] Plugin optimizer for device_type GPU is enabled.\n",
      "2022-12-01 15:40:25.704416: I tensorflow/core/grappler/optimizers/custom_graph_optimizer_registry.cc:113] Plugin optimizer for device_type GPU is enabled.\n"
     ]
    },
    {
     "data": {
      "image/png": "[encoded data removed]",
      "text/plain": [
       "<Figure size 720x360 with 2 Axes>"
      ]
     },
     "metadata": {
      "needs_background": "light"
     },
     "output_type": "display_data"
    }
   ],
   "source": [
    "model = Sequential()\n",
    "model.add(Dense(30, activation='relu',\n",
    "                input_dim=64))\n",
    "model.add(Dense(20, activation='relu',\n",
    "                kernel_regularizer=l2(l2=0.01)))\n",
    "\n",
    "model.add(Dense(12, activation='relu',\n",
    "                kernel_regularizer=l2(l2=0.01)))\n",
    "model.add(Dense(12, activation='relu',\n",
    "                kernel_regularizer=l2(l2=0.01)))\n",
    "model.add(Dense(12, activation='relu',\n",
    "                kernel_regularizer=l2(l2=0.01)))\n",
    "model.add(Dense(8, activation='relu',\n",
    "                kernel_regularizer=l2(l2=0.01)))\n",
    "model.add(Dense(4, activation='relu',\n",
    "                kernel_regularizer=l2(l2=0.01)))\n",
    "model.add(Dense(1, activation='sigmoid'))\n",
    "\n",
    "model.compile(optimizer='adam',\n",
    "              loss='binary_crossentropy',\n",
    "              metrics=['accuracy'])\n",
    "\n",
    "results = model.fit(X_pure_train, y_pure_train, epochs=20, batch_size=32,\n",
    "                    verbose=0, validation_data=(X_val, y_val))\n",
    "\n",
    "train_loss = results.history['loss']\n",
    "train_acc = results.history['accuracy']\n",
    "val_loss = results.history['val_loss']\n",
    "val_acc = results.history['val_accuracy']\n",
    "\n",
    "\n",
    "fig, (ax1, ax2) = plt.subplots(1, 2, figsize=(10, 5))\n",
    "sns.lineplot(x=results.epoch, y=train_loss, ax=ax1, label='train_loss')\n",
    "sns.lineplot(x=results.epoch, y=train_acc, ax=ax2, label='train_accuracy')\n",
    "\n",
    "sns.lineplot(x=results.epoch, y=val_loss, ax=ax1, label='val_loss')\n",
    "sns.lineplot(x=results.epoch, y=val_acc, ax=ax2, label='val_accuracy');"
   ]
  },
  {
   "cell_type": "markdown",
   "metadata": {},
   "source": [
    "### Dropout\n",
    "\n",
    "We can also specify a dropout layer in keras, which randomly shuts off different nodes during training. This can help to prevent overfitting.\n",
    "\n",
    "![drop_out](images/drop_out.png)"
   ]
  },
  {
   "cell_type": "markdown",
   "metadata": {},
   "source": [
    "### Exercise\n",
    "\n",
    "To add dropout to a `keras` network, simply add it as though it were a layer. It will apply to the immediately preceding layer.\n",
    "\n",
    "Add Dropout to one or more layers below."
   ]
  },
  {
   "cell_type": "code",
   "execution_count": 29,
   "metadata": {},
   "outputs": [
    {
     "name": "stdout",
     "output_type": "stream",
     "text": [
      "Epoch 1/50\n",
      " 1/36 [..............................] - ETA: 15s - loss: 0.7878 - accuracy: 0.5938"
     ]
    },
    {
     "name": "stderr",
     "output_type": "stream",
     "text": [
      "2022-12-01 15:44:15.720665: I tensorflow/core/grappler/optimizers/custom_graph_optimizer_registry.cc:113] Plugin optimizer for device_type GPU is enabled.\n"
     ]
    },
    {
     "name": "stdout",
     "output_type": "stream",
     "text": [
      "36/36 [==============================] - 1s 19ms/step - loss: 0.7266 - accuracy: 0.5039 - val_loss: 0.6892 - val_accuracy: 0.5312\n",
      "Epoch 2/50\n",
      " 5/36 [===>..........................] - ETA: 0s - loss: 0.6981 - accuracy: 0.4813"
     ]
    },
    {
     "name": "stderr",
     "output_type": "stream",
     "text": [
      "2022-12-01 15:44:16.474303: I tensorflow/core/grappler/optimizers/custom_graph_optimizer_registry.cc:113] Plugin optimizer for device_type GPU is enabled.\n"
     ]
    },
    {
     "name": "stdout",
     "output_type": "stream",
     "text": [
      "36/36 [==============================] - 1s 15ms/step - loss: 0.6862 - accuracy: 0.5413 - val_loss: 0.6839 - val_accuracy: 0.6181\n",
      "Epoch 3/50\n",
      "36/36 [==============================] - 0s 13ms/step - loss: 0.6762 - accuracy: 0.5283 - val_loss: 0.6709 - val_accuracy: 0.6667\n",
      "Epoch 4/50\n",
      "36/36 [==============================] - 0s 12ms/step - loss: 0.6397 - accuracy: 0.6205 - val_loss: 0.6016 - val_accuracy: 0.7188\n",
      "Epoch 5/50\n",
      "36/36 [==============================] - 0s 11ms/step - loss: 0.5809 - accuracy: 0.6849 - val_loss: 0.5022 - val_accuracy: 0.8194\n",
      "Epoch 6/50\n",
      "36/36 [==============================] - 0s 12ms/step - loss: 0.4859 - accuracy: 0.7537 - val_loss: 0.3883 - val_accuracy: 0.8785\n",
      "Epoch 7/50\n",
      "36/36 [==============================] - 0s 14ms/step - loss: 0.3892 - accuracy: 0.8303 - val_loss: 0.3260 - val_accuracy: 0.8924\n",
      "Epoch 8/50\n",
      "36/36 [==============================] - 1s 14ms/step - loss: 0.3499 - accuracy: 0.8538 - val_loss: 0.2746 - val_accuracy: 0.9201\n",
      "Epoch 9/50\n",
      "36/36 [==============================] - 1s 15ms/step - loss: 0.3057 - accuracy: 0.8851 - val_loss: 0.2217 - val_accuracy: 0.9271\n",
      "Epoch 10/50\n",
      "36/36 [==============================] - 0s 13ms/step - loss: 0.2662 - accuracy: 0.8912 - val_loss: 0.1834 - val_accuracy: 0.9444\n",
      "Epoch 11/50\n",
      "36/36 [==============================] - 0s 14ms/step - loss: 0.2453 - accuracy: 0.9051 - val_loss: 0.1734 - val_accuracy: 0.9479\n",
      "Epoch 12/50\n",
      "36/36 [==============================] - 0s 13ms/step - loss: 0.2045 - accuracy: 0.9217 - val_loss: 0.1564 - val_accuracy: 0.9479\n",
      "Epoch 13/50\n",
      "36/36 [==============================] - 0s 12ms/step - loss: 0.1813 - accuracy: 0.9321 - val_loss: 0.1407 - val_accuracy: 0.9583\n",
      "Epoch 14/50\n",
      "36/36 [==============================] - 0s 13ms/step - loss: 0.1664 - accuracy: 0.9382 - val_loss: 0.1257 - val_accuracy: 0.9618\n",
      "Epoch 15/50\n",
      "36/36 [==============================] - 1s 14ms/step - loss: 0.1669 - accuracy: 0.9339 - val_loss: 0.1234 - val_accuracy: 0.9618\n",
      "Epoch 16/50\n",
      "36/36 [==============================] - 0s 13ms/step - loss: 0.1275 - accuracy: 0.9574 - val_loss: 0.1129 - val_accuracy: 0.9583\n",
      "Epoch 17/50\n",
      "36/36 [==============================] - 0s 13ms/step - loss: 0.1209 - accuracy: 0.9556 - val_loss: 0.1223 - val_accuracy: 0.9618\n",
      "Epoch 18/50\n",
      "36/36 [==============================] - 0s 12ms/step - loss: 0.1088 - accuracy: 0.9617 - val_loss: 0.1024 - val_accuracy: 0.9688\n",
      "Epoch 19/50\n",
      "36/36 [==============================] - 0s 11ms/step - loss: 0.1066 - accuracy: 0.9687 - val_loss: 0.1050 - val_accuracy: 0.9618\n",
      "Epoch 20/50\n",
      "36/36 [==============================] - 0s 12ms/step - loss: 0.0901 - accuracy: 0.9704 - val_loss: 0.1326 - val_accuracy: 0.9514\n",
      "Epoch 21/50\n",
      "36/36 [==============================] - 1s 14ms/step - loss: 0.0814 - accuracy: 0.9756 - val_loss: 0.0919 - val_accuracy: 0.9688\n",
      "Epoch 22/50\n",
      "36/36 [==============================] - 0s 13ms/step - loss: 0.0822 - accuracy: 0.9704 - val_loss: 0.1158 - val_accuracy: 0.9618\n",
      "Epoch 23/50\n",
      "36/36 [==============================] - 0s 11ms/step - loss: 0.0661 - accuracy: 0.9774 - val_loss: 0.0986 - val_accuracy: 0.9653\n",
      "Epoch 24/50\n",
      "36/36 [==============================] - 0s 13ms/step - loss: 0.0558 - accuracy: 0.9800 - val_loss: 0.0995 - val_accuracy: 0.9653\n",
      "Epoch 25/50\n",
      "36/36 [==============================] - 0s 12ms/step - loss: 0.0495 - accuracy: 0.9861 - val_loss: 0.0776 - val_accuracy: 0.9792\n",
      "Epoch 26/50\n",
      "36/36 [==============================] - 0s 12ms/step - loss: 0.0510 - accuracy: 0.9809 - val_loss: 0.0938 - val_accuracy: 0.9722\n",
      "Epoch 27/50\n",
      "36/36 [==============================] - 0s 12ms/step - loss: 0.0490 - accuracy: 0.9852 - val_loss: 0.0967 - val_accuracy: 0.9688\n",
      "Epoch 28/50\n",
      "36/36 [==============================] - 0s 13ms/step - loss: 0.0499 - accuracy: 0.9782 - val_loss: 0.1009 - val_accuracy: 0.9618\n",
      "Epoch 29/50\n",
      "36/36 [==============================] - 0s 13ms/step - loss: 0.0451 - accuracy: 0.9869 - val_loss: 0.0805 - val_accuracy: 0.9792\n",
      "Epoch 30/50\n",
      "36/36 [==============================] - 0s 13ms/step - loss: 0.0296 - accuracy: 0.9939 - val_loss: 0.0802 - val_accuracy: 0.9757\n",
      "Epoch 31/50\n",
      "36/36 [==============================] - 0s 13ms/step - loss: 0.0384 - accuracy: 0.9878 - val_loss: 0.0759 - val_accuracy: 0.9722\n",
      "Epoch 32/50\n",
      "36/36 [==============================] - 1s 14ms/step - loss: 0.0268 - accuracy: 0.9922 - val_loss: 0.0650 - val_accuracy: 0.9792\n",
      "Epoch 33/50\n",
      "36/36 [==============================] - 1s 14ms/step - loss: 0.0482 - accuracy: 0.9869 - val_loss: 0.0947 - val_accuracy: 0.9757\n",
      "Epoch 34/50\n",
      "36/36 [==============================] - 0s 12ms/step - loss: 0.0227 - accuracy: 0.9948 - val_loss: 0.0921 - val_accuracy: 0.9722\n",
      "Epoch 35/50\n",
      "36/36 [==============================] - 0s 12ms/step - loss: 0.0259 - accuracy: 0.9922 - val_loss: 0.0837 - val_accuracy: 0.9722\n",
      "Epoch 36/50\n",
      "36/36 [==============================] - 0s 12ms/step - loss: 0.0259 - accuracy: 0.9887 - val_loss: 0.0969 - val_accuracy: 0.9722\n",
      "Epoch 37/50\n",
      "36/36 [==============================] - 0s 12ms/step - loss: 0.0374 - accuracy: 0.9904 - val_loss: 0.0752 - val_accuracy: 0.9757\n",
      "Epoch 38/50\n",
      "36/36 [==============================] - 0s 11ms/step - loss: 0.0221 - accuracy: 0.9930 - val_loss: 0.0850 - val_accuracy: 0.9757\n",
      "Epoch 39/50\n",
      "36/36 [==============================] - 0s 11ms/step - loss: 0.0107 - accuracy: 0.9974 - val_loss: 0.0826 - val_accuracy: 0.9792\n",
      "Epoch 40/50\n",
      "36/36 [==============================] - 0s 11ms/step - loss: 0.0119 - accuracy: 0.9965 - val_loss: 0.0971 - val_accuracy: 0.9688\n",
      "Epoch 41/50\n",
      "36/36 [==============================] - 0s 12ms/step - loss: 0.0111 - accuracy: 0.9974 - val_loss: 0.0809 - val_accuracy: 0.9757\n",
      "Epoch 42/50\n",
      "36/36 [==============================] - 0s 12ms/step - loss: 0.0143 - accuracy: 0.9930 - val_loss: 0.0953 - val_accuracy: 0.9688\n",
      "Epoch 43/50\n",
      "36/36 [==============================] - 0s 13ms/step - loss: 0.0095 - accuracy: 0.9974 - val_loss: 0.0797 - val_accuracy: 0.9792\n",
      "Epoch 44/50\n",
      "36/36 [==============================] - 0s 12ms/step - loss: 0.0121 - accuracy: 0.9974 - val_loss: 0.0815 - val_accuracy: 0.9792\n",
      "Epoch 45/50\n",
      "36/36 [==============================] - 0s 12ms/step - loss: 0.0114 - accuracy: 0.9965 - val_loss: 0.0854 - val_accuracy: 0.9792\n",
      "Epoch 46/50\n",
      "36/36 [==============================] - 0s 12ms/step - loss: 0.0098 - accuracy: 0.9983 - val_loss: 0.1128 - val_accuracy: 0.9722\n",
      "Epoch 47/50\n",
      "36/36 [==============================] - 0s 11ms/step - loss: 0.0076 - accuracy: 0.9956 - val_loss: 0.0791 - val_accuracy: 0.9826\n",
      "Epoch 48/50\n",
      "36/36 [==============================] - 0s 14ms/step - loss: 0.0049 - accuracy: 0.9983 - val_loss: 0.1102 - val_accuracy: 0.9722\n",
      "Epoch 49/50\n",
      "36/36 [==============================] - 0s 11ms/step - loss: 0.0060 - accuracy: 0.9983 - val_loss: 0.0819 - val_accuracy: 0.9861\n",
      "Epoch 50/50\n",
      "36/36 [==============================] - 0s 11ms/step - loss: 0.0036 - accuracy: 0.9991 - val_loss: 0.0879 - val_accuracy: 0.9826\n"
     ]
    },
    {
     "data": {
      "image/png": "[encoded data removed]",
      "text/plain": [
       "<Figure size 720x360 with 2 Axes>"
      ]
     },
     "metadata": {
      "needs_background": "light"
     },
     "output_type": "display_data"
    }
   ],
   "source": [
    "model = Sequential()\n",
    "model.add(Dense(30, activation='relu', input_dim=64))\n",
    "model.add(Dense(20, activation='relu'))\n",
    "model.add(Dropout(.5))\n",
    "model.add(Dense(12, activation='relu'))\n",
    "model.add(Dropout(.5))\n",
    "model.add(Dense(12, activation='relu'))\n",
    "model.add(Dense(12, activation='relu'))\n",
    "model.add(Dense(8, activation='relu'))\n",
    "model.add(Dense(4, activation='relu'))\n",
    "model.add(Dense(1, activation ='sigmoid'))\n",
    "\n",
    "model.compile(optimizer='adam',\n",
    "              loss='binary_crossentropy',\n",
    "              metrics=['accuracy'])\n",
    "\n",
    "results = model.fit(X_pure_train, y_pure_train, epochs=50,\n",
    "                    batch_size= 32, verbose=1,\n",
    "                    validation_data=(X_val, y_val))\n",
    "\n",
    "train_loss = results.history['loss']\n",
    "train_acc = results.history['accuracy']\n",
    "val_loss = results.history['val_loss']\n",
    "val_acc = results.history['val_accuracy']\n",
    "\n",
    "\n",
    "fig, (ax1, ax2) = plt.subplots(1, 2, figsize=(10, 5))\n",
    "sns.lineplot(x=results.epoch, y=train_loss, ax=ax1, label='train_loss')\n",
    "sns.lineplot(x=results.epoch, y=train_acc, ax=ax2, label='train_accuracy')\n",
    "\n",
    "sns.lineplot(x=results.epoch, y=val_loss, ax=ax1, label='val_loss')\n",
    "sns.lineplot(x=results.epoch, y=val_acc, ax=ax2, label='val_accuracy');"
   ]
  },
  {
   "cell_type": "markdown",
   "metadata": {},
   "source": [
    "<details>\n",
    "    <summary>One answer here</summary>\n",
    "<code>model = Sequential()\n",
    "model.add(Dense(30, activation='relu', input_dim=64))\n",
    "model.add(Dense(20, activation='relu'))\n",
    "model.add(Dropout(0.5))\n",
    "model.add(Dense(12, activation='relu'))\n",
    "model.add(Dropout(0.2))\n",
    "model.add(Dense(12, activation='relu'))\n",
    "model.add(Dense(12, activation='relu'))\n",
    "model.add(Dense(8, activation='relu'))\n",
    "model.add(Dense(4, activation='relu'))\n",
    "model.add(Dense(1, activation ='sigmoid'))\n",
    "\n",
    "model.compile(optimizer='adam',\n",
    "              loss='binary_crossentropy',\n",
    "              metrics=['accuracy'])\n",
    "\n",
    "results = model.fit(X_pure_train, y_pure_train, epochs=50,\n",
    "                    batch_size= 32, verbose=0,\n",
    "                    validation_data=(X_val, y_val))\n",
    "\n",
    "train_loss = results.history['loss']\n",
    "train_acc = results.history['accuracy']\n",
    "val_loss = results.history['val_loss']\n",
    "val_acc = results.history['val_accuracy']\n",
    "\n",
    "\n",
    "fig, (ax1, ax2) = plt.subplots(1, 2, figsize=(10, 5))\n",
    "sns.lineplot(x=results.epoch, y=train_loss, ax=ax1, label='train_loss')\n",
    "sns.lineplot(x=results.epoch, y=train_acc, ax=ax2, label='train_accuracy')\n",
    "\n",
    "sns.lineplot(x=results.epoch, y=val_loss, ax=ax1, label='val_loss')\n",
    "sns.lineplot(x=results.epoch, y=val_acc, ax=ax2, label='val_accuracy');</code>\n",
    "</details>"
   ]
  },
  {
   "cell_type": "code",
   "execution_count": 30,
   "metadata": {},
   "outputs": [
    {
     "data": {
      "text/plain": [
       "0.9826388955116272"
      ]
     },
     "execution_count": 30,
     "metadata": {},
     "output_type": "execute_result"
    }
   ],
   "source": [
    "results.history['val_accuracy'][-1]"
   ]
  },
  {
   "cell_type": "markdown",
   "metadata": {},
   "source": [
    "### Early Stopping"
   ]
  },
  {
   "cell_type": "markdown",
   "metadata": {},
   "source": [
    "We can also tell our neural network to stop once it stops realizing any gain.\n",
    "\n",
    "Here we tell it to stop once the a very small positive change in the validation loss occurs:"
   ]
  },
  {
   "cell_type": "code",
   "execution_count": 31,
   "metadata": {},
   "outputs": [
    {
     "name": "stderr",
     "output_type": "stream",
     "text": [
      "2022-12-01 15:50:17.802018: I tensorflow/core/grappler/optimizers/custom_graph_optimizer_registry.cc:113] Plugin optimizer for device_type GPU is enabled.\n",
      "2022-12-01 15:50:18.474947: I tensorflow/core/grappler/optimizers/custom_graph_optimizer_registry.cc:113] Plugin optimizer for device_type GPU is enabled.\n"
     ]
    },
    {
     "name": "stdout",
     "output_type": "stream",
     "text": [
      "Epoch 2: early stopping\n"
     ]
    },
    {
     "data": {
      "image/png": "[encoded data removed]",
      "text/plain": [
       "<Figure size 720x360 with 2 Axes>"
      ]
     },
     "metadata": {
      "needs_background": "light"
     },
     "output_type": "display_data"
    }
   ],
   "source": [
    "model = Sequential()\n",
    "model.add(Dense(30, activation='relu', input_dim=64))\n",
    "model.add(Dense(20, activation='relu'))\n",
    "model.add(Dropout(0.5))\n",
    "model.add(Dense(12, activation='relu'))\n",
    "model.add(Dense(12, activation='relu'))\n",
    "model.add(Dense(12, activation='relu'))\n",
    "model.add(Dense(8, activation='relu'))\n",
    "model.add(Dense(4, activation='relu'))\n",
    "model.add(Dense(1, activation ='sigmoid'))\n",
    "\n",
    "model.compile(optimizer='adam',\n",
    "              loss='binary_crossentropy',\n",
    "              metrics=['accuracy'])\n",
    "\n",
    "# Define the EarlyStopping object\n",
    "early_stop = EarlyStopping(monitor='val_loss', min_delta=1e-8,\n",
    "                           verbose=1,\n",
    "                           mode='min')\n",
    "\n",
    "# Place this in a list as the value of the `callbacks` parameter\n",
    "# in the `.fit()` method.\n",
    "results = model.fit(X_pure_train, y_pure_train,\n",
    "                    epochs=20, batch_size=32,\n",
    "                    verbose=0, validation_data=(X_val, y_val),\n",
    "                    callbacks=[early_stop])\n",
    "\n",
    "train_loss = results.history['loss']\n",
    "train_acc = results.history['accuracy']\n",
    "val_loss = results.history['val_loss']\n",
    "val_acc = results.history['val_accuracy']\n",
    "\n",
    "\n",
    "fig, (ax1, ax2) = plt.subplots(1, 2, figsize=(10, 5))\n",
    "sns.lineplot(x=results.epoch, y=train_loss, ax=ax1, label='train_loss')\n",
    "sns.lineplot(x=results.epoch, y=train_acc, ax=ax2, label='train_accuracy')\n",
    "\n",
    "sns.lineplot(x=results.epoch, y=val_loss, ax=ax1, label='val_loss')\n",
    "sns.lineplot(x=results.epoch, y=val_acc, ax=ax2, label='val_accuracy');"
   ]
  },
  {
   "cell_type": "markdown",
   "metadata": {},
   "source": [
    "### Exercise\n",
    "\n",
    "That probably stopped too early. We can specify the number of epochs in which it doesn't see decrease in the loss with the `patience` parameter. Modify the code below to include an Early Stop with a patience of 5 epochs."
   ]
  },
  {
   "cell_type": "code",
   "execution_count": 32,
   "metadata": {},
   "outputs": [
    {
     "name": "stderr",
     "output_type": "stream",
     "text": [
      "2022-12-01 15:51:42.075303: I tensorflow/core/grappler/optimizers/custom_graph_optimizer_registry.cc:113] Plugin optimizer for device_type GPU is enabled.\n",
      "2022-12-01 15:51:42.825955: I tensorflow/core/grappler/optimizers/custom_graph_optimizer_registry.cc:113] Plugin optimizer for device_type GPU is enabled.\n"
     ]
    },
    {
     "name": "stdout",
     "output_type": "stream",
     "text": [
      "Epoch 34: early stopping\n"
     ]
    },
    {
     "data": {
      "image/png": "[encoded data removed]",
      "text/plain": [
       "<Figure size 720x360 with 2 Axes>"
      ]
     },
     "metadata": {
      "needs_background": "light"
     },
     "output_type": "display_data"
    }
   ],
   "source": [
    "model = Sequential()\n",
    "model.add(Dense(30, activation='relu', input_dim=64))\n",
    "model.add(Dense(20, activation='relu'))\n",
    "model.add(Dropout(0.5))\n",
    "model.add(Dense(12, activation='relu'))\n",
    "model.add(Dense(12, activation='relu'))\n",
    "model.add(Dense(12, activation='relu'))\n",
    "model.add(Dense(8, activation='relu'))\n",
    "model.add(Dense(4, activation='relu'))\n",
    "model.add(Dense(1, activation ='sigmoid'))\n",
    "\n",
    "model.compile(optimizer='adam',\n",
    "              loss='binary_crossentropy',\n",
    "              metrics=['accuracy'])\n",
    "\n",
    "# Define the EarlyStopping object\n",
    "early_stop = EarlyStopping(monitor='val_loss', min_delta=1e-8,\n",
    "                           verbose=1, patience=5,\n",
    "                           mode='min')\n",
    "\n",
    "# Place this in a list as the value of the `callbacks` parameter\n",
    "# in the `.fit()` method.\n",
    "results = model.fit(X_pure_train, y_pure_train,\n",
    "                    epochs=50, batch_size= 32,\n",
    "                    verbose=0, validation_data=(X_val, y_val),\n",
    "                    callbacks=[early_stop])\n",
    "\n",
    "train_loss = results.history['loss']\n",
    "train_acc = results.history['accuracy']\n",
    "val_loss = results.history['val_loss']\n",
    "val_acc = results.history['val_accuracy']\n",
    "\n",
    "\n",
    "fig, (ax1, ax2) = plt.subplots(1, 2, figsize=(10, 5))\n",
    "sns.lineplot(x=results.epoch, y=train_loss, ax=ax1, label='train_loss')\n",
    "sns.lineplot(x=results.epoch, y=train_acc, ax=ax2, label='train_accuracy')\n",
    "\n",
    "sns.lineplot(x=results.epoch, y=val_loss, ax=ax1, label='val_loss')\n",
    "sns.lineplot(x=results.epoch, y=val_acc, ax=ax2, label='val_accuracy');"
   ]
  },
  {
   "cell_type": "markdown",
   "metadata": {},
   "source": [
    "<details>\n",
    "    <summary>One answer here</summary>\n",
    "<code>model = Sequential()\n",
    "model.add(Dense(30, activation='relu', input_dim=64))\n",
    "model.add(Dense(20, activation='relu'))\n",
    "model.add(Dropout(0.5))\n",
    "model.add(Dense(12, activation='relu'))\n",
    "model.add(Dense(12, activation='relu'))\n",
    "model.add(Dense(12, activation='relu'))\n",
    "model.add(Dense(8, activation='relu'))\n",
    "model.add(Dense(4, activation='relu'))\n",
    "model.add(Dense(1, activation ='sigmoid'))\n",
    "\n",
    "model.compile(optimizer='adam',\n",
    "              loss='binary_crossentropy',\n",
    "              metrics=['accuracy'])\n",
    "\n",
    "# Define the EarlyStopping object\n",
    "\n",
    "\n",
    "\n",
    "# Place this in a list as the value of the `callbacks` parameter\n",
    "# in the `.fit()` method.\n",
    "results = model.fit(X_pure_train, y_pure_train,\n",
    "                    epochs=50, batch_size= 32,\n",
    "                    verbose=0, validation_data=(X_val, y_val),\n",
    "                    callbacks=[early_stop])\n",
    "\n",
    "train_loss = results.history['loss']\n",
    "train_acc = results.history['accuracy']\n",
    "val_loss = results.history['val_loss']\n",
    "val_acc = results.history['val_accuracy']\n",
    "\n",
    "\n",
    "fig, (ax1, ax2) = plt.subplots(1, 2, figsize=(10, 5))\n",
    "sns.lineplot(x=results.epoch, y=train_loss, ax=ax1, label='train_loss')\n",
    "sns.lineplot(x=results.epoch, y=train_acc, ax=ax2, label='train_accuracy')\n",
    "\n",
    "sns.lineplot(x=results.epoch, y=val_loss, ax=ax1, label='val_loss')\n",
    "sns.lineplot(x=results.epoch, y=val_acc, ax=ax2, label='val_accuracy');</code>\n",
    "</details>"
   ]
  },
  {
   "cell_type": "code",
   "execution_count": 33,
   "metadata": {},
   "outputs": [
    {
     "data": {
      "text/plain": [
       "0.975694477558136"
      ]
     },
     "execution_count": 33,
     "metadata": {},
     "output_type": "execute_result"
    }
   ],
   "source": [
    "results.history['val_accuracy'][-1]"
   ]
  },
  {
   "cell_type": "markdown",
   "metadata": {},
   "source": [
    "## Multiclass Classification and Softmax"
   ]
  },
  {
   "cell_type": "markdown",
   "metadata": {},
   "source": [
    "Now let's return to the problem of predicting digits 0 through 9."
   ]
  },
  {
   "cell_type": "code",
   "execution_count": 34,
   "metadata": {},
   "outputs": [],
   "source": [
    "digits = load_digits()\n",
    "X = digits.data\n",
    "y = digits.target"
   ]
  },
  {
   "cell_type": "code",
   "execution_count": 40,
   "metadata": {},
   "outputs": [],
   "source": [
    "X_train, X_test, y_train, y_test = train_test_split(X, y,\n",
    "                                                    random_state=42,\n",
    "                                                    test_size=0.2)\n",
    "X_pure_train, X_val, y_pure_train, y_val =\\\n",
    "    train_test_split(X_train, y_train,\n",
    "                     random_state=42, test_size=0.2)\n",
    "X_pure_train, X_val, X_test = X_pure_train/16, X_val/16, X_test/16"
   ]
  },
  {
   "cell_type": "code",
   "execution_count": 41,
   "metadata": {},
   "outputs": [
    {
     "data": {
      "text/plain": [
       "array([[6],\n",
       "       [9],\n",
       "       [3],\n",
       "       [7],\n",
       "       [2],\n",
       "       [1],\n",
       "       [5],\n",
       "       [2],\n",
       "       [5],\n",
       "       [2],\n",
       "       [1],\n",
       "       [9],\n",
       "       [4],\n",
       "       [0],\n",
       "       [4],\n",
       "       [2],\n",
       "       [3],\n",
       "       [7],\n",
       "       [8],\n",
       "       [8],\n",
       "       [4],\n",
       "       [3],\n",
       "       [9],\n",
       "       [7],\n",
       "       [5],\n",
       "       [6],\n",
       "       [3],\n",
       "       [5],\n",
       "       [6],\n",
       "       [3],\n",
       "       [4],\n",
       "       [9],\n",
       "       [1],\n",
       "       [4],\n",
       "       [4],\n",
       "       [6],\n",
       "       [9],\n",
       "       [4],\n",
       "       [7],\n",
       "       [6],\n",
       "       [6],\n",
       "       [9],\n",
       "       [1],\n",
       "       [3],\n",
       "       [6],\n",
       "       [1],\n",
       "       [3],\n",
       "       [0],\n",
       "       [6],\n",
       "       [5],\n",
       "       [5],\n",
       "       [1],\n",
       "       [9],\n",
       "       [5],\n",
       "       [6],\n",
       "       [0],\n",
       "       [9],\n",
       "       [0],\n",
       "       [0],\n",
       "       [1],\n",
       "       [0],\n",
       "       [4],\n",
       "       [5],\n",
       "       [2],\n",
       "       [4],\n",
       "       [5],\n",
       "       [7],\n",
       "       [0],\n",
       "       [7],\n",
       "       [5],\n",
       "       [9],\n",
       "       [5],\n",
       "       [5],\n",
       "       [4],\n",
       "       [7],\n",
       "       [0],\n",
       "       [4],\n",
       "       [5],\n",
       "       [5],\n",
       "       [9],\n",
       "       [9],\n",
       "       [0],\n",
       "       [2],\n",
       "       [3],\n",
       "       [8],\n",
       "       [0],\n",
       "       [6],\n",
       "       [4],\n",
       "       [4],\n",
       "       [9],\n",
       "       [1],\n",
       "       [2],\n",
       "       [8],\n",
       "       [3],\n",
       "       [5],\n",
       "       [2],\n",
       "       [9],\n",
       "       [0],\n",
       "       [4],\n",
       "       [4],\n",
       "       [4],\n",
       "       [3],\n",
       "       [5],\n",
       "       [3],\n",
       "       [1],\n",
       "       [3],\n",
       "       [5],\n",
       "       [9],\n",
       "       [4],\n",
       "       [2],\n",
       "       [7],\n",
       "       [7],\n",
       "       [4],\n",
       "       [4],\n",
       "       [1],\n",
       "       [9],\n",
       "       [2],\n",
       "       [7],\n",
       "       [8],\n",
       "       [7],\n",
       "       [2],\n",
       "       [6],\n",
       "       [9],\n",
       "       [4],\n",
       "       [0],\n",
       "       [7],\n",
       "       [2],\n",
       "       [7],\n",
       "       [5],\n",
       "       [8],\n",
       "       [7],\n",
       "       [5],\n",
       "       [7],\n",
       "       [7],\n",
       "       [0],\n",
       "       [6],\n",
       "       [6],\n",
       "       [4],\n",
       "       [2],\n",
       "       [8],\n",
       "       [0],\n",
       "       [9],\n",
       "       [4],\n",
       "       [6],\n",
       "       [9],\n",
       "       [9],\n",
       "       [6],\n",
       "       [9],\n",
       "       [0],\n",
       "       [3],\n",
       "       [5],\n",
       "       [6],\n",
       "       [6],\n",
       "       [0],\n",
       "       [6],\n",
       "       [4],\n",
       "       [3],\n",
       "       [9],\n",
       "       [3],\n",
       "       [9],\n",
       "       [7],\n",
       "       [2],\n",
       "       [9],\n",
       "       [0],\n",
       "       [4],\n",
       "       [5],\n",
       "       [3],\n",
       "       [6],\n",
       "       [5],\n",
       "       [9],\n",
       "       [9],\n",
       "       [8],\n",
       "       [4],\n",
       "       [2],\n",
       "       [1],\n",
       "       [3],\n",
       "       [7],\n",
       "       [7],\n",
       "       [2],\n",
       "       [2],\n",
       "       [3],\n",
       "       [9],\n",
       "       [8],\n",
       "       [0],\n",
       "       [3],\n",
       "       [2],\n",
       "       [2],\n",
       "       [5],\n",
       "       [6],\n",
       "       [9],\n",
       "       [9],\n",
       "       [4],\n",
       "       [1],\n",
       "       [5],\n",
       "       [4],\n",
       "       [2],\n",
       "       [3],\n",
       "       [6],\n",
       "       [4],\n",
       "       [8],\n",
       "       [5],\n",
       "       [9],\n",
       "       [5],\n",
       "       [7],\n",
       "       [8],\n",
       "       [9],\n",
       "       [4],\n",
       "       [8],\n",
       "       [1],\n",
       "       [5],\n",
       "       [4],\n",
       "       [4],\n",
       "       [9],\n",
       "       [6],\n",
       "       [1],\n",
       "       [8],\n",
       "       [6],\n",
       "       [0],\n",
       "       [4],\n",
       "       [5],\n",
       "       [2],\n",
       "       [7],\n",
       "       [4],\n",
       "       [6],\n",
       "       [4],\n",
       "       [5],\n",
       "       [6],\n",
       "       [0],\n",
       "       [3],\n",
       "       [2],\n",
       "       [3],\n",
       "       [6],\n",
       "       [7],\n",
       "       [1],\n",
       "       [5],\n",
       "       [1],\n",
       "       [4],\n",
       "       [7],\n",
       "       [6],\n",
       "       [8],\n",
       "       [8],\n",
       "       [5],\n",
       "       [5],\n",
       "       [1],\n",
       "       [6],\n",
       "       [2],\n",
       "       [8],\n",
       "       [8],\n",
       "       [9],\n",
       "       [9],\n",
       "       [7],\n",
       "       [6],\n",
       "       [2],\n",
       "       [2],\n",
       "       [2],\n",
       "       [3],\n",
       "       [4],\n",
       "       [8],\n",
       "       [8],\n",
       "       [3],\n",
       "       [6],\n",
       "       [0],\n",
       "       [9],\n",
       "       [7],\n",
       "       [7],\n",
       "       [0],\n",
       "       [1],\n",
       "       [0],\n",
       "       [4],\n",
       "       [5],\n",
       "       [1],\n",
       "       [5],\n",
       "       [3],\n",
       "       [6],\n",
       "       [0],\n",
       "       [4],\n",
       "       [1],\n",
       "       [0],\n",
       "       [0],\n",
       "       [3],\n",
       "       [6],\n",
       "       [5],\n",
       "       [9],\n",
       "       [7],\n",
       "       [3],\n",
       "       [5],\n",
       "       [5],\n",
       "       [9],\n",
       "       [9],\n",
       "       [8],\n",
       "       [5],\n",
       "       [3],\n",
       "       [3],\n",
       "       [2],\n",
       "       [0],\n",
       "       [5],\n",
       "       [8],\n",
       "       [3],\n",
       "       [4],\n",
       "       [0],\n",
       "       [2],\n",
       "       [4],\n",
       "       [6],\n",
       "       [4],\n",
       "       [3],\n",
       "       [4],\n",
       "       [5],\n",
       "       [0],\n",
       "       [5],\n",
       "       [2],\n",
       "       [1],\n",
       "       [3],\n",
       "       [1],\n",
       "       [4],\n",
       "       [1],\n",
       "       [1],\n",
       "       [7],\n",
       "       [0],\n",
       "       [1],\n",
       "       [5],\n",
       "       [2],\n",
       "       [1],\n",
       "       [2],\n",
       "       [8],\n",
       "       [7],\n",
       "       [0],\n",
       "       [6],\n",
       "       [4],\n",
       "       [8],\n",
       "       [8],\n",
       "       [5],\n",
       "       [1],\n",
       "       [8],\n",
       "       [4],\n",
       "       [5],\n",
       "       [8],\n",
       "       [7],\n",
       "       [9],\n",
       "       [8],\n",
       "       [5],\n",
       "       [0],\n",
       "       [6],\n",
       "       [2],\n",
       "       [0],\n",
       "       [7],\n",
       "       [9],\n",
       "       [8],\n",
       "       [9],\n",
       "       [5],\n",
       "       [2],\n",
       "       [7],\n",
       "       [7],\n",
       "       [1],\n",
       "       [8],\n",
       "       [7],\n",
       "       [4],\n",
       "       [3],\n",
       "       [8],\n",
       "       [3],\n",
       "       [5]])"
      ]
     },
     "execution_count": 41,
     "metadata": {},
     "output_type": "execute_result"
    }
   ],
   "source": [
    "y_test.reshape(-1,1)"
   ]
  },
  {
   "cell_type": "markdown",
   "metadata": {},
   "source": [
    "For a multiclass output, our neural net expects our target to be in a certain form."
   ]
  },
  {
   "cell_type": "code",
   "execution_count": 43,
   "metadata": {},
   "outputs": [],
   "source": [
    "ohe = OneHotEncoder(sparse=False)\n",
    "y_pure_train = ohe.fit_transform(y_pure_train.reshape(-1,1))\n",
    "y_val = ohe.transform(y_val.reshape(-1,1))\n",
    "y_test = ohe.transform(y_test.reshape(-1,1))"
   ]
  },
  {
   "cell_type": "code",
   "execution_count": null,
   "metadata": {},
   "outputs": [],
   "source": [
    "9 = [0,0,0,0,0,0,0,0,1]"
   ]
  },
  {
   "cell_type": "code",
   "execution_count": 38,
   "metadata": {},
   "outputs": [
    {
     "data": {
      "text/plain": [
       "array([[0., 0., 0., ..., 0., 0., 0.],\n",
       "       [0., 0., 0., ..., 0., 0., 1.],\n",
       "       [0., 0., 0., ..., 0., 0., 0.],\n",
       "       ...,\n",
       "       [0., 0., 0., ..., 0., 1., 0.],\n",
       "       [0., 0., 0., ..., 0., 0., 0.],\n",
       "       [0., 0., 0., ..., 0., 0., 0.]])"
      ]
     },
     "execution_count": 38,
     "metadata": {},
     "output_type": "execute_result"
    }
   ],
   "source": [
    "y_test"
   ]
  },
  {
   "cell_type": "code",
   "execution_count": 44,
   "metadata": {},
   "outputs": [
    {
     "name": "stdout",
     "output_type": "stream",
     "text": [
      "Epoch 1/50\n",
      " 11/115 [=>............................] - ETA: 1s - loss: 2.2151 - accuracy: 0.1364"
     ]
    },
    {
     "name": "stderr",
     "output_type": "stream",
     "text": [
      "2022-12-01 16:09:15.530013: I tensorflow/core/grappler/optimizers/custom_graph_optimizer_registry.cc:113] Plugin optimizer for device_type GPU is enabled.\n"
     ]
    },
    {
     "name": "stdout",
     "output_type": "stream",
     "text": [
      "115/115 [==============================] - ETA: 0s - loss: 2.1343 - accuracy: 0.1906"
     ]
    },
    {
     "name": "stderr",
     "output_type": "stream",
     "text": [
      "2022-12-01 16:09:16.961869: I tensorflow/core/grappler/optimizers/custom_graph_optimizer_registry.cc:113] Plugin optimizer for device_type GPU is enabled.\n"
     ]
    },
    {
     "name": "stdout",
     "output_type": "stream",
     "text": [
      "115/115 [==============================] - 2s 14ms/step - loss: 2.1343 - accuracy: 0.1906 - val_loss: 2.0313 - val_accuracy: 0.2951\n",
      "Epoch 2/50\n",
      "115/115 [==============================] - 2s 14ms/step - loss: 1.8537 - accuracy: 0.4151 - val_loss: 1.7728 - val_accuracy: 0.3854\n",
      "Epoch 3/50\n",
      "115/115 [==============================] - 1s 12ms/step - loss: 1.5734 - accuracy: 0.5109 - val_loss: 1.5190 - val_accuracy: 0.5000\n",
      "Epoch 4/50\n",
      "115/115 [==============================] - 1s 12ms/step - loss: 1.2880 - accuracy: 0.6223 - val_loss: 1.1931 - val_accuracy: 0.6806\n",
      "Epoch 5/50\n",
      "115/115 [==============================] - 1s 13ms/step - loss: 0.9685 - accuracy: 0.7755 - val_loss: 0.8816 - val_accuracy: 0.7778\n",
      "Epoch 6/50\n",
      "115/115 [==============================] - 1s 12ms/step - loss: 0.7471 - accuracy: 0.8303 - val_loss: 0.7085 - val_accuracy: 0.8368\n",
      "Epoch 7/50\n",
      "115/115 [==============================] - 2s 14ms/step - loss: 0.6138 - accuracy: 0.8460 - val_loss: 0.6152 - val_accuracy: 0.8438\n",
      "Epoch 8/50\n",
      "115/115 [==============================] - 2s 15ms/step - loss: 0.5316 - accuracy: 0.8677 - val_loss: 0.5413 - val_accuracy: 0.8646\n",
      "Epoch 9/50\n",
      "115/115 [==============================] - 2s 15ms/step - loss: 0.4706 - accuracy: 0.8808 - val_loss: 0.4979 - val_accuracy: 0.8611\n",
      "Epoch 10/50\n",
      "115/115 [==============================] - 2s 14ms/step - loss: 0.4286 - accuracy: 0.8816 - val_loss: 0.4625 - val_accuracy: 0.8715\n",
      "Epoch 11/50\n",
      "115/115 [==============================] - 2s 13ms/step - loss: 0.3966 - accuracy: 0.8869 - val_loss: 0.4234 - val_accuracy: 0.8785\n",
      "Epoch 12/50\n",
      "115/115 [==============================] - 2s 14ms/step - loss: 0.3645 - accuracy: 0.8930 - val_loss: 0.3942 - val_accuracy: 0.8819\n",
      "Epoch 13/50\n",
      "115/115 [==============================] - 2s 13ms/step - loss: 0.3416 - accuracy: 0.9008 - val_loss: 0.3811 - val_accuracy: 0.8750\n",
      "Epoch 14/50\n",
      "115/115 [==============================] - 2s 15ms/step - loss: 0.3232 - accuracy: 0.9017 - val_loss: 0.3538 - val_accuracy: 0.8819\n",
      "Epoch 15/50\n",
      "115/115 [==============================] - 2s 14ms/step - loss: 0.2991 - accuracy: 0.9121 - val_loss: 0.3546 - val_accuracy: 0.8889\n",
      "Epoch 16/50\n",
      "115/115 [==============================] - 2s 14ms/step - loss: 0.2892 - accuracy: 0.9069 - val_loss: 0.3152 - val_accuracy: 0.8889\n",
      "Epoch 17/50\n",
      "115/115 [==============================] - 1s 12ms/step - loss: 0.2733 - accuracy: 0.9217 - val_loss: 0.3059 - val_accuracy: 0.9028\n",
      "Epoch 18/50\n",
      "115/115 [==============================] - 2s 15ms/step - loss: 0.2587 - accuracy: 0.9269 - val_loss: 0.2902 - val_accuracy: 0.9062\n",
      "Epoch 19/50\n",
      "115/115 [==============================] - 2s 15ms/step - loss: 0.2471 - accuracy: 0.9278 - val_loss: 0.2853 - val_accuracy: 0.9062\n",
      "Epoch 20/50\n",
      "115/115 [==============================] - 2s 14ms/step - loss: 0.2367 - accuracy: 0.9260 - val_loss: 0.2798 - val_accuracy: 0.9062\n",
      "Epoch 21/50\n",
      "115/115 [==============================] - 2s 15ms/step - loss: 0.2250 - accuracy: 0.9321 - val_loss: 0.2567 - val_accuracy: 0.9132\n",
      "Epoch 22/50\n",
      "115/115 [==============================] - 2s 16ms/step - loss: 0.2133 - accuracy: 0.9399 - val_loss: 0.2497 - val_accuracy: 0.9097\n",
      "Epoch 23/50\n",
      "115/115 [==============================] - 2s 16ms/step - loss: 0.2069 - accuracy: 0.9434 - val_loss: 0.2402 - val_accuracy: 0.9236\n",
      "Epoch 24/50\n",
      "115/115 [==============================] - 2s 14ms/step - loss: 0.1979 - accuracy: 0.9399 - val_loss: 0.2418 - val_accuracy: 0.9271\n",
      "Epoch 25/50\n",
      "115/115 [==============================] - 1s 12ms/step - loss: 0.1937 - accuracy: 0.9460 - val_loss: 0.2392 - val_accuracy: 0.9306\n",
      "Epoch 26/50\n",
      "115/115 [==============================] - 1s 13ms/step - loss: 0.1856 - accuracy: 0.9460 - val_loss: 0.2127 - val_accuracy: 0.9340\n",
      "Epoch 27/50\n",
      "115/115 [==============================] - 2s 15ms/step - loss: 0.1785 - accuracy: 0.9487 - val_loss: 0.2113 - val_accuracy: 0.9306\n",
      "Epoch 28/50\n",
      "115/115 [==============================] - 2s 15ms/step - loss: 0.1709 - accuracy: 0.9504 - val_loss: 0.1966 - val_accuracy: 0.9306\n",
      "Epoch 29/50\n",
      "115/115 [==============================] - 2s 14ms/step - loss: 0.1654 - accuracy: 0.9504 - val_loss: 0.1981 - val_accuracy: 0.9306\n",
      "Epoch 30/50\n",
      "115/115 [==============================] - 2s 13ms/step - loss: 0.1582 - accuracy: 0.9565 - val_loss: 0.1986 - val_accuracy: 0.9306\n",
      "Epoch 31/50\n",
      "115/115 [==============================] - 2s 15ms/step - loss: 0.1554 - accuracy: 0.9521 - val_loss: 0.1851 - val_accuracy: 0.9340\n",
      "Epoch 32/50\n",
      "115/115 [==============================] - 2s 14ms/step - loss: 0.1479 - accuracy: 0.9539 - val_loss: 0.1874 - val_accuracy: 0.9410\n",
      "Epoch 33/50\n",
      "115/115 [==============================] - 2s 14ms/step - loss: 0.1423 - accuracy: 0.9556 - val_loss: 0.1726 - val_accuracy: 0.9410\n",
      "Epoch 34/50\n",
      "115/115 [==============================] - 2s 14ms/step - loss: 0.1365 - accuracy: 0.9617 - val_loss: 0.1938 - val_accuracy: 0.9410\n",
      "Epoch 35/50\n",
      "115/115 [==============================] - 1s 13ms/step - loss: 0.1357 - accuracy: 0.9600 - val_loss: 0.1711 - val_accuracy: 0.9375\n",
      "Epoch 36/50\n",
      "115/115 [==============================] - 2s 14ms/step - loss: 0.1317 - accuracy: 0.9661 - val_loss: 0.1597 - val_accuracy: 0.9375\n",
      "Epoch 37/50\n",
      "115/115 [==============================] - 1s 13ms/step - loss: 0.1276 - accuracy: 0.9591 - val_loss: 0.1550 - val_accuracy: 0.9410\n",
      "Epoch 38/50\n",
      "115/115 [==============================] - 1s 12ms/step - loss: 0.1212 - accuracy: 0.9661 - val_loss: 0.1648 - val_accuracy: 0.9375\n",
      "Epoch 39/50\n",
      "115/115 [==============================] - 1s 12ms/step - loss: 0.1181 - accuracy: 0.9661 - val_loss: 0.1534 - val_accuracy: 0.9444\n",
      "Epoch 40/50\n",
      "115/115 [==============================] - 1s 12ms/step - loss: 0.1142 - accuracy: 0.9678 - val_loss: 0.1508 - val_accuracy: 0.9444\n",
      "Epoch 41/50\n",
      "115/115 [==============================] - 1s 12ms/step - loss: 0.1113 - accuracy: 0.9652 - val_loss: 0.1471 - val_accuracy: 0.9479\n",
      "Epoch 42/50\n",
      "115/115 [==============================] - 1s 12ms/step - loss: 0.1096 - accuracy: 0.9669 - val_loss: 0.1438 - val_accuracy: 0.9479\n",
      "Epoch 43/50\n",
      "115/115 [==============================] - 1s 12ms/step - loss: 0.1039 - accuracy: 0.9704 - val_loss: 0.1561 - val_accuracy: 0.9444\n",
      "Epoch 44/50\n",
      "115/115 [==============================] - 2s 13ms/step - loss: 0.1025 - accuracy: 0.9687 - val_loss: 0.1526 - val_accuracy: 0.9410\n",
      "Epoch 45/50\n",
      "115/115 [==============================] - 2s 13ms/step - loss: 0.0996 - accuracy: 0.9730 - val_loss: 0.1457 - val_accuracy: 0.9444\n",
      "Epoch 46/50\n",
      "115/115 [==============================] - 1s 13ms/step - loss: 0.0957 - accuracy: 0.9695 - val_loss: 0.1400 - val_accuracy: 0.9479\n",
      "Epoch 47/50\n",
      "115/115 [==============================] - 2s 14ms/step - loss: 0.0932 - accuracy: 0.9739 - val_loss: 0.1345 - val_accuracy: 0.9479\n",
      "Epoch 48/50\n",
      "115/115 [==============================] - 2s 13ms/step - loss: 0.0900 - accuracy: 0.9782 - val_loss: 0.1415 - val_accuracy: 0.9514\n",
      "Epoch 49/50\n",
      "115/115 [==============================] - 1s 12ms/step - loss: 0.0869 - accuracy: 0.9782 - val_loss: 0.1376 - val_accuracy: 0.9549\n",
      "Epoch 50/50\n",
      "115/115 [==============================] - 1s 12ms/step - loss: 0.0864 - accuracy: 0.9782 - val_loss: 0.1294 - val_accuracy: 0.9583\n"
     ]
    }
   ],
   "source": [
    "# Model from above, but now with ten output neurons:\n",
    "\n",
    "model = Sequential()\n",
    "model.add(Dense(12, activation='relu', input_dim=64))\n",
    "model.add(Dense(8, activation='relu'))\n",
    "# Final layer will look different need a node for each class\n",
    "model.add(Dense(10, activation='softmax'))\n",
    "\n",
    "model.compile(optimizer='adam',\n",
    "              loss='categorical_crossentropy',\n",
    "              metrics=['accuracy'])\n",
    "\n",
    "results = model.fit(X_pure_train, y_pure_train,\n",
    "                   epochs=50, batch_size=10,\n",
    "                   validation_data=(X_val, y_val))"
   ]
  },
  {
   "cell_type": "markdown",
   "metadata": {},
   "source": [
    "$$\\large \\text{Softmax}(x_{i}) = \\frac{\\exp(x_i)}{\\sum_j \\exp(x_j)}$$\n",
    "\n",
    "The sofmax function outputs a number between 0 and 1 for each of our classes.  All of the probabilities of the classes sum up to 1.\n",
    "\n",
    "The number of nodes in our output layer equals the number of categories in our dataset.\n",
    "\n",
    "We also need a new loss function: **categorical crossentropy**, which calculates a separate loss for each label and then sums the results."
   ]
  },
  {
   "cell_type": "code",
   "execution_count": 45,
   "metadata": {},
   "outputs": [],
   "source": [
    "history = results.history\n",
    "training_loss = history['loss']\n",
    "val_loss = history['val_loss']\n",
    "training_accuracy = history['accuracy']\n",
    "val_accuracy = history['val_accuracy']"
   ]
  },
  {
   "cell_type": "code",
   "execution_count": 46,
   "metadata": {},
   "outputs": [
    {
     "data": {
      "image/png": "[encoded data removed]",
      "text/plain": [
       "<Figure size 1080x360 with 2 Axes>"
      ]
     },
     "metadata": {
      "needs_background": "light"
     },
     "output_type": "display_data"
    }
   ],
   "source": [
    "fig, (ax1,ax2) = plt.subplots(1,2,figsize=(15,5))\n",
    "\n",
    "\n",
    "sns.lineplot(x=list(range(len(training_loss))),\n",
    "             y=training_loss, color='r', label='training', ax=ax1)\n",
    "sns.lineplot(x=list(range(len(val_loss))),\n",
    "             y=val_loss, color='b', label='validation', ax=ax1)\n",
    "sns.lineplot(x=list(range(len(training_loss))),\n",
    "             y=training_accuracy, color='r', label='training',ax=ax2)\n",
    "sns.lineplot(x=list(range(len(val_loss))),\n",
    "             y=val_accuracy, color='b', label='validation',ax=ax2)\n",
    "ax1.legend();"
   ]
  },
  {
   "cell_type": "code",
   "execution_count": 49,
   "metadata": {},
   "outputs": [
    {
     "name": "stdout",
     "output_type": "stream",
     "text": [
      "12/12 [==============================] - 0s 5ms/step\n"
     ]
    },
    {
     "data": {
      "text/plain": [
       "array([[1.52603377e-06, 8.26492013e-08, 1.96000077e-13, ...,\n",
       "        2.43272013e-14, 8.26902851e-06, 7.07993468e-06],\n",
       "       [1.62480155e-03, 1.82944689e-07, 4.39526844e-12, ...,\n",
       "        5.56794112e-04, 1.24641796e-04, 7.63147354e-01],\n",
       "       [9.20778905e-12, 1.12878351e-09, 4.48812825e-05, ...,\n",
       "        8.83571716e-10, 2.97470455e-04, 1.81888259e-04],\n",
       "       ...,\n",
       "       [2.57750321e-06, 2.46330678e-01, 7.28052328e-07, ...,\n",
       "        1.55613646e-01, 5.07173479e-01, 6.44274428e-02],\n",
       "       [4.84675544e-09, 3.63406315e-07, 1.93736819e-03, ...,\n",
       "        1.21103225e-08, 3.62342000e-02, 3.47636603e-02],\n",
       "       [3.35510194e-05, 3.22171090e-09, 5.99028856e-13, ...,\n",
       "        6.51897025e-09, 1.33959184e-05, 4.08401247e-03]], dtype=float32)"
      ]
     },
     "execution_count": 49,
     "metadata": {},
     "output_type": "execute_result"
    }
   ],
   "source": [
    "model.predict(X_test)"
   ]
  },
  {
   "cell_type": "code",
   "execution_count": 50,
   "metadata": {
    "scrolled": false
   },
   "outputs": [
    {
     "name": "stdout",
     "output_type": "stream",
     "text": [
      "12/12 [==============================] - 0s 2ms/step\n"
     ]
    },
    {
     "data": {
      "text/plain": [
       "array([1.5260338e-06, 8.2649201e-08, 1.9600008e-13, 6.8247903e-13,\n",
       "       3.8098119e-06, 7.0647690e-07, 9.9997854e-01, 2.4327201e-14,\n",
       "       8.2690285e-06, 7.0799347e-06], dtype=float32)"
      ]
     },
     "execution_count": 50,
     "metadata": {},
     "output_type": "execute_result"
    }
   ],
   "source": [
    "model.predict(X_test)[0]"
   ]
  },
  {
   "cell_type": "code",
   "execution_count": 51,
   "metadata": {},
   "outputs": [
    {
     "name": "stdout",
     "output_type": "stream",
     "text": [
      "12/12 [==============================] - 0s 6ms/step\n"
     ]
    },
    {
     "data": {
      "text/plain": [
       "10"
      ]
     },
     "execution_count": 51,
     "metadata": {},
     "output_type": "execute_result"
    }
   ],
   "source": [
    "len(model.predict(X_test)[0])"
   ]
  },
  {
   "cell_type": "code",
   "execution_count": 52,
   "metadata": {
    "scrolled": true
   },
   "outputs": [
    {
     "name": "stdout",
     "output_type": "stream",
     "text": [
      "12/12 [==============================] - 0s 4ms/step\n"
     ]
    },
    {
     "data": {
      "text/plain": [
       "1.0"
      ]
     },
     "execution_count": 52,
     "metadata": {},
     "output_type": "execute_result"
    }
   ],
   "source": [
    "model.predict(X_test)[0].sum()"
   ]
  },
  {
   "cell_type": "code",
   "execution_count": 69,
   "metadata": {},
   "outputs": [
    {
     "name": "stdout",
     "output_type": "stream",
     "text": [
      "12/12 [==============================] - 0s 2ms/step\n"
     ]
    }
   ],
   "source": [
    "y_hat_test = np.argmax(model.predict(X_test), axis=-1)"
   ]
  },
  {
   "cell_type": "code",
   "execution_count": 70,
   "metadata": {
    "scrolled": true
   },
   "outputs": [
    {
     "data": {
      "text/plain": [
       "array([6, 9, 3, 7, 2, 1, 5, 2, 5, 3, 1, 9, 4, 0, 4, 2, 3, 7, 8, 8, 4, 3,\n",
       "       9, 7, 5, 6, 3, 5, 6, 3, 4, 9, 1, 4, 4, 6, 9, 4, 7, 6, 6, 9, 1, 3,\n",
       "       6, 1, 3, 0, 6, 5, 5, 1, 3, 5, 6, 0, 9, 0, 0, 1, 0, 4, 5, 2, 4, 5,\n",
       "       7, 0, 7, 5, 9, 9, 5, 4, 7, 0, 4, 5, 5, 9, 9, 0, 2, 3, 8, 0, 6, 4,\n",
       "       4, 9, 1, 2, 8, 3, 5, 2, 9, 0, 4, 4, 4, 3, 5, 3, 1, 3, 5, 9, 4, 2,\n",
       "       7, 7, 4, 4, 1, 9, 2, 7, 9, 7, 2, 6, 9, 4, 0, 7, 3, 7, 5, 8, 7, 5,\n",
       "       7, 9, 0, 6, 6, 4, 2, 8, 0, 9, 4, 6, 9, 9, 6, 9, 0, 6, 5, 6, 6, 0,\n",
       "       6, 4, 2, 9, 3, 7, 7, 2, 9, 0, 4, 5, 3, 6, 5, 7, 9, 8, 4, 2, 1, 3,\n",
       "       7, 7, 2, 2, 3, 9, 8, 0, 3, 2, 2, 5, 6, 9, 9, 4, 1, 5, 4, 2, 3, 6,\n",
       "       4, 8, 5, 9, 5, 7, 1, 9, 4, 8, 1, 5, 4, 4, 9, 6, 1, 8, 6, 0, 4, 5,\n",
       "       2, 7, 4, 6, 4, 5, 6, 0, 3, 2, 3, 6, 7, 1, 9, 1, 4, 7, 6, 5, 8, 5,\n",
       "       5, 1, 4, 1, 8, 8, 9, 5, 7, 6, 2, 2, 2, 3, 4, 8, 8, 3, 6, 0, 8, 7,\n",
       "       7, 0, 1, 0, 4, 5, 1, 5, 3, 6, 0, 4, 1, 0, 0, 3, 6, 5, 9, 7, 3, 5,\n",
       "       5, 9, 9, 8, 5, 3, 3, 2, 0, 5, 8, 3, 4, 0, 2, 4, 6, 4, 3, 4, 5, 0,\n",
       "       5, 2, 1, 3, 1, 4, 1, 1, 7, 0, 1, 5, 8, 1, 2, 8, 7, 0, 6, 4, 8, 8,\n",
       "       5, 1, 8, 4, 5, 8, 7, 9, 8, 8, 0, 6, 2, 0, 7, 9, 8, 9, 5, 2, 7, 7,\n",
       "       0, 8, 7, 4, 3, 8, 3, 5])"
      ]
     },
     "execution_count": 70,
     "metadata": {},
     "output_type": "execute_result"
    }
   ],
   "source": [
    "y_hat_test"
   ]
  },
  {
   "cell_type": "code",
   "execution_count": 76,
   "metadata": {
    "scrolled": false
   },
   "outputs": [
    {
     "name": "stdout",
     "output_type": "stream",
     "text": [
      "12/12 [==============================] - 0s 6ms/step\n"
     ]
    }
   ],
   "source": [
    "y_hat_test2 = np.argmax(model.predict(X_test), axis=1)"
   ]
  },
  {
   "cell_type": "code",
   "execution_count": 77,
   "metadata": {},
   "outputs": [
    {
     "data": {
      "text/plain": [
       "array([6, 9, 3, 7, 2, 1, 5, 2, 5, 3, 1, 9, 4, 0, 4, 2, 3, 7, 8, 8, 4, 3,\n",
       "       9, 7, 5, 6, 3, 5, 6, 3, 4, 9, 1, 4, 4, 6, 9, 4, 7, 6, 6, 9, 1, 3,\n",
       "       6, 1, 3, 0, 6, 5, 5, 1, 3, 5, 6, 0, 9, 0, 0, 1, 0, 4, 5, 2, 4, 5,\n",
       "       7, 0, 7, 5, 9, 9, 5, 4, 7, 0, 4, 5, 5, 9, 9, 0, 2, 3, 8, 0, 6, 4,\n",
       "       4, 9, 1, 2, 8, 3, 5, 2, 9, 0, 4, 4, 4, 3, 5, 3, 1, 3, 5, 9, 4, 2,\n",
       "       7, 7, 4, 4, 1, 9, 2, 7, 9, 7, 2, 6, 9, 4, 0, 7, 3, 7, 5, 8, 7, 5,\n",
       "       7, 9, 0, 6, 6, 4, 2, 8, 0, 9, 4, 6, 9, 9, 6, 9, 0, 6, 5, 6, 6, 0,\n",
       "       6, 4, 2, 9, 3, 7, 7, 2, 9, 0, 4, 5, 3, 6, 5, 7, 9, 8, 4, 2, 1, 3,\n",
       "       7, 7, 2, 2, 3, 9, 8, 0, 3, 2, 2, 5, 6, 9, 9, 4, 1, 5, 4, 2, 3, 6,\n",
       "       4, 8, 5, 9, 5, 7, 1, 9, 4, 8, 1, 5, 4, 4, 9, 6, 1, 8, 6, 0, 4, 5,\n",
       "       2, 7, 4, 6, 4, 5, 6, 0, 3, 2, 3, 6, 7, 1, 9, 1, 4, 7, 6, 5, 8, 5,\n",
       "       5, 1, 4, 1, 8, 8, 9, 5, 7, 6, 2, 2, 2, 3, 4, 8, 8, 3, 6, 0, 8, 7,\n",
       "       7, 0, 1, 0, 4, 5, 1, 5, 3, 6, 0, 4, 1, 0, 0, 3, 6, 5, 9, 7, 3, 5,\n",
       "       5, 9, 9, 8, 5, 3, 3, 2, 0, 5, 8, 3, 4, 0, 2, 4, 6, 4, 3, 4, 5, 0,\n",
       "       5, 2, 1, 3, 1, 4, 1, 1, 7, 0, 1, 5, 8, 1, 2, 8, 7, 0, 6, 4, 8, 8,\n",
       "       5, 1, 8, 4, 5, 8, 7, 9, 8, 8, 0, 6, 2, 0, 7, 9, 8, 9, 5, 2, 7, 7,\n",
       "       0, 8, 7, 4, 3, 8, 3, 5])"
      ]
     },
     "execution_count": 77,
     "metadata": {},
     "output_type": "execute_result"
    }
   ],
   "source": [
    "y_hat_test2"
   ]
  },
  {
   "cell_type": "code",
   "execution_count": 74,
   "metadata": {},
   "outputs": [
    {
     "name": "stderr",
     "output_type": "stream",
     "text": [
      "/var/folders/0c/wkrr_xjn2xz65fx41rj45h6w0000gp/T/ipykernel_11260/3789904300.py:1: DeprecationWarning: elementwise comparison failed; this will raise an error in the future.\n",
      "  y_hat_test2 == y_hat_test\n"
     ]
    },
    {
     "data": {
      "text/plain": [
       "False"
      ]
     },
     "execution_count": 74,
     "metadata": {},
     "output_type": "execute_result"
    }
   ],
   "source": [
    "y_hat_test2 == y_hat_test"
   ]
  },
  {
   "cell_type": "code",
   "execution_count": 56,
   "metadata": {},
   "outputs": [
    {
     "data": {
      "text/plain": [
       "array([[6],\n",
       "       [9],\n",
       "       [3],\n",
       "       [7],\n",
       "       [2],\n",
       "       [1],\n",
       "       [5],\n",
       "       [2],\n",
       "       [5],\n",
       "       [2],\n",
       "       [1],\n",
       "       [9],\n",
       "       [4],\n",
       "       [0],\n",
       "       [4],\n",
       "       [2],\n",
       "       [3],\n",
       "       [7],\n",
       "       [8],\n",
       "       [8],\n",
       "       [4],\n",
       "       [3],\n",
       "       [9],\n",
       "       [7],\n",
       "       [5],\n",
       "       [6],\n",
       "       [3],\n",
       "       [5],\n",
       "       [6],\n",
       "       [3],\n",
       "       [4],\n",
       "       [9],\n",
       "       [1],\n",
       "       [4],\n",
       "       [4],\n",
       "       [6],\n",
       "       [9],\n",
       "       [4],\n",
       "       [7],\n",
       "       [6],\n",
       "       [6],\n",
       "       [9],\n",
       "       [1],\n",
       "       [3],\n",
       "       [6],\n",
       "       [1],\n",
       "       [3],\n",
       "       [0],\n",
       "       [6],\n",
       "       [5],\n",
       "       [5],\n",
       "       [1],\n",
       "       [9],\n",
       "       [5],\n",
       "       [6],\n",
       "       [0],\n",
       "       [9],\n",
       "       [0],\n",
       "       [0],\n",
       "       [1],\n",
       "       [0],\n",
       "       [4],\n",
       "       [5],\n",
       "       [2],\n",
       "       [4],\n",
       "       [5],\n",
       "       [7],\n",
       "       [0],\n",
       "       [7],\n",
       "       [5],\n",
       "       [9],\n",
       "       [5],\n",
       "       [5],\n",
       "       [4],\n",
       "       [7],\n",
       "       [0],\n",
       "       [4],\n",
       "       [5],\n",
       "       [5],\n",
       "       [9],\n",
       "       [9],\n",
       "       [0],\n",
       "       [2],\n",
       "       [3],\n",
       "       [8],\n",
       "       [0],\n",
       "       [6],\n",
       "       [4],\n",
       "       [4],\n",
       "       [9],\n",
       "       [1],\n",
       "       [2],\n",
       "       [8],\n",
       "       [3],\n",
       "       [5],\n",
       "       [2],\n",
       "       [9],\n",
       "       [0],\n",
       "       [4],\n",
       "       [4],\n",
       "       [4],\n",
       "       [3],\n",
       "       [5],\n",
       "       [3],\n",
       "       [1],\n",
       "       [3],\n",
       "       [5],\n",
       "       [9],\n",
       "       [4],\n",
       "       [2],\n",
       "       [7],\n",
       "       [7],\n",
       "       [4],\n",
       "       [4],\n",
       "       [1],\n",
       "       [9],\n",
       "       [2],\n",
       "       [7],\n",
       "       [8],\n",
       "       [7],\n",
       "       [2],\n",
       "       [6],\n",
       "       [9],\n",
       "       [4],\n",
       "       [0],\n",
       "       [7],\n",
       "       [2],\n",
       "       [7],\n",
       "       [5],\n",
       "       [8],\n",
       "       [7],\n",
       "       [5],\n",
       "       [7],\n",
       "       [7],\n",
       "       [0],\n",
       "       [6],\n",
       "       [6],\n",
       "       [4],\n",
       "       [2],\n",
       "       [8],\n",
       "       [0],\n",
       "       [9],\n",
       "       [4],\n",
       "       [6],\n",
       "       [9],\n",
       "       [9],\n",
       "       [6],\n",
       "       [9],\n",
       "       [0],\n",
       "       [3],\n",
       "       [5],\n",
       "       [6],\n",
       "       [6],\n",
       "       [0],\n",
       "       [6],\n",
       "       [4],\n",
       "       [3],\n",
       "       [9],\n",
       "       [3],\n",
       "       [9],\n",
       "       [7],\n",
       "       [2],\n",
       "       [9],\n",
       "       [0],\n",
       "       [4],\n",
       "       [5],\n",
       "       [3],\n",
       "       [6],\n",
       "       [5],\n",
       "       [9],\n",
       "       [9],\n",
       "       [8],\n",
       "       [4],\n",
       "       [2],\n",
       "       [1],\n",
       "       [3],\n",
       "       [7],\n",
       "       [7],\n",
       "       [2],\n",
       "       [2],\n",
       "       [3],\n",
       "       [9],\n",
       "       [8],\n",
       "       [0],\n",
       "       [3],\n",
       "       [2],\n",
       "       [2],\n",
       "       [5],\n",
       "       [6],\n",
       "       [9],\n",
       "       [9],\n",
       "       [4],\n",
       "       [1],\n",
       "       [5],\n",
       "       [4],\n",
       "       [2],\n",
       "       [3],\n",
       "       [6],\n",
       "       [4],\n",
       "       [8],\n",
       "       [5],\n",
       "       [9],\n",
       "       [5],\n",
       "       [7],\n",
       "       [8],\n",
       "       [9],\n",
       "       [4],\n",
       "       [8],\n",
       "       [1],\n",
       "       [5],\n",
       "       [4],\n",
       "       [4],\n",
       "       [9],\n",
       "       [6],\n",
       "       [1],\n",
       "       [8],\n",
       "       [6],\n",
       "       [0],\n",
       "       [4],\n",
       "       [5],\n",
       "       [2],\n",
       "       [7],\n",
       "       [4],\n",
       "       [6],\n",
       "       [4],\n",
       "       [5],\n",
       "       [6],\n",
       "       [0],\n",
       "       [3],\n",
       "       [2],\n",
       "       [3],\n",
       "       [6],\n",
       "       [7],\n",
       "       [1],\n",
       "       [5],\n",
       "       [1],\n",
       "       [4],\n",
       "       [7],\n",
       "       [6],\n",
       "       [8],\n",
       "       [8],\n",
       "       [5],\n",
       "       [5],\n",
       "       [1],\n",
       "       [6],\n",
       "       [2],\n",
       "       [8],\n",
       "       [8],\n",
       "       [9],\n",
       "       [9],\n",
       "       [7],\n",
       "       [6],\n",
       "       [2],\n",
       "       [2],\n",
       "       [2],\n",
       "       [3],\n",
       "       [4],\n",
       "       [8],\n",
       "       [8],\n",
       "       [3],\n",
       "       [6],\n",
       "       [0],\n",
       "       [9],\n",
       "       [7],\n",
       "       [7],\n",
       "       [0],\n",
       "       [1],\n",
       "       [0],\n",
       "       [4],\n",
       "       [5],\n",
       "       [1],\n",
       "       [5],\n",
       "       [3],\n",
       "       [6],\n",
       "       [0],\n",
       "       [4],\n",
       "       [1],\n",
       "       [0],\n",
       "       [0],\n",
       "       [3],\n",
       "       [6],\n",
       "       [5],\n",
       "       [9],\n",
       "       [7],\n",
       "       [3],\n",
       "       [5],\n",
       "       [5],\n",
       "       [9],\n",
       "       [9],\n",
       "       [8],\n",
       "       [5],\n",
       "       [3],\n",
       "       [3],\n",
       "       [2],\n",
       "       [0],\n",
       "       [5],\n",
       "       [8],\n",
       "       [3],\n",
       "       [4],\n",
       "       [0],\n",
       "       [2],\n",
       "       [4],\n",
       "       [6],\n",
       "       [4],\n",
       "       [3],\n",
       "       [4],\n",
       "       [5],\n",
       "       [0],\n",
       "       [5],\n",
       "       [2],\n",
       "       [1],\n",
       "       [3],\n",
       "       [1],\n",
       "       [4],\n",
       "       [1],\n",
       "       [1],\n",
       "       [7],\n",
       "       [0],\n",
       "       [1],\n",
       "       [5],\n",
       "       [2],\n",
       "       [1],\n",
       "       [2],\n",
       "       [8],\n",
       "       [7],\n",
       "       [0],\n",
       "       [6],\n",
       "       [4],\n",
       "       [8],\n",
       "       [8],\n",
       "       [5],\n",
       "       [1],\n",
       "       [8],\n",
       "       [4],\n",
       "       [5],\n",
       "       [8],\n",
       "       [7],\n",
       "       [9],\n",
       "       [8],\n",
       "       [5],\n",
       "       [0],\n",
       "       [6],\n",
       "       [2],\n",
       "       [0],\n",
       "       [7],\n",
       "       [9],\n",
       "       [8],\n",
       "       [9],\n",
       "       [5],\n",
       "       [2],\n",
       "       [7],\n",
       "       [7],\n",
       "       [1],\n",
       "       [8],\n",
       "       [7],\n",
       "       [4],\n",
       "       [3],\n",
       "       [8],\n",
       "       [3],\n",
       "       [5]])"
      ]
     },
     "execution_count": 56,
     "metadata": {},
     "output_type": "execute_result"
    }
   ],
   "source": [
    "y_test_restore = ohe.inverse_transform(y_test)\n",
    "y_test_restore"
   ]
  },
  {
   "cell_type": "code",
   "execution_count": 57,
   "metadata": {},
   "outputs": [
    {
     "data": {
      "text/plain": [
       "array([[33,  0,  0,  0,  0,  0,  0,  0,  0,  0],\n",
       "       [ 1, 27,  0,  0,  0,  0,  0,  0,  0,  0],\n",
       "       [ 0,  1, 29,  2,  0,  0,  0,  0,  1,  0],\n",
       "       [ 0,  0,  1, 32,  0,  0,  1,  0,  0,  0],\n",
       "       [ 0,  0,  0,  0, 46,  0,  0,  0,  0,  0],\n",
       "       [ 0,  0,  0,  0,  0, 44,  0,  0,  1,  2],\n",
       "       [ 0,  0,  0,  0,  1,  0, 34,  0,  0,  0],\n",
       "       [ 0,  0,  0,  0,  0,  0,  0, 33,  0,  1],\n",
       "       [ 0,  1,  0,  0,  0,  1,  0,  0, 27,  1],\n",
       "       [ 0,  0,  0,  1,  0,  1,  0,  2,  1, 35]])"
      ]
     },
     "execution_count": 57,
     "metadata": {},
     "output_type": "execute_result"
    }
   ],
   "source": [
    "y_test_restore = ohe.inverse_transform(y_test)\n",
    "confusion_matrix(y_test_restore, y_hat_test)"
   ]
  },
  {
   "cell_type": "code",
   "execution_count": 58,
   "metadata": {},
   "outputs": [],
   "source": [
    "from sklearn.metrics import recall_score"
   ]
  },
  {
   "cell_type": "code",
   "execution_count": 60,
   "metadata": {},
   "outputs": [
    {
     "data": {
      "text/plain": [
       "0.9437437083150476"
      ]
     },
     "execution_count": 60,
     "metadata": {},
     "output_type": "execute_result"
    }
   ],
   "source": [
    "recall_score(y_test_restore, y_hat_test, average='macro')"
   ]
  },
  {
   "cell_type": "markdown",
   "metadata": {},
   "source": [
    "Wow, look at that performance!  \n",
    "\n",
    "That is great, but remember, we were dealing with simple black and white images.  With color, our basic neural net will have less success.\n",
    "\n"
   ]
  }
 ],
 "metadata": {
  "celltoolbar": "Raw Cell Format",
  "colab": {
   "collapsed_sections": [],
   "name": "intro-to-keras.ipynb",
   "provenance": []
  },
  "kernelspec": {
   "display_name": "tf",
   "language": "python",
   "name": "tf"
  },
  "language_info": {
   "codemirror_mode": {
    "name": "ipython",
    "version": 3
   },
   "file_extension": ".py",
   "mimetype": "text/x-python",
   "name": "python",
   "nbconvert_exporter": "python",
   "pygments_lexer": "ipython3",
   "version": "3.9.12"
  }
 },
 "nbformat": 4,
 "nbformat_minor": 4
}
