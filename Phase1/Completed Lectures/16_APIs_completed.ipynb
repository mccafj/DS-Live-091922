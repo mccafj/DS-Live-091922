{
 "cells": [
  {
   "cell_type": "markdown",
   "metadata": {
    "toc": true
   },
   "source": [
    "<h1>Table of Contents<span class=\"tocSkip\"></span></h1>\n",
    "<div class=\"toc\"><ul class=\"toc-item\"><li><span><a href=\"#Objectives\" data-toc-modified-id=\"Objectives-1\"><span class=\"toc-item-num\">1&nbsp;&nbsp;</span>Objectives</a></span></li><li><span><a href=\"#APIs\" data-toc-modified-id=\"APIs-2\"><span class=\"toc-item-num\">2&nbsp;&nbsp;</span>APIs</a></span><ul class=\"toc-item\"><li><span><a href=\"#Overview-of-APIs\" data-toc-modified-id=\"Overview-of-APIs-2.1\"><span class=\"toc-item-num\">2.1&nbsp;&nbsp;</span>Overview of APIs</a></span><ul class=\"toc-item\"><li><span><a href=\"#Parts-on-an-API\" data-toc-modified-id=\"Parts-on-an-API-2.1.1\"><span class=\"toc-item-num\">2.1.1&nbsp;&nbsp;</span>Parts on an API</a></span></li></ul></li><li><span><a href=\"#The-requests-Library-and-its-.get()-Method\" data-toc-modified-id=\"The-requests-Library-and-its-.get()-Method-2.2\"><span class=\"toc-item-num\">2.2&nbsp;&nbsp;</span>The <code>requests</code> Library and its <code>.get()</code> Method</a></span></li><li><span><a href=\"#Parsing-JSON-Responses\" data-toc-modified-id=\"Parsing-JSON-Responses-2.3\"><span class=\"toc-item-num\">2.3&nbsp;&nbsp;</span>Parsing JSON Responses</a></span></li><li><span><a href=\"#Status-Codes\" data-toc-modified-id=\"Status-Codes-2.4\"><span class=\"toc-item-num\">2.4&nbsp;&nbsp;</span>Status Codes</a></span><ul class=\"toc-item\"><li><span><a href=\"#Common-status-codes\" data-toc-modified-id=\"Common-status-codes-2.4.1\"><span class=\"toc-item-num\">2.4.1&nbsp;&nbsp;</span>Common status codes</a></span></li><li><span><a href=\"#Hitting-the-right-endpoint\" data-toc-modified-id=\"Hitting-the-right-endpoint-2.4.2\"><span class=\"toc-item-num\">2.4.2&nbsp;&nbsp;</span>Hitting the right endpoint</a></span></li></ul></li><li><span><a href=\"#Query-Parameters\" data-toc-modified-id=\"Query-Parameters-2.5\"><span class=\"toc-item-num\">2.5&nbsp;&nbsp;</span>Query Parameters</a></span></li></ul></li><li><span><a href=\"#Secure-APIs:-Generating-Access-Tokens\" data-toc-modified-id=\"Secure-APIs:-Generating-Access-Tokens-3\"><span class=\"toc-item-num\">3&nbsp;&nbsp;</span>Secure APIs: Generating Access Tokens</a></span><ul class=\"toc-item\"><li><span><a href=\"#An-Example-Request-with-OAuth\" data-toc-modified-id=\"An-Example-Request-with-OAuth-3.1\"><span class=\"toc-item-num\">3.1&nbsp;&nbsp;</span>An Example Request with OAuth</a></span></li><li><span><a href=\"#Storing-your-API-Key-Securely\" data-toc-modified-id=\"Storing-your-API-Key-Securely-3.2\"><span class=\"toc-item-num\">3.2&nbsp;&nbsp;</span>Storing your API Key Securely</a></span><ul class=\"toc-item\"><li><span><a href=\"#Step-1---Create-a-hidden-.secrets-folder-in-your-repository\" data-toc-modified-id=\"Step-1---Create-a-hidden-.secrets-folder-in-your-repository-3.2.1\"><span class=\"toc-item-num\">3.2.1&nbsp;&nbsp;</span>Step 1 - Create a hidden <code>.secrets</code> folder in your repository</a></span></li><li><span><a href=\"#Step-2---Put-your-credentials-in-a-file-in-the-.secrets-folder\" data-toc-modified-id=\"Step-2---Put-your-credentials-in-a-file-in-the-.secrets-folder-3.2.2\"><span class=\"toc-item-num\">3.2.2&nbsp;&nbsp;</span>Step 2 - Put your credentials in a file in the <code>.secrets</code> folder</a></span></li><li><span><a href=\"#Step-3---Add-the-.secrets/-folder-to-the-.gitignore-file\" data-toc-modified-id=\"Step-3---Add-the-.secrets/-folder-to-the-.gitignore-file-3.2.3\"><span class=\"toc-item-num\">3.2.3&nbsp;&nbsp;</span>Step 3 - Add the <code>.secrets/</code> folder to the <code>.gitignore</code> file</a></span></li><li><span><a href=\"#Check-If-It-Worked!\" data-toc-modified-id=\"Check-If-It-Worked!-3.2.4\"><span class=\"toc-item-num\">3.2.4&nbsp;&nbsp;</span>Check If It Worked!</a></span></li></ul></li><li><span><a href=\"#Making-our-Request\" data-toc-modified-id=\"Making-our-Request-3.3\"><span class=\"toc-item-num\">3.3&nbsp;&nbsp;</span>Making our Request</a></span></li><li><span><a href=\"#Breaking-Down-the-Request\" data-toc-modified-id=\"Breaking-Down-the-Request-3.4\"><span class=\"toc-item-num\">3.4&nbsp;&nbsp;</span>Breaking Down the Request</a></span></li><li><span><a href=\"#The-Response\" data-toc-modified-id=\"The-Response-3.5\"><span class=\"toc-item-num\">3.5&nbsp;&nbsp;</span>The Response</a></span></li></ul></li></ul></div>"
   ]
  },
  {
   "cell_type": "markdown",
   "metadata": {},
   "source": [
    "![](images/slurping_thru_api.jpeg)"
   ]
  },
  {
   "cell_type": "markdown",
   "metadata": {},
   "source": [
    "> Created by [@siscadraws](https://www.instagram.com/siscadraws/)"
   ]
  },
  {
   "cell_type": "code",
   "execution_count": 1,
   "metadata": {},
   "outputs": [],
   "source": [
    "import pandas as pd\n",
    "import requests\n",
    "import json"
   ]
  },
  {
   "cell_type": "markdown",
   "metadata": {
    "heading_collapsed": true
   },
   "source": [
    "# Objectives"
   ]
  },
  {
   "cell_type": "markdown",
   "metadata": {
    "hidden": true
   },
   "source": [
    "* Send requests and receive responses over the web\n",
    "* Retrieve data from APIs using the `requests` library\n",
    "* Parse API responses"
   ]
  },
  {
   "cell_type": "markdown",
   "metadata": {
    "heading_collapsed": true
   },
   "source": [
    "# APIs"
   ]
  },
  {
   "cell_type": "markdown",
   "metadata": {
    "hidden": true
   },
   "source": [
    "The term **Application Program Interfaces**, or APIs, is exceedingly general. It applies to any interaction between applications or between an application and a user. One might speak of the \"matplotlib API\" to describe proper plotting syntax but also of APIs that govern the interaction between various steps of a data pipeline: between a database server and a remote client, between a local machine and a cloud storage bucket, etc.\n",
    "\n",
    "APIs are commonly used to retrieve data from remote websites. Sites like Reddit, Twitter, and Facebook all offer certain data through their APIs. "
   ]
  },
  {
   "cell_type": "markdown",
   "metadata": {
    "heading_collapsed": true,
    "hidden": true
   },
   "source": [
    "## Overview of APIs"
   ]
  },
  {
   "cell_type": "markdown",
   "metadata": {
    "hidden": true
   },
   "source": [
    "An API communicates with another application:\n",
    "\n",
    "* Send request (with some info/data)\n",
    "* Get response\n",
    "    + data\n",
    "    + service\n",
    "\n",
    "\n",
    "It's always a software-to-software interaction"
   ]
  },
  {
   "cell_type": "markdown",
   "metadata": {
    "hidden": true
   },
   "source": [
    "![](images/web_api.png)\n",
    "> <a href=\"https://commons.wikimedia.org/wiki/File:Web_API.png\">Brivadeneira</a>, <a href=\"https://creativecommons.org/licenses/by-sa/4.0\">CC BY-SA 4.0</a>, via Wikimedia Commons"
   ]
  },
  {
   "cell_type": "markdown",
   "metadata": {
    "heading_collapsed": true,
    "hidden": true
   },
   "source": [
    "### Parts of an API"
   ]
  },
  {
   "cell_type": "markdown",
   "metadata": {
    "hidden": true
   },
   "source": [
    "* **Access Permissions**\n",
    "    + User allowed to ask?\n",
    "* **API Call/Request**\n",
    "    + Code used to make API call to implement complicated tasks/features\n",
    "    + *Methods*: what questions can we ask?\n",
    "    + *Parameters*: more info to be sent\n",
    "* **Repsonse**\n",
    "    + Result of request"
   ]
  },
  {
   "cell_type": "markdown",
   "metadata": {
    "heading_collapsed": true,
    "hidden": true
   },
   "source": [
    "## The `requests` Library and its `.get()` Method"
   ]
  },
  {
   "cell_type": "markdown",
   "metadata": {
    "hidden": true
   },
   "source": [
    "![](images/logo.png)"
   ]
  },
  {
   "cell_type": "markdown",
   "metadata": {
    "hidden": true
   },
   "source": [
    "To use an API, you make a request to a remote web server, and retrieve the data you need.\n",
    "\n",
    "We'll use the `requests` library to access web locations."
   ]
  },
  {
   "cell_type": "markdown",
   "metadata": {
    "hidden": true
   },
   "source": [
    "Below is how you would install and import the requests library before making any requests. \n",
    "```python\n",
    "# Uncomment and install requests if you dont have it already\n",
    "# conda install -c anaconda requests\n",
    "\n",
    "# Import requests to working environment\n",
    "import requests\n",
    "```"
   ]
  },
  {
   "cell_type": "markdown",
   "metadata": {
    "hidden": true
   },
   "source": [
    "-------"
   ]
  },
  {
   "cell_type": "markdown",
   "metadata": {
    "hidden": true
   },
   "source": [
    "Now that we have `requests` library ready in our working environment, we can start making some requests using the `.get()` method as shown below.\n",
    "\n",
    "We can use a GET request to retrieve information from the OpenNotify API."
   ]
  },
  {
   "cell_type": "code",
   "execution_count": 4,
   "metadata": {
    "hidden": true
   },
   "outputs": [],
   "source": [
    "# Make a get request to get the latest position of the\n",
    "# International Space Station (ISS) from the opennotify api.\n",
    "\n",
    "url = 'http://api.open-notify.org/iss-now.json'\n",
    "iss_response = requests.get(url)"
   ]
  },
  {
   "cell_type": "markdown",
   "metadata": {
    "hidden": true
   },
   "source": [
    "This creates a `Response` object containing the response that we received"
   ]
  },
  {
   "cell_type": "code",
   "execution_count": 5,
   "metadata": {
    "hidden": true
   },
   "outputs": [
    {
     "data": {
      "text/plain": [
       "requests.models.Response"
      ]
     },
     "execution_count": 5,
     "metadata": {},
     "output_type": "execute_result"
    }
   ],
   "source": [
    "type(iss_response)"
   ]
  },
  {
   "cell_type": "markdown",
   "metadata": {
    "hidden": true
   },
   "source": [
    "The `Response` object contains a bunch of information about the response we got from the server. For example, it includes the status code, which can be helpful for diagnosing request issues. 200 means OK - we'll discuss others later."
   ]
  },
  {
   "cell_type": "code",
   "execution_count": 6,
   "metadata": {
    "hidden": true
   },
   "outputs": [
    {
     "data": {
      "text/plain": [
       "200"
      ]
     },
     "execution_count": 6,
     "metadata": {},
     "output_type": "execute_result"
    }
   ],
   "source": [
    "iss_response.status_code"
   ]
  },
  {
   "cell_type": "markdown",
   "metadata": {
    "hidden": true
   },
   "source": [
    "The `Response` object also contains the data received from our request in the `content` attribute. "
   ]
  },
  {
   "cell_type": "code",
   "execution_count": 7,
   "metadata": {
    "hidden": true
   },
   "outputs": [
    {
     "data": {
      "text/plain": [
       "b'{\"timestamp\": 1664552906, \"message\": \"success\", \"iss_position\": {\"latitude\": \"4.2030\", \"longitude\": \"-69.1141\"}}'"
      ]
     },
     "execution_count": 7,
     "metadata": {},
     "output_type": "execute_result"
    }
   ],
   "source": [
    "iss_response.content"
   ]
  },
  {
   "cell_type": "markdown",
   "metadata": {
    "heading_collapsed": true,
    "hidden": true
   },
   "source": [
    "## Parsing JSON Responses"
   ]
  },
  {
   "cell_type": "markdown",
   "metadata": {
    "hidden": true
   },
   "source": [
    "OpenNotify has several API **endpoints**. An endpoint is a server route that is used to retrieve different data from the API. For example, the `/comments` endpoint on the Reddit API might retrieve information about comments, whereas the `/users` endpoint might retrieve data about users. To access them, you would add the endpoint to the base url of the API."
   ]
  },
  {
   "cell_type": "code",
   "execution_count": 8,
   "metadata": {
    "hidden": true
   },
   "outputs": [
    {
     "name": "stdout",
     "output_type": "stream",
     "text": [
      "200\n"
     ]
    }
   ],
   "source": [
    "# Let's check out who is in space right now!\n",
    "\n",
    "url = 'http://api.open-notify.org/astros.json'\n",
    "astro_response = requests.get(url)\n",
    "print(astro_response.status_code)"
   ]
  },
  {
   "cell_type": "code",
   "execution_count": 9,
   "metadata": {
    "hidden": true
   },
   "outputs": [
    {
     "data": {
      "text/plain": [
       "b'{\"message\": \"success\", \"people\": [{\"craft\": \"ISS\", \"name\": \"Oleg Artemyev\"}, {\"craft\": \"ISS\", \"name\": \"Denis Matveev\"}, {\"craft\": \"ISS\", \"name\": \"Sergey Korsakov\"}, {\"craft\": \"ISS\", \"name\": \"Kjell Lindgren\"}, {\"craft\": \"ISS\", \"name\": \"Bob Hines\"}, {\"craft\": \"ISS\", \"name\": \"Samantha Cristoforetti\"}, {\"craft\": \"ISS\", \"name\": \"Jessica Watkins\"}, {\"craft\": \"Tiangong\", \"name\": \"Cai Xuzhe\"}, {\"craft\": \"Tiangong\", \"name\": \"Chen Dong\"}, {\"craft\": \"Tiangong\", \"name\": \"Liu Yang\"}, {\"craft\": \"ISS\", \"name\": \"Sergey Prokopyev\"}, {\"craft\": \"ISS\", \"name\": \"Dmitry Petelin\"}, {\"craft\": \"ISS\", \"name\": \"Frank Rubio\"}], \"number\": 13}'"
      ]
     },
     "execution_count": 9,
     "metadata": {},
     "output_type": "execute_result"
    }
   ],
   "source": [
    "astro_response.content"
   ]
  },
  {
   "cell_type": "markdown",
   "metadata": {
    "hidden": true
   },
   "source": [
    "See the `b'` at the beginning? The `content` is stored in a \"byte literal\" format, not a Python dictionary."
   ]
  },
  {
   "cell_type": "code",
   "execution_count": 10,
   "metadata": {
    "hidden": true
   },
   "outputs": [
    {
     "data": {
      "text/plain": [
       "bytes"
      ]
     },
     "execution_count": 10,
     "metadata": {},
     "output_type": "execute_result"
    }
   ],
   "source": [
    "type(astro_response.content)"
   ]
  },
  {
   "cell_type": "markdown",
   "metadata": {
    "hidden": true
   },
   "source": [
    "We can look at the `text` attribute instead, but this still gives us a string, not a dictionary."
   ]
  },
  {
   "cell_type": "code",
   "execution_count": 11,
   "metadata": {
    "hidden": true,
    "scrolled": true
   },
   "outputs": [
    {
     "data": {
      "text/plain": [
       "'{\"message\": \"success\", \"people\": [{\"craft\": \"ISS\", \"name\": \"Oleg Artemyev\"}, {\"craft\": \"ISS\", \"name\": \"Denis Matveev\"}, {\"craft\": \"ISS\", \"name\": \"Sergey Korsakov\"}, {\"craft\": \"ISS\", \"name\": \"Kjell Lindgren\"}, {\"craft\": \"ISS\", \"name\": \"Bob Hines\"}, {\"craft\": \"ISS\", \"name\": \"Samantha Cristoforetti\"}, {\"craft\": \"ISS\", \"name\": \"Jessica Watkins\"}, {\"craft\": \"Tiangong\", \"name\": \"Cai Xuzhe\"}, {\"craft\": \"Tiangong\", \"name\": \"Chen Dong\"}, {\"craft\": \"Tiangong\", \"name\": \"Liu Yang\"}, {\"craft\": \"ISS\", \"name\": \"Sergey Prokopyev\"}, {\"craft\": \"ISS\", \"name\": \"Dmitry Petelin\"}, {\"craft\": \"ISS\", \"name\": \"Frank Rubio\"}], \"number\": 13}'"
      ]
     },
     "execution_count": 11,
     "metadata": {},
     "output_type": "execute_result"
    }
   ],
   "source": [
    "astro_response.text"
   ]
  },
  {
   "cell_type": "code",
   "execution_count": 12,
   "metadata": {},
   "outputs": [
    {
     "data": {
      "text/plain": [
       "str"
      ]
     },
     "execution_count": 12,
     "metadata": {},
     "output_type": "execute_result"
    }
   ],
   "source": [
    "type(astro_response.text)"
   ]
  },
  {
   "cell_type": "code",
   "execution_count": 15,
   "metadata": {},
   "outputs": [
    {
     "data": {
      "text/plain": [
       "'{\"message\"'"
      ]
     },
     "execution_count": 15,
     "metadata": {},
     "output_type": "execute_result"
    }
   ],
   "source": [
    "astro_response.text[0:10]"
   ]
  },
  {
   "cell_type": "markdown",
   "metadata": {
    "hidden": true
   },
   "source": [
    "To address this, we will use the `.json()` method to get a dictionary we can work with."
   ]
  },
  {
   "cell_type": "code",
   "execution_count": 16,
   "metadata": {
    "hidden": true
   },
   "outputs": [
    {
     "data": {
      "text/plain": [
       "dict_keys(['message', 'people', 'number'])"
      ]
     },
     "execution_count": 16,
     "metadata": {},
     "output_type": "execute_result"
    }
   ],
   "source": [
    "astro_data = astro_response.json()\n",
    "astro_data.keys()"
   ]
  },
  {
   "cell_type": "code",
   "execution_count": 21,
   "metadata": {},
   "outputs": [
    {
     "data": {
      "text/plain": [
       "'success'"
      ]
     },
     "execution_count": 21,
     "metadata": {},
     "output_type": "execute_result"
    }
   ],
   "source": [
    "astro_data['message']"
   ]
  },
  {
   "cell_type": "code",
   "execution_count": 22,
   "metadata": {},
   "outputs": [
    {
     "data": {
      "text/html": [
       "<div>\n",
       "<style scoped>\n",
       "    .dataframe tbody tr th:only-of-type {\n",
       "        vertical-align: middle;\n",
       "    }\n",
       "\n",
       "    .dataframe tbody tr th {\n",
       "        vertical-align: top;\n",
       "    }\n",
       "\n",
       "    .dataframe thead th {\n",
       "        text-align: right;\n",
       "    }\n",
       "</style>\n",
       "<table border=\"1\" class=\"dataframe\">\n",
       "  <thead>\n",
       "    <tr style=\"text-align: right;\">\n",
       "      <th></th>\n",
       "      <th>message</th>\n",
       "      <th>people</th>\n",
       "      <th>number</th>\n",
       "    </tr>\n",
       "  </thead>\n",
       "  <tbody>\n",
       "    <tr>\n",
       "      <th>0</th>\n",
       "      <td>success</td>\n",
       "      <td>{'craft': 'ISS', 'name': 'Oleg Artemyev'}</td>\n",
       "      <td>13</td>\n",
       "    </tr>\n",
       "    <tr>\n",
       "      <th>1</th>\n",
       "      <td>success</td>\n",
       "      <td>{'craft': 'ISS', 'name': 'Denis Matveev'}</td>\n",
       "      <td>13</td>\n",
       "    </tr>\n",
       "    <tr>\n",
       "      <th>2</th>\n",
       "      <td>success</td>\n",
       "      <td>{'craft': 'ISS', 'name': 'Sergey Korsakov'}</td>\n",
       "      <td>13</td>\n",
       "    </tr>\n",
       "    <tr>\n",
       "      <th>3</th>\n",
       "      <td>success</td>\n",
       "      <td>{'craft': 'ISS', 'name': 'Kjell Lindgren'}</td>\n",
       "      <td>13</td>\n",
       "    </tr>\n",
       "    <tr>\n",
       "      <th>4</th>\n",
       "      <td>success</td>\n",
       "      <td>{'craft': 'ISS', 'name': 'Bob Hines'}</td>\n",
       "      <td>13</td>\n",
       "    </tr>\n",
       "    <tr>\n",
       "      <th>5</th>\n",
       "      <td>success</td>\n",
       "      <td>{'craft': 'ISS', 'name': 'Samantha Cristoforet...</td>\n",
       "      <td>13</td>\n",
       "    </tr>\n",
       "    <tr>\n",
       "      <th>6</th>\n",
       "      <td>success</td>\n",
       "      <td>{'craft': 'ISS', 'name': 'Jessica Watkins'}</td>\n",
       "      <td>13</td>\n",
       "    </tr>\n",
       "    <tr>\n",
       "      <th>7</th>\n",
       "      <td>success</td>\n",
       "      <td>{'craft': 'Tiangong', 'name': 'Cai Xuzhe'}</td>\n",
       "      <td>13</td>\n",
       "    </tr>\n",
       "    <tr>\n",
       "      <th>8</th>\n",
       "      <td>success</td>\n",
       "      <td>{'craft': 'Tiangong', 'name': 'Chen Dong'}</td>\n",
       "      <td>13</td>\n",
       "    </tr>\n",
       "    <tr>\n",
       "      <th>9</th>\n",
       "      <td>success</td>\n",
       "      <td>{'craft': 'Tiangong', 'name': 'Liu Yang'}</td>\n",
       "      <td>13</td>\n",
       "    </tr>\n",
       "    <tr>\n",
       "      <th>10</th>\n",
       "      <td>success</td>\n",
       "      <td>{'craft': 'ISS', 'name': 'Sergey Prokopyev'}</td>\n",
       "      <td>13</td>\n",
       "    </tr>\n",
       "    <tr>\n",
       "      <th>11</th>\n",
       "      <td>success</td>\n",
       "      <td>{'craft': 'ISS', 'name': 'Dmitry Petelin'}</td>\n",
       "      <td>13</td>\n",
       "    </tr>\n",
       "    <tr>\n",
       "      <th>12</th>\n",
       "      <td>success</td>\n",
       "      <td>{'craft': 'ISS', 'name': 'Frank Rubio'}</td>\n",
       "      <td>13</td>\n",
       "    </tr>\n",
       "  </tbody>\n",
       "</table>\n",
       "</div>"
      ],
      "text/plain": [
       "    message                                             people  number\n",
       "0   success          {'craft': 'ISS', 'name': 'Oleg Artemyev'}      13\n",
       "1   success          {'craft': 'ISS', 'name': 'Denis Matveev'}      13\n",
       "2   success        {'craft': 'ISS', 'name': 'Sergey Korsakov'}      13\n",
       "3   success         {'craft': 'ISS', 'name': 'Kjell Lindgren'}      13\n",
       "4   success              {'craft': 'ISS', 'name': 'Bob Hines'}      13\n",
       "5   success  {'craft': 'ISS', 'name': 'Samantha Cristoforet...      13\n",
       "6   success        {'craft': 'ISS', 'name': 'Jessica Watkins'}      13\n",
       "7   success         {'craft': 'Tiangong', 'name': 'Cai Xuzhe'}      13\n",
       "8   success         {'craft': 'Tiangong', 'name': 'Chen Dong'}      13\n",
       "9   success          {'craft': 'Tiangong', 'name': 'Liu Yang'}      13\n",
       "10  success       {'craft': 'ISS', 'name': 'Sergey Prokopyev'}      13\n",
       "11  success         {'craft': 'ISS', 'name': 'Dmitry Petelin'}      13\n",
       "12  success            {'craft': 'ISS', 'name': 'Frank Rubio'}      13"
      ]
     },
     "execution_count": 22,
     "metadata": {},
     "output_type": "execute_result"
    }
   ],
   "source": [
    "pd.DataFrame(astro_data)"
   ]
  },
  {
   "cell_type": "markdown",
   "metadata": {
    "heading_collapsed": true,
    "hidden": true
   },
   "source": [
    "## Status Codes"
   ]
  },
  {
   "cell_type": "markdown",
   "metadata": {
    "hidden": true
   },
   "source": [
    "The request we make may not always be successful. The best way is to check the status code which gets returned with the response: `response.status_code`"
   ]
  },
  {
   "cell_type": "code",
   "execution_count": 23,
   "metadata": {
    "hidden": true
   },
   "outputs": [
    {
     "data": {
      "text/plain": [
       "200"
      ]
     },
     "execution_count": 23,
     "metadata": {},
     "output_type": "execute_result"
    }
   ],
   "source": [
    "astro_response.status_code"
   ]
  },
  {
   "cell_type": "markdown",
   "metadata": {
    "hidden": true
   },
   "source": [
    "[Status Code Info](https://developer.mozilla.org/en-US/docs/Web/HTTP/Status) <br/>\n",
    "[Status Code Info with Dogs](https://httpstatusdogs.com/) <br/>\n",
    "[Wikipedia on Status Codes](https://en.wikipedia.org/wiki/List_of_HTTP_status_codes)\n",
    "\n",
    "So this is a good check to see if our request was successful. Depending on the status of the web server, the access rights of the clients and availibility of requested information. A web server may return a number of status codes within the response. Wikipedia has an exhaustive details on all these codes."
   ]
  },
  {
   "cell_type": "markdown",
   "metadata": {
    "heading_collapsed": true,
    "hidden": true
   },
   "source": [
    "### Common status codes"
   ]
  },
  {
   "cell_type": "markdown",
   "metadata": {
    "hidden": true
   },
   "source": [
    "* 200 — everything went okay, and the result has been returned (if any)\n",
    "* 301 — the server is redirecting you to a different endpoint. This can happen when a company switches domain names, or an endpoint name is changed.\n",
    "* 401 — the server thinks you’re not authenticated. This happens when you don’t send the right credentials to access an API.\n",
    "* 400 — the server thinks you made a bad request. This can happen when you don’t send along the right data, among other things.\n",
    "* 403 — the resource you’re trying to access is forbidden — you don’t have the right permissions to see it.\n",
    "* 404 — the resource you tried to access wasn’t found on the server."
   ]
  },
  {
   "cell_type": "markdown",
   "metadata": {
    "heading_collapsed": true,
    "hidden": true
   },
   "source": [
    "### Hitting the right endpoint"
   ]
  },
  {
   "cell_type": "markdown",
   "metadata": {
    "hidden": true
   },
   "source": [
    "We’ll now make a GET request to http://api.open-notify.org/iss-pass.json."
   ]
  },
  {
   "cell_type": "code",
   "execution_count": 24,
   "metadata": {
    "hidden": true
   },
   "outputs": [
    {
     "data": {
      "text/plain": [
       "404"
      ]
     },
     "execution_count": 24,
     "metadata": {},
     "output_type": "execute_result"
    }
   ],
   "source": [
    "iss_pass_url = 'http://api.open-notify.org/iss-pass.json'\n",
    "response = requests.get(iss_pass_url)\n",
    "response.status_code"
   ]
  },
  {
   "cell_type": "markdown",
   "metadata": {
    "hidden": true
   },
   "source": [
    "We can look at `content` to see if the server told us why there was a problem."
   ]
  },
  {
   "cell_type": "code",
   "execution_count": 25,
   "metadata": {
    "hidden": true
   },
   "outputs": [
    {
     "data": {
      "text/plain": [
       "b'<html>\\r\\n<head><title>404 Not Found</title></head>\\r\\n<body bgcolor=\"white\">\\r\\n<center><h1>404 Not Found</h1></center>\\r\\n<hr><center>nginx/1.10.3</center>\\r\\n</body>\\r\\n</html>\\r\\n'"
      ]
     },
     "execution_count": 25,
     "metadata": {},
     "output_type": "execute_result"
    }
   ],
   "source": [
    "response.content"
   ]
  },
  {
   "cell_type": "markdown",
   "metadata": {
    "heading_collapsed": true,
    "hidden": true
   },
   "source": [
    "## Query Parameters"
   ]
  },
  {
   "cell_type": "markdown",
   "metadata": {
    "hidden": true
   },
   "source": [
    "If you look at the [documentation](https://web.archive.org/web/20201224141953/http://open-notify.org/Open-Notify-API/ISS-Pass-Times/), we see that the ISS Pass endpoint requires two parameters.\n",
    "\n",
    "We can do this by adding an optional keyword argument, params, to our request. In this case, there are two parameters we need to pass:\n",
    "\n",
    "* lat — The latitude of the location we want.\n",
    "* lon — The longitude of the location we want.\n",
    "\n",
    "We can make a dictionary with these parameters, and then pass them into the `requests.get()` method. We’ll make a request using the coordinates of New York City, and see what response we get.\n",
    "\n",
    "We can also add the query parameters to the url, like this: http://api.open-notify.org/iss-pass.json?lat=47.6&lon=-122.3. However, it’s almost always preferable to pass the parameters as a dictionary, because `requests` takes care of some potential issues, like properly formatting the query parameters.\n",
    "\n",
    "* **HAS BEEN DEPRECIATED**\n",
    "\n",
    "We will use [this](https://api.publicapis.org) instead\n",
    "\n",
    "- A good list of public API's that are available for practice and exploration\n",
    "\n",
    "- We will take a look a the entries parameters and subset our request based on category and if https is supported"
   ]
  },
  {
   "cell_type": "markdown",
   "metadata": {
    "hidden": true
   },
   "source": [
    "We'll add parameters to the get method in the form of a dictionary with two keys, lat and long."
   ]
  },
  {
   "cell_type": "code",
   "execution_count": 45,
   "metadata": {
    "hidden": true,
    "scrolled": true
   },
   "outputs": [],
   "source": [
    "# Our code here\n",
    "url = 'https://api.publicapis.org/entries'\n",
    "params_dict = {'category':'environment', 'https':'true'}\n",
    "response = requests.get(url, params=params_dict)\n",
    "\n",
    "# Print the content of the response (the data the server returned)\n",
    "\n",
    "#print(response.text)\n",
    "\n",
    "# This gets the same data as the command above:\n",
    "response2 = requests.get(\"https://api.publicapis.org/entries?category=environment&https=true\")"
   ]
  },
  {
   "cell_type": "code",
   "execution_count": 49,
   "metadata": {},
   "outputs": [
    {
     "data": {
      "text/plain": [
       "True"
      ]
     },
     "execution_count": 49,
     "metadata": {},
     "output_type": "execute_result"
    }
   ],
   "source": [
    "response.text == response2.text"
   ]
  },
  {
   "cell_type": "markdown",
   "metadata": {
    "heading_collapsed": true
   },
   "source": [
    "# Secure APIs: Generating Access Tokens"
   ]
  },
  {
   "cell_type": "markdown",
   "metadata": {
    "hidden": true
   },
   "source": [
    "Many APIs have security measures to make sure their APIs aren't abused. Let's show you how to generate an access token so you can use such secure APIs.\n",
    "\n",
    "Point your browser over to this [yelp page](https://www.yelp.com/developers/v3/manage_app) and start creating an app in order to obtain an api access token:"
   ]
  },
  {
   "cell_type": "markdown",
   "metadata": {
    "hidden": true
   },
   "source": [
    "\n",
    "![](./images/yelp_app.png)"
   ]
  },
  {
   "cell_type": "markdown",
   "metadata": {
    "hidden": true
   },
   "source": [
    "You can either sign in to an existing Yelp account, or create a new one, if needed.\n",
    "\n",
    "On the page you see above, simply fill out some sample information such as \"Flatiron Edu API Example\" for the app name, or whatever floats your boat. Afterwards, you should be presented with an API key that you can use to make requests.\n",
    "\n",
    "With that, it's time to start making some API calls!"
   ]
  },
  {
   "cell_type": "markdown",
   "metadata": {
    "heading_collapsed": true,
    "hidden": true
   },
   "source": [
    "## An Example Request with OAuth "
   ]
  },
  {
   "cell_type": "markdown",
   "metadata": {
    "hidden": true
   },
   "source": [
    "[OAuth](https://en.wikipedia.org/wiki/OAuth) is a common standard used by companies to provide API access. \"Auth\" refers to two processes:\n",
    "\n",
    "* Authentication: Verifying your identity\n",
    "* Authorization: Giving you access to a resource"
   ]
  },
  {
   "cell_type": "markdown",
   "metadata": {
    "heading_collapsed": true,
    "hidden": true
   },
   "source": [
    "## Storing your API Key Securely"
   ]
  },
  {
   "cell_type": "markdown",
   "metadata": {
    "hidden": true
   },
   "source": [
    "Handling your security credentials properly will avoid accidentally exposing them to people who might use them for malicious purposes. While you probably can't get in too much trouble with Yelp, it's a good practice to develop. It becomes especially tricky and important when using public Git repositories. Here are the steps we recommend: \n",
    "\n",
    "1. Create a hidden `.secrets` folder in your repository\n",
    "2. Put your credentials in a file in the `.secrets` folder\n",
    "3. Add the `.secrets/` folder to the `.gitignore` file"
   ]
  },
  {
   "cell_type": "markdown",
   "metadata": {
    "heading_collapsed": true,
    "hidden": true
   },
   "source": [
    "### Step 1 - Create a hidden `.secrets` folder in your repository"
   ]
  },
  {
   "cell_type": "markdown",
   "metadata": {
    "hidden": true
   },
   "source": [
    "> We'll need to create this folder `.secrets`. Note this will create a hidden folder. Also note that we're using this name but it really could be whatever you want it to be as long as you're consistent"
   ]
  },
  {
   "cell_type": "markdown",
   "metadata": {
    "hidden": true
   },
   "source": [
    "You can run this in the terminal (assuming we're in the repo folder)\n",
    "\n",
    "```bash\n",
    "mkdir .secrets\n",
    "```"
   ]
  },
  {
   "cell_type": "code",
   "execution_count": 50,
   "metadata": {
    "hidden": true
   },
   "outputs": [
    {
     "name": "stdout",
     "output_type": "stream",
     "text": [
      "/Users/danielburdeno/Documents/Flatiron/Cohort_Repos/DS-Live-091922/Phase1\r\n"
     ]
    }
   ],
   "source": [
    "# Let's check we're in the right place\n",
    "!pwd"
   ]
  },
  {
   "cell_type": "code",
   "execution_count": 56,
   "metadata": {
    "hidden": true
   },
   "outputs": [
    {
     "name": "stdout",
     "output_type": "stream",
     "text": [
      "\u001b[34m.\u001b[m\u001b[m\r\n",
      "\u001b[34m..\u001b[m\u001b[m\r\n",
      "\u001b[34m.ipynb_checkpoints\u001b[m\u001b[m\r\n",
      "01 - Data Science and the Data Science Toolkit (1).pdf\r\n",
      "02 - Introducing The Terminal.pdf\r\n",
      "03 - Introducing Git and GitHub.pdf\r\n",
      "05 - PythonDataManipulation.ipynb\r\n",
      "06 - DataAnalysis-CSV.ipynb\r\n",
      "07 - DataAnalysis-JSON.ipynb\r\n",
      "08_Pandas_Dataframes.ipynb\r\n",
      "09_Plotting_With_Pandas_Matplotlib.ipynb\r\n",
      "10_Pandas_Data_Cleaning.ipynb\r\n",
      "11_Aggregating_Combining_Dataframes.ipynb\r\n",
      "12_Descriptive_Stats.ipynb\r\n",
      "13_Sql_Queries.ipynb\r\n",
      "14_SQL_Joins_Aggregations.ipynb\r\n",
      "15_Sql_Subqueries.ipynb\r\n",
      "16_APIs.ipynb\r\n",
      "16_Web Scraping_Slides.pdf\r\n",
      "17_Webscraping.ipynb\r\n",
      "\u001b[34mCompleted Lectures\u001b[m\u001b[m\r\n",
      "Daniel.txt\r\n",
      "P1-Code-Challenge-Review.ipynb\r\n",
      "Placeholder.txt\r\n",
      "Python-Loops-and-Functions_blank.ipynb\r\n",
      "\u001b[34mdata\u001b[m\u001b[m\r\n",
      "\u001b[34mimages\u001b[m\u001b[m\r\n",
      "\u001b[34msrc\u001b[m\u001b[m\r\n"
     ]
    }
   ],
   "source": [
    "# Now we check if the directory is already made\n",
    "!ls -a"
   ]
  },
  {
   "cell_type": "code",
   "execution_count": 57,
   "metadata": {
    "hidden": true
   },
   "outputs": [],
   "source": [
    "# Finally we can make the directory\n",
    "!mkdir .secrets"
   ]
  },
  {
   "cell_type": "code",
   "execution_count": 58,
   "metadata": {
    "hidden": true
   },
   "outputs": [
    {
     "name": "stdout",
     "output_type": "stream",
     "text": [
      "\u001b[34m.\u001b[m\u001b[m\r\n",
      "\u001b[34m..\u001b[m\u001b[m\r\n",
      "\u001b[34m.ipynb_checkpoints\u001b[m\u001b[m\r\n",
      "\u001b[34m.secrets\u001b[m\u001b[m\r\n",
      "01 - Data Science and the Data Science Toolkit (1).pdf\r\n",
      "02 - Introducing The Terminal.pdf\r\n",
      "03 - Introducing Git and GitHub.pdf\r\n",
      "05 - PythonDataManipulation.ipynb\r\n",
      "06 - DataAnalysis-CSV.ipynb\r\n",
      "07 - DataAnalysis-JSON.ipynb\r\n",
      "08_Pandas_Dataframes.ipynb\r\n",
      "09_Plotting_With_Pandas_Matplotlib.ipynb\r\n",
      "10_Pandas_Data_Cleaning.ipynb\r\n",
      "11_Aggregating_Combining_Dataframes.ipynb\r\n",
      "12_Descriptive_Stats.ipynb\r\n",
      "13_Sql_Queries.ipynb\r\n",
      "14_SQL_Joins_Aggregations.ipynb\r\n",
      "15_Sql_Subqueries.ipynb\r\n",
      "16_APIs.ipynb\r\n",
      "16_Web Scraping_Slides.pdf\r\n",
      "17_Webscraping.ipynb\r\n",
      "\u001b[34mCompleted Lectures\u001b[m\u001b[m\r\n",
      "Daniel.txt\r\n",
      "P1-Code-Challenge-Review.ipynb\r\n",
      "Placeholder.txt\r\n",
      "Python-Loops-and-Functions_blank.ipynb\r\n",
      "\u001b[34mdata\u001b[m\u001b[m\r\n",
      "\u001b[34mimages\u001b[m\u001b[m\r\n",
      "\u001b[34msrc\u001b[m\u001b[m\r\n"
     ]
    }
   ],
   "source": [
    "# And we check if the directory is made\n",
    "!ls -a"
   ]
  },
  {
   "cell_type": "markdown",
   "metadata": {
    "heading_collapsed": true,
    "hidden": true
   },
   "source": [
    "### Step 2 - Put your credentials in a file in the `.secrets` folder"
   ]
  },
  {
   "cell_type": "markdown",
   "metadata": {
    "hidden": true
   },
   "source": [
    "> Next we need to create the credentials file and move it into the `.secrets/` folder. It's easiest to do this with the command line (since the folder is hidden)"
   ]
  },
  {
   "cell_type": "markdown",
   "metadata": {
    "hidden": true
   },
   "source": [
    "To create the file, we can simply create a new file using an editor or even Jupyter Notebook."
   ]
  },
  {
   "cell_type": "markdown",
   "metadata": {
    "hidden": true
   },
   "source": [
    "We can also create this with the command line:\n",
    "\n",
    "```shell\n",
    "echo '{ \"id\": \"<ID>\", \"key\": \"<KEY>\" }' > creds.json\n",
    "```\n",
    "\n",
    "Where `<ID>` and  `<KEY>` are the Client ID and API Key respectively. (Note the the values need quotations around it)"
   ]
  },
  {
   "cell_type": "code",
   "execution_count": 66,
   "metadata": {
    "hidden": true
   },
   "outputs": [],
   "source": [
    "# Uncommment and run this after replacing <ID> and <KEY>\n",
    "# Note this will overwrite any previous file called creds.json\n",
    "!echo '{ \"id_yelp\": \"g0c-y7BAReLv0wMtT9JGzA\", \"key_yelp\": \"KvUuSIpStqkwvmC8jZQRYDAvlhr_pCA0p_KrDLh4JK2HBZU0HhsSadLWSQiYzfFt4oRYjwtBLli05mrtjj9d_zAf6vs8WyAgQfjyRk2_rvGuwHI5RLZHbuuikBg3Y3Yx\" }' > .secrets/creds.json"
   ]
  },
  {
   "cell_type": "markdown",
   "metadata": {
    "hidden": true
   },
   "source": [
    "To move the file via the command line, it's easiest if you first move the credentials file into the repo's folder first (if it's not already there).\n",
    "\n",
    "Once you do that, you can run this command below."
   ]
  },
  {
   "cell_type": "code",
   "execution_count": 60,
   "metadata": {
    "hidden": true
   },
   "outputs": [
    {
     "name": "stdout",
     "output_type": "stream",
     "text": [
      "\u001b[34m.\u001b[m\u001b[m\r\n",
      "\u001b[34m..\u001b[m\u001b[m\r\n",
      "\u001b[34m.ipynb_checkpoints\u001b[m\u001b[m\r\n",
      "\u001b[34m.secrets\u001b[m\u001b[m\r\n",
      "01 - Data Science and the Data Science Toolkit (1).pdf\r\n",
      "02 - Introducing The Terminal.pdf\r\n",
      "03 - Introducing Git and GitHub.pdf\r\n",
      "05 - PythonDataManipulation.ipynb\r\n",
      "06 - DataAnalysis-CSV.ipynb\r\n",
      "07 - DataAnalysis-JSON.ipynb\r\n",
      "08_Pandas_Dataframes.ipynb\r\n",
      "09_Plotting_With_Pandas_Matplotlib.ipynb\r\n",
      "10_Pandas_Data_Cleaning.ipynb\r\n",
      "11_Aggregating_Combining_Dataframes.ipynb\r\n",
      "12_Descriptive_Stats.ipynb\r\n",
      "13_Sql_Queries.ipynb\r\n",
      "14_SQL_Joins_Aggregations.ipynb\r\n",
      "15_Sql_Subqueries.ipynb\r\n",
      "16_APIs.ipynb\r\n",
      "16_Web Scraping_Slides.pdf\r\n",
      "17_Webscraping.ipynb\r\n",
      "\u001b[34mCompleted Lectures\u001b[m\u001b[m\r\n",
      "Daniel.txt\r\n",
      "P1-Code-Challenge-Review.ipynb\r\n",
      "Placeholder.txt\r\n",
      "Python-Loops-and-Functions_blank.ipynb\r\n",
      "creds.json\r\n",
      "\u001b[34mdata\u001b[m\u001b[m\r\n",
      "\u001b[34mimages\u001b[m\u001b[m\r\n",
      "\u001b[34msrc\u001b[m\u001b[m\r\n"
     ]
    }
   ],
   "source": [
    "# Make sure the .secrets folder and credentials file are there\n",
    "!ls -a"
   ]
  },
  {
   "cell_type": "code",
   "execution_count": 61,
   "metadata": {
    "hidden": true
   },
   "outputs": [],
   "source": [
    "# Move the credentials file (creds.json) into the .secrets/ folder\n",
    "# Note you might need to change the name in this command to match the file name\n",
    "!mv creds.json .secrets/"
   ]
  },
  {
   "cell_type": "code",
   "execution_count": 62,
   "metadata": {
    "hidden": true
   },
   "outputs": [
    {
     "name": "stdout",
     "output_type": "stream",
     "text": [
      "\u001b[34m.\u001b[m\u001b[m\r\n",
      "\u001b[34m..\u001b[m\u001b[m\r\n",
      "\u001b[34m.ipynb_checkpoints\u001b[m\u001b[m\r\n",
      "\u001b[34m.secrets\u001b[m\u001b[m\r\n",
      "01 - Data Science and the Data Science Toolkit (1).pdf\r\n",
      "02 - Introducing The Terminal.pdf\r\n",
      "03 - Introducing Git and GitHub.pdf\r\n",
      "05 - PythonDataManipulation.ipynb\r\n",
      "06 - DataAnalysis-CSV.ipynb\r\n",
      "07 - DataAnalysis-JSON.ipynb\r\n",
      "08_Pandas_Dataframes.ipynb\r\n",
      "09_Plotting_With_Pandas_Matplotlib.ipynb\r\n",
      "10_Pandas_Data_Cleaning.ipynb\r\n",
      "11_Aggregating_Combining_Dataframes.ipynb\r\n",
      "12_Descriptive_Stats.ipynb\r\n",
      "13_Sql_Queries.ipynb\r\n",
      "14_SQL_Joins_Aggregations.ipynb\r\n",
      "15_Sql_Subqueries.ipynb\r\n",
      "16_APIs.ipynb\r\n",
      "16_Web Scraping_Slides.pdf\r\n",
      "17_Webscraping.ipynb\r\n",
      "\u001b[34mCompleted Lectures\u001b[m\u001b[m\r\n",
      "Daniel.txt\r\n",
      "P1-Code-Challenge-Review.ipynb\r\n",
      "Placeholder.txt\r\n",
      "Python-Loops-and-Functions_blank.ipynb\r\n",
      "\u001b[34mdata\u001b[m\u001b[m\r\n",
      "\u001b[34mimages\u001b[m\u001b[m\r\n",
      "\u001b[34msrc\u001b[m\u001b[m\r\n"
     ]
    }
   ],
   "source": [
    "# Make sure the credentials file are no longer in the repo folder...\n",
    "!ls -a"
   ]
  },
  {
   "cell_type": "code",
   "execution_count": 63,
   "metadata": {
    "hidden": true
   },
   "outputs": [
    {
     "name": "stdout",
     "output_type": "stream",
     "text": [
      "\u001b[34m.\u001b[m\u001b[m          \u001b[34m..\u001b[m\u001b[m         creds.json\r\n"
     ]
    }
   ],
   "source": [
    "# .. and the file should now be in .secrets/\n",
    "!ls -a .secrets/"
   ]
  },
  {
   "cell_type": "markdown",
   "metadata": {
    "heading_collapsed": true,
    "hidden": true
   },
   "source": [
    "### Step 3 - Add the `.secrets/` folder to the `.gitignore` file"
   ]
  },
  {
   "cell_type": "markdown",
   "metadata": {
    "hidden": true
   },
   "source": [
    "> We actually already did this in the current `.gitignore`! But it's good to remember to do this with future projects"
   ]
  },
  {
   "cell_type": "code",
   "execution_count": 68,
   "metadata": {
    "hidden": true,
    "scrolled": true
   },
   "outputs": [
    {
     "name": "stdout",
     "output_type": "stream",
     "text": [
      "# mypy\r\n",
      ".mypy_cache/\r\n",
      ".dmypy.json\r\n",
      "dmypy.json\r\n",
      "\r\n",
      "# Pyre type checker\r\n",
      ".pyre/\r\n",
      "\r\n",
      "*.DS_Store\r\n",
      ".secrets/\r\n"
     ]
    }
   ],
   "source": [
    "# View current .gitignore\n",
    "!tail ../.gitignore"
   ]
  },
  {
   "cell_type": "markdown",
   "metadata": {
    "hidden": true
   },
   "source": [
    "To add that line to the `.gitignore` file, we can open it in an editor (just remember the file is hidden) or just append to the end of the file like so:"
   ]
  },
  {
   "cell_type": "markdown",
   "metadata": {
    "hidden": true
   },
   "source": [
    "```bash\n",
    "echo \".secrets/\" >> .gitignore\n",
    "```"
   ]
  },
  {
   "cell_type": "markdown",
   "metadata": {
    "heading_collapsed": true,
    "hidden": true
   },
   "source": [
    "### Check If It Worked!"
   ]
  },
  {
   "cell_type": "code",
   "execution_count": 69,
   "metadata": {
    "hidden": true
   },
   "outputs": [],
   "source": [
    "with open('.secrets/creds.json') as f:\n",
    "    creds = json.load(f)"
   ]
  },
  {
   "cell_type": "markdown",
   "metadata": {
    "heading_collapsed": true,
    "hidden": true
   },
   "source": [
    "## Making our Request"
   ]
  },
  {
   "cell_type": "markdown",
   "metadata": {
    "hidden": true
   },
   "source": [
    "[Yelp API Documentation](https://www.yelp.com/developers/documentation/v3/get_started)\n",
    "\n",
    "Let's look at an example request and dissect it into its consituent parts:"
   ]
  },
  {
   "cell_type": "code",
   "execution_count": 83,
   "metadata": {
    "hidden": true
   },
   "outputs": [
    {
     "name": "stdout",
     "output_type": "stream",
     "text": [
      "200\n"
     ]
    }
   ],
   "source": [
    "url = 'https://api.yelp.com/v3/businesses/search'\n",
    "term = 'Hamburgers'\n",
    "SEARCH_LIMIT = 10\n",
    "headers = {\n",
    "    'Authorization': 'Bearer ' + creds['key_yelp']\n",
    "}\n",
    "\n",
    "url_params = {\n",
    "    'term': term,\n",
    "    'location': 'Seattle+WA',\n",
    "    'limit': SEARCH_LIMIT,\n",
    "    'offset': 0\n",
    "}\n",
    "response = requests.get(url, headers=headers, params=url_params)\n",
    "print(response.status_code)"
   ]
  },
  {
   "cell_type": "code",
   "execution_count": 84,
   "metadata": {},
   "outputs": [
    {
     "data": {
      "text/plain": [
       "'{\"businesses\": [{\"id\": \"9fC3l9DdmPx3hEydsQ0wQw\", \"alias\": \"burbs-burgers-ballard-seattle\", \"name\": \"Burb\\'s Burgers Ballard\", \"image_url\": \"https://s3-media3.fl.yelpcdn.com/bphoto/6IQsqrNVNut6pBHusrjZsw/o.jpg\", \"is_closed\": false, \"url\": \"https://www.yelp.com/biz/burbs-burgers-ballard-seattle?adjust_creative=g0c-y7BAReLv0wMtT9JGzA&utm_campaign=yelp_api_v3&utm_medium=api_v3_business_search&utm_source=g0c-y7BAReLv0wMtT9JGzA\", \"review_count\": 14, \"categories\": [{\"alias\": \"burgers\", \"title\": \"Burgers\"}], \"rating\": 5.0, \"coordinates\": {\"latitude\": 47.66591, \"longitude\": -122.37389}, \"transactions\": [], \"location\": {\"address1\": \"5101 14th Ave NW\", \"address2\": \"Ste 101\", \"address3\": \"\", \"city\": \"Seattle\", \"zip_code\": \"98107\", \"country\": \"US\", \"state\": \"WA\", \"display_address\": [\"5101 14th Ave NW\", \"Ste 101\", \"Seattle, WA 98107\"]}, \"phone\": \"+12064203015\", \"display_phone\": \"(206) 420-3015\", \"distance\": 5351.246250185157}, {\"id\": \"smOVPL87Q0XHACrVMPa8qw\", \"alias\": \"8oz-burger-and-co-seattle\", \"name\": \"8oz Burger & Co\", \"image_url\": \"https://s3-media2.fl.yelpcdn.com/bphoto/7UsZhlZGyhG7OalId1MLtg/o.jpg\", \"is_closed\": false, \"url\": \"https://www.yelp.com/biz/8oz-burger-and-co-seattle?adjust_creative=g0c-y7BAReLv0wMtT9JGzA&utm_campaign=yelp_api_v3&utm_medium=api_v3_business_search&utm_source=g0c-y7BAReLv0wMtT9JGzA\", \"review_count\": 1733, \"categories\": [{\"alias\": \"burgers\", \"title\": \"Burgers\"}, {\"alias\": \"bars\", \"title\": \"Bars\"}, {\"alias\": \"icecream\", \"title\": \"Ice Cream & Frozen Yogurt\"}], \"rating\": 4.0, \"coordinates\": {\"latitude\": 47.61320990365378, \"longitude\": -122.32105000357508}, \"transactions\": [\"delivery\", \"pickup\"], \"price\": \"$$\", \"location\": {\"address1\": \"1401 Broadway\", \"address2\": null, \"address3\": \"\", \"city\": \"Seattle\", \"zip_code\": \"98122\", \"country\": \"US\", \"state\": \"WA\", \"display_address\": [\"1401 Broadway\", \"Seattle, WA 98122\"]}, \"phone\": \"+12064665989\", \"display_phone\": \"(206) 466-5989\", \"distance\": 1737.1562200267515}, {\"id\": \"Lw7NmZ3j-WEye97ywEmkXQ\", \"alias\": \"vons-1000-spirits-seattle-4\", \"name\": \"Von\\'s 1000 Spirits\", \"image_url\": \"https://s3-media4.fl.yelpcdn.com/bphoto/Of2TsjfEA07_PQ4IG_XnhA/o.jpg\", \"is_closed\": false, \"url\": \"https://www.yelp.com/biz/vons-1000-spirits-seattle-4?adjust_creative=g0c-y7BAReLv0wMtT9JGzA&utm_campaign=yelp_api_v3&utm_medium=api_v3_business_search&utm_source=g0c-y7BAReLv0wMtT9JGzA\", \"review_count\": 2364, \"categories\": [{\"alias\": \"newamerican\", \"title\": \"American (New)\"}, {\"alias\": \"burgers\", \"title\": \"Burgers\"}, {\"alias\": \"pubs\", \"title\": \"Pubs\"}], \"rating\": 4.5, \"coordinates\": {\"latitude\": 47.606565, \"longitude\": -122.338337}, \"transactions\": [\"delivery\", \"pickup\"], \"price\": \"$$\", \"location\": {\"address1\": \"1225 1st Ave\", \"address2\": \"\", \"address3\": \"\", \"city\": \"Seattle\", \"zip_code\": \"98101\", \"country\": \"US\", \"state\": \"WA\", \"display_address\": [\"1225 1st Ave\", \"Seattle, WA 98101\"]}, \"phone\": \"+12066218667\", \"display_phone\": \"(206) 621-8667\", \"distance\": 2107.1519004702554}, {\"id\": \"aSh2Nz2WoQn6m8g256OxcA\", \"alias\": \"red-mill-burgers-seattle\", \"name\": \"Red Mill Burgers\", \"image_url\": \"https://s3-media2.fl.yelpcdn.com/bphoto/kX9ZsnN8k0MNLsWwJqsAzA/o.jpg\", \"is_closed\": false, \"url\": \"https://www.yelp.com/biz/red-mill-burgers-seattle?adjust_creative=g0c-y7BAReLv0wMtT9JGzA&utm_campaign=yelp_api_v3&utm_medium=api_v3_business_search&utm_source=g0c-y7BAReLv0wMtT9JGzA\", \"review_count\": 1376, \"categories\": [{\"alias\": \"burgers\", \"title\": \"Burgers\"}], \"rating\": 4.0, \"coordinates\": {\"latitude\": 47.677847002847, \"longitude\": -122.35471520758}, \"transactions\": [\"delivery\"], \"price\": \"$$\", \"location\": {\"address1\": \"312 N 67th St\", \"address2\": \"\", \"address3\": \"\", \"city\": \"Seattle\", \"zip_code\": \"98103\", \"country\": \"US\", \"state\": \"WA\", \"display_address\": [\"312 N 67th St\", \"Seattle, WA 98103\"]}, \"phone\": \"+12067836362\", \"display_phone\": \"(206) 783-6362\", \"distance\": 6004.581728693526}, {\"id\": \"x8BFKHu7ajvXLOA0_33bbg\", \"alias\": \"old-stove-brewing-seattle-3\", \"name\": \"Old Stove Brewing\", \"image_url\": \"https://s3-media3.fl.yelpcdn.com/bphoto/d-IJL6kQYrptgcozpyEn4Q/o.jpg\", \"is_closed\": false, \"url\": \"https://www.yelp.com/biz/old-stove-brewing-seattle-3?adjust_creative=g0c-y7BAReLv0wMtT9JGzA&utm_campaign=yelp_api_v3&utm_medium=api_v3_business_search&utm_source=g0c-y7BAReLv0wMtT9JGzA\", \"review_count\": 873, \"categories\": [{\"alias\": \"brewpubs\", \"title\": \"Brewpubs\"}, {\"alias\": \"seafood\", \"title\": \"Seafood\"}, {\"alias\": \"burgers\", \"title\": \"Burgers\"}], \"rating\": 4.5, \"coordinates\": {\"latitude\": 47.60947174117716, \"longitude\": -122.34255894939054}, \"transactions\": [\"delivery\", \"pickup\"], \"price\": \"$$\", \"location\": {\"address1\": \"1901 Western Ave\", \"address2\": \"Ste A\", \"address3\": null, \"city\": \"Seattle\", \"zip_code\": \"98101\", \"country\": \"US\", \"state\": \"WA\", \"display_address\": [\"1901 Western Ave\", \"Ste A\", \"Seattle, WA 98101\"]}, \"phone\": \"+12066026120\", \"display_phone\": \"(206) 602-6120\", \"distance\": 1850.2897834848359}, {\"id\": \"xcZZ0Gm81bl8xQfvws231A\", \"alias\": \"uneeda-burger-seattle\", \"name\": \"Uneeda Burger\", \"image_url\": \"https://s3-media3.fl.yelpcdn.com/bphoto/u0Cbd9ccI5TcZXDBhEVAwQ/o.jpg\", \"is_closed\": false, \"url\": \"https://www.yelp.com/biz/uneeda-burger-seattle?adjust_creative=g0c-y7BAReLv0wMtT9JGzA&utm_campaign=yelp_api_v3&utm_medium=api_v3_business_search&utm_source=g0c-y7BAReLv0wMtT9JGzA\", \"review_count\": 1354, \"categories\": [{\"alias\": \"burgers\", \"title\": \"Burgers\"}, {\"alias\": \"sandwiches\", \"title\": \"Sandwiches\"}], \"rating\": 4.0, \"coordinates\": {\"latitude\": 47.65952, \"longitude\": -122.34976}, \"transactions\": [\"delivery\", \"pickup\"], \"price\": \"$$\", \"location\": {\"address1\": \"4302 Fremont Ave N\", \"address2\": \"\", \"address3\": \"\", \"city\": \"Seattle\", \"zip_code\": \"98103\", \"country\": \"US\", \"state\": \"WA\", \"display_address\": [\"4302 Fremont Ave N\", \"Seattle, WA 98103\"]}, \"phone\": \"+12065472600\", \"display_phone\": \"(206) 547-2600\", \"distance\": 3930.4795829547925}, {\"id\": \"VSWKoV1zTtjyEXAFJwdeHA\", \"alias\": \"lil-woodys-seattle\", \"name\": \"Li\\'l Woody\\'s\", \"image_url\": \"https://s3-media4.fl.yelpcdn.com/bphoto/yOo7a3gEyshNkIiF7Z7znQ/o.jpg\", \"is_closed\": false, \"url\": \"https://www.yelp.com/biz/lil-woodys-seattle?adjust_creative=g0c-y7BAReLv0wMtT9JGzA&utm_campaign=yelp_api_v3&utm_medium=api_v3_business_search&utm_source=g0c-y7BAReLv0wMtT9JGzA\", \"review_count\": 991, \"categories\": [{\"alias\": \"burgers\", \"title\": \"Burgers\"}, {\"alias\": \"juicebars\", \"title\": \"Juice Bars & Smoothies\"}, {\"alias\": \"hotdogs\", \"title\": \"Fast Food\"}], \"rating\": 3.5, \"coordinates\": {\"latitude\": 47.61495, \"longitude\": -122.32818}, \"transactions\": [\"delivery\", \"pickup\"], \"price\": \"$$\", \"location\": {\"address1\": \"1211 Pine St\", \"address2\": null, \"address3\": \"\", \"city\": \"Seattle\", \"zip_code\": \"98101\", \"country\": \"US\", \"state\": \"WA\", \"display_address\": [\"1211 Pine St\", \"Seattle, WA 98101\"]}, \"phone\": \"+12064574148\", \"display_phone\": \"(206) 457-4148\", \"distance\": 1285.9865204947105}, {\"id\": \"i5l44iAFeMC80o4vDLh3Gg\", \"alias\": \"west-seattle-swinery-seattle\", \"name\": \"West Seattle Swinery\", \"image_url\": \"https://s3-media2.fl.yelpcdn.com/bphoto/SvIGBtL00-pDwQlORFpm8A/o.jpg\", \"is_closed\": false, \"url\": \"https://www.yelp.com/biz/west-seattle-swinery-seattle?adjust_creative=g0c-y7BAReLv0wMtT9JGzA&utm_campaign=yelp_api_v3&utm_medium=api_v3_business_search&utm_source=g0c-y7BAReLv0wMtT9JGzA\", \"review_count\": 394, \"categories\": [{\"alias\": \"meats\", \"title\": \"Meat Shops\"}, {\"alias\": \"burgers\", \"title\": \"Burgers\"}, {\"alias\": \"tradamerican\", \"title\": \"American (Traditional)\"}], \"rating\": 4.5, \"coordinates\": {\"latitude\": 47.575356, \"longitude\": -122.387147}, \"transactions\": [\"delivery\"], \"price\": \"$$\", \"location\": {\"address1\": \"3207 California Ave SW\", \"address2\": \"\", \"address3\": \"\", \"city\": \"Seattle\", \"zip_code\": \"98116\", \"country\": \"US\", \"state\": \"WA\", \"display_address\": [\"3207 California Ave SW\", \"Seattle, WA 98116\"]}, \"phone\": \"+12069324211\", \"display_phone\": \"(206) 932-4211\", \"distance\": 6780.729764273978}, {\"id\": \"3sJI8y8fr9gWpq8Uw_jJ2w\", \"alias\": \"206-burger-company-seattle-6\", \"name\": \"206 Burger Company\", \"image_url\": \"https://s3-media1.fl.yelpcdn.com/bphoto/CljTsOK_XSYCMpdAc-spGA/o.jpg\", \"is_closed\": false, \"url\": \"https://www.yelp.com/biz/206-burger-company-seattle-6?adjust_creative=g0c-y7BAReLv0wMtT9JGzA&utm_campaign=yelp_api_v3&utm_medium=api_v3_business_search&utm_source=g0c-y7BAReLv0wMtT9JGzA\", \"review_count\": 43, \"categories\": [{\"alias\": \"burgers\", \"title\": \"Burgers\"}], \"rating\": 4.5, \"coordinates\": {\"latitude\": 47.64840314, \"longitude\": -122.3554174}, \"transactions\": [\"delivery\", \"pickup\"], \"location\": {\"address1\": \"101 Nickerson St\", \"address2\": \"Ste 100\", \"address3\": \"\", \"city\": \"Seattle\", \"zip_code\": \"98109\", \"country\": \"US\", \"state\": \"WA\", \"display_address\": [\"101 Nickerson St\", \"Ste 100\", \"Seattle, WA 98109\"]}, \"phone\": \"+12064202801\", \"display_phone\": \"(206) 420-2801\", \"distance\": 2959.125193373209}, {\"id\": \"mo36MO1yO1zxNh5f1bJ9fw\", \"alias\": \"pick-quick-drive-in-seattle\", \"name\": \"PICK-QUICK Drive In\", \"image_url\": \"https://s3-media3.fl.yelpcdn.com/bphoto/lIx9buS27azk1rqAxW0CUA/o.jpg\", \"is_closed\": false, \"url\": \"https://www.yelp.com/biz/pick-quick-drive-in-seattle?adjust_creative=g0c-y7BAReLv0wMtT9JGzA&utm_campaign=yelp_api_v3&utm_medium=api_v3_business_search&utm_source=g0c-y7BAReLv0wMtT9JGzA\", \"review_count\": 181, \"categories\": [{\"alias\": \"hotdogs\", \"title\": \"Fast Food\"}, {\"alias\": \"burgers\", \"title\": \"Burgers\"}, {\"alias\": \"icecream\", \"title\": \"Ice Cream & Frozen Yogurt\"}], \"rating\": 3.5, \"coordinates\": {\"latitude\": 47.57597, \"longitude\": -122.32795}, \"transactions\": [\"delivery\", \"pickup\"], \"price\": \"$\", \"location\": {\"address1\": \"2990 4th Ave S\", \"address2\": \"\", \"address3\": null, \"city\": \"Seattle\", \"zip_code\": \"98134\", \"country\": \"US\", \"state\": \"WA\", \"display_address\": [\"2990 4th Ave S\", \"Seattle, WA 98134\"]}, \"phone\": \"+12062071111\", \"display_phone\": \"(206) 207-1111\", \"distance\": 5532.152114455105}], \"total\": 1200, \"region\": {\"center\": {\"longitude\": -122.33551025390625, \"latitude\": 47.62541904760501}}}'"
      ]
     },
     "execution_count": 84,
     "metadata": {},
     "output_type": "execute_result"
    }
   ],
   "source": [
    "response.text"
   ]
  },
  {
   "cell_type": "markdown",
   "metadata": {
    "heading_collapsed": true,
    "hidden": true
   },
   "source": [
    "## Breaking Down the Request"
   ]
  },
  {
   "cell_type": "markdown",
   "metadata": {
    "hidden": true
   },
   "source": [
    "As you can see, there are three main parts to our request.  \n",
    "  \n",
    "They are:\n",
    "* The URL\n",
    "* The header\n",
    "* The parameters\n",
    "  \n",
    "The URL is found in the documentation (`https://api.yelp.com/v3`) and we are using the Business Search endpoint (`/businesses/search`).\n",
    "\n",
    "The header is required by the Yelp API for authorization. It has a strict form where 'Authorization' is the key and 'Bearer YourApiKey' is the value. We make a `header` dictionary to pass into our `.get()` method.\n",
    "\n",
    "The parameters contain information we pass into the query to get the data we want. Valid key parameters by which to structure your queries, are described in the [Yelp API Documentation](https://www.yelp.com/developers/documentation/v3/get_started). We make a `url_params` dictionary to pass into our `.get()` method, which then adds the query parameters to the URL.\n",
    "\n",
    "**Important note re: parameters**: We need to replace spaces with \"+\" - this is a common API requirement because URLs cannot contain spaces. (Note that the header itself isn't directly added into the URL itself and as such, the space between 'Bearer' and YourApiKey is fine.)"
   ]
  },
  {
   "cell_type": "markdown",
   "metadata": {
    "heading_collapsed": true,
    "hidden": true
   },
   "source": [
    "## The Response"
   ]
  },
  {
   "cell_type": "markdown",
   "metadata": {
    "hidden": true
   },
   "source": [
    "As before, our response object has both a status code, as well as the data itself. With that, let's start with a little data exploration!"
   ]
  },
  {
   "cell_type": "code",
   "execution_count": 86,
   "metadata": {
    "hidden": true
   },
   "outputs": [
    {
     "data": {
      "text/plain": [
       "dict_keys(['businesses', 'total', 'region'])"
      ]
     },
     "execution_count": 86,
     "metadata": {},
     "output_type": "execute_result"
    }
   ],
   "source": [
    "response.json().keys()"
   ]
  },
  {
   "cell_type": "code",
   "execution_count": 87,
   "metadata": {
    "hidden": true
   },
   "outputs": [
    {
     "data": {
      "text/plain": [
       "[{'id': '9fC3l9DdmPx3hEydsQ0wQw',\n",
       "  'alias': 'burbs-burgers-ballard-seattle',\n",
       "  'name': \"Burb's Burgers Ballard\",\n",
       "  'image_url': 'https://s3-media3.fl.yelpcdn.com/bphoto/6IQsqrNVNut6pBHusrjZsw/o.jpg',\n",
       "  'is_closed': False,\n",
       "  'url': 'https://www.yelp.com/biz/burbs-burgers-ballard-seattle?adjust_creative=g0c-y7BAReLv0wMtT9JGzA&utm_campaign=yelp_api_v3&utm_medium=api_v3_business_search&utm_source=g0c-y7BAReLv0wMtT9JGzA',\n",
       "  'review_count': 14,\n",
       "  'categories': [{'alias': 'burgers', 'title': 'Burgers'}],\n",
       "  'rating': 5.0,\n",
       "  'coordinates': {'latitude': 47.66591, 'longitude': -122.37389},\n",
       "  'transactions': [],\n",
       "  'location': {'address1': '5101 14th Ave NW',\n",
       "   'address2': 'Ste 101',\n",
       "   'address3': '',\n",
       "   'city': 'Seattle',\n",
       "   'zip_code': '98107',\n",
       "   'country': 'US',\n",
       "   'state': 'WA',\n",
       "   'display_address': ['5101 14th Ave NW', 'Ste 101', 'Seattle, WA 98107']},\n",
       "  'phone': '+12064203015',\n",
       "  'display_phone': '(206) 420-3015',\n",
       "  'distance': 5351.246250185157},\n",
       " {'id': 'smOVPL87Q0XHACrVMPa8qw',\n",
       "  'alias': '8oz-burger-and-co-seattle',\n",
       "  'name': '8oz Burger & Co',\n",
       "  'image_url': 'https://s3-media2.fl.yelpcdn.com/bphoto/7UsZhlZGyhG7OalId1MLtg/o.jpg',\n",
       "  'is_closed': False,\n",
       "  'url': 'https://www.yelp.com/biz/8oz-burger-and-co-seattle?adjust_creative=g0c-y7BAReLv0wMtT9JGzA&utm_campaign=yelp_api_v3&utm_medium=api_v3_business_search&utm_source=g0c-y7BAReLv0wMtT9JGzA',\n",
       "  'review_count': 1733,\n",
       "  'categories': [{'alias': 'burgers', 'title': 'Burgers'},\n",
       "   {'alias': 'bars', 'title': 'Bars'},\n",
       "   {'alias': 'icecream', 'title': 'Ice Cream & Frozen Yogurt'}],\n",
       "  'rating': 4.0,\n",
       "  'coordinates': {'latitude': 47.61320990365378,\n",
       "   'longitude': -122.32105000357508},\n",
       "  'transactions': ['delivery', 'pickup'],\n",
       "  'price': '$$',\n",
       "  'location': {'address1': '1401 Broadway',\n",
       "   'address2': None,\n",
       "   'address3': '',\n",
       "   'city': 'Seattle',\n",
       "   'zip_code': '98122',\n",
       "   'country': 'US',\n",
       "   'state': 'WA',\n",
       "   'display_address': ['1401 Broadway', 'Seattle, WA 98122']},\n",
       "  'phone': '+12064665989',\n",
       "  'display_phone': '(206) 466-5989',\n",
       "  'distance': 1737.1562200267515},\n",
       " {'id': 'Lw7NmZ3j-WEye97ywEmkXQ',\n",
       "  'alias': 'vons-1000-spirits-seattle-4',\n",
       "  'name': \"Von's 1000 Spirits\",\n",
       "  'image_url': 'https://s3-media4.fl.yelpcdn.com/bphoto/Of2TsjfEA07_PQ4IG_XnhA/o.jpg',\n",
       "  'is_closed': False,\n",
       "  'url': 'https://www.yelp.com/biz/vons-1000-spirits-seattle-4?adjust_creative=g0c-y7BAReLv0wMtT9JGzA&utm_campaign=yelp_api_v3&utm_medium=api_v3_business_search&utm_source=g0c-y7BAReLv0wMtT9JGzA',\n",
       "  'review_count': 2364,\n",
       "  'categories': [{'alias': 'newamerican', 'title': 'American (New)'},\n",
       "   {'alias': 'burgers', 'title': 'Burgers'},\n",
       "   {'alias': 'pubs', 'title': 'Pubs'}],\n",
       "  'rating': 4.5,\n",
       "  'coordinates': {'latitude': 47.606565, 'longitude': -122.338337},\n",
       "  'transactions': ['delivery', 'pickup'],\n",
       "  'price': '$$',\n",
       "  'location': {'address1': '1225 1st Ave',\n",
       "   'address2': '',\n",
       "   'address3': '',\n",
       "   'city': 'Seattle',\n",
       "   'zip_code': '98101',\n",
       "   'country': 'US',\n",
       "   'state': 'WA',\n",
       "   'display_address': ['1225 1st Ave', 'Seattle, WA 98101']},\n",
       "  'phone': '+12066218667',\n",
       "  'display_phone': '(206) 621-8667',\n",
       "  'distance': 2107.1519004702554},\n",
       " {'id': 'aSh2Nz2WoQn6m8g256OxcA',\n",
       "  'alias': 'red-mill-burgers-seattle',\n",
       "  'name': 'Red Mill Burgers',\n",
       "  'image_url': 'https://s3-media2.fl.yelpcdn.com/bphoto/kX9ZsnN8k0MNLsWwJqsAzA/o.jpg',\n",
       "  'is_closed': False,\n",
       "  'url': 'https://www.yelp.com/biz/red-mill-burgers-seattle?adjust_creative=g0c-y7BAReLv0wMtT9JGzA&utm_campaign=yelp_api_v3&utm_medium=api_v3_business_search&utm_source=g0c-y7BAReLv0wMtT9JGzA',\n",
       "  'review_count': 1376,\n",
       "  'categories': [{'alias': 'burgers', 'title': 'Burgers'}],\n",
       "  'rating': 4.0,\n",
       "  'coordinates': {'latitude': 47.677847002847, 'longitude': -122.35471520758},\n",
       "  'transactions': ['delivery'],\n",
       "  'price': '$$',\n",
       "  'location': {'address1': '312 N 67th St',\n",
       "   'address2': '',\n",
       "   'address3': '',\n",
       "   'city': 'Seattle',\n",
       "   'zip_code': '98103',\n",
       "   'country': 'US',\n",
       "   'state': 'WA',\n",
       "   'display_address': ['312 N 67th St', 'Seattle, WA 98103']},\n",
       "  'phone': '+12067836362',\n",
       "  'display_phone': '(206) 783-6362',\n",
       "  'distance': 6004.581728693526},\n",
       " {'id': 'x8BFKHu7ajvXLOA0_33bbg',\n",
       "  'alias': 'old-stove-brewing-seattle-3',\n",
       "  'name': 'Old Stove Brewing',\n",
       "  'image_url': 'https://s3-media3.fl.yelpcdn.com/bphoto/d-IJL6kQYrptgcozpyEn4Q/o.jpg',\n",
       "  'is_closed': False,\n",
       "  'url': 'https://www.yelp.com/biz/old-stove-brewing-seattle-3?adjust_creative=g0c-y7BAReLv0wMtT9JGzA&utm_campaign=yelp_api_v3&utm_medium=api_v3_business_search&utm_source=g0c-y7BAReLv0wMtT9JGzA',\n",
       "  'review_count': 873,\n",
       "  'categories': [{'alias': 'brewpubs', 'title': 'Brewpubs'},\n",
       "   {'alias': 'seafood', 'title': 'Seafood'},\n",
       "   {'alias': 'burgers', 'title': 'Burgers'}],\n",
       "  'rating': 4.5,\n",
       "  'coordinates': {'latitude': 47.60947174117716,\n",
       "   'longitude': -122.34255894939054},\n",
       "  'transactions': ['delivery', 'pickup'],\n",
       "  'price': '$$',\n",
       "  'location': {'address1': '1901 Western Ave',\n",
       "   'address2': 'Ste A',\n",
       "   'address3': None,\n",
       "   'city': 'Seattle',\n",
       "   'zip_code': '98101',\n",
       "   'country': 'US',\n",
       "   'state': 'WA',\n",
       "   'display_address': ['1901 Western Ave', 'Ste A', 'Seattle, WA 98101']},\n",
       "  'phone': '+12066026120',\n",
       "  'display_phone': '(206) 602-6120',\n",
       "  'distance': 1850.2897834848359},\n",
       " {'id': 'xcZZ0Gm81bl8xQfvws231A',\n",
       "  'alias': 'uneeda-burger-seattle',\n",
       "  'name': 'Uneeda Burger',\n",
       "  'image_url': 'https://s3-media3.fl.yelpcdn.com/bphoto/u0Cbd9ccI5TcZXDBhEVAwQ/o.jpg',\n",
       "  'is_closed': False,\n",
       "  'url': 'https://www.yelp.com/biz/uneeda-burger-seattle?adjust_creative=g0c-y7BAReLv0wMtT9JGzA&utm_campaign=yelp_api_v3&utm_medium=api_v3_business_search&utm_source=g0c-y7BAReLv0wMtT9JGzA',\n",
       "  'review_count': 1354,\n",
       "  'categories': [{'alias': 'burgers', 'title': 'Burgers'},\n",
       "   {'alias': 'sandwiches', 'title': 'Sandwiches'}],\n",
       "  'rating': 4.0,\n",
       "  'coordinates': {'latitude': 47.65952, 'longitude': -122.34976},\n",
       "  'transactions': ['delivery', 'pickup'],\n",
       "  'price': '$$',\n",
       "  'location': {'address1': '4302 Fremont Ave N',\n",
       "   'address2': '',\n",
       "   'address3': '',\n",
       "   'city': 'Seattle',\n",
       "   'zip_code': '98103',\n",
       "   'country': 'US',\n",
       "   'state': 'WA',\n",
       "   'display_address': ['4302 Fremont Ave N', 'Seattle, WA 98103']},\n",
       "  'phone': '+12065472600',\n",
       "  'display_phone': '(206) 547-2600',\n",
       "  'distance': 3930.4795829547925},\n",
       " {'id': 'VSWKoV1zTtjyEXAFJwdeHA',\n",
       "  'alias': 'lil-woodys-seattle',\n",
       "  'name': \"Li'l Woody's\",\n",
       "  'image_url': 'https://s3-media4.fl.yelpcdn.com/bphoto/yOo7a3gEyshNkIiF7Z7znQ/o.jpg',\n",
       "  'is_closed': False,\n",
       "  'url': 'https://www.yelp.com/biz/lil-woodys-seattle?adjust_creative=g0c-y7BAReLv0wMtT9JGzA&utm_campaign=yelp_api_v3&utm_medium=api_v3_business_search&utm_source=g0c-y7BAReLv0wMtT9JGzA',\n",
       "  'review_count': 991,\n",
       "  'categories': [{'alias': 'burgers', 'title': 'Burgers'},\n",
       "   {'alias': 'juicebars', 'title': 'Juice Bars & Smoothies'},\n",
       "   {'alias': 'hotdogs', 'title': 'Fast Food'}],\n",
       "  'rating': 3.5,\n",
       "  'coordinates': {'latitude': 47.61495, 'longitude': -122.32818},\n",
       "  'transactions': ['delivery', 'pickup'],\n",
       "  'price': '$$',\n",
       "  'location': {'address1': '1211 Pine St',\n",
       "   'address2': None,\n",
       "   'address3': '',\n",
       "   'city': 'Seattle',\n",
       "   'zip_code': '98101',\n",
       "   'country': 'US',\n",
       "   'state': 'WA',\n",
       "   'display_address': ['1211 Pine St', 'Seattle, WA 98101']},\n",
       "  'phone': '+12064574148',\n",
       "  'display_phone': '(206) 457-4148',\n",
       "  'distance': 1285.9865204947105},\n",
       " {'id': 'i5l44iAFeMC80o4vDLh3Gg',\n",
       "  'alias': 'west-seattle-swinery-seattle',\n",
       "  'name': 'West Seattle Swinery',\n",
       "  'image_url': 'https://s3-media2.fl.yelpcdn.com/bphoto/SvIGBtL00-pDwQlORFpm8A/o.jpg',\n",
       "  'is_closed': False,\n",
       "  'url': 'https://www.yelp.com/biz/west-seattle-swinery-seattle?adjust_creative=g0c-y7BAReLv0wMtT9JGzA&utm_campaign=yelp_api_v3&utm_medium=api_v3_business_search&utm_source=g0c-y7BAReLv0wMtT9JGzA',\n",
       "  'review_count': 394,\n",
       "  'categories': [{'alias': 'meats', 'title': 'Meat Shops'},\n",
       "   {'alias': 'burgers', 'title': 'Burgers'},\n",
       "   {'alias': 'tradamerican', 'title': 'American (Traditional)'}],\n",
       "  'rating': 4.5,\n",
       "  'coordinates': {'latitude': 47.575356, 'longitude': -122.387147},\n",
       "  'transactions': ['delivery'],\n",
       "  'price': '$$',\n",
       "  'location': {'address1': '3207 California Ave SW',\n",
       "   'address2': '',\n",
       "   'address3': '',\n",
       "   'city': 'Seattle',\n",
       "   'zip_code': '98116',\n",
       "   'country': 'US',\n",
       "   'state': 'WA',\n",
       "   'display_address': ['3207 California Ave SW', 'Seattle, WA 98116']},\n",
       "  'phone': '+12069324211',\n",
       "  'display_phone': '(206) 932-4211',\n",
       "  'distance': 6780.729764273978},\n",
       " {'id': '3sJI8y8fr9gWpq8Uw_jJ2w',\n",
       "  'alias': '206-burger-company-seattle-6',\n",
       "  'name': '206 Burger Company',\n",
       "  'image_url': 'https://s3-media1.fl.yelpcdn.com/bphoto/CljTsOK_XSYCMpdAc-spGA/o.jpg',\n",
       "  'is_closed': False,\n",
       "  'url': 'https://www.yelp.com/biz/206-burger-company-seattle-6?adjust_creative=g0c-y7BAReLv0wMtT9JGzA&utm_campaign=yelp_api_v3&utm_medium=api_v3_business_search&utm_source=g0c-y7BAReLv0wMtT9JGzA',\n",
       "  'review_count': 43,\n",
       "  'categories': [{'alias': 'burgers', 'title': 'Burgers'}],\n",
       "  'rating': 4.5,\n",
       "  'coordinates': {'latitude': 47.64840314, 'longitude': -122.3554174},\n",
       "  'transactions': ['delivery', 'pickup'],\n",
       "  'location': {'address1': '101 Nickerson St',\n",
       "   'address2': 'Ste 100',\n",
       "   'address3': '',\n",
       "   'city': 'Seattle',\n",
       "   'zip_code': '98109',\n",
       "   'country': 'US',\n",
       "   'state': 'WA',\n",
       "   'display_address': ['101 Nickerson St', 'Ste 100', 'Seattle, WA 98109']},\n",
       "  'phone': '+12064202801',\n",
       "  'display_phone': '(206) 420-2801',\n",
       "  'distance': 2959.125193373209},\n",
       " {'id': 'mo36MO1yO1zxNh5f1bJ9fw',\n",
       "  'alias': 'pick-quick-drive-in-seattle',\n",
       "  'name': 'PICK-QUICK Drive In',\n",
       "  'image_url': 'https://s3-media3.fl.yelpcdn.com/bphoto/lIx9buS27azk1rqAxW0CUA/o.jpg',\n",
       "  'is_closed': False,\n",
       "  'url': 'https://www.yelp.com/biz/pick-quick-drive-in-seattle?adjust_creative=g0c-y7BAReLv0wMtT9JGzA&utm_campaign=yelp_api_v3&utm_medium=api_v3_business_search&utm_source=g0c-y7BAReLv0wMtT9JGzA',\n",
       "  'review_count': 181,\n",
       "  'categories': [{'alias': 'hotdogs', 'title': 'Fast Food'},\n",
       "   {'alias': 'burgers', 'title': 'Burgers'},\n",
       "   {'alias': 'icecream', 'title': 'Ice Cream & Frozen Yogurt'}],\n",
       "  'rating': 3.5,\n",
       "  'coordinates': {'latitude': 47.57597, 'longitude': -122.32795},\n",
       "  'transactions': ['delivery', 'pickup'],\n",
       "  'price': '$',\n",
       "  'location': {'address1': '2990 4th Ave S',\n",
       "   'address2': '',\n",
       "   'address3': None,\n",
       "   'city': 'Seattle',\n",
       "   'zip_code': '98134',\n",
       "   'country': 'US',\n",
       "   'state': 'WA',\n",
       "   'display_address': ['2990 4th Ave S', 'Seattle, WA 98134']},\n",
       "  'phone': '+12062071111',\n",
       "  'display_phone': '(206) 207-1111',\n",
       "  'distance': 5532.152114455105}]"
      ]
     },
     "execution_count": 87,
     "metadata": {},
     "output_type": "execute_result"
    }
   ],
   "source": [
    "## Your code here\n",
    "response.json()['businesses']"
   ]
  },
  {
   "cell_type": "code",
   "execution_count": 88,
   "metadata": {},
   "outputs": [
    {
     "data": {
      "text/html": [
       "<div>\n",
       "<style scoped>\n",
       "    .dataframe tbody tr th:only-of-type {\n",
       "        vertical-align: middle;\n",
       "    }\n",
       "\n",
       "    .dataframe tbody tr th {\n",
       "        vertical-align: top;\n",
       "    }\n",
       "\n",
       "    .dataframe thead th {\n",
       "        text-align: right;\n",
       "    }\n",
       "</style>\n",
       "<table border=\"1\" class=\"dataframe\">\n",
       "  <thead>\n",
       "    <tr style=\"text-align: right;\">\n",
       "      <th></th>\n",
       "      <th>id</th>\n",
       "      <th>alias</th>\n",
       "      <th>name</th>\n",
       "      <th>image_url</th>\n",
       "      <th>is_closed</th>\n",
       "      <th>url</th>\n",
       "      <th>review_count</th>\n",
       "      <th>categories</th>\n",
       "      <th>rating</th>\n",
       "      <th>coordinates</th>\n",
       "      <th>transactions</th>\n",
       "      <th>location</th>\n",
       "      <th>phone</th>\n",
       "      <th>display_phone</th>\n",
       "      <th>distance</th>\n",
       "      <th>price</th>\n",
       "    </tr>\n",
       "  </thead>\n",
       "  <tbody>\n",
       "    <tr>\n",
       "      <th>0</th>\n",
       "      <td>9fC3l9DdmPx3hEydsQ0wQw</td>\n",
       "      <td>burbs-burgers-ballard-seattle</td>\n",
       "      <td>Burb's Burgers Ballard</td>\n",
       "      <td>https://s3-media3.fl.yelpcdn.com/bphoto/6IQsqr...</td>\n",
       "      <td>False</td>\n",
       "      <td>https://www.yelp.com/biz/burbs-burgers-ballard...</td>\n",
       "      <td>14</td>\n",
       "      <td>[{'alias': 'burgers', 'title': 'Burgers'}]</td>\n",
       "      <td>5.0</td>\n",
       "      <td>{'latitude': 47.66591, 'longitude': -122.37389}</td>\n",
       "      <td>[]</td>\n",
       "      <td>{'address1': '5101 14th Ave NW', 'address2': '...</td>\n",
       "      <td>+12064203015</td>\n",
       "      <td>(206) 420-3015</td>\n",
       "      <td>5351.246250</td>\n",
       "      <td>NaN</td>\n",
       "    </tr>\n",
       "    <tr>\n",
       "      <th>1</th>\n",
       "      <td>smOVPL87Q0XHACrVMPa8qw</td>\n",
       "      <td>8oz-burger-and-co-seattle</td>\n",
       "      <td>8oz Burger &amp; Co</td>\n",
       "      <td>https://s3-media2.fl.yelpcdn.com/bphoto/7UsZhl...</td>\n",
       "      <td>False</td>\n",
       "      <td>https://www.yelp.com/biz/8oz-burger-and-co-sea...</td>\n",
       "      <td>1733</td>\n",
       "      <td>[{'alias': 'burgers', 'title': 'Burgers'}, {'a...</td>\n",
       "      <td>4.0</td>\n",
       "      <td>{'latitude': 47.61320990365378, 'longitude': -...</td>\n",
       "      <td>[delivery, pickup]</td>\n",
       "      <td>{'address1': '1401 Broadway', 'address2': None...</td>\n",
       "      <td>+12064665989</td>\n",
       "      <td>(206) 466-5989</td>\n",
       "      <td>1737.156220</td>\n",
       "      <td>$$</td>\n",
       "    </tr>\n",
       "    <tr>\n",
       "      <th>2</th>\n",
       "      <td>Lw7NmZ3j-WEye97ywEmkXQ</td>\n",
       "      <td>vons-1000-spirits-seattle-4</td>\n",
       "      <td>Von's 1000 Spirits</td>\n",
       "      <td>https://s3-media4.fl.yelpcdn.com/bphoto/Of2Tsj...</td>\n",
       "      <td>False</td>\n",
       "      <td>https://www.yelp.com/biz/vons-1000-spirits-sea...</td>\n",
       "      <td>2364</td>\n",
       "      <td>[{'alias': 'newamerican', 'title': 'American (...</td>\n",
       "      <td>4.5</td>\n",
       "      <td>{'latitude': 47.606565, 'longitude': -122.338337}</td>\n",
       "      <td>[delivery, pickup]</td>\n",
       "      <td>{'address1': '1225 1st Ave', 'address2': '', '...</td>\n",
       "      <td>+12066218667</td>\n",
       "      <td>(206) 621-8667</td>\n",
       "      <td>2107.151900</td>\n",
       "      <td>$$</td>\n",
       "    </tr>\n",
       "    <tr>\n",
       "      <th>3</th>\n",
       "      <td>aSh2Nz2WoQn6m8g256OxcA</td>\n",
       "      <td>red-mill-burgers-seattle</td>\n",
       "      <td>Red Mill Burgers</td>\n",
       "      <td>https://s3-media2.fl.yelpcdn.com/bphoto/kX9Zsn...</td>\n",
       "      <td>False</td>\n",
       "      <td>https://www.yelp.com/biz/red-mill-burgers-seat...</td>\n",
       "      <td>1376</td>\n",
       "      <td>[{'alias': 'burgers', 'title': 'Burgers'}]</td>\n",
       "      <td>4.0</td>\n",
       "      <td>{'latitude': 47.677847002847, 'longitude': -12...</td>\n",
       "      <td>[delivery]</td>\n",
       "      <td>{'address1': '312 N 67th St', 'address2': '', ...</td>\n",
       "      <td>+12067836362</td>\n",
       "      <td>(206) 783-6362</td>\n",
       "      <td>6004.581729</td>\n",
       "      <td>$$</td>\n",
       "    </tr>\n",
       "    <tr>\n",
       "      <th>4</th>\n",
       "      <td>x8BFKHu7ajvXLOA0_33bbg</td>\n",
       "      <td>old-stove-brewing-seattle-3</td>\n",
       "      <td>Old Stove Brewing</td>\n",
       "      <td>https://s3-media3.fl.yelpcdn.com/bphoto/d-IJL6...</td>\n",
       "      <td>False</td>\n",
       "      <td>https://www.yelp.com/biz/old-stove-brewing-sea...</td>\n",
       "      <td>873</td>\n",
       "      <td>[{'alias': 'brewpubs', 'title': 'Brewpubs'}, {...</td>\n",
       "      <td>4.5</td>\n",
       "      <td>{'latitude': 47.60947174117716, 'longitude': -...</td>\n",
       "      <td>[delivery, pickup]</td>\n",
       "      <td>{'address1': '1901 Western Ave', 'address2': '...</td>\n",
       "      <td>+12066026120</td>\n",
       "      <td>(206) 602-6120</td>\n",
       "      <td>1850.289783</td>\n",
       "      <td>$$</td>\n",
       "    </tr>\n",
       "    <tr>\n",
       "      <th>5</th>\n",
       "      <td>xcZZ0Gm81bl8xQfvws231A</td>\n",
       "      <td>uneeda-burger-seattle</td>\n",
       "      <td>Uneeda Burger</td>\n",
       "      <td>https://s3-media3.fl.yelpcdn.com/bphoto/u0Cbd9...</td>\n",
       "      <td>False</td>\n",
       "      <td>https://www.yelp.com/biz/uneeda-burger-seattle...</td>\n",
       "      <td>1354</td>\n",
       "      <td>[{'alias': 'burgers', 'title': 'Burgers'}, {'a...</td>\n",
       "      <td>4.0</td>\n",
       "      <td>{'latitude': 47.65952, 'longitude': -122.34976}</td>\n",
       "      <td>[delivery, pickup]</td>\n",
       "      <td>{'address1': '4302 Fremont Ave N', 'address2':...</td>\n",
       "      <td>+12065472600</td>\n",
       "      <td>(206) 547-2600</td>\n",
       "      <td>3930.479583</td>\n",
       "      <td>$$</td>\n",
       "    </tr>\n",
       "    <tr>\n",
       "      <th>6</th>\n",
       "      <td>VSWKoV1zTtjyEXAFJwdeHA</td>\n",
       "      <td>lil-woodys-seattle</td>\n",
       "      <td>Li'l Woody's</td>\n",
       "      <td>https://s3-media4.fl.yelpcdn.com/bphoto/yOo7a3...</td>\n",
       "      <td>False</td>\n",
       "      <td>https://www.yelp.com/biz/lil-woodys-seattle?ad...</td>\n",
       "      <td>991</td>\n",
       "      <td>[{'alias': 'burgers', 'title': 'Burgers'}, {'a...</td>\n",
       "      <td>3.5</td>\n",
       "      <td>{'latitude': 47.61495, 'longitude': -122.32818}</td>\n",
       "      <td>[delivery, pickup]</td>\n",
       "      <td>{'address1': '1211 Pine St', 'address2': None,...</td>\n",
       "      <td>+12064574148</td>\n",
       "      <td>(206) 457-4148</td>\n",
       "      <td>1285.986520</td>\n",
       "      <td>$$</td>\n",
       "    </tr>\n",
       "    <tr>\n",
       "      <th>7</th>\n",
       "      <td>i5l44iAFeMC80o4vDLh3Gg</td>\n",
       "      <td>west-seattle-swinery-seattle</td>\n",
       "      <td>West Seattle Swinery</td>\n",
       "      <td>https://s3-media2.fl.yelpcdn.com/bphoto/SvIGBt...</td>\n",
       "      <td>False</td>\n",
       "      <td>https://www.yelp.com/biz/west-seattle-swinery-...</td>\n",
       "      <td>394</td>\n",
       "      <td>[{'alias': 'meats', 'title': 'Meat Shops'}, {'...</td>\n",
       "      <td>4.5</td>\n",
       "      <td>{'latitude': 47.575356, 'longitude': -122.387147}</td>\n",
       "      <td>[delivery]</td>\n",
       "      <td>{'address1': '3207 California Ave SW', 'addres...</td>\n",
       "      <td>+12069324211</td>\n",
       "      <td>(206) 932-4211</td>\n",
       "      <td>6780.729764</td>\n",
       "      <td>$$</td>\n",
       "    </tr>\n",
       "    <tr>\n",
       "      <th>8</th>\n",
       "      <td>3sJI8y8fr9gWpq8Uw_jJ2w</td>\n",
       "      <td>206-burger-company-seattle-6</td>\n",
       "      <td>206 Burger Company</td>\n",
       "      <td>https://s3-media1.fl.yelpcdn.com/bphoto/CljTsO...</td>\n",
       "      <td>False</td>\n",
       "      <td>https://www.yelp.com/biz/206-burger-company-se...</td>\n",
       "      <td>43</td>\n",
       "      <td>[{'alias': 'burgers', 'title': 'Burgers'}]</td>\n",
       "      <td>4.5</td>\n",
       "      <td>{'latitude': 47.64840314, 'longitude': -122.35...</td>\n",
       "      <td>[delivery, pickup]</td>\n",
       "      <td>{'address1': '101 Nickerson St', 'address2': '...</td>\n",
       "      <td>+12064202801</td>\n",
       "      <td>(206) 420-2801</td>\n",
       "      <td>2959.125193</td>\n",
       "      <td>NaN</td>\n",
       "    </tr>\n",
       "    <tr>\n",
       "      <th>9</th>\n",
       "      <td>mo36MO1yO1zxNh5f1bJ9fw</td>\n",
       "      <td>pick-quick-drive-in-seattle</td>\n",
       "      <td>PICK-QUICK Drive In</td>\n",
       "      <td>https://s3-media3.fl.yelpcdn.com/bphoto/lIx9bu...</td>\n",
       "      <td>False</td>\n",
       "      <td>https://www.yelp.com/biz/pick-quick-drive-in-s...</td>\n",
       "      <td>181</td>\n",
       "      <td>[{'alias': 'hotdogs', 'title': 'Fast Food'}, {...</td>\n",
       "      <td>3.5</td>\n",
       "      <td>{'latitude': 47.57597, 'longitude': -122.32795}</td>\n",
       "      <td>[delivery, pickup]</td>\n",
       "      <td>{'address1': '2990 4th Ave S', 'address2': '',...</td>\n",
       "      <td>+12062071111</td>\n",
       "      <td>(206) 207-1111</td>\n",
       "      <td>5532.152114</td>\n",
       "      <td>$</td>\n",
       "    </tr>\n",
       "  </tbody>\n",
       "</table>\n",
       "</div>"
      ],
      "text/plain": [
       "                       id                          alias  \\\n",
       "0  9fC3l9DdmPx3hEydsQ0wQw  burbs-burgers-ballard-seattle   \n",
       "1  smOVPL87Q0XHACrVMPa8qw      8oz-burger-and-co-seattle   \n",
       "2  Lw7NmZ3j-WEye97ywEmkXQ    vons-1000-spirits-seattle-4   \n",
       "3  aSh2Nz2WoQn6m8g256OxcA       red-mill-burgers-seattle   \n",
       "4  x8BFKHu7ajvXLOA0_33bbg    old-stove-brewing-seattle-3   \n",
       "5  xcZZ0Gm81bl8xQfvws231A          uneeda-burger-seattle   \n",
       "6  VSWKoV1zTtjyEXAFJwdeHA             lil-woodys-seattle   \n",
       "7  i5l44iAFeMC80o4vDLh3Gg   west-seattle-swinery-seattle   \n",
       "8  3sJI8y8fr9gWpq8Uw_jJ2w   206-burger-company-seattle-6   \n",
       "9  mo36MO1yO1zxNh5f1bJ9fw    pick-quick-drive-in-seattle   \n",
       "\n",
       "                     name                                          image_url  \\\n",
       "0  Burb's Burgers Ballard  https://s3-media3.fl.yelpcdn.com/bphoto/6IQsqr...   \n",
       "1         8oz Burger & Co  https://s3-media2.fl.yelpcdn.com/bphoto/7UsZhl...   \n",
       "2      Von's 1000 Spirits  https://s3-media4.fl.yelpcdn.com/bphoto/Of2Tsj...   \n",
       "3        Red Mill Burgers  https://s3-media2.fl.yelpcdn.com/bphoto/kX9Zsn...   \n",
       "4       Old Stove Brewing  https://s3-media3.fl.yelpcdn.com/bphoto/d-IJL6...   \n",
       "5           Uneeda Burger  https://s3-media3.fl.yelpcdn.com/bphoto/u0Cbd9...   \n",
       "6            Li'l Woody's  https://s3-media4.fl.yelpcdn.com/bphoto/yOo7a3...   \n",
       "7    West Seattle Swinery  https://s3-media2.fl.yelpcdn.com/bphoto/SvIGBt...   \n",
       "8      206 Burger Company  https://s3-media1.fl.yelpcdn.com/bphoto/CljTsO...   \n",
       "9     PICK-QUICK Drive In  https://s3-media3.fl.yelpcdn.com/bphoto/lIx9bu...   \n",
       "\n",
       "   is_closed                                                url  review_count  \\\n",
       "0      False  https://www.yelp.com/biz/burbs-burgers-ballard...            14   \n",
       "1      False  https://www.yelp.com/biz/8oz-burger-and-co-sea...          1733   \n",
       "2      False  https://www.yelp.com/biz/vons-1000-spirits-sea...          2364   \n",
       "3      False  https://www.yelp.com/biz/red-mill-burgers-seat...          1376   \n",
       "4      False  https://www.yelp.com/biz/old-stove-brewing-sea...           873   \n",
       "5      False  https://www.yelp.com/biz/uneeda-burger-seattle...          1354   \n",
       "6      False  https://www.yelp.com/biz/lil-woodys-seattle?ad...           991   \n",
       "7      False  https://www.yelp.com/biz/west-seattle-swinery-...           394   \n",
       "8      False  https://www.yelp.com/biz/206-burger-company-se...            43   \n",
       "9      False  https://www.yelp.com/biz/pick-quick-drive-in-s...           181   \n",
       "\n",
       "                                          categories  rating  \\\n",
       "0         [{'alias': 'burgers', 'title': 'Burgers'}]     5.0   \n",
       "1  [{'alias': 'burgers', 'title': 'Burgers'}, {'a...     4.0   \n",
       "2  [{'alias': 'newamerican', 'title': 'American (...     4.5   \n",
       "3         [{'alias': 'burgers', 'title': 'Burgers'}]     4.0   \n",
       "4  [{'alias': 'brewpubs', 'title': 'Brewpubs'}, {...     4.5   \n",
       "5  [{'alias': 'burgers', 'title': 'Burgers'}, {'a...     4.0   \n",
       "6  [{'alias': 'burgers', 'title': 'Burgers'}, {'a...     3.5   \n",
       "7  [{'alias': 'meats', 'title': 'Meat Shops'}, {'...     4.5   \n",
       "8         [{'alias': 'burgers', 'title': 'Burgers'}]     4.5   \n",
       "9  [{'alias': 'hotdogs', 'title': 'Fast Food'}, {...     3.5   \n",
       "\n",
       "                                         coordinates        transactions  \\\n",
       "0    {'latitude': 47.66591, 'longitude': -122.37389}                  []   \n",
       "1  {'latitude': 47.61320990365378, 'longitude': -...  [delivery, pickup]   \n",
       "2  {'latitude': 47.606565, 'longitude': -122.338337}  [delivery, pickup]   \n",
       "3  {'latitude': 47.677847002847, 'longitude': -12...          [delivery]   \n",
       "4  {'latitude': 47.60947174117716, 'longitude': -...  [delivery, pickup]   \n",
       "5    {'latitude': 47.65952, 'longitude': -122.34976}  [delivery, pickup]   \n",
       "6    {'latitude': 47.61495, 'longitude': -122.32818}  [delivery, pickup]   \n",
       "7  {'latitude': 47.575356, 'longitude': -122.387147}          [delivery]   \n",
       "8  {'latitude': 47.64840314, 'longitude': -122.35...  [delivery, pickup]   \n",
       "9    {'latitude': 47.57597, 'longitude': -122.32795}  [delivery, pickup]   \n",
       "\n",
       "                                            location         phone  \\\n",
       "0  {'address1': '5101 14th Ave NW', 'address2': '...  +12064203015   \n",
       "1  {'address1': '1401 Broadway', 'address2': None...  +12064665989   \n",
       "2  {'address1': '1225 1st Ave', 'address2': '', '...  +12066218667   \n",
       "3  {'address1': '312 N 67th St', 'address2': '', ...  +12067836362   \n",
       "4  {'address1': '1901 Western Ave', 'address2': '...  +12066026120   \n",
       "5  {'address1': '4302 Fremont Ave N', 'address2':...  +12065472600   \n",
       "6  {'address1': '1211 Pine St', 'address2': None,...  +12064574148   \n",
       "7  {'address1': '3207 California Ave SW', 'addres...  +12069324211   \n",
       "8  {'address1': '101 Nickerson St', 'address2': '...  +12064202801   \n",
       "9  {'address1': '2990 4th Ave S', 'address2': '',...  +12062071111   \n",
       "\n",
       "    display_phone     distance price  \n",
       "0  (206) 420-3015  5351.246250   NaN  \n",
       "1  (206) 466-5989  1737.156220    $$  \n",
       "2  (206) 621-8667  2107.151900    $$  \n",
       "3  (206) 783-6362  6004.581729    $$  \n",
       "4  (206) 602-6120  1850.289783    $$  \n",
       "5  (206) 547-2600  3930.479583    $$  \n",
       "6  (206) 457-4148  1285.986520    $$  \n",
       "7  (206) 932-4211  6780.729764    $$  \n",
       "8  (206) 420-2801  2959.125193   NaN  \n",
       "9  (206) 207-1111  5532.152114     $  "
      ]
     },
     "execution_count": 88,
     "metadata": {},
     "output_type": "execute_result"
    }
   ],
   "source": [
    "pd.DataFrame(response.json()['businesses'])"
   ]
  },
  {
   "cell_type": "markdown",
   "metadata": {
    "hidden": true
   },
   "source": [
    "**Activity**: Make a DataFrame `yelp_df` with the business data from the Yelp response.\n",
    "<details>\n",
    "    <summary>\n",
    "        Answer code\n",
    "    </summary>\n",
    "\n",
    "```python\n",
    "yelp_data = response.json()\n",
    "yelp_df = pd.DataFrame(yelp_data['businesses'])\n",
    "```\n",
    "</details>"
   ]
  },
  {
   "cell_type": "code",
   "execution_count": null,
   "metadata": {
    "hidden": true
   },
   "outputs": [],
   "source": [
    "yelp_df.head()"
   ]
  },
  {
   "cell_type": "code",
   "execution_count": null,
   "metadata": {
    "hidden": true
   },
   "outputs": [],
   "source": [
    "## Your code here\n"
   ]
  },
  {
   "cell_type": "markdown",
   "metadata": {
    "hidden": true
   },
   "source": [
    "**Activity**: Add columns to `yelp_df` containing the latitudes and longitudes.\n",
    "\n",
    "\n",
    "<details>\n",
    "    <summary>\n",
    "        Answer code\n",
    "    </summary>\n",
    "\n",
    "```python\n",
    "lat = [float(business['coordinates']['latitude']) for business in yelp_data['businesses']]\n",
    "long = [float(business['coordinates']['longitude']) for  business in yelp_data['businesses']]\n",
    "yelp_df['lat'] = lat\n",
    "yelp_df['long'] = long\n",
    "```\n",
    "</details>"
   ]
  },
  {
   "cell_type": "code",
   "execution_count": null,
   "metadata": {
    "hidden": true
   },
   "outputs": [],
   "source": [
    "yelp_df.head()"
   ]
  }
 ],
 "metadata": {
  "kernelspec": {
   "display_name": "Python (learn-env)",
   "language": "python",
   "name": "learn-env"
  },
  "language_info": {
   "codemirror_mode": {
    "name": "ipython",
    "version": 3
   },
   "file_extension": ".py",
   "mimetype": "text/x-python",
   "name": "python",
   "nbconvert_exporter": "python",
   "pygments_lexer": "ipython3",
   "version": "3.8.5"
  },
  "toc": {
   "base_numbering": 1,
   "nav_menu": {},
   "number_sections": true,
   "sideBar": true,
   "skip_h1_title": false,
   "title_cell": "Table of Contents",
   "title_sidebar": "Contents",
   "toc_cell": true,
   "toc_position": {
    "height": "calc(100% - 180px)",
    "left": "10px",
    "top": "150px",
    "width": "384px"
   },
   "toc_section_display": true,
   "toc_window_display": true
  }
 },
 "nbformat": 4,
 "nbformat_minor": 4
}
